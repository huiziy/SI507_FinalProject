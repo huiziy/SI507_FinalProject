{
 "cells": [
  {
   "cell_type": "markdown",
   "id": "95a75da0",
   "metadata": {},
   "source": [
    "## Data Collection"
   ]
  },
  {
   "cell_type": "code",
   "execution_count": 2,
   "id": "d8d7ae91",
   "metadata": {},
   "outputs": [],
   "source": [
    "from serpapi import GoogleSearch\n",
    "import itertools\n",
    "import pickle\n",
    "import os\n",
    "\n",
    "# Function to perform search and get results\n",
    "def get_shopping_results(shoe_type, color):\n",
    "    query = f\"{shoe_type} {color}\"\n",
    "    print(query)\n",
    "    params = {\n",
    "      \"api_key\": api_key,\n",
    "      \"engine\": \"google_shopping\",\n",
    "      \"q\": query,\n",
    "      \"google_domain\": \"google.com\"\n",
    "    }\n",
    "    search = GoogleSearch(params)\n",
    "    results = search.get_dict()\n",
    "    raw_shopping_results = results.get('shopping_results', [])\n",
    "\n",
    "    # Filter and restructure results\n",
    "    shopping_results = []\n",
    "    for result in raw_shopping_results:\n",
    "        filtered_result = {\n",
    "            'shoe_type': shoe_type,\n",
    "            'color': color,\n",
    "            'title':result.get('title', ''),\n",
    "            'link': result.get('link', ''),\n",
    "            'source': result.get('source', ''),\n",
    "            'extracted_price': result.get('extracted_price', ''),\n",
    "            'rating': result.get('rating', ''),\n",
    "            'reviews': result.get('reviews', '')\n",
    "        }\n",
    "        shopping_results.append(filtered_result)\n",
    "\n",
    "    return shopping_results\n",
    "\n",
    "def save_to_cache(data, filename='shoes_data_cache.pkl'):\n",
    "    with open(filename, 'wb') as file:\n",
    "        pickle.dump(data, file)\n",
    "\n",
    "    # Assuming all_results is your data\n",
    "    save_to_cache(all_results)\n",
    "\n",
    "\n",
    "def load_from_cache(filename='data_cache.pkl'):\n",
    "    if os.path.exists(filename):\n",
    "        with open(filename, 'rb') as file:\n",
    "            return pickle.load(file)\n",
    "    else:\n",
    "        return None  # Handle case where cache does not exist"
   ]
  },
  {
   "cell_type": "code",
   "execution_count": 5,
   "id": "fce0c940",
   "metadata": {},
   "outputs": [],
   "source": [
    "# Define your shoe types and colors\n",
    "shoes_type = [\"sneaker\"]\n",
    "colors = [\"red\", \"black\"]\n",
    "combinations = itertools.product(shoes_type, colors)\n",
    "# API Key\n",
    "api_key = \"APIKEY\"  # Replace with your API key"
   ]
  },
  {
   "cell_type": "code",
   "execution_count": 6,
   "id": "856ac4cc",
   "metadata": {},
   "outputs": [
    {
     "name": "stdout",
     "output_type": "stream",
     "text": [
      "sneaker red\n",
      "sneaker black\n"
     ]
    }
   ],
   "source": [
    "# Load data\n",
    "cached_data = load_from_cache()\n",
    "if cached_data is not None:\n",
    "    all_results = cached_data\n",
    "else:\n",
    "    # Aggregate results from all searches\n",
    "    all_results = []\n",
    "    for shoe, color in combinations:\n",
    "        shopping_results = get_shopping_results(shoe, color)\n",
    "        all_results.extend(shopping_results)\n",
    "    pass"
   ]
  },
  {
   "cell_type": "markdown",
   "id": "9df097b1",
   "metadata": {},
   "source": [
    "## Statistics of the Results"
   ]
  },
  {
   "cell_type": "code",
   "execution_count": 62,
   "id": "88736fd2",
   "metadata": {},
   "outputs": [
    {
     "data": {
      "text/plain": [
       "120"
      ]
     },
     "execution_count": 62,
     "metadata": {},
     "output_type": "execute_result"
    }
   ],
   "source": [
    "len(all_results)"
   ]
  },
  {
   "cell_type": "markdown",
   "id": "b1260957",
   "metadata": {},
   "source": [
    "## Building Tree"
   ]
  },
  {
   "cell_type": "code",
   "execution_count": 64,
   "id": "dc1c1b21",
   "metadata": {},
   "outputs": [],
   "source": [
    "from IPython.display import HTML, display\n",
    "import tabulate\n",
    "\n",
    "# Define a function to categorize price\n",
    "def categorize_price(price):\n",
    "    try:\n",
    "        price = float(price)\n",
    "    except ValueError:\n",
    "        return 'Unknown'  # or you could handle this differently\n",
    "    if price <= 50:\n",
    "        return 'Low'\n",
    "    elif 51 <= price <= 100:\n",
    "        return 'Medium'\n",
    "    else:\n",
    "        return 'High'\n",
    "\n",
    "# Define a function to categorize rating\n",
    "def categorize_rating(rating):\n",
    "    try:\n",
    "        rating = float(rating)\n",
    "    except ValueError:\n",
    "        return 'Unknown'  # or you could handle this differently\n",
    "    \n",
    "    if rating <= 1:\n",
    "        return '1 Star'\n",
    "    elif 1 < rating <= 2:\n",
    "        return '2 Star'\n",
    "    elif 2 < rating <= 3:\n",
    "        return '3 Star'\n",
    "    elif 3 < rating <= 4:\n",
    "        return '4 Star'\n",
    "    else:\n",
    "        return '5 Star'\n",
    "\n",
    "# Function to build the tree\n",
    "def build_tree(data):\n",
    "    tree = {}\n",
    "    for item in data:\n",
    "        shoe_type = item['shoe_type']\n",
    "        color = item.get('color', 'Unknown')  # Assuming color is a field in your data\n",
    "        brand = item['source']\n",
    "        price_range = categorize_price(item['extracted_price'])\n",
    "        rating = categorize_rating(item['rating'])\n",
    "\n",
    "        tree.setdefault(shoe_type, {}) \\\n",
    "            .setdefault(color, {}) \\\n",
    "            .setdefault(brand, {}) \\\n",
    "            .setdefault(price_range, {}) \\\n",
    "            .setdefault(rating, []) \\\n",
    "            .append({'title': item['title'], 'link': item['link']})\n",
    "    return tree\n",
    "\n",
    "def display_tree(tree):\n",
    "    rows = []\n",
    "    for shoe_type, colors in tree.items():\n",
    "        for color, brands in colors.items():\n",
    "            for brand, prices in brands.items():\n",
    "                for price, ratings in prices.items():\n",
    "                    for rating, shoes in ratings.items():\n",
    "                        for shoe in shoes:\n",
    "                            link = f\"<a href='{shoe['link']}' target='_blank'>{shoe['title']}</a>\"\n",
    "                            rows.append([shoe_type, color, brand, price, rating, link])\n",
    "    display(HTML(tabulate.tabulate(rows, tablefmt='html', headers=[\"Shoe Type\", \"Color\", \"Brand\", \"Price Range\", \"Rating\", \"Link\"])))\n",
    "\n",
    "# Example usage\n",
    "tree = build_tree(all_results)\n",
    "#display_tree(tree)\n"
   ]
  },
  {
   "cell_type": "code",
   "execution_count": 63,
   "id": "784e30d7",
   "metadata": {
    "scrolled": false
   },
   "outputs": [],
   "source": [
    "def print_tree(tree, indent=''):\n",
    "    for key, value in tree.items():\n",
    "        print(indent + str(key))\n",
    "        if isinstance(value, dict):\n",
    "            print_tree(value, indent + '    ')\n",
    "        else:\n",
    "            for item in value:\n",
    "                print(indent + '    ' + f\"{item['title']}: {item['link']}\")\n",
    "\n",
    "# Example usage\n",
    "tree = build_tree(all_results)\n",
    "#print_tree(tree)"
   ]
  },
  {
   "cell_type": "markdown",
   "id": "658e4a69",
   "metadata": {},
   "source": [
    "## Plot Tree Visually"
   ]
  },
  {
   "cell_type": "code",
   "execution_count": 59,
   "id": "024c1248",
   "metadata": {},
   "outputs": [],
   "source": [
    "import plotly.graph_objects as go\n",
    "\n",
    "def create_interactive_tree(tree):\n",
    "    edges = []\n",
    "    nodes = []\n",
    "\n",
    "    def add_node(node_text, parent_text, x, y, hovertext=''):\n",
    "        nodes.append(dict(type=\"scatter\", x=[x], y=[y], text=node_text, mode=\"markers+text\", textposition=\"bottom center\",\n",
    "                          hoverinfo=\"text\", hovertext=hovertext, \n",
    "                          marker=dict(size=2, color='blue'),  # Reduced node size\n",
    "                          textfont=dict(size=8)))\n",
    "        if parent_text is not None:\n",
    "            edge_x = [x, parent_positions[parent_text][0]]\n",
    "            edge_y = [y, parent_positions[parent_text][1]]\n",
    "            edges.append(dict(type=\"scatter\", x=edge_x, y=edge_y, mode=\"lines\", line=dict(width=1, color='grey')))\n",
    "\n",
    "    parent_positions = {}\n",
    "    y = 0\n",
    "    y_spacing = 0\n",
    "    x_spacing = 1.5  # Adjust horizontal spacing\n",
    "    for shoe_type, colors in tree.items():\n",
    "        x = 0\n",
    "        add_node(shoe_type, None, x, y)\n",
    "        parent_positions[shoe_type] = (x, y)\n",
    "        y -= 1\n",
    "\n",
    "        for color, brands in colors.items():\n",
    "            add_node(color, shoe_type, x + x_spacing, y + y_spacing)\n",
    "            parent_positions[color] = (x + x_spacing, y + y_spacing)\n",
    "            y -= 1\n",
    "\n",
    "            for brand, prices in brands.items():\n",
    "                add_node(brand, color, x + 2 * x_spacing, y)\n",
    "                parent_positions[brand] = (x + 2 * x_spacing, y)\n",
    "                y -= 1\n",
    "\n",
    "                for price, ratings in prices.items():\n",
    "                    add_node(price, brand, x + 3 * x_spacing, y)\n",
    "                    parent_positions[price] = (x + 3 * x_spacing, y)\n",
    "                    y -= 1\n",
    "\n",
    "                    for rating, shoes in ratings.items():\n",
    "                        add_node(rating, price, x + 4 * x_spacing, y)\n",
    "                        parent_positions[rating] = (x + 4 * x_spacing, y)\n",
    "                        y -= 1\n",
    "\n",
    "                        for shoe in shoes:\n",
    "                            # shoe_hovertext = f\"{shoe['title']}<br><a href='{shoe['link']}'>{shoe['link']}</a>\"\n",
    "                            shoe_hovertext = f\"{shoe['title']}\"\n",
    "                            add_node(\"Shoe\", rating, x + 5 * x_spacing, y, hovertext=shoe_hovertext)\n",
    "                            y -= 1\n",
    "\n",
    "    # Increase plot size\n",
    "    plot_width = 1200  # Width of the plot\n",
    "    plot_height = 1500  # Height of the plot\n",
    "\n",
    "    layout = dict(title=\"Interactive Tree of Shoes\", showlegend=False, \n",
    "                  hovermode='closest',\n",
    "                  xaxis=dict(showgrid=False, zeroline=False, showticklabels=False),\n",
    "                  yaxis=dict(showgrid=False, zeroline=False, showticklabels=False),\n",
    "                  width=plot_width, height=plot_height)  # Set the size\n",
    "\n",
    "    fig = go.Figure(data=edges + nodes, layout=layout)\n",
    "    return fig\n"
   ]
  },
  {
   "cell_type": "markdown",
   "id": "0d7a6136",
   "metadata": {},
   "source": [
    "## Tree Structure"
   ]
  },
  {
   "cell_type": "code",
   "execution_count": 60,
   "id": "64e54826",
   "metadata": {},
   "outputs": [
    {
     "data": {
      "application/vnd.plotly.v1+json": {
       "config": {
        "plotlyServerURL": "https://plot.ly"
       },
       "data": [
        {
         "line": {
          "color": "grey",
          "width": 1
         },
         "mode": "lines",
         "type": "scatter",
         "x": [
          1.5,
          0
         ],
         "y": [
          -1,
          0
         ]
        },
        {
         "line": {
          "color": "grey",
          "width": 1
         },
         "mode": "lines",
         "type": "scatter",
         "x": [
          3,
          1.5
         ],
         "y": [
          -2,
          -1
         ]
        },
        {
         "line": {
          "color": "grey",
          "width": 1
         },
         "mode": "lines",
         "type": "scatter",
         "x": [
          4.5,
          3
         ],
         "y": [
          -3,
          -2
         ]
        },
        {
         "line": {
          "color": "grey",
          "width": 1
         },
         "mode": "lines",
         "type": "scatter",
         "x": [
          6,
          4.5
         ],
         "y": [
          -4,
          -3
         ]
        },
        {
         "line": {
          "color": "grey",
          "width": 1
         },
         "mode": "lines",
         "type": "scatter",
         "x": [
          7.5,
          6
         ],
         "y": [
          -5,
          -4
         ]
        },
        {
         "line": {
          "color": "grey",
          "width": 1
         },
         "mode": "lines",
         "type": "scatter",
         "x": [
          4.5,
          3
         ],
         "y": [
          -6,
          -2
         ]
        },
        {
         "line": {
          "color": "grey",
          "width": 1
         },
         "mode": "lines",
         "type": "scatter",
         "x": [
          6,
          4.5
         ],
         "y": [
          -7,
          -6
         ]
        },
        {
         "line": {
          "color": "grey",
          "width": 1
         },
         "mode": "lines",
         "type": "scatter",
         "x": [
          7.5,
          6
         ],
         "y": [
          -8,
          -7
         ]
        },
        {
         "line": {
          "color": "grey",
          "width": 1
         },
         "mode": "lines",
         "type": "scatter",
         "x": [
          3,
          1.5
         ],
         "y": [
          -9,
          -1
         ]
        },
        {
         "line": {
          "color": "grey",
          "width": 1
         },
         "mode": "lines",
         "type": "scatter",
         "x": [
          4.5,
          3
         ],
         "y": [
          -10,
          -9
         ]
        },
        {
         "line": {
          "color": "grey",
          "width": 1
         },
         "mode": "lines",
         "type": "scatter",
         "x": [
          6,
          4.5
         ],
         "y": [
          -11,
          -10
         ]
        },
        {
         "line": {
          "color": "grey",
          "width": 1
         },
         "mode": "lines",
         "type": "scatter",
         "x": [
          7.5,
          6
         ],
         "y": [
          -12,
          -11
         ]
        },
        {
         "line": {
          "color": "grey",
          "width": 1
         },
         "mode": "lines",
         "type": "scatter",
         "x": [
          7.5,
          6
         ],
         "y": [
          -13,
          -11
         ]
        },
        {
         "line": {
          "color": "grey",
          "width": 1
         },
         "mode": "lines",
         "type": "scatter",
         "x": [
          3,
          1.5
         ],
         "y": [
          -14,
          -1
         ]
        },
        {
         "line": {
          "color": "grey",
          "width": 1
         },
         "mode": "lines",
         "type": "scatter",
         "x": [
          4.5,
          3
         ],
         "y": [
          -15,
          -14
         ]
        },
        {
         "line": {
          "color": "grey",
          "width": 1
         },
         "mode": "lines",
         "type": "scatter",
         "x": [
          6,
          4.5
         ],
         "y": [
          -16,
          -15
         ]
        },
        {
         "line": {
          "color": "grey",
          "width": 1
         },
         "mode": "lines",
         "type": "scatter",
         "x": [
          7.5,
          6
         ],
         "y": [
          -17,
          -16
         ]
        },
        {
         "line": {
          "color": "grey",
          "width": 1
         },
         "mode": "lines",
         "type": "scatter",
         "x": [
          3,
          1.5
         ],
         "y": [
          -18,
          -1
         ]
        },
        {
         "line": {
          "color": "grey",
          "width": 1
         },
         "mode": "lines",
         "type": "scatter",
         "x": [
          4.5,
          3
         ],
         "y": [
          -19,
          -18
         ]
        },
        {
         "line": {
          "color": "grey",
          "width": 1
         },
         "mode": "lines",
         "type": "scatter",
         "x": [
          6,
          4.5
         ],
         "y": [
          -20,
          -19
         ]
        },
        {
         "line": {
          "color": "grey",
          "width": 1
         },
         "mode": "lines",
         "type": "scatter",
         "x": [
          7.5,
          6
         ],
         "y": [
          -21,
          -20
         ]
        },
        {
         "line": {
          "color": "grey",
          "width": 1
         },
         "mode": "lines",
         "type": "scatter",
         "x": [
          7.5,
          6
         ],
         "y": [
          -22,
          -20
         ]
        },
        {
         "line": {
          "color": "grey",
          "width": 1
         },
         "mode": "lines",
         "type": "scatter",
         "x": [
          3,
          1.5
         ],
         "y": [
          -23,
          -1
         ]
        },
        {
         "line": {
          "color": "grey",
          "width": 1
         },
         "mode": "lines",
         "type": "scatter",
         "x": [
          4.5,
          3
         ],
         "y": [
          -24,
          -23
         ]
        },
        {
         "line": {
          "color": "grey",
          "width": 1
         },
         "mode": "lines",
         "type": "scatter",
         "x": [
          6,
          4.5
         ],
         "y": [
          -25,
          -24
         ]
        },
        {
         "line": {
          "color": "grey",
          "width": 1
         },
         "mode": "lines",
         "type": "scatter",
         "x": [
          7.5,
          6
         ],
         "y": [
          -26,
          -25
         ]
        },
        {
         "line": {
          "color": "grey",
          "width": 1
         },
         "mode": "lines",
         "type": "scatter",
         "x": [
          4.5,
          3
         ],
         "y": [
          -27,
          -23
         ]
        },
        {
         "line": {
          "color": "grey",
          "width": 1
         },
         "mode": "lines",
         "type": "scatter",
         "x": [
          6,
          4.5
         ],
         "y": [
          -28,
          -27
         ]
        },
        {
         "line": {
          "color": "grey",
          "width": 1
         },
         "mode": "lines",
         "type": "scatter",
         "x": [
          7.5,
          6
         ],
         "y": [
          -29,
          -28
         ]
        },
        {
         "line": {
          "color": "grey",
          "width": 1
         },
         "mode": "lines",
         "type": "scatter",
         "x": [
          6,
          4.5
         ],
         "y": [
          -30,
          -27
         ]
        },
        {
         "line": {
          "color": "grey",
          "width": 1
         },
         "mode": "lines",
         "type": "scatter",
         "x": [
          7.5,
          6
         ],
         "y": [
          -31,
          -30
         ]
        },
        {
         "line": {
          "color": "grey",
          "width": 1
         },
         "mode": "lines",
         "type": "scatter",
         "x": [
          3,
          1.5
         ],
         "y": [
          -32,
          -1
         ]
        },
        {
         "line": {
          "color": "grey",
          "width": 1
         },
         "mode": "lines",
         "type": "scatter",
         "x": [
          4.5,
          3
         ],
         "y": [
          -33,
          -32
         ]
        },
        {
         "line": {
          "color": "grey",
          "width": 1
         },
         "mode": "lines",
         "type": "scatter",
         "x": [
          6,
          4.5
         ],
         "y": [
          -34,
          -33
         ]
        },
        {
         "line": {
          "color": "grey",
          "width": 1
         },
         "mode": "lines",
         "type": "scatter",
         "x": [
          7.5,
          6
         ],
         "y": [
          -35,
          -34
         ]
        },
        {
         "line": {
          "color": "grey",
          "width": 1
         },
         "mode": "lines",
         "type": "scatter",
         "x": [
          6,
          4.5
         ],
         "y": [
          -36,
          -33
         ]
        },
        {
         "line": {
          "color": "grey",
          "width": 1
         },
         "mode": "lines",
         "type": "scatter",
         "x": [
          7.5,
          6
         ],
         "y": [
          -37,
          -36
         ]
        },
        {
         "line": {
          "color": "grey",
          "width": 1
         },
         "mode": "lines",
         "type": "scatter",
         "x": [
          4.5,
          3
         ],
         "y": [
          -38,
          -32
         ]
        },
        {
         "line": {
          "color": "grey",
          "width": 1
         },
         "mode": "lines",
         "type": "scatter",
         "x": [
          6,
          4.5
         ],
         "y": [
          -39,
          -38
         ]
        },
        {
         "line": {
          "color": "grey",
          "width": 1
         },
         "mode": "lines",
         "type": "scatter",
         "x": [
          7.5,
          6
         ],
         "y": [
          -40,
          -39
         ]
        },
        {
         "line": {
          "color": "grey",
          "width": 1
         },
         "mode": "lines",
         "type": "scatter",
         "x": [
          6,
          4.5
         ],
         "y": [
          -41,
          -38
         ]
        },
        {
         "line": {
          "color": "grey",
          "width": 1
         },
         "mode": "lines",
         "type": "scatter",
         "x": [
          7.5,
          6
         ],
         "y": [
          -42,
          -41
         ]
        },
        {
         "line": {
          "color": "grey",
          "width": 1
         },
         "mode": "lines",
         "type": "scatter",
         "x": [
          3,
          1.5
         ],
         "y": [
          -43,
          -1
         ]
        },
        {
         "line": {
          "color": "grey",
          "width": 1
         },
         "mode": "lines",
         "type": "scatter",
         "x": [
          4.5,
          3
         ],
         "y": [
          -44,
          -43
         ]
        },
        {
         "line": {
          "color": "grey",
          "width": 1
         },
         "mode": "lines",
         "type": "scatter",
         "x": [
          6,
          4.5
         ],
         "y": [
          -45,
          -44
         ]
        },
        {
         "line": {
          "color": "grey",
          "width": 1
         },
         "mode": "lines",
         "type": "scatter",
         "x": [
          7.5,
          6
         ],
         "y": [
          -46,
          -45
         ]
        },
        {
         "line": {
          "color": "grey",
          "width": 1
         },
         "mode": "lines",
         "type": "scatter",
         "x": [
          3,
          1.5
         ],
         "y": [
          -47,
          -1
         ]
        },
        {
         "line": {
          "color": "grey",
          "width": 1
         },
         "mode": "lines",
         "type": "scatter",
         "x": [
          4.5,
          3
         ],
         "y": [
          -48,
          -47
         ]
        },
        {
         "line": {
          "color": "grey",
          "width": 1
         },
         "mode": "lines",
         "type": "scatter",
         "x": [
          6,
          4.5
         ],
         "y": [
          -49,
          -48
         ]
        },
        {
         "line": {
          "color": "grey",
          "width": 1
         },
         "mode": "lines",
         "type": "scatter",
         "x": [
          7.5,
          6
         ],
         "y": [
          -50,
          -49
         ]
        },
        {
         "line": {
          "color": "grey",
          "width": 1
         },
         "mode": "lines",
         "type": "scatter",
         "x": [
          3,
          1.5
         ],
         "y": [
          -51,
          -1
         ]
        },
        {
         "line": {
          "color": "grey",
          "width": 1
         },
         "mode": "lines",
         "type": "scatter",
         "x": [
          4.5,
          3
         ],
         "y": [
          -52,
          -51
         ]
        },
        {
         "line": {
          "color": "grey",
          "width": 1
         },
         "mode": "lines",
         "type": "scatter",
         "x": [
          6,
          4.5
         ],
         "y": [
          -53,
          -52
         ]
        },
        {
         "line": {
          "color": "grey",
          "width": 1
         },
         "mode": "lines",
         "type": "scatter",
         "x": [
          7.5,
          6
         ],
         "y": [
          -54,
          -53
         ]
        },
        {
         "line": {
          "color": "grey",
          "width": 1
         },
         "mode": "lines",
         "type": "scatter",
         "x": [
          3,
          1.5
         ],
         "y": [
          -55,
          -1
         ]
        },
        {
         "line": {
          "color": "grey",
          "width": 1
         },
         "mode": "lines",
         "type": "scatter",
         "x": [
          4.5,
          3
         ],
         "y": [
          -56,
          -55
         ]
        },
        {
         "line": {
          "color": "grey",
          "width": 1
         },
         "mode": "lines",
         "type": "scatter",
         "x": [
          6,
          4.5
         ],
         "y": [
          -57,
          -56
         ]
        },
        {
         "line": {
          "color": "grey",
          "width": 1
         },
         "mode": "lines",
         "type": "scatter",
         "x": [
          7.5,
          6
         ],
         "y": [
          -58,
          -57
         ]
        },
        {
         "line": {
          "color": "grey",
          "width": 1
         },
         "mode": "lines",
         "type": "scatter",
         "x": [
          3,
          1.5
         ],
         "y": [
          -59,
          -1
         ]
        },
        {
         "line": {
          "color": "grey",
          "width": 1
         },
         "mode": "lines",
         "type": "scatter",
         "x": [
          4.5,
          3
         ],
         "y": [
          -60,
          -59
         ]
        },
        {
         "line": {
          "color": "grey",
          "width": 1
         },
         "mode": "lines",
         "type": "scatter",
         "x": [
          6,
          4.5
         ],
         "y": [
          -61,
          -60
         ]
        },
        {
         "line": {
          "color": "grey",
          "width": 1
         },
         "mode": "lines",
         "type": "scatter",
         "x": [
          7.5,
          6
         ],
         "y": [
          -62,
          -61
         ]
        },
        {
         "line": {
          "color": "grey",
          "width": 1
         },
         "mode": "lines",
         "type": "scatter",
         "x": [
          6,
          4.5
         ],
         "y": [
          -63,
          -60
         ]
        },
        {
         "line": {
          "color": "grey",
          "width": 1
         },
         "mode": "lines",
         "type": "scatter",
         "x": [
          7.5,
          6
         ],
         "y": [
          -64,
          -63
         ]
        },
        {
         "line": {
          "color": "grey",
          "width": 1
         },
         "mode": "lines",
         "type": "scatter",
         "x": [
          3,
          1.5
         ],
         "y": [
          -65,
          -1
         ]
        },
        {
         "line": {
          "color": "grey",
          "width": 1
         },
         "mode": "lines",
         "type": "scatter",
         "x": [
          4.5,
          3
         ],
         "y": [
          -66,
          -65
         ]
        },
        {
         "line": {
          "color": "grey",
          "width": 1
         },
         "mode": "lines",
         "type": "scatter",
         "x": [
          6,
          4.5
         ],
         "y": [
          -67,
          -66
         ]
        },
        {
         "line": {
          "color": "grey",
          "width": 1
         },
         "mode": "lines",
         "type": "scatter",
         "x": [
          7.5,
          6
         ],
         "y": [
          -68,
          -67
         ]
        },
        {
         "line": {
          "color": "grey",
          "width": 1
         },
         "mode": "lines",
         "type": "scatter",
         "x": [
          7.5,
          6
         ],
         "y": [
          -69,
          -67
         ]
        },
        {
         "line": {
          "color": "grey",
          "width": 1
         },
         "mode": "lines",
         "type": "scatter",
         "x": [
          3,
          1.5
         ],
         "y": [
          -70,
          -1
         ]
        },
        {
         "line": {
          "color": "grey",
          "width": 1
         },
         "mode": "lines",
         "type": "scatter",
         "x": [
          4.5,
          3
         ],
         "y": [
          -71,
          -70
         ]
        },
        {
         "line": {
          "color": "grey",
          "width": 1
         },
         "mode": "lines",
         "type": "scatter",
         "x": [
          6,
          4.5
         ],
         "y": [
          -72,
          -71
         ]
        },
        {
         "line": {
          "color": "grey",
          "width": 1
         },
         "mode": "lines",
         "type": "scatter",
         "x": [
          7.5,
          6
         ],
         "y": [
          -73,
          -72
         ]
        },
        {
         "line": {
          "color": "grey",
          "width": 1
         },
         "mode": "lines",
         "type": "scatter",
         "x": [
          3,
          1.5
         ],
         "y": [
          -74,
          -1
         ]
        },
        {
         "line": {
          "color": "grey",
          "width": 1
         },
         "mode": "lines",
         "type": "scatter",
         "x": [
          4.5,
          3
         ],
         "y": [
          -75,
          -74
         ]
        },
        {
         "line": {
          "color": "grey",
          "width": 1
         },
         "mode": "lines",
         "type": "scatter",
         "x": [
          6,
          4.5
         ],
         "y": [
          -76,
          -75
         ]
        },
        {
         "line": {
          "color": "grey",
          "width": 1
         },
         "mode": "lines",
         "type": "scatter",
         "x": [
          7.5,
          6
         ],
         "y": [
          -77,
          -76
         ]
        },
        {
         "line": {
          "color": "grey",
          "width": 1
         },
         "mode": "lines",
         "type": "scatter",
         "x": [
          4.5,
          3
         ],
         "y": [
          -78,
          -74
         ]
        },
        {
         "line": {
          "color": "grey",
          "width": 1
         },
         "mode": "lines",
         "type": "scatter",
         "x": [
          6,
          4.5
         ],
         "y": [
          -79,
          -78
         ]
        },
        {
         "line": {
          "color": "grey",
          "width": 1
         },
         "mode": "lines",
         "type": "scatter",
         "x": [
          7.5,
          6
         ],
         "y": [
          -80,
          -79
         ]
        },
        {
         "line": {
          "color": "grey",
          "width": 1
         },
         "mode": "lines",
         "type": "scatter",
         "x": [
          3,
          1.5
         ],
         "y": [
          -81,
          -1
         ]
        },
        {
         "line": {
          "color": "grey",
          "width": 1
         },
         "mode": "lines",
         "type": "scatter",
         "x": [
          4.5,
          3
         ],
         "y": [
          -82,
          -81
         ]
        },
        {
         "line": {
          "color": "grey",
          "width": 1
         },
         "mode": "lines",
         "type": "scatter",
         "x": [
          6,
          4.5
         ],
         "y": [
          -83,
          -82
         ]
        },
        {
         "line": {
          "color": "grey",
          "width": 1
         },
         "mode": "lines",
         "type": "scatter",
         "x": [
          7.5,
          6
         ],
         "y": [
          -84,
          -83
         ]
        },
        {
         "line": {
          "color": "grey",
          "width": 1
         },
         "mode": "lines",
         "type": "scatter",
         "x": [
          4.5,
          3
         ],
         "y": [
          -85,
          -81
         ]
        },
        {
         "line": {
          "color": "grey",
          "width": 1
         },
         "mode": "lines",
         "type": "scatter",
         "x": [
          6,
          4.5
         ],
         "y": [
          -86,
          -85
         ]
        },
        {
         "line": {
          "color": "grey",
          "width": 1
         },
         "mode": "lines",
         "type": "scatter",
         "x": [
          7.5,
          6
         ],
         "y": [
          -87,
          -86
         ]
        },
        {
         "line": {
          "color": "grey",
          "width": 1
         },
         "mode": "lines",
         "type": "scatter",
         "x": [
          3,
          1.5
         ],
         "y": [
          -88,
          -1
         ]
        },
        {
         "line": {
          "color": "grey",
          "width": 1
         },
         "mode": "lines",
         "type": "scatter",
         "x": [
          4.5,
          3
         ],
         "y": [
          -89,
          -88
         ]
        },
        {
         "line": {
          "color": "grey",
          "width": 1
         },
         "mode": "lines",
         "type": "scatter",
         "x": [
          6,
          4.5
         ],
         "y": [
          -90,
          -89
         ]
        },
        {
         "line": {
          "color": "grey",
          "width": 1
         },
         "mode": "lines",
         "type": "scatter",
         "x": [
          7.5,
          6
         ],
         "y": [
          -91,
          -90
         ]
        },
        {
         "line": {
          "color": "grey",
          "width": 1
         },
         "mode": "lines",
         "type": "scatter",
         "x": [
          3,
          1.5
         ],
         "y": [
          -92,
          -1
         ]
        },
        {
         "line": {
          "color": "grey",
          "width": 1
         },
         "mode": "lines",
         "type": "scatter",
         "x": [
          4.5,
          3
         ],
         "y": [
          -93,
          -92
         ]
        },
        {
         "line": {
          "color": "grey",
          "width": 1
         },
         "mode": "lines",
         "type": "scatter",
         "x": [
          6,
          4.5
         ],
         "y": [
          -94,
          -93
         ]
        },
        {
         "line": {
          "color": "grey",
          "width": 1
         },
         "mode": "lines",
         "type": "scatter",
         "x": [
          7.5,
          6
         ],
         "y": [
          -95,
          -94
         ]
        },
        {
         "line": {
          "color": "grey",
          "width": 1
         },
         "mode": "lines",
         "type": "scatter",
         "x": [
          3,
          1.5
         ],
         "y": [
          -96,
          -1
         ]
        },
        {
         "line": {
          "color": "grey",
          "width": 1
         },
         "mode": "lines",
         "type": "scatter",
         "x": [
          4.5,
          3
         ],
         "y": [
          -97,
          -96
         ]
        },
        {
         "line": {
          "color": "grey",
          "width": 1
         },
         "mode": "lines",
         "type": "scatter",
         "x": [
          6,
          4.5
         ],
         "y": [
          -98,
          -97
         ]
        },
        {
         "line": {
          "color": "grey",
          "width": 1
         },
         "mode": "lines",
         "type": "scatter",
         "x": [
          7.5,
          6
         ],
         "y": [
          -99,
          -98
         ]
        },
        {
         "line": {
          "color": "grey",
          "width": 1
         },
         "mode": "lines",
         "type": "scatter",
         "x": [
          3,
          1.5
         ],
         "y": [
          -100,
          -1
         ]
        },
        {
         "line": {
          "color": "grey",
          "width": 1
         },
         "mode": "lines",
         "type": "scatter",
         "x": [
          4.5,
          3
         ],
         "y": [
          -101,
          -100
         ]
        },
        {
         "line": {
          "color": "grey",
          "width": 1
         },
         "mode": "lines",
         "type": "scatter",
         "x": [
          6,
          4.5
         ],
         "y": [
          -102,
          -101
         ]
        },
        {
         "line": {
          "color": "grey",
          "width": 1
         },
         "mode": "lines",
         "type": "scatter",
         "x": [
          7.5,
          6
         ],
         "y": [
          -103,
          -102
         ]
        },
        {
         "line": {
          "color": "grey",
          "width": 1
         },
         "mode": "lines",
         "type": "scatter",
         "x": [
          3,
          1.5
         ],
         "y": [
          -104,
          -1
         ]
        },
        {
         "line": {
          "color": "grey",
          "width": 1
         },
         "mode": "lines",
         "type": "scatter",
         "x": [
          4.5,
          3
         ],
         "y": [
          -105,
          -104
         ]
        },
        {
         "line": {
          "color": "grey",
          "width": 1
         },
         "mode": "lines",
         "type": "scatter",
         "x": [
          6,
          4.5
         ],
         "y": [
          -106,
          -105
         ]
        },
        {
         "line": {
          "color": "grey",
          "width": 1
         },
         "mode": "lines",
         "type": "scatter",
         "x": [
          7.5,
          6
         ],
         "y": [
          -107,
          -106
         ]
        },
        {
         "line": {
          "color": "grey",
          "width": 1
         },
         "mode": "lines",
         "type": "scatter",
         "x": [
          3,
          1.5
         ],
         "y": [
          -108,
          -1
         ]
        },
        {
         "line": {
          "color": "grey",
          "width": 1
         },
         "mode": "lines",
         "type": "scatter",
         "x": [
          4.5,
          3
         ],
         "y": [
          -109,
          -108
         ]
        },
        {
         "line": {
          "color": "grey",
          "width": 1
         },
         "mode": "lines",
         "type": "scatter",
         "x": [
          6,
          4.5
         ],
         "y": [
          -110,
          -109
         ]
        },
        {
         "line": {
          "color": "grey",
          "width": 1
         },
         "mode": "lines",
         "type": "scatter",
         "x": [
          7.5,
          6
         ],
         "y": [
          -111,
          -110
         ]
        },
        {
         "line": {
          "color": "grey",
          "width": 1
         },
         "mode": "lines",
         "type": "scatter",
         "x": [
          3,
          1.5
         ],
         "y": [
          -112,
          -1
         ]
        },
        {
         "line": {
          "color": "grey",
          "width": 1
         },
         "mode": "lines",
         "type": "scatter",
         "x": [
          4.5,
          3
         ],
         "y": [
          -113,
          -112
         ]
        },
        {
         "line": {
          "color": "grey",
          "width": 1
         },
         "mode": "lines",
         "type": "scatter",
         "x": [
          6,
          4.5
         ],
         "y": [
          -114,
          -113
         ]
        },
        {
         "line": {
          "color": "grey",
          "width": 1
         },
         "mode": "lines",
         "type": "scatter",
         "x": [
          7.5,
          6
         ],
         "y": [
          -115,
          -114
         ]
        },
        {
         "line": {
          "color": "grey",
          "width": 1
         },
         "mode": "lines",
         "type": "scatter",
         "x": [
          3,
          1.5
         ],
         "y": [
          -116,
          -1
         ]
        },
        {
         "line": {
          "color": "grey",
          "width": 1
         },
         "mode": "lines",
         "type": "scatter",
         "x": [
          4.5,
          3
         ],
         "y": [
          -117,
          -116
         ]
        },
        {
         "line": {
          "color": "grey",
          "width": 1
         },
         "mode": "lines",
         "type": "scatter",
         "x": [
          6,
          4.5
         ],
         "y": [
          -118,
          -117
         ]
        },
        {
         "line": {
          "color": "grey",
          "width": 1
         },
         "mode": "lines",
         "type": "scatter",
         "x": [
          7.5,
          6
         ],
         "y": [
          -119,
          -118
         ]
        },
        {
         "line": {
          "color": "grey",
          "width": 1
         },
         "mode": "lines",
         "type": "scatter",
         "x": [
          4.5,
          3
         ],
         "y": [
          -120,
          -116
         ]
        },
        {
         "line": {
          "color": "grey",
          "width": 1
         },
         "mode": "lines",
         "type": "scatter",
         "x": [
          6,
          4.5
         ],
         "y": [
          -121,
          -120
         ]
        },
        {
         "line": {
          "color": "grey",
          "width": 1
         },
         "mode": "lines",
         "type": "scatter",
         "x": [
          7.5,
          6
         ],
         "y": [
          -122,
          -121
         ]
        },
        {
         "line": {
          "color": "grey",
          "width": 1
         },
         "mode": "lines",
         "type": "scatter",
         "x": [
          3,
          1.5
         ],
         "y": [
          -123,
          -1
         ]
        },
        {
         "line": {
          "color": "grey",
          "width": 1
         },
         "mode": "lines",
         "type": "scatter",
         "x": [
          4.5,
          3
         ],
         "y": [
          -124,
          -123
         ]
        },
        {
         "line": {
          "color": "grey",
          "width": 1
         },
         "mode": "lines",
         "type": "scatter",
         "x": [
          6,
          4.5
         ],
         "y": [
          -125,
          -124
         ]
        },
        {
         "line": {
          "color": "grey",
          "width": 1
         },
         "mode": "lines",
         "type": "scatter",
         "x": [
          7.5,
          6
         ],
         "y": [
          -126,
          -125
         ]
        },
        {
         "line": {
          "color": "grey",
          "width": 1
         },
         "mode": "lines",
         "type": "scatter",
         "x": [
          4.5,
          3
         ],
         "y": [
          -127,
          -123
         ]
        },
        {
         "line": {
          "color": "grey",
          "width": 1
         },
         "mode": "lines",
         "type": "scatter",
         "x": [
          6,
          4.5
         ],
         "y": [
          -128,
          -127
         ]
        },
        {
         "line": {
          "color": "grey",
          "width": 1
         },
         "mode": "lines",
         "type": "scatter",
         "x": [
          7.5,
          6
         ],
         "y": [
          -129,
          -128
         ]
        },
        {
         "line": {
          "color": "grey",
          "width": 1
         },
         "mode": "lines",
         "type": "scatter",
         "x": [
          3,
          1.5
         ],
         "y": [
          -130,
          -1
         ]
        },
        {
         "line": {
          "color": "grey",
          "width": 1
         },
         "mode": "lines",
         "type": "scatter",
         "x": [
          4.5,
          3
         ],
         "y": [
          -131,
          -130
         ]
        },
        {
         "line": {
          "color": "grey",
          "width": 1
         },
         "mode": "lines",
         "type": "scatter",
         "x": [
          6,
          4.5
         ],
         "y": [
          -132,
          -131
         ]
        },
        {
         "line": {
          "color": "grey",
          "width": 1
         },
         "mode": "lines",
         "type": "scatter",
         "x": [
          7.5,
          6
         ],
         "y": [
          -133,
          -132
         ]
        },
        {
         "line": {
          "color": "grey",
          "width": 1
         },
         "mode": "lines",
         "type": "scatter",
         "x": [
          3,
          1.5
         ],
         "y": [
          -134,
          -1
         ]
        },
        {
         "line": {
          "color": "grey",
          "width": 1
         },
         "mode": "lines",
         "type": "scatter",
         "x": [
          4.5,
          3
         ],
         "y": [
          -135,
          -134
         ]
        },
        {
         "line": {
          "color": "grey",
          "width": 1
         },
         "mode": "lines",
         "type": "scatter",
         "x": [
          6,
          4.5
         ],
         "y": [
          -136,
          -135
         ]
        },
        {
         "line": {
          "color": "grey",
          "width": 1
         },
         "mode": "lines",
         "type": "scatter",
         "x": [
          7.5,
          6
         ],
         "y": [
          -137,
          -136
         ]
        },
        {
         "line": {
          "color": "grey",
          "width": 1
         },
         "mode": "lines",
         "type": "scatter",
         "x": [
          3,
          1.5
         ],
         "y": [
          -138,
          -1
         ]
        },
        {
         "line": {
          "color": "grey",
          "width": 1
         },
         "mode": "lines",
         "type": "scatter",
         "x": [
          4.5,
          3
         ],
         "y": [
          -139,
          -138
         ]
        },
        {
         "line": {
          "color": "grey",
          "width": 1
         },
         "mode": "lines",
         "type": "scatter",
         "x": [
          6,
          4.5
         ],
         "y": [
          -140,
          -139
         ]
        },
        {
         "line": {
          "color": "grey",
          "width": 1
         },
         "mode": "lines",
         "type": "scatter",
         "x": [
          7.5,
          6
         ],
         "y": [
          -141,
          -140
         ]
        },
        {
         "line": {
          "color": "grey",
          "width": 1
         },
         "mode": "lines",
         "type": "scatter",
         "x": [
          3,
          1.5
         ],
         "y": [
          -142,
          -1
         ]
        },
        {
         "line": {
          "color": "grey",
          "width": 1
         },
         "mode": "lines",
         "type": "scatter",
         "x": [
          4.5,
          3
         ],
         "y": [
          -143,
          -142
         ]
        },
        {
         "line": {
          "color": "grey",
          "width": 1
         },
         "mode": "lines",
         "type": "scatter",
         "x": [
          6,
          4.5
         ],
         "y": [
          -144,
          -143
         ]
        },
        {
         "line": {
          "color": "grey",
          "width": 1
         },
         "mode": "lines",
         "type": "scatter",
         "x": [
          7.5,
          6
         ],
         "y": [
          -145,
          -144
         ]
        },
        {
         "line": {
          "color": "grey",
          "width": 1
         },
         "mode": "lines",
         "type": "scatter",
         "x": [
          3,
          1.5
         ],
         "y": [
          -146,
          -1
         ]
        },
        {
         "line": {
          "color": "grey",
          "width": 1
         },
         "mode": "lines",
         "type": "scatter",
         "x": [
          4.5,
          3
         ],
         "y": [
          -147,
          -146
         ]
        },
        {
         "line": {
          "color": "grey",
          "width": 1
         },
         "mode": "lines",
         "type": "scatter",
         "x": [
          6,
          4.5
         ],
         "y": [
          -148,
          -147
         ]
        },
        {
         "line": {
          "color": "grey",
          "width": 1
         },
         "mode": "lines",
         "type": "scatter",
         "x": [
          7.5,
          6
         ],
         "y": [
          -149,
          -148
         ]
        },
        {
         "line": {
          "color": "grey",
          "width": 1
         },
         "mode": "lines",
         "type": "scatter",
         "x": [
          3,
          1.5
         ],
         "y": [
          -150,
          -1
         ]
        },
        {
         "line": {
          "color": "grey",
          "width": 1
         },
         "mode": "lines",
         "type": "scatter",
         "x": [
          4.5,
          3
         ],
         "y": [
          -151,
          -150
         ]
        },
        {
         "line": {
          "color": "grey",
          "width": 1
         },
         "mode": "lines",
         "type": "scatter",
         "x": [
          6,
          4.5
         ],
         "y": [
          -152,
          -151
         ]
        },
        {
         "line": {
          "color": "grey",
          "width": 1
         },
         "mode": "lines",
         "type": "scatter",
         "x": [
          7.5,
          6
         ],
         "y": [
          -153,
          -152
         ]
        },
        {
         "line": {
          "color": "grey",
          "width": 1
         },
         "mode": "lines",
         "type": "scatter",
         "x": [
          3,
          1.5
         ],
         "y": [
          -154,
          -1
         ]
        },
        {
         "line": {
          "color": "grey",
          "width": 1
         },
         "mode": "lines",
         "type": "scatter",
         "x": [
          4.5,
          3
         ],
         "y": [
          -155,
          -154
         ]
        },
        {
         "line": {
          "color": "grey",
          "width": 1
         },
         "mode": "lines",
         "type": "scatter",
         "x": [
          6,
          4.5
         ],
         "y": [
          -156,
          -155
         ]
        },
        {
         "line": {
          "color": "grey",
          "width": 1
         },
         "mode": "lines",
         "type": "scatter",
         "x": [
          7.5,
          6
         ],
         "y": [
          -157,
          -156
         ]
        },
        {
         "line": {
          "color": "grey",
          "width": 1
         },
         "mode": "lines",
         "type": "scatter",
         "x": [
          3,
          1.5
         ],
         "y": [
          -158,
          -1
         ]
        },
        {
         "line": {
          "color": "grey",
          "width": 1
         },
         "mode": "lines",
         "type": "scatter",
         "x": [
          4.5,
          3
         ],
         "y": [
          -159,
          -158
         ]
        },
        {
         "line": {
          "color": "grey",
          "width": 1
         },
         "mode": "lines",
         "type": "scatter",
         "x": [
          6,
          4.5
         ],
         "y": [
          -160,
          -159
         ]
        },
        {
         "line": {
          "color": "grey",
          "width": 1
         },
         "mode": "lines",
         "type": "scatter",
         "x": [
          7.5,
          6
         ],
         "y": [
          -161,
          -160
         ]
        },
        {
         "line": {
          "color": "grey",
          "width": 1
         },
         "mode": "lines",
         "type": "scatter",
         "x": [
          3,
          1.5
         ],
         "y": [
          -162,
          -1
         ]
        },
        {
         "line": {
          "color": "grey",
          "width": 1
         },
         "mode": "lines",
         "type": "scatter",
         "x": [
          4.5,
          3
         ],
         "y": [
          -163,
          -162
         ]
        },
        {
         "line": {
          "color": "grey",
          "width": 1
         },
         "mode": "lines",
         "type": "scatter",
         "x": [
          6,
          4.5
         ],
         "y": [
          -164,
          -163
         ]
        },
        {
         "line": {
          "color": "grey",
          "width": 1
         },
         "mode": "lines",
         "type": "scatter",
         "x": [
          7.5,
          6
         ],
         "y": [
          -165,
          -164
         ]
        },
        {
         "line": {
          "color": "grey",
          "width": 1
         },
         "mode": "lines",
         "type": "scatter",
         "x": [
          3,
          1.5
         ],
         "y": [
          -166,
          -1
         ]
        },
        {
         "line": {
          "color": "grey",
          "width": 1
         },
         "mode": "lines",
         "type": "scatter",
         "x": [
          4.5,
          3
         ],
         "y": [
          -167,
          -166
         ]
        },
        {
         "line": {
          "color": "grey",
          "width": 1
         },
         "mode": "lines",
         "type": "scatter",
         "x": [
          6,
          4.5
         ],
         "y": [
          -168,
          -167
         ]
        },
        {
         "line": {
          "color": "grey",
          "width": 1
         },
         "mode": "lines",
         "type": "scatter",
         "x": [
          7.5,
          6
         ],
         "y": [
          -169,
          -168
         ]
        },
        {
         "line": {
          "color": "grey",
          "width": 1
         },
         "mode": "lines",
         "type": "scatter",
         "x": [
          3,
          1.5
         ],
         "y": [
          -170,
          -1
         ]
        },
        {
         "line": {
          "color": "grey",
          "width": 1
         },
         "mode": "lines",
         "type": "scatter",
         "x": [
          4.5,
          3
         ],
         "y": [
          -171,
          -170
         ]
        },
        {
         "line": {
          "color": "grey",
          "width": 1
         },
         "mode": "lines",
         "type": "scatter",
         "x": [
          6,
          4.5
         ],
         "y": [
          -172,
          -171
         ]
        },
        {
         "line": {
          "color": "grey",
          "width": 1
         },
         "mode": "lines",
         "type": "scatter",
         "x": [
          7.5,
          6
         ],
         "y": [
          -173,
          -172
         ]
        },
        {
         "line": {
          "color": "grey",
          "width": 1
         },
         "mode": "lines",
         "type": "scatter",
         "x": [
          3,
          1.5
         ],
         "y": [
          -174,
          -1
         ]
        },
        {
         "line": {
          "color": "grey",
          "width": 1
         },
         "mode": "lines",
         "type": "scatter",
         "x": [
          4.5,
          3
         ],
         "y": [
          -175,
          -174
         ]
        },
        {
         "line": {
          "color": "grey",
          "width": 1
         },
         "mode": "lines",
         "type": "scatter",
         "x": [
          6,
          4.5
         ],
         "y": [
          -176,
          -175
         ]
        },
        {
         "line": {
          "color": "grey",
          "width": 1
         },
         "mode": "lines",
         "type": "scatter",
         "x": [
          7.5,
          6
         ],
         "y": [
          -177,
          -176
         ]
        },
        {
         "line": {
          "color": "grey",
          "width": 1
         },
         "mode": "lines",
         "type": "scatter",
         "x": [
          3,
          1.5
         ],
         "y": [
          -178,
          -1
         ]
        },
        {
         "line": {
          "color": "grey",
          "width": 1
         },
         "mode": "lines",
         "type": "scatter",
         "x": [
          4.5,
          3
         ],
         "y": [
          -179,
          -178
         ]
        },
        {
         "line": {
          "color": "grey",
          "width": 1
         },
         "mode": "lines",
         "type": "scatter",
         "x": [
          6,
          4.5
         ],
         "y": [
          -180,
          -179
         ]
        },
        {
         "line": {
          "color": "grey",
          "width": 1
         },
         "mode": "lines",
         "type": "scatter",
         "x": [
          7.5,
          6
         ],
         "y": [
          -181,
          -180
         ]
        },
        {
         "line": {
          "color": "grey",
          "width": 1
         },
         "mode": "lines",
         "type": "scatter",
         "x": [
          3,
          1.5
         ],
         "y": [
          -182,
          -1
         ]
        },
        {
         "line": {
          "color": "grey",
          "width": 1
         },
         "mode": "lines",
         "type": "scatter",
         "x": [
          4.5,
          3
         ],
         "y": [
          -183,
          -182
         ]
        },
        {
         "line": {
          "color": "grey",
          "width": 1
         },
         "mode": "lines",
         "type": "scatter",
         "x": [
          6,
          4.5
         ],
         "y": [
          -184,
          -183
         ]
        },
        {
         "line": {
          "color": "grey",
          "width": 1
         },
         "mode": "lines",
         "type": "scatter",
         "x": [
          7.5,
          6
         ],
         "y": [
          -185,
          -184
         ]
        },
        {
         "line": {
          "color": "grey",
          "width": 1
         },
         "mode": "lines",
         "type": "scatter",
         "x": [
          3,
          1.5
         ],
         "y": [
          -186,
          -1
         ]
        },
        {
         "line": {
          "color": "grey",
          "width": 1
         },
         "mode": "lines",
         "type": "scatter",
         "x": [
          4.5,
          3
         ],
         "y": [
          -187,
          -186
         ]
        },
        {
         "line": {
          "color": "grey",
          "width": 1
         },
         "mode": "lines",
         "type": "scatter",
         "x": [
          6,
          4.5
         ],
         "y": [
          -188,
          -187
         ]
        },
        {
         "line": {
          "color": "grey",
          "width": 1
         },
         "mode": "lines",
         "type": "scatter",
         "x": [
          7.5,
          6
         ],
         "y": [
          -189,
          -188
         ]
        },
        {
         "line": {
          "color": "grey",
          "width": 1
         },
         "mode": "lines",
         "type": "scatter",
         "x": [
          3,
          1.5
         ],
         "y": [
          -190,
          -1
         ]
        },
        {
         "line": {
          "color": "grey",
          "width": 1
         },
         "mode": "lines",
         "type": "scatter",
         "x": [
          4.5,
          3
         ],
         "y": [
          -191,
          -190
         ]
        },
        {
         "line": {
          "color": "grey",
          "width": 1
         },
         "mode": "lines",
         "type": "scatter",
         "x": [
          6,
          4.5
         ],
         "y": [
          -192,
          -191
         ]
        },
        {
         "line": {
          "color": "grey",
          "width": 1
         },
         "mode": "lines",
         "type": "scatter",
         "x": [
          7.5,
          6
         ],
         "y": [
          -193,
          -192
         ]
        },
        {
         "line": {
          "color": "grey",
          "width": 1
         },
         "mode": "lines",
         "type": "scatter",
         "x": [
          3,
          1.5
         ],
         "y": [
          -194,
          -1
         ]
        },
        {
         "line": {
          "color": "grey",
          "width": 1
         },
         "mode": "lines",
         "type": "scatter",
         "x": [
          4.5,
          3
         ],
         "y": [
          -195,
          -194
         ]
        },
        {
         "line": {
          "color": "grey",
          "width": 1
         },
         "mode": "lines",
         "type": "scatter",
         "x": [
          6,
          4.5
         ],
         "y": [
          -196,
          -195
         ]
        },
        {
         "line": {
          "color": "grey",
          "width": 1
         },
         "mode": "lines",
         "type": "scatter",
         "x": [
          7.5,
          6
         ],
         "y": [
          -197,
          -196
         ]
        },
        {
         "line": {
          "color": "grey",
          "width": 1
         },
         "mode": "lines",
         "type": "scatter",
         "x": [
          3,
          1.5
         ],
         "y": [
          -198,
          -1
         ]
        },
        {
         "line": {
          "color": "grey",
          "width": 1
         },
         "mode": "lines",
         "type": "scatter",
         "x": [
          4.5,
          3
         ],
         "y": [
          -199,
          -198
         ]
        },
        {
         "line": {
          "color": "grey",
          "width": 1
         },
         "mode": "lines",
         "type": "scatter",
         "x": [
          6,
          4.5
         ],
         "y": [
          -200,
          -199
         ]
        },
        {
         "line": {
          "color": "grey",
          "width": 1
         },
         "mode": "lines",
         "type": "scatter",
         "x": [
          7.5,
          6
         ],
         "y": [
          -201,
          -200
         ]
        },
        {
         "line": {
          "color": "grey",
          "width": 1
         },
         "mode": "lines",
         "type": "scatter",
         "x": [
          3,
          1.5
         ],
         "y": [
          -202,
          -1
         ]
        },
        {
         "line": {
          "color": "grey",
          "width": 1
         },
         "mode": "lines",
         "type": "scatter",
         "x": [
          4.5,
          3
         ],
         "y": [
          -203,
          -202
         ]
        },
        {
         "line": {
          "color": "grey",
          "width": 1
         },
         "mode": "lines",
         "type": "scatter",
         "x": [
          6,
          4.5
         ],
         "y": [
          -204,
          -203
         ]
        },
        {
         "line": {
          "color": "grey",
          "width": 1
         },
         "mode": "lines",
         "type": "scatter",
         "x": [
          7.5,
          6
         ],
         "y": [
          -205,
          -204
         ]
        },
        {
         "line": {
          "color": "grey",
          "width": 1
         },
         "mode": "lines",
         "type": "scatter",
         "x": [
          3,
          1.5
         ],
         "y": [
          -206,
          -1
         ]
        },
        {
         "line": {
          "color": "grey",
          "width": 1
         },
         "mode": "lines",
         "type": "scatter",
         "x": [
          4.5,
          3
         ],
         "y": [
          -207,
          -206
         ]
        },
        {
         "line": {
          "color": "grey",
          "width": 1
         },
         "mode": "lines",
         "type": "scatter",
         "x": [
          6,
          4.5
         ],
         "y": [
          -208,
          -207
         ]
        },
        {
         "line": {
          "color": "grey",
          "width": 1
         },
         "mode": "lines",
         "type": "scatter",
         "x": [
          7.5,
          6
         ],
         "y": [
          -209,
          -208
         ]
        },
        {
         "line": {
          "color": "grey",
          "width": 1
         },
         "mode": "lines",
         "type": "scatter",
         "x": [
          3,
          1.5
         ],
         "y": [
          -210,
          -1
         ]
        },
        {
         "line": {
          "color": "grey",
          "width": 1
         },
         "mode": "lines",
         "type": "scatter",
         "x": [
          4.5,
          3
         ],
         "y": [
          -211,
          -210
         ]
        },
        {
         "line": {
          "color": "grey",
          "width": 1
         },
         "mode": "lines",
         "type": "scatter",
         "x": [
          6,
          4.5
         ],
         "y": [
          -212,
          -211
         ]
        },
        {
         "line": {
          "color": "grey",
          "width": 1
         },
         "mode": "lines",
         "type": "scatter",
         "x": [
          7.5,
          6
         ],
         "y": [
          -213,
          -212
         ]
        },
        {
         "line": {
          "color": "grey",
          "width": 1
         },
         "mode": "lines",
         "type": "scatter",
         "x": [
          3,
          1.5
         ],
         "y": [
          -214,
          -1
         ]
        },
        {
         "line": {
          "color": "grey",
          "width": 1
         },
         "mode": "lines",
         "type": "scatter",
         "x": [
          4.5,
          3
         ],
         "y": [
          -215,
          -214
         ]
        },
        {
         "line": {
          "color": "grey",
          "width": 1
         },
         "mode": "lines",
         "type": "scatter",
         "x": [
          6,
          4.5
         ],
         "y": [
          -216,
          -215
         ]
        },
        {
         "line": {
          "color": "grey",
          "width": 1
         },
         "mode": "lines",
         "type": "scatter",
         "x": [
          7.5,
          6
         ],
         "y": [
          -217,
          -216
         ]
        },
        {
         "line": {
          "color": "grey",
          "width": 1
         },
         "mode": "lines",
         "type": "scatter",
         "x": [
          1.5,
          0
         ],
         "y": [
          -218,
          0
         ]
        },
        {
         "line": {
          "color": "grey",
          "width": 1
         },
         "mode": "lines",
         "type": "scatter",
         "x": [
          3,
          1.5
         ],
         "y": [
          -219,
          -218
         ]
        },
        {
         "line": {
          "color": "grey",
          "width": 1
         },
         "mode": "lines",
         "type": "scatter",
         "x": [
          4.5,
          3
         ],
         "y": [
          -220,
          -219
         ]
        },
        {
         "line": {
          "color": "grey",
          "width": 1
         },
         "mode": "lines",
         "type": "scatter",
         "x": [
          6,
          4.5
         ],
         "y": [
          -221,
          -220
         ]
        },
        {
         "line": {
          "color": "grey",
          "width": 1
         },
         "mode": "lines",
         "type": "scatter",
         "x": [
          7.5,
          6
         ],
         "y": [
          -222,
          -221
         ]
        },
        {
         "line": {
          "color": "grey",
          "width": 1
         },
         "mode": "lines",
         "type": "scatter",
         "x": [
          7.5,
          6
         ],
         "y": [
          -223,
          -221
         ]
        },
        {
         "line": {
          "color": "grey",
          "width": 1
         },
         "mode": "lines",
         "type": "scatter",
         "x": [
          7.5,
          6
         ],
         "y": [
          -224,
          -221
         ]
        },
        {
         "line": {
          "color": "grey",
          "width": 1
         },
         "mode": "lines",
         "type": "scatter",
         "x": [
          4.5,
          3
         ],
         "y": [
          -225,
          -219
         ]
        },
        {
         "line": {
          "color": "grey",
          "width": 1
         },
         "mode": "lines",
         "type": "scatter",
         "x": [
          6,
          4.5
         ],
         "y": [
          -226,
          -225
         ]
        },
        {
         "line": {
          "color": "grey",
          "width": 1
         },
         "mode": "lines",
         "type": "scatter",
         "x": [
          7.5,
          6
         ],
         "y": [
          -227,
          -226
         ]
        },
        {
         "line": {
          "color": "grey",
          "width": 1
         },
         "mode": "lines",
         "type": "scatter",
         "x": [
          3,
          1.5
         ],
         "y": [
          -228,
          -218
         ]
        },
        {
         "line": {
          "color": "grey",
          "width": 1
         },
         "mode": "lines",
         "type": "scatter",
         "x": [
          4.5,
          3
         ],
         "y": [
          -229,
          -228
         ]
        },
        {
         "line": {
          "color": "grey",
          "width": 1
         },
         "mode": "lines",
         "type": "scatter",
         "x": [
          6,
          4.5
         ],
         "y": [
          -230,
          -229
         ]
        },
        {
         "line": {
          "color": "grey",
          "width": 1
         },
         "mode": "lines",
         "type": "scatter",
         "x": [
          7.5,
          6
         ],
         "y": [
          -231,
          -230
         ]
        },
        {
         "line": {
          "color": "grey",
          "width": 1
         },
         "mode": "lines",
         "type": "scatter",
         "x": [
          3,
          1.5
         ],
         "y": [
          -232,
          -218
         ]
        },
        {
         "line": {
          "color": "grey",
          "width": 1
         },
         "mode": "lines",
         "type": "scatter",
         "x": [
          4.5,
          3
         ],
         "y": [
          -233,
          -232
         ]
        },
        {
         "line": {
          "color": "grey",
          "width": 1
         },
         "mode": "lines",
         "type": "scatter",
         "x": [
          6,
          4.5
         ],
         "y": [
          -234,
          -233
         ]
        },
        {
         "line": {
          "color": "grey",
          "width": 1
         },
         "mode": "lines",
         "type": "scatter",
         "x": [
          7.5,
          6
         ],
         "y": [
          -235,
          -234
         ]
        },
        {
         "line": {
          "color": "grey",
          "width": 1
         },
         "mode": "lines",
         "type": "scatter",
         "x": [
          3,
          1.5
         ],
         "y": [
          -236,
          -218
         ]
        },
        {
         "line": {
          "color": "grey",
          "width": 1
         },
         "mode": "lines",
         "type": "scatter",
         "x": [
          4.5,
          3
         ],
         "y": [
          -237,
          -236
         ]
        },
        {
         "line": {
          "color": "grey",
          "width": 1
         },
         "mode": "lines",
         "type": "scatter",
         "x": [
          6,
          4.5
         ],
         "y": [
          -238,
          -237
         ]
        },
        {
         "line": {
          "color": "grey",
          "width": 1
         },
         "mode": "lines",
         "type": "scatter",
         "x": [
          7.5,
          6
         ],
         "y": [
          -239,
          -238
         ]
        },
        {
         "line": {
          "color": "grey",
          "width": 1
         },
         "mode": "lines",
         "type": "scatter",
         "x": [
          3,
          1.5
         ],
         "y": [
          -240,
          -218
         ]
        },
        {
         "line": {
          "color": "grey",
          "width": 1
         },
         "mode": "lines",
         "type": "scatter",
         "x": [
          4.5,
          3
         ],
         "y": [
          -241,
          -240
         ]
        },
        {
         "line": {
          "color": "grey",
          "width": 1
         },
         "mode": "lines",
         "type": "scatter",
         "x": [
          6,
          4.5
         ],
         "y": [
          -242,
          -241
         ]
        },
        {
         "line": {
          "color": "grey",
          "width": 1
         },
         "mode": "lines",
         "type": "scatter",
         "x": [
          7.5,
          6
         ],
         "y": [
          -243,
          -242
         ]
        },
        {
         "line": {
          "color": "grey",
          "width": 1
         },
         "mode": "lines",
         "type": "scatter",
         "x": [
          3,
          1.5
         ],
         "y": [
          -244,
          -218
         ]
        },
        {
         "line": {
          "color": "grey",
          "width": 1
         },
         "mode": "lines",
         "type": "scatter",
         "x": [
          4.5,
          3
         ],
         "y": [
          -245,
          -244
         ]
        },
        {
         "line": {
          "color": "grey",
          "width": 1
         },
         "mode": "lines",
         "type": "scatter",
         "x": [
          6,
          4.5
         ],
         "y": [
          -246,
          -245
         ]
        },
        {
         "line": {
          "color": "grey",
          "width": 1
         },
         "mode": "lines",
         "type": "scatter",
         "x": [
          7.5,
          6
         ],
         "y": [
          -247,
          -246
         ]
        },
        {
         "line": {
          "color": "grey",
          "width": 1
         },
         "mode": "lines",
         "type": "scatter",
         "x": [
          3,
          1.5
         ],
         "y": [
          -248,
          -218
         ]
        },
        {
         "line": {
          "color": "grey",
          "width": 1
         },
         "mode": "lines",
         "type": "scatter",
         "x": [
          4.5,
          3
         ],
         "y": [
          -249,
          -248
         ]
        },
        {
         "line": {
          "color": "grey",
          "width": 1
         },
         "mode": "lines",
         "type": "scatter",
         "x": [
          6,
          4.5
         ],
         "y": [
          -250,
          -249
         ]
        },
        {
         "line": {
          "color": "grey",
          "width": 1
         },
         "mode": "lines",
         "type": "scatter",
         "x": [
          7.5,
          6
         ],
         "y": [
          -251,
          -250
         ]
        },
        {
         "line": {
          "color": "grey",
          "width": 1
         },
         "mode": "lines",
         "type": "scatter",
         "x": [
          3,
          1.5
         ],
         "y": [
          -252,
          -218
         ]
        },
        {
         "line": {
          "color": "grey",
          "width": 1
         },
         "mode": "lines",
         "type": "scatter",
         "x": [
          4.5,
          3
         ],
         "y": [
          -253,
          -252
         ]
        },
        {
         "line": {
          "color": "grey",
          "width": 1
         },
         "mode": "lines",
         "type": "scatter",
         "x": [
          6,
          4.5
         ],
         "y": [
          -254,
          -253
         ]
        },
        {
         "line": {
          "color": "grey",
          "width": 1
         },
         "mode": "lines",
         "type": "scatter",
         "x": [
          7.5,
          6
         ],
         "y": [
          -255,
          -254
         ]
        },
        {
         "line": {
          "color": "grey",
          "width": 1
         },
         "mode": "lines",
         "type": "scatter",
         "x": [
          3,
          1.5
         ],
         "y": [
          -256,
          -218
         ]
        },
        {
         "line": {
          "color": "grey",
          "width": 1
         },
         "mode": "lines",
         "type": "scatter",
         "x": [
          4.5,
          3
         ],
         "y": [
          -257,
          -256
         ]
        },
        {
         "line": {
          "color": "grey",
          "width": 1
         },
         "mode": "lines",
         "type": "scatter",
         "x": [
          6,
          4.5
         ],
         "y": [
          -258,
          -257
         ]
        },
        {
         "line": {
          "color": "grey",
          "width": 1
         },
         "mode": "lines",
         "type": "scatter",
         "x": [
          7.5,
          6
         ],
         "y": [
          -259,
          -258
         ]
        },
        {
         "line": {
          "color": "grey",
          "width": 1
         },
         "mode": "lines",
         "type": "scatter",
         "x": [
          7.5,
          6
         ],
         "y": [
          -260,
          -258
         ]
        },
        {
         "line": {
          "color": "grey",
          "width": 1
         },
         "mode": "lines",
         "type": "scatter",
         "x": [
          4.5,
          3
         ],
         "y": [
          -261,
          -256
         ]
        },
        {
         "line": {
          "color": "grey",
          "width": 1
         },
         "mode": "lines",
         "type": "scatter",
         "x": [
          6,
          4.5
         ],
         "y": [
          -262,
          -261
         ]
        },
        {
         "line": {
          "color": "grey",
          "width": 1
         },
         "mode": "lines",
         "type": "scatter",
         "x": [
          7.5,
          6
         ],
         "y": [
          -263,
          -262
         ]
        },
        {
         "line": {
          "color": "grey",
          "width": 1
         },
         "mode": "lines",
         "type": "scatter",
         "x": [
          3,
          1.5
         ],
         "y": [
          -264,
          -218
         ]
        },
        {
         "line": {
          "color": "grey",
          "width": 1
         },
         "mode": "lines",
         "type": "scatter",
         "x": [
          4.5,
          3
         ],
         "y": [
          -265,
          -264
         ]
        },
        {
         "line": {
          "color": "grey",
          "width": 1
         },
         "mode": "lines",
         "type": "scatter",
         "x": [
          6,
          4.5
         ],
         "y": [
          -266,
          -265
         ]
        },
        {
         "line": {
          "color": "grey",
          "width": 1
         },
         "mode": "lines",
         "type": "scatter",
         "x": [
          7.5,
          6
         ],
         "y": [
          -267,
          -266
         ]
        },
        {
         "line": {
          "color": "grey",
          "width": 1
         },
         "mode": "lines",
         "type": "scatter",
         "x": [
          3,
          1.5
         ],
         "y": [
          -268,
          -218
         ]
        },
        {
         "line": {
          "color": "grey",
          "width": 1
         },
         "mode": "lines",
         "type": "scatter",
         "x": [
          4.5,
          3
         ],
         "y": [
          -269,
          -268
         ]
        },
        {
         "line": {
          "color": "grey",
          "width": 1
         },
         "mode": "lines",
         "type": "scatter",
         "x": [
          6,
          4.5
         ],
         "y": [
          -270,
          -269
         ]
        },
        {
         "line": {
          "color": "grey",
          "width": 1
         },
         "mode": "lines",
         "type": "scatter",
         "x": [
          7.5,
          6
         ],
         "y": [
          -271,
          -270
         ]
        },
        {
         "line": {
          "color": "grey",
          "width": 1
         },
         "mode": "lines",
         "type": "scatter",
         "x": [
          3,
          1.5
         ],
         "y": [
          -272,
          -218
         ]
        },
        {
         "line": {
          "color": "grey",
          "width": 1
         },
         "mode": "lines",
         "type": "scatter",
         "x": [
          4.5,
          3
         ],
         "y": [
          -273,
          -272
         ]
        },
        {
         "line": {
          "color": "grey",
          "width": 1
         },
         "mode": "lines",
         "type": "scatter",
         "x": [
          6,
          4.5
         ],
         "y": [
          -274,
          -273
         ]
        },
        {
         "line": {
          "color": "grey",
          "width": 1
         },
         "mode": "lines",
         "type": "scatter",
         "x": [
          7.5,
          6
         ],
         "y": [
          -275,
          -274
         ]
        },
        {
         "line": {
          "color": "grey",
          "width": 1
         },
         "mode": "lines",
         "type": "scatter",
         "x": [
          3,
          1.5
         ],
         "y": [
          -276,
          -218
         ]
        },
        {
         "line": {
          "color": "grey",
          "width": 1
         },
         "mode": "lines",
         "type": "scatter",
         "x": [
          4.5,
          3
         ],
         "y": [
          -277,
          -276
         ]
        },
        {
         "line": {
          "color": "grey",
          "width": 1
         },
         "mode": "lines",
         "type": "scatter",
         "x": [
          6,
          4.5
         ],
         "y": [
          -278,
          -277
         ]
        },
        {
         "line": {
          "color": "grey",
          "width": 1
         },
         "mode": "lines",
         "type": "scatter",
         "x": [
          7.5,
          6
         ],
         "y": [
          -279,
          -278
         ]
        },
        {
         "line": {
          "color": "grey",
          "width": 1
         },
         "mode": "lines",
         "type": "scatter",
         "x": [
          3,
          1.5
         ],
         "y": [
          -280,
          -218
         ]
        },
        {
         "line": {
          "color": "grey",
          "width": 1
         },
         "mode": "lines",
         "type": "scatter",
         "x": [
          4.5,
          3
         ],
         "y": [
          -281,
          -280
         ]
        },
        {
         "line": {
          "color": "grey",
          "width": 1
         },
         "mode": "lines",
         "type": "scatter",
         "x": [
          6,
          4.5
         ],
         "y": [
          -282,
          -281
         ]
        },
        {
         "line": {
          "color": "grey",
          "width": 1
         },
         "mode": "lines",
         "type": "scatter",
         "x": [
          7.5,
          6
         ],
         "y": [
          -283,
          -282
         ]
        },
        {
         "line": {
          "color": "grey",
          "width": 1
         },
         "mode": "lines",
         "type": "scatter",
         "x": [
          3,
          1.5
         ],
         "y": [
          -284,
          -218
         ]
        },
        {
         "line": {
          "color": "grey",
          "width": 1
         },
         "mode": "lines",
         "type": "scatter",
         "x": [
          4.5,
          3
         ],
         "y": [
          -285,
          -284
         ]
        },
        {
         "line": {
          "color": "grey",
          "width": 1
         },
         "mode": "lines",
         "type": "scatter",
         "x": [
          6,
          4.5
         ],
         "y": [
          -286,
          -285
         ]
        },
        {
         "line": {
          "color": "grey",
          "width": 1
         },
         "mode": "lines",
         "type": "scatter",
         "x": [
          7.5,
          6
         ],
         "y": [
          -287,
          -286
         ]
        },
        {
         "line": {
          "color": "grey",
          "width": 1
         },
         "mode": "lines",
         "type": "scatter",
         "x": [
          3,
          1.5
         ],
         "y": [
          -288,
          -218
         ]
        },
        {
         "line": {
          "color": "grey",
          "width": 1
         },
         "mode": "lines",
         "type": "scatter",
         "x": [
          4.5,
          3
         ],
         "y": [
          -289,
          -288
         ]
        },
        {
         "line": {
          "color": "grey",
          "width": 1
         },
         "mode": "lines",
         "type": "scatter",
         "x": [
          6,
          4.5
         ],
         "y": [
          -290,
          -289
         ]
        },
        {
         "line": {
          "color": "grey",
          "width": 1
         },
         "mode": "lines",
         "type": "scatter",
         "x": [
          7.5,
          6
         ],
         "y": [
          -291,
          -290
         ]
        },
        {
         "line": {
          "color": "grey",
          "width": 1
         },
         "mode": "lines",
         "type": "scatter",
         "x": [
          3,
          1.5
         ],
         "y": [
          -292,
          -218
         ]
        },
        {
         "line": {
          "color": "grey",
          "width": 1
         },
         "mode": "lines",
         "type": "scatter",
         "x": [
          4.5,
          3
         ],
         "y": [
          -293,
          -292
         ]
        },
        {
         "line": {
          "color": "grey",
          "width": 1
         },
         "mode": "lines",
         "type": "scatter",
         "x": [
          6,
          4.5
         ],
         "y": [
          -294,
          -293
         ]
        },
        {
         "line": {
          "color": "grey",
          "width": 1
         },
         "mode": "lines",
         "type": "scatter",
         "x": [
          7.5,
          6
         ],
         "y": [
          -295,
          -294
         ]
        },
        {
         "line": {
          "color": "grey",
          "width": 1
         },
         "mode": "lines",
         "type": "scatter",
         "x": [
          3,
          1.5
         ],
         "y": [
          -296,
          -218
         ]
        },
        {
         "line": {
          "color": "grey",
          "width": 1
         },
         "mode": "lines",
         "type": "scatter",
         "x": [
          4.5,
          3
         ],
         "y": [
          -297,
          -296
         ]
        },
        {
         "line": {
          "color": "grey",
          "width": 1
         },
         "mode": "lines",
         "type": "scatter",
         "x": [
          6,
          4.5
         ],
         "y": [
          -298,
          -297
         ]
        },
        {
         "line": {
          "color": "grey",
          "width": 1
         },
         "mode": "lines",
         "type": "scatter",
         "x": [
          7.5,
          6
         ],
         "y": [
          -299,
          -298
         ]
        },
        {
         "line": {
          "color": "grey",
          "width": 1
         },
         "mode": "lines",
         "type": "scatter",
         "x": [
          3,
          1.5
         ],
         "y": [
          -300,
          -218
         ]
        },
        {
         "line": {
          "color": "grey",
          "width": 1
         },
         "mode": "lines",
         "type": "scatter",
         "x": [
          4.5,
          3
         ],
         "y": [
          -301,
          -300
         ]
        },
        {
         "line": {
          "color": "grey",
          "width": 1
         },
         "mode": "lines",
         "type": "scatter",
         "x": [
          6,
          4.5
         ],
         "y": [
          -302,
          -301
         ]
        },
        {
         "line": {
          "color": "grey",
          "width": 1
         },
         "mode": "lines",
         "type": "scatter",
         "x": [
          7.5,
          6
         ],
         "y": [
          -303,
          -302
         ]
        },
        {
         "line": {
          "color": "grey",
          "width": 1
         },
         "mode": "lines",
         "type": "scatter",
         "x": [
          3,
          1.5
         ],
         "y": [
          -304,
          -218
         ]
        },
        {
         "line": {
          "color": "grey",
          "width": 1
         },
         "mode": "lines",
         "type": "scatter",
         "x": [
          4.5,
          3
         ],
         "y": [
          -305,
          -304
         ]
        },
        {
         "line": {
          "color": "grey",
          "width": 1
         },
         "mode": "lines",
         "type": "scatter",
         "x": [
          6,
          4.5
         ],
         "y": [
          -306,
          -305
         ]
        },
        {
         "line": {
          "color": "grey",
          "width": 1
         },
         "mode": "lines",
         "type": "scatter",
         "x": [
          7.5,
          6
         ],
         "y": [
          -307,
          -306
         ]
        },
        {
         "line": {
          "color": "grey",
          "width": 1
         },
         "mode": "lines",
         "type": "scatter",
         "x": [
          3,
          1.5
         ],
         "y": [
          -308,
          -218
         ]
        },
        {
         "line": {
          "color": "grey",
          "width": 1
         },
         "mode": "lines",
         "type": "scatter",
         "x": [
          4.5,
          3
         ],
         "y": [
          -309,
          -308
         ]
        },
        {
         "line": {
          "color": "grey",
          "width": 1
         },
         "mode": "lines",
         "type": "scatter",
         "x": [
          6,
          4.5
         ],
         "y": [
          -310,
          -309
         ]
        },
        {
         "line": {
          "color": "grey",
          "width": 1
         },
         "mode": "lines",
         "type": "scatter",
         "x": [
          7.5,
          6
         ],
         "y": [
          -311,
          -310
         ]
        },
        {
         "line": {
          "color": "grey",
          "width": 1
         },
         "mode": "lines",
         "type": "scatter",
         "x": [
          3,
          1.5
         ],
         "y": [
          -312,
          -218
         ]
        },
        {
         "line": {
          "color": "grey",
          "width": 1
         },
         "mode": "lines",
         "type": "scatter",
         "x": [
          4.5,
          3
         ],
         "y": [
          -313,
          -312
         ]
        },
        {
         "line": {
          "color": "grey",
          "width": 1
         },
         "mode": "lines",
         "type": "scatter",
         "x": [
          6,
          4.5
         ],
         "y": [
          -314,
          -313
         ]
        },
        {
         "line": {
          "color": "grey",
          "width": 1
         },
         "mode": "lines",
         "type": "scatter",
         "x": [
          7.5,
          6
         ],
         "y": [
          -315,
          -314
         ]
        },
        {
         "line": {
          "color": "grey",
          "width": 1
         },
         "mode": "lines",
         "type": "scatter",
         "x": [
          4.5,
          3
         ],
         "y": [
          -316,
          -312
         ]
        },
        {
         "line": {
          "color": "grey",
          "width": 1
         },
         "mode": "lines",
         "type": "scatter",
         "x": [
          6,
          4.5
         ],
         "y": [
          -317,
          -316
         ]
        },
        {
         "line": {
          "color": "grey",
          "width": 1
         },
         "mode": "lines",
         "type": "scatter",
         "x": [
          7.5,
          6
         ],
         "y": [
          -318,
          -317
         ]
        },
        {
         "line": {
          "color": "grey",
          "width": 1
         },
         "mode": "lines",
         "type": "scatter",
         "x": [
          3,
          1.5
         ],
         "y": [
          -319,
          -218
         ]
        },
        {
         "line": {
          "color": "grey",
          "width": 1
         },
         "mode": "lines",
         "type": "scatter",
         "x": [
          4.5,
          3
         ],
         "y": [
          -320,
          -319
         ]
        },
        {
         "line": {
          "color": "grey",
          "width": 1
         },
         "mode": "lines",
         "type": "scatter",
         "x": [
          6,
          4.5
         ],
         "y": [
          -321,
          -320
         ]
        },
        {
         "line": {
          "color": "grey",
          "width": 1
         },
         "mode": "lines",
         "type": "scatter",
         "x": [
          7.5,
          6
         ],
         "y": [
          -322,
          -321
         ]
        },
        {
         "line": {
          "color": "grey",
          "width": 1
         },
         "mode": "lines",
         "type": "scatter",
         "x": [
          3,
          1.5
         ],
         "y": [
          -323,
          -218
         ]
        },
        {
         "line": {
          "color": "grey",
          "width": 1
         },
         "mode": "lines",
         "type": "scatter",
         "x": [
          4.5,
          3
         ],
         "y": [
          -324,
          -323
         ]
        },
        {
         "line": {
          "color": "grey",
          "width": 1
         },
         "mode": "lines",
         "type": "scatter",
         "x": [
          6,
          4.5
         ],
         "y": [
          -325,
          -324
         ]
        },
        {
         "line": {
          "color": "grey",
          "width": 1
         },
         "mode": "lines",
         "type": "scatter",
         "x": [
          7.5,
          6
         ],
         "y": [
          -326,
          -325
         ]
        },
        {
         "line": {
          "color": "grey",
          "width": 1
         },
         "mode": "lines",
         "type": "scatter",
         "x": [
          4.5,
          3
         ],
         "y": [
          -327,
          -323
         ]
        },
        {
         "line": {
          "color": "grey",
          "width": 1
         },
         "mode": "lines",
         "type": "scatter",
         "x": [
          6,
          4.5
         ],
         "y": [
          -328,
          -327
         ]
        },
        {
         "line": {
          "color": "grey",
          "width": 1
         },
         "mode": "lines",
         "type": "scatter",
         "x": [
          7.5,
          6
         ],
         "y": [
          -329,
          -328
         ]
        },
        {
         "line": {
          "color": "grey",
          "width": 1
         },
         "mode": "lines",
         "type": "scatter",
         "x": [
          3,
          1.5
         ],
         "y": [
          -330,
          -218
         ]
        },
        {
         "line": {
          "color": "grey",
          "width": 1
         },
         "mode": "lines",
         "type": "scatter",
         "x": [
          4.5,
          3
         ],
         "y": [
          -331,
          -330
         ]
        },
        {
         "line": {
          "color": "grey",
          "width": 1
         },
         "mode": "lines",
         "type": "scatter",
         "x": [
          6,
          4.5
         ],
         "y": [
          -332,
          -331
         ]
        },
        {
         "line": {
          "color": "grey",
          "width": 1
         },
         "mode": "lines",
         "type": "scatter",
         "x": [
          7.5,
          6
         ],
         "y": [
          -333,
          -332
         ]
        },
        {
         "line": {
          "color": "grey",
          "width": 1
         },
         "mode": "lines",
         "type": "scatter",
         "x": [
          3,
          1.5
         ],
         "y": [
          -334,
          -218
         ]
        },
        {
         "line": {
          "color": "grey",
          "width": 1
         },
         "mode": "lines",
         "type": "scatter",
         "x": [
          4.5,
          3
         ],
         "y": [
          -335,
          -334
         ]
        },
        {
         "line": {
          "color": "grey",
          "width": 1
         },
         "mode": "lines",
         "type": "scatter",
         "x": [
          6,
          4.5
         ],
         "y": [
          -336,
          -335
         ]
        },
        {
         "line": {
          "color": "grey",
          "width": 1
         },
         "mode": "lines",
         "type": "scatter",
         "x": [
          7.5,
          6
         ],
         "y": [
          -337,
          -336
         ]
        },
        {
         "line": {
          "color": "grey",
          "width": 1
         },
         "mode": "lines",
         "type": "scatter",
         "x": [
          3,
          1.5
         ],
         "y": [
          -338,
          -218
         ]
        },
        {
         "line": {
          "color": "grey",
          "width": 1
         },
         "mode": "lines",
         "type": "scatter",
         "x": [
          4.5,
          3
         ],
         "y": [
          -339,
          -338
         ]
        },
        {
         "line": {
          "color": "grey",
          "width": 1
         },
         "mode": "lines",
         "type": "scatter",
         "x": [
          6,
          4.5
         ],
         "y": [
          -340,
          -339
         ]
        },
        {
         "line": {
          "color": "grey",
          "width": 1
         },
         "mode": "lines",
         "type": "scatter",
         "x": [
          7.5,
          6
         ],
         "y": [
          -341,
          -340
         ]
        },
        {
         "line": {
          "color": "grey",
          "width": 1
         },
         "mode": "lines",
         "type": "scatter",
         "x": [
          3,
          1.5
         ],
         "y": [
          -342,
          -218
         ]
        },
        {
         "line": {
          "color": "grey",
          "width": 1
         },
         "mode": "lines",
         "type": "scatter",
         "x": [
          4.5,
          3
         ],
         "y": [
          -343,
          -342
         ]
        },
        {
         "line": {
          "color": "grey",
          "width": 1
         },
         "mode": "lines",
         "type": "scatter",
         "x": [
          6,
          4.5
         ],
         "y": [
          -344,
          -343
         ]
        },
        {
         "line": {
          "color": "grey",
          "width": 1
         },
         "mode": "lines",
         "type": "scatter",
         "x": [
          7.5,
          6
         ],
         "y": [
          -345,
          -344
         ]
        },
        {
         "line": {
          "color": "grey",
          "width": 1
         },
         "mode": "lines",
         "type": "scatter",
         "x": [
          3,
          1.5
         ],
         "y": [
          -346,
          -218
         ]
        },
        {
         "line": {
          "color": "grey",
          "width": 1
         },
         "mode": "lines",
         "type": "scatter",
         "x": [
          4.5,
          3
         ],
         "y": [
          -347,
          -346
         ]
        },
        {
         "line": {
          "color": "grey",
          "width": 1
         },
         "mode": "lines",
         "type": "scatter",
         "x": [
          6,
          4.5
         ],
         "y": [
          -348,
          -347
         ]
        },
        {
         "line": {
          "color": "grey",
          "width": 1
         },
         "mode": "lines",
         "type": "scatter",
         "x": [
          7.5,
          6
         ],
         "y": [
          -349,
          -348
         ]
        },
        {
         "line": {
          "color": "grey",
          "width": 1
         },
         "mode": "lines",
         "type": "scatter",
         "x": [
          3,
          1.5
         ],
         "y": [
          -350,
          -218
         ]
        },
        {
         "line": {
          "color": "grey",
          "width": 1
         },
         "mode": "lines",
         "type": "scatter",
         "x": [
          4.5,
          3
         ],
         "y": [
          -351,
          -350
         ]
        },
        {
         "line": {
          "color": "grey",
          "width": 1
         },
         "mode": "lines",
         "type": "scatter",
         "x": [
          6,
          4.5
         ],
         "y": [
          -352,
          -351
         ]
        },
        {
         "line": {
          "color": "grey",
          "width": 1
         },
         "mode": "lines",
         "type": "scatter",
         "x": [
          7.5,
          6
         ],
         "y": [
          -353,
          -352
         ]
        },
        {
         "line": {
          "color": "grey",
          "width": 1
         },
         "mode": "lines",
         "type": "scatter",
         "x": [
          3,
          1.5
         ],
         "y": [
          -354,
          -218
         ]
        },
        {
         "line": {
          "color": "grey",
          "width": 1
         },
         "mode": "lines",
         "type": "scatter",
         "x": [
          4.5,
          3
         ],
         "y": [
          -355,
          -354
         ]
        },
        {
         "line": {
          "color": "grey",
          "width": 1
         },
         "mode": "lines",
         "type": "scatter",
         "x": [
          6,
          4.5
         ],
         "y": [
          -356,
          -355
         ]
        },
        {
         "line": {
          "color": "grey",
          "width": 1
         },
         "mode": "lines",
         "type": "scatter",
         "x": [
          7.5,
          6
         ],
         "y": [
          -357,
          -356
         ]
        },
        {
         "line": {
          "color": "grey",
          "width": 1
         },
         "mode": "lines",
         "type": "scatter",
         "x": [
          3,
          1.5
         ],
         "y": [
          -358,
          -218
         ]
        },
        {
         "line": {
          "color": "grey",
          "width": 1
         },
         "mode": "lines",
         "type": "scatter",
         "x": [
          4.5,
          3
         ],
         "y": [
          -359,
          -358
         ]
        },
        {
         "line": {
          "color": "grey",
          "width": 1
         },
         "mode": "lines",
         "type": "scatter",
         "x": [
          6,
          4.5
         ],
         "y": [
          -360,
          -359
         ]
        },
        {
         "line": {
          "color": "grey",
          "width": 1
         },
         "mode": "lines",
         "type": "scatter",
         "x": [
          7.5,
          6
         ],
         "y": [
          -361,
          -360
         ]
        },
        {
         "line": {
          "color": "grey",
          "width": 1
         },
         "mode": "lines",
         "type": "scatter",
         "x": [
          3,
          1.5
         ],
         "y": [
          -362,
          -218
         ]
        },
        {
         "line": {
          "color": "grey",
          "width": 1
         },
         "mode": "lines",
         "type": "scatter",
         "x": [
          4.5,
          3
         ],
         "y": [
          -363,
          -362
         ]
        },
        {
         "line": {
          "color": "grey",
          "width": 1
         },
         "mode": "lines",
         "type": "scatter",
         "x": [
          6,
          4.5
         ],
         "y": [
          -364,
          -363
         ]
        },
        {
         "line": {
          "color": "grey",
          "width": 1
         },
         "mode": "lines",
         "type": "scatter",
         "x": [
          7.5,
          6
         ],
         "y": [
          -365,
          -364
         ]
        },
        {
         "line": {
          "color": "grey",
          "width": 1
         },
         "mode": "lines",
         "type": "scatter",
         "x": [
          3,
          1.5
         ],
         "y": [
          -366,
          -218
         ]
        },
        {
         "line": {
          "color": "grey",
          "width": 1
         },
         "mode": "lines",
         "type": "scatter",
         "x": [
          4.5,
          3
         ],
         "y": [
          -367,
          -366
         ]
        },
        {
         "line": {
          "color": "grey",
          "width": 1
         },
         "mode": "lines",
         "type": "scatter",
         "x": [
          6,
          4.5
         ],
         "y": [
          -368,
          -367
         ]
        },
        {
         "line": {
          "color": "grey",
          "width": 1
         },
         "mode": "lines",
         "type": "scatter",
         "x": [
          7.5,
          6
         ],
         "y": [
          -369,
          -368
         ]
        },
        {
         "line": {
          "color": "grey",
          "width": 1
         },
         "mode": "lines",
         "type": "scatter",
         "x": [
          3,
          1.5
         ],
         "y": [
          -370,
          -218
         ]
        },
        {
         "line": {
          "color": "grey",
          "width": 1
         },
         "mode": "lines",
         "type": "scatter",
         "x": [
          4.5,
          3
         ],
         "y": [
          -371,
          -370
         ]
        },
        {
         "line": {
          "color": "grey",
          "width": 1
         },
         "mode": "lines",
         "type": "scatter",
         "x": [
          6,
          4.5
         ],
         "y": [
          -372,
          -371
         ]
        },
        {
         "line": {
          "color": "grey",
          "width": 1
         },
         "mode": "lines",
         "type": "scatter",
         "x": [
          7.5,
          6
         ],
         "y": [
          -373,
          -372
         ]
        },
        {
         "line": {
          "color": "grey",
          "width": 1
         },
         "mode": "lines",
         "type": "scatter",
         "x": [
          3,
          1.5
         ],
         "y": [
          -374,
          -218
         ]
        },
        {
         "line": {
          "color": "grey",
          "width": 1
         },
         "mode": "lines",
         "type": "scatter",
         "x": [
          4.5,
          3
         ],
         "y": [
          -375,
          -374
         ]
        },
        {
         "line": {
          "color": "grey",
          "width": 1
         },
         "mode": "lines",
         "type": "scatter",
         "x": [
          6,
          4.5
         ],
         "y": [
          -376,
          -375
         ]
        },
        {
         "line": {
          "color": "grey",
          "width": 1
         },
         "mode": "lines",
         "type": "scatter",
         "x": [
          7.5,
          6
         ],
         "y": [
          -377,
          -376
         ]
        },
        {
         "line": {
          "color": "grey",
          "width": 1
         },
         "mode": "lines",
         "type": "scatter",
         "x": [
          3,
          1.5
         ],
         "y": [
          -378,
          -218
         ]
        },
        {
         "line": {
          "color": "grey",
          "width": 1
         },
         "mode": "lines",
         "type": "scatter",
         "x": [
          4.5,
          3
         ],
         "y": [
          -379,
          -378
         ]
        },
        {
         "line": {
          "color": "grey",
          "width": 1
         },
         "mode": "lines",
         "type": "scatter",
         "x": [
          6,
          4.5
         ],
         "y": [
          -380,
          -379
         ]
        },
        {
         "line": {
          "color": "grey",
          "width": 1
         },
         "mode": "lines",
         "type": "scatter",
         "x": [
          7.5,
          6
         ],
         "y": [
          -381,
          -380
         ]
        },
        {
         "line": {
          "color": "grey",
          "width": 1
         },
         "mode": "lines",
         "type": "scatter",
         "x": [
          3,
          1.5
         ],
         "y": [
          -382,
          -218
         ]
        },
        {
         "line": {
          "color": "grey",
          "width": 1
         },
         "mode": "lines",
         "type": "scatter",
         "x": [
          4.5,
          3
         ],
         "y": [
          -383,
          -382
         ]
        },
        {
         "line": {
          "color": "grey",
          "width": 1
         },
         "mode": "lines",
         "type": "scatter",
         "x": [
          6,
          4.5
         ],
         "y": [
          -384,
          -383
         ]
        },
        {
         "line": {
          "color": "grey",
          "width": 1
         },
         "mode": "lines",
         "type": "scatter",
         "x": [
          7.5,
          6
         ],
         "y": [
          -385,
          -384
         ]
        },
        {
         "line": {
          "color": "grey",
          "width": 1
         },
         "mode": "lines",
         "type": "scatter",
         "x": [
          3,
          1.5
         ],
         "y": [
          -386,
          -218
         ]
        },
        {
         "line": {
          "color": "grey",
          "width": 1
         },
         "mode": "lines",
         "type": "scatter",
         "x": [
          4.5,
          3
         ],
         "y": [
          -387,
          -386
         ]
        },
        {
         "line": {
          "color": "grey",
          "width": 1
         },
         "mode": "lines",
         "type": "scatter",
         "x": [
          6,
          4.5
         ],
         "y": [
          -388,
          -387
         ]
        },
        {
         "line": {
          "color": "grey",
          "width": 1
         },
         "mode": "lines",
         "type": "scatter",
         "x": [
          7.5,
          6
         ],
         "y": [
          -389,
          -388
         ]
        },
        {
         "line": {
          "color": "grey",
          "width": 1
         },
         "mode": "lines",
         "type": "scatter",
         "x": [
          3,
          1.5
         ],
         "y": [
          -390,
          -218
         ]
        },
        {
         "line": {
          "color": "grey",
          "width": 1
         },
         "mode": "lines",
         "type": "scatter",
         "x": [
          4.5,
          3
         ],
         "y": [
          -391,
          -390
         ]
        },
        {
         "line": {
          "color": "grey",
          "width": 1
         },
         "mode": "lines",
         "type": "scatter",
         "x": [
          6,
          4.5
         ],
         "y": [
          -392,
          -391
         ]
        },
        {
         "line": {
          "color": "grey",
          "width": 1
         },
         "mode": "lines",
         "type": "scatter",
         "x": [
          7.5,
          6
         ],
         "y": [
          -393,
          -392
         ]
        },
        {
         "line": {
          "color": "grey",
          "width": 1
         },
         "mode": "lines",
         "type": "scatter",
         "x": [
          3,
          1.5
         ],
         "y": [
          -394,
          -218
         ]
        },
        {
         "line": {
          "color": "grey",
          "width": 1
         },
         "mode": "lines",
         "type": "scatter",
         "x": [
          4.5,
          3
         ],
         "y": [
          -395,
          -394
         ]
        },
        {
         "line": {
          "color": "grey",
          "width": 1
         },
         "mode": "lines",
         "type": "scatter",
         "x": [
          6,
          4.5
         ],
         "y": [
          -396,
          -395
         ]
        },
        {
         "line": {
          "color": "grey",
          "width": 1
         },
         "mode": "lines",
         "type": "scatter",
         "x": [
          7.5,
          6
         ],
         "y": [
          -397,
          -396
         ]
        },
        {
         "line": {
          "color": "grey",
          "width": 1
         },
         "mode": "lines",
         "type": "scatter",
         "x": [
          3,
          1.5
         ],
         "y": [
          -398,
          -218
         ]
        },
        {
         "line": {
          "color": "grey",
          "width": 1
         },
         "mode": "lines",
         "type": "scatter",
         "x": [
          4.5,
          3
         ],
         "y": [
          -399,
          -398
         ]
        },
        {
         "line": {
          "color": "grey",
          "width": 1
         },
         "mode": "lines",
         "type": "scatter",
         "x": [
          6,
          4.5
         ],
         "y": [
          -400,
          -399
         ]
        },
        {
         "line": {
          "color": "grey",
          "width": 1
         },
         "mode": "lines",
         "type": "scatter",
         "x": [
          7.5,
          6
         ],
         "y": [
          -401,
          -400
         ]
        },
        {
         "line": {
          "color": "grey",
          "width": 1
         },
         "mode": "lines",
         "type": "scatter",
         "x": [
          3,
          1.5
         ],
         "y": [
          -402,
          -218
         ]
        },
        {
         "line": {
          "color": "grey",
          "width": 1
         },
         "mode": "lines",
         "type": "scatter",
         "x": [
          4.5,
          3
         ],
         "y": [
          -403,
          -402
         ]
        },
        {
         "line": {
          "color": "grey",
          "width": 1
         },
         "mode": "lines",
         "type": "scatter",
         "x": [
          6,
          4.5
         ],
         "y": [
          -404,
          -403
         ]
        },
        {
         "line": {
          "color": "grey",
          "width": 1
         },
         "mode": "lines",
         "type": "scatter",
         "x": [
          7.5,
          6
         ],
         "y": [
          -405,
          -404
         ]
        },
        {
         "line": {
          "color": "grey",
          "width": 1
         },
         "mode": "lines",
         "type": "scatter",
         "x": [
          3,
          1.5
         ],
         "y": [
          -406,
          -218
         ]
        },
        {
         "line": {
          "color": "grey",
          "width": 1
         },
         "mode": "lines",
         "type": "scatter",
         "x": [
          4.5,
          3
         ],
         "y": [
          -407,
          -406
         ]
        },
        {
         "line": {
          "color": "grey",
          "width": 1
         },
         "mode": "lines",
         "type": "scatter",
         "x": [
          6,
          4.5
         ],
         "y": [
          -408,
          -407
         ]
        },
        {
         "line": {
          "color": "grey",
          "width": 1
         },
         "mode": "lines",
         "type": "scatter",
         "x": [
          7.5,
          6
         ],
         "y": [
          -409,
          -408
         ]
        },
        {
         "line": {
          "color": "grey",
          "width": 1
         },
         "mode": "lines",
         "type": "scatter",
         "x": [
          3,
          1.5
         ],
         "y": [
          -410,
          -218
         ]
        },
        {
         "line": {
          "color": "grey",
          "width": 1
         },
         "mode": "lines",
         "type": "scatter",
         "x": [
          4.5,
          3
         ],
         "y": [
          -411,
          -410
         ]
        },
        {
         "line": {
          "color": "grey",
          "width": 1
         },
         "mode": "lines",
         "type": "scatter",
         "x": [
          6,
          4.5
         ],
         "y": [
          -412,
          -411
         ]
        },
        {
         "line": {
          "color": "grey",
          "width": 1
         },
         "mode": "lines",
         "type": "scatter",
         "x": [
          7.5,
          6
         ],
         "y": [
          -413,
          -412
         ]
        },
        {
         "line": {
          "color": "grey",
          "width": 1
         },
         "mode": "lines",
         "type": "scatter",
         "x": [
          3,
          1.5
         ],
         "y": [
          -414,
          -218
         ]
        },
        {
         "line": {
          "color": "grey",
          "width": 1
         },
         "mode": "lines",
         "type": "scatter",
         "x": [
          4.5,
          3
         ],
         "y": [
          -415,
          -414
         ]
        },
        {
         "line": {
          "color": "grey",
          "width": 1
         },
         "mode": "lines",
         "type": "scatter",
         "x": [
          6,
          4.5
         ],
         "y": [
          -416,
          -415
         ]
        },
        {
         "line": {
          "color": "grey",
          "width": 1
         },
         "mode": "lines",
         "type": "scatter",
         "x": [
          7.5,
          6
         ],
         "y": [
          -417,
          -416
         ]
        },
        {
         "line": {
          "color": "grey",
          "width": 1
         },
         "mode": "lines",
         "type": "scatter",
         "x": [
          3,
          1.5
         ],
         "y": [
          -418,
          -218
         ]
        },
        {
         "line": {
          "color": "grey",
          "width": 1
         },
         "mode": "lines",
         "type": "scatter",
         "x": [
          4.5,
          3
         ],
         "y": [
          -419,
          -418
         ]
        },
        {
         "line": {
          "color": "grey",
          "width": 1
         },
         "mode": "lines",
         "type": "scatter",
         "x": [
          6,
          4.5
         ],
         "y": [
          -420,
          -419
         ]
        },
        {
         "line": {
          "color": "grey",
          "width": 1
         },
         "mode": "lines",
         "type": "scatter",
         "x": [
          7.5,
          6
         ],
         "y": [
          -421,
          -420
         ]
        },
        {
         "line": {
          "color": "grey",
          "width": 1
         },
         "mode": "lines",
         "type": "scatter",
         "x": [
          3,
          1.5
         ],
         "y": [
          -422,
          -218
         ]
        },
        {
         "line": {
          "color": "grey",
          "width": 1
         },
         "mode": "lines",
         "type": "scatter",
         "x": [
          4.5,
          3
         ],
         "y": [
          -423,
          -422
         ]
        },
        {
         "line": {
          "color": "grey",
          "width": 1
         },
         "mode": "lines",
         "type": "scatter",
         "x": [
          6,
          4.5
         ],
         "y": [
          -424,
          -423
         ]
        },
        {
         "line": {
          "color": "grey",
          "width": 1
         },
         "mode": "lines",
         "type": "scatter",
         "x": [
          7.5,
          6
         ],
         "y": [
          -425,
          -424
         ]
        },
        {
         "line": {
          "color": "grey",
          "width": 1
         },
         "mode": "lines",
         "type": "scatter",
         "x": [
          3,
          1.5
         ],
         "y": [
          -426,
          -218
         ]
        },
        {
         "line": {
          "color": "grey",
          "width": 1
         },
         "mode": "lines",
         "type": "scatter",
         "x": [
          4.5,
          3
         ],
         "y": [
          -427,
          -426
         ]
        },
        {
         "line": {
          "color": "grey",
          "width": 1
         },
         "mode": "lines",
         "type": "scatter",
         "x": [
          6,
          4.5
         ],
         "y": [
          -428,
          -427
         ]
        },
        {
         "line": {
          "color": "grey",
          "width": 1
         },
         "mode": "lines",
         "type": "scatter",
         "x": [
          7.5,
          6
         ],
         "y": [
          -429,
          -428
         ]
        },
        {
         "line": {
          "color": "grey",
          "width": 1
         },
         "mode": "lines",
         "type": "scatter",
         "x": [
          3,
          1.5
         ],
         "y": [
          -430,
          -218
         ]
        },
        {
         "line": {
          "color": "grey",
          "width": 1
         },
         "mode": "lines",
         "type": "scatter",
         "x": [
          4.5,
          3
         ],
         "y": [
          -431,
          -430
         ]
        },
        {
         "line": {
          "color": "grey",
          "width": 1
         },
         "mode": "lines",
         "type": "scatter",
         "x": [
          6,
          4.5
         ],
         "y": [
          -432,
          -431
         ]
        },
        {
         "line": {
          "color": "grey",
          "width": 1
         },
         "mode": "lines",
         "type": "scatter",
         "x": [
          7.5,
          6
         ],
         "y": [
          -433,
          -432
         ]
        },
        {
         "line": {
          "color": "grey",
          "width": 1
         },
         "mode": "lines",
         "type": "scatter",
         "x": [
          3,
          1.5
         ],
         "y": [
          -434,
          -218
         ]
        },
        {
         "line": {
          "color": "grey",
          "width": 1
         },
         "mode": "lines",
         "type": "scatter",
         "x": [
          4.5,
          3
         ],
         "y": [
          -435,
          -434
         ]
        },
        {
         "line": {
          "color": "grey",
          "width": 1
         },
         "mode": "lines",
         "type": "scatter",
         "x": [
          6,
          4.5
         ],
         "y": [
          -436,
          -435
         ]
        },
        {
         "line": {
          "color": "grey",
          "width": 1
         },
         "mode": "lines",
         "type": "scatter",
         "x": [
          7.5,
          6
         ],
         "y": [
          -437,
          -436
         ]
        },
        {
         "line": {
          "color": "grey",
          "width": 1
         },
         "mode": "lines",
         "type": "scatter",
         "x": [
          3,
          1.5
         ],
         "y": [
          -438,
          -218
         ]
        },
        {
         "line": {
          "color": "grey",
          "width": 1
         },
         "mode": "lines",
         "type": "scatter",
         "x": [
          4.5,
          3
         ],
         "y": [
          -439,
          -438
         ]
        },
        {
         "line": {
          "color": "grey",
          "width": 1
         },
         "mode": "lines",
         "type": "scatter",
         "x": [
          6,
          4.5
         ],
         "y": [
          -440,
          -439
         ]
        },
        {
         "line": {
          "color": "grey",
          "width": 1
         },
         "mode": "lines",
         "type": "scatter",
         "x": [
          7.5,
          6
         ],
         "y": [
          -441,
          -440
         ]
        },
        {
         "line": {
          "color": "grey",
          "width": 1
         },
         "mode": "lines",
         "type": "scatter",
         "x": [
          3,
          1.5
         ],
         "y": [
          -442,
          -218
         ]
        },
        {
         "line": {
          "color": "grey",
          "width": 1
         },
         "mode": "lines",
         "type": "scatter",
         "x": [
          4.5,
          3
         ],
         "y": [
          -443,
          -442
         ]
        },
        {
         "line": {
          "color": "grey",
          "width": 1
         },
         "mode": "lines",
         "type": "scatter",
         "x": [
          6,
          4.5
         ],
         "y": [
          -444,
          -443
         ]
        },
        {
         "line": {
          "color": "grey",
          "width": 1
         },
         "mode": "lines",
         "type": "scatter",
         "x": [
          7.5,
          6
         ],
         "y": [
          -445,
          -444
         ]
        },
        {
         "hoverinfo": "text",
         "hovertext": "",
         "marker": {
          "color": "blue",
          "size": 2
         },
         "mode": "markers+text",
         "text": "sneaker",
         "textfont": {
          "size": 8
         },
         "textposition": "bottom center",
         "type": "scatter",
         "x": [
          0
         ],
         "y": [
          0
         ]
        },
        {
         "hoverinfo": "text",
         "hovertext": "",
         "marker": {
          "color": "blue",
          "size": 2
         },
         "mode": "markers+text",
         "text": "red",
         "textfont": {
          "size": 8
         },
         "textposition": "bottom center",
         "type": "scatter",
         "x": [
          1.5
         ],
         "y": [
          -1
         ]
        },
        {
         "hoverinfo": "text",
         "hovertext": "",
         "marker": {
          "color": "blue",
          "size": 2
         },
         "mode": "markers+text",
         "text": "adidas",
         "textfont": {
          "size": 8
         },
         "textposition": "bottom center",
         "type": "scatter",
         "x": [
          3
         ],
         "y": [
          -2
         ]
        },
        {
         "hoverinfo": "text",
         "hovertext": "",
         "marker": {
          "color": "blue",
          "size": 2
         },
         "mode": "markers+text",
         "text": "High",
         "textfont": {
          "size": 8
         },
         "textposition": "bottom center",
         "type": "scatter",
         "x": [
          4.5
         ],
         "y": [
          -3
         ]
        },
        {
         "hoverinfo": "text",
         "hovertext": "",
         "marker": {
          "color": "blue",
          "size": 2
         },
         "mode": "markers+text",
         "text": "5 Star",
         "textfont": {
          "size": 8
         },
         "textposition": "bottom center",
         "type": "scatter",
         "x": [
          6
         ],
         "y": [
          -4
         ]
        },
        {
         "hoverinfo": "text",
         "hovertext": "Adidas Gazelle Indoor - Scarlet / Cloud White 10",
         "marker": {
          "color": "blue",
          "size": 2
         },
         "mode": "markers+text",
         "text": "Shoe",
         "textfont": {
          "size": 8
         },
         "textposition": "bottom center",
         "type": "scatter",
         "x": [
          7.5
         ],
         "y": [
          -5
         ]
        },
        {
         "hoverinfo": "text",
         "hovertext": "",
         "marker": {
          "color": "blue",
          "size": 2
         },
         "mode": "markers+text",
         "text": "Medium",
         "textfont": {
          "size": 8
         },
         "textposition": "bottom center",
         "type": "scatter",
         "x": [
          4.5
         ],
         "y": [
          -6
         ]
        },
        {
         "hoverinfo": "text",
         "hovertext": "",
         "marker": {
          "color": "blue",
          "size": 2
         },
         "mode": "markers+text",
         "text": "5 Star",
         "textfont": {
          "size": 8
         },
         "textposition": "bottom center",
         "type": "scatter",
         "x": [
          6
         ],
         "y": [
          -7
         ]
        },
        {
         "hoverinfo": "text",
         "hovertext": "Adidas Samoa Shoes Red 5 - Mens Originals Shoes",
         "marker": {
          "color": "blue",
          "size": 2
         },
         "mode": "markers+text",
         "text": "Shoe",
         "textfont": {
          "size": 8
         },
         "textposition": "bottom center",
         "type": "scatter",
         "x": [
          7.5
         ],
         "y": [
          -8
         ]
        },
        {
         "hoverinfo": "text",
         "hovertext": "",
         "marker": {
          "color": "blue",
          "size": 2
         },
         "mode": "markers+text",
         "text": "Nike",
         "textfont": {
          "size": 8
         },
         "textposition": "bottom center",
         "type": "scatter",
         "x": [
          3
         ],
         "y": [
          -9
         ]
        },
        {
         "hoverinfo": "text",
         "hovertext": "",
         "marker": {
          "color": "blue",
          "size": 2
         },
         "mode": "markers+text",
         "text": "High",
         "textfont": {
          "size": 8
         },
         "textposition": "bottom center",
         "type": "scatter",
         "x": [
          4.5
         ],
         "y": [
          -10
         ]
        },
        {
         "hoverinfo": "text",
         "hovertext": "",
         "marker": {
          "color": "blue",
          "size": 2
         },
         "mode": "markers+text",
         "text": "5 Star",
         "textfont": {
          "size": 8
         },
         "textposition": "bottom center",
         "type": "scatter",
         "x": [
          6
         ],
         "y": [
          -11
         ]
        },
        {
         "hoverinfo": "text",
         "hovertext": "Nike Air Force 1 '07 LV8 1 Red / 10",
         "marker": {
          "color": "blue",
          "size": 2
         },
         "mode": "markers+text",
         "text": "Shoe",
         "textfont": {
          "size": 8
         },
         "textposition": "bottom center",
         "type": "scatter",
         "x": [
          7.5
         ],
         "y": [
          -12
         ]
        },
        {
         "hoverinfo": "text",
         "hovertext": "Nike Men's G.T. Cut 2 Basketball Shoes in Red, Size: 9.5 | DJ6015-603",
         "marker": {
          "color": "blue",
          "size": 2
         },
         "mode": "markers+text",
         "text": "Shoe",
         "textfont": {
          "size": 8
         },
         "textposition": "bottom center",
         "type": "scatter",
         "x": [
          7.5
         ],
         "y": [
          -13
         ]
        },
        {
         "hoverinfo": "text",
         "hovertext": "",
         "marker": {
          "color": "blue",
          "size": 2
         },
         "mode": "markers+text",
         "text": "DICK'S Sporting Goods",
         "textfont": {
          "size": 8
         },
         "textposition": "bottom center",
         "type": "scatter",
         "x": [
          3
         ],
         "y": [
          -14
         ]
        },
        {
         "hoverinfo": "text",
         "hovertext": "",
         "marker": {
          "color": "blue",
          "size": 2
         },
         "mode": "markers+text",
         "text": "Medium",
         "textfont": {
          "size": 8
         },
         "textposition": "bottom center",
         "type": "scatter",
         "x": [
          4.5
         ],
         "y": [
          -15
         ]
        },
        {
         "hoverinfo": "text",
         "hovertext": "",
         "marker": {
          "color": "blue",
          "size": 2
         },
         "mode": "markers+text",
         "text": "5 Star",
         "textfont": {
          "size": 8
         },
         "textposition": "bottom center",
         "type": "scatter",
         "x": [
          6
         ],
         "y": [
          -16
         ]
        },
        {
         "hoverinfo": "text",
         "hovertext": "Adidas Gazelle Mens Lifestyle Shoes (Red)",
         "marker": {
          "color": "blue",
          "size": 2
         },
         "mode": "markers+text",
         "text": "Shoe",
         "textfont": {
          "size": 8
         },
         "textposition": "bottom center",
         "type": "scatter",
         "x": [
          7.5
         ],
         "y": [
          -17
         ]
        },
        {
         "hoverinfo": "text",
         "hovertext": "",
         "marker": {
          "color": "blue",
          "size": 2
         },
         "mode": "markers+text",
         "text": "Vans",
         "textfont": {
          "size": 8
         },
         "textposition": "bottom center",
         "type": "scatter",
         "x": [
          3
         ],
         "y": [
          -18
         ]
        },
        {
         "hoverinfo": "text",
         "hovertext": "",
         "marker": {
          "color": "blue",
          "size": 2
         },
         "mode": "markers+text",
         "text": "Low",
         "textfont": {
          "size": 8
         },
         "textposition": "bottom center",
         "type": "scatter",
         "x": [
          4.5
         ],
         "y": [
          -19
         ]
        },
        {
         "hoverinfo": "text",
         "hovertext": "",
         "marker": {
          "color": "blue",
          "size": 2
         },
         "mode": "markers+text",
         "text": "5 Star",
         "textfont": {
          "size": 8
         },
         "textposition": "bottom center",
         "type": "scatter",
         "x": [
          6
         ],
         "y": [
          -20
         ]
        },
        {
         "hoverinfo": "text",
         "hovertext": "Vans Authentic Skate Shoes Red 6.5",
         "marker": {
          "color": "blue",
          "size": 2
         },
         "mode": "markers+text",
         "text": "Shoe",
         "textfont": {
          "size": 8
         },
         "textposition": "bottom center",
         "type": "scatter",
         "x": [
          7.5
         ],
         "y": [
          -21
         ]
        },
        {
         "hoverinfo": "text",
         "hovertext": "Vans Old Skool V Sneaker, Size 8 M in Racing Red/True White at Nordstrom",
         "marker": {
          "color": "blue",
          "size": 2
         },
         "mode": "markers+text",
         "text": "Shoe",
         "textfont": {
          "size": 8
         },
         "textposition": "bottom center",
         "type": "scatter",
         "x": [
          7.5
         ],
         "y": [
          -22
         ]
        },
        {
         "hoverinfo": "text",
         "hovertext": "",
         "marker": {
          "color": "blue",
          "size": 2
         },
         "mode": "markers+text",
         "text": "Amazon.com - Seller",
         "textfont": {
          "size": 8
         },
         "textposition": "bottom center",
         "type": "scatter",
         "x": [
          3
         ],
         "y": [
          -23
         ]
        },
        {
         "hoverinfo": "text",
         "hovertext": "",
         "marker": {
          "color": "blue",
          "size": 2
         },
         "mode": "markers+text",
         "text": "High",
         "textfont": {
          "size": 8
         },
         "textposition": "bottom center",
         "type": "scatter",
         "x": [
          4.5
         ],
         "y": [
          -24
         ]
        },
        {
         "hoverinfo": "text",
         "hovertext": "",
         "marker": {
          "color": "blue",
          "size": 2
         },
         "mode": "markers+text",
         "text": "5 Star",
         "textfont": {
          "size": 8
         },
         "textposition": "bottom center",
         "type": "scatter",
         "x": [
          6
         ],
         "y": [
          -25
         ]
        },
        {
         "hoverinfo": "text",
         "hovertext": "Adidas Gazelle Bold Shoes Women's, Red, Size 8",
         "marker": {
          "color": "blue",
          "size": 2
         },
         "mode": "markers+text",
         "text": "Shoe",
         "textfont": {
          "size": 8
         },
         "textposition": "bottom center",
         "type": "scatter",
         "x": [
          7.5
         ],
         "y": [
          -26
         ]
        },
        {
         "hoverinfo": "text",
         "hovertext": "",
         "marker": {
          "color": "blue",
          "size": 2
         },
         "mode": "markers+text",
         "text": "Medium",
         "textfont": {
          "size": 8
         },
         "textposition": "bottom center",
         "type": "scatter",
         "x": [
          4.5
         ],
         "y": [
          -27
         ]
        },
        {
         "hoverinfo": "text",
         "hovertext": "",
         "marker": {
          "color": "blue",
          "size": 2
         },
         "mode": "markers+text",
         "text": "Unknown",
         "textfont": {
          "size": 8
         },
         "textposition": "bottom center",
         "type": "scatter",
         "x": [
          6
         ],
         "y": [
          -28
         ]
        },
        {
         "hoverinfo": "text",
         "hovertext": "Adidas Originals Mens Stan Smith - Shoes Red/Red/White Size 07.5",
         "marker": {
          "color": "blue",
          "size": 2
         },
         "mode": "markers+text",
         "text": "Shoe",
         "textfont": {
          "size": 8
         },
         "textposition": "bottom center",
         "type": "scatter",
         "x": [
          7.5
         ],
         "y": [
          -29
         ]
        },
        {
         "hoverinfo": "text",
         "hovertext": "",
         "marker": {
          "color": "blue",
          "size": 2
         },
         "mode": "markers+text",
         "text": "5 Star",
         "textfont": {
          "size": 8
         },
         "textposition": "bottom center",
         "type": "scatter",
         "x": [
          6
         ],
         "y": [
          -30
         ]
        },
        {
         "hoverinfo": "text",
         "hovertext": "PF Flyers Center Lo (Red) Men's Shoes",
         "marker": {
          "color": "blue",
          "size": 2
         },
         "mode": "markers+text",
         "text": "Shoe",
         "textfont": {
          "size": 8
         },
         "textposition": "bottom center",
         "type": "scatter",
         "x": [
          7.5
         ],
         "y": [
          -31
         ]
        },
        {
         "hoverinfo": "text",
         "hovertext": "",
         "marker": {
          "color": "blue",
          "size": 2
         },
         "mode": "markers+text",
         "text": "Nordstrom Rack",
         "textfont": {
          "size": 8
         },
         "textposition": "bottom center",
         "type": "scatter",
         "x": [
          3
         ],
         "y": [
          -32
         ]
        },
        {
         "hoverinfo": "text",
         "hovertext": "",
         "marker": {
          "color": "blue",
          "size": 2
         },
         "mode": "markers+text",
         "text": "Low",
         "textfont": {
          "size": 8
         },
         "textposition": "bottom center",
         "type": "scatter",
         "x": [
          4.5
         ],
         "y": [
          -33
         ]
        },
        {
         "hoverinfo": "text",
         "hovertext": "",
         "marker": {
          "color": "blue",
          "size": 2
         },
         "mode": "markers+text",
         "text": "5 Star",
         "textfont": {
          "size": 8
         },
         "textposition": "bottom center",
         "type": "scatter",
         "x": [
          6
         ],
         "y": [
          -34
         ]
        },
        {
         "hoverinfo": "text",
         "hovertext": "Madden Sport Sneaker in Red at Nordstrom Rack, Size 10",
         "marker": {
          "color": "blue",
          "size": 2
         },
         "mode": "markers+text",
         "text": "Shoe",
         "textfont": {
          "size": 8
         },
         "textposition": "bottom center",
         "type": "scatter",
         "x": [
          7.5
         ],
         "y": [
          -35
         ]
        },
        {
         "hoverinfo": "text",
         "hovertext": "",
         "marker": {
          "color": "blue",
          "size": 2
         },
         "mode": "markers+text",
         "text": "4 Star",
         "textfont": {
          "size": 8
         },
         "textposition": "bottom center",
         "type": "scatter",
         "x": [
          6
         ],
         "y": [
          -36
         ]
        },
        {
         "hoverinfo": "text",
         "hovertext": "Madden Koppar Athletic Sneaker in Red at Nordstrom Rack, Size 10.5",
         "marker": {
          "color": "blue",
          "size": 2
         },
         "mode": "markers+text",
         "text": "Shoe",
         "textfont": {
          "size": 8
         },
         "textposition": "bottom center",
         "type": "scatter",
         "x": [
          7.5
         ],
         "y": [
          -37
         ]
        },
        {
         "hoverinfo": "text",
         "hovertext": "",
         "marker": {
          "color": "blue",
          "size": 2
         },
         "mode": "markers+text",
         "text": "Medium",
         "textfont": {
          "size": 8
         },
         "textposition": "bottom center",
         "type": "scatter",
         "x": [
          4.5
         ],
         "y": [
          -38
         ]
        },
        {
         "hoverinfo": "text",
         "hovertext": "",
         "marker": {
          "color": "blue",
          "size": 2
         },
         "mode": "markers+text",
         "text": "Unknown",
         "textfont": {
          "size": 8
         },
         "textposition": "bottom center",
         "type": "scatter",
         "x": [
          6
         ],
         "y": [
          -39
         ]
        },
        {
         "hoverinfo": "text",
         "hovertext": "New Balance 574 Sneaker in Admiral Red/White at Nordstrom Rack, Size 12.5 Women's ...",
         "marker": {
          "color": "blue",
          "size": 2
         },
         "mode": "markers+text",
         "text": "Shoe",
         "textfont": {
          "size": 8
         },
         "textposition": "bottom center",
         "type": "scatter",
         "x": [
          7.5
         ],
         "y": [
          -40
         ]
        },
        {
         "hoverinfo": "text",
         "hovertext": "",
         "marker": {
          "color": "blue",
          "size": 2
         },
         "mode": "markers+text",
         "text": "5 Star",
         "textfont": {
          "size": 8
         },
         "textposition": "bottom center",
         "type": "scatter",
         "x": [
          6
         ],
         "y": [
          -41
         ]
        },
        {
         "hoverinfo": "text",
         "hovertext": "Adidas VL Court 2.0 Skate Sneaker in Red/Off White/Bright Red at Nordstrom Rack ...",
         "marker": {
          "color": "blue",
          "size": 2
         },
         "mode": "markers+text",
         "text": "Shoe",
         "textfont": {
          "size": 8
         },
         "textposition": "bottom center",
         "type": "scatter",
         "x": [
          7.5
         ],
         "y": [
          -42
         ]
        },
        {
         "hoverinfo": "text",
         "hovertext": "",
         "marker": {
          "color": "blue",
          "size": 2
         },
         "mode": "markers+text",
         "text": "GOAT",
         "textfont": {
          "size": 8
         },
         "textposition": "bottom center",
         "type": "scatter",
         "x": [
          3
         ],
         "y": [
          -43
         ]
        },
        {
         "hoverinfo": "text",
         "hovertext": "",
         "marker": {
          "color": "blue",
          "size": 2
         },
         "mode": "markers+text",
         "text": "Medium",
         "textfont": {
          "size": 8
         },
         "textposition": "bottom center",
         "type": "scatter",
         "x": [
          4.5
         ],
         "y": [
          -44
         ]
        },
        {
         "hoverinfo": "text",
         "hovertext": "",
         "marker": {
          "color": "blue",
          "size": 2
         },
         "mode": "markers+text",
         "text": "5 Star",
         "textfont": {
          "size": 8
         },
         "textposition": "bottom center",
         "type": "scatter",
         "x": [
          6
         ],
         "y": [
          -45
         ]
        },
        {
         "hoverinfo": "text",
         "hovertext": "Nike Huarache Run GS 'Triple Red'",
         "marker": {
          "color": "blue",
          "size": 2
         },
         "mode": "markers+text",
         "text": "Shoe",
         "textfont": {
          "size": 8
         },
         "textposition": "bottom center",
         "type": "scatter",
         "x": [
          7.5
         ],
         "y": [
          -46
         ]
        },
        {
         "hoverinfo": "text",
         "hovertext": "",
         "marker": {
          "color": "blue",
          "size": 2
         },
         "mode": "markers+text",
         "text": "Zappos.com",
         "textfont": {
          "size": 8
         },
         "textposition": "bottom center",
         "type": "scatter",
         "x": [
          3
         ],
         "y": [
          -47
         ]
        },
        {
         "hoverinfo": "text",
         "hovertext": "",
         "marker": {
          "color": "blue",
          "size": 2
         },
         "mode": "markers+text",
         "text": "Low",
         "textfont": {
          "size": 8
         },
         "textposition": "bottom center",
         "type": "scatter",
         "x": [
          4.5
         ],
         "y": [
          -48
         ]
        },
        {
         "hoverinfo": "text",
         "hovertext": "",
         "marker": {
          "color": "blue",
          "size": 2
         },
         "mode": "markers+text",
         "text": "5 Star",
         "textfont": {
          "size": 8
         },
         "textposition": "bottom center",
         "type": "scatter",
         "x": [
          6
         ],
         "y": [
          -49
         ]
        },
        {
         "hoverinfo": "text",
         "hovertext": "Vans Authentic Core Classics Skate Shoes Red : Men's 5.5 - Women's 7 Medium",
         "marker": {
          "color": "blue",
          "size": 2
         },
         "mode": "markers+text",
         "text": "Shoe",
         "textfont": {
          "size": 8
         },
         "textposition": "bottom center",
         "type": "scatter",
         "x": [
          7.5
         ],
         "y": [
          -50
         ]
        },
        {
         "hoverinfo": "text",
         "hovertext": "",
         "marker": {
          "color": "blue",
          "size": 2
         },
         "mode": "markers+text",
         "text": "The Edit LDN",
         "textfont": {
          "size": 8
         },
         "textposition": "bottom center",
         "type": "scatter",
         "x": [
          3
         ],
         "y": [
          -51
         ]
        },
        {
         "hoverinfo": "text",
         "hovertext": "",
         "marker": {
          "color": "blue",
          "size": 2
         },
         "mode": "markers+text",
         "text": "High",
         "textfont": {
          "size": 8
         },
         "textposition": "bottom center",
         "type": "scatter",
         "x": [
          4.5
         ],
         "y": [
          -52
         ]
        },
        {
         "hoverinfo": "text",
         "hovertext": "",
         "marker": {
          "color": "blue",
          "size": 2
         },
         "mode": "markers+text",
         "text": "5 Star",
         "textfont": {
          "size": 8
         },
         "textposition": "bottom center",
         "type": "scatter",
         "x": [
          6
         ],
         "y": [
          -53
         ]
        },
        {
         "hoverinfo": "text",
         "hovertext": "Adidas Campus 00s Mens Lifestyle Shoes (Red)",
         "marker": {
          "color": "blue",
          "size": 2
         },
         "mode": "markers+text",
         "text": "Shoe",
         "textfont": {
          "size": 8
         },
         "textposition": "bottom center",
         "type": "scatter",
         "x": [
          7.5
         ],
         "y": [
          -54
         ]
        },
        {
         "hoverinfo": "text",
         "hovertext": "",
         "marker": {
          "color": "blue",
          "size": 2
         },
         "mode": "markers+text",
         "text": "farfetch.com",
         "textfont": {
          "size": 8
         },
         "textposition": "bottom center",
         "type": "scatter",
         "x": [
          3
         ],
         "y": [
          -55
         ]
        },
        {
         "hoverinfo": "text",
         "hovertext": "",
         "marker": {
          "color": "blue",
          "size": 2
         },
         "mode": "markers+text",
         "text": "High",
         "textfont": {
          "size": 8
         },
         "textposition": "bottom center",
         "type": "scatter",
         "x": [
          4.5
         ],
         "y": [
          -56
         ]
        },
        {
         "hoverinfo": "text",
         "hovertext": "",
         "marker": {
          "color": "blue",
          "size": 2
         },
         "mode": "markers+text",
         "text": "5 Star",
         "textfont": {
          "size": 8
         },
         "textposition": "bottom center",
         "type": "scatter",
         "x": [
          6
         ],
         "y": [
          -57
         ]
        },
        {
         "hoverinfo": "text",
         "hovertext": "Adidas NMD_R1 Scarlet Men's Shoes, Red, Size: 12",
         "marker": {
          "color": "blue",
          "size": 2
         },
         "mode": "markers+text",
         "text": "Shoe",
         "textfont": {
          "size": 8
         },
         "textposition": "bottom center",
         "type": "scatter",
         "x": [
          7.5
         ],
         "y": [
          -58
         ]
        },
        {
         "hoverinfo": "text",
         "hovertext": "",
         "marker": {
          "color": "blue",
          "size": 2
         },
         "mode": "markers+text",
         "text": "Finish Line",
         "textfont": {
          "size": 8
         },
         "textposition": "bottom center",
         "type": "scatter",
         "x": [
          3
         ],
         "y": [
          -59
         ]
        },
        {
         "hoverinfo": "text",
         "hovertext": "",
         "marker": {
          "color": "blue",
          "size": 2
         },
         "mode": "markers+text",
         "text": "High",
         "textfont": {
          "size": 8
         },
         "textposition": "bottom center",
         "type": "scatter",
         "x": [
          4.5
         ],
         "y": [
          -60
         ]
        },
        {
         "hoverinfo": "text",
         "hovertext": "",
         "marker": {
          "color": "blue",
          "size": 2
         },
         "mode": "markers+text",
         "text": "5 Star",
         "textfont": {
          "size": 8
         },
         "textposition": "bottom center",
         "type": "scatter",
         "x": [
          6
         ],
         "y": [
          -61
         ]
        },
        {
         "hoverinfo": "text",
         "hovertext": "Nike Air Max 270 University Red (PS)",
         "marker": {
          "color": "blue",
          "size": 2
         },
         "mode": "markers+text",
         "text": "Shoe",
         "textfont": {
          "size": 8
         },
         "textposition": "bottom center",
         "type": "scatter",
         "x": [
          7.5
         ],
         "y": [
          -62
         ]
        },
        {
         "hoverinfo": "text",
         "hovertext": "",
         "marker": {
          "color": "blue",
          "size": 2
         },
         "mode": "markers+text",
         "text": "Unknown",
         "textfont": {
          "size": 8
         },
         "textposition": "bottom center",
         "type": "scatter",
         "x": [
          6
         ],
         "y": [
          -63
         ]
        },
        {
         "hoverinfo": "text",
         "hovertext": "Adidas adiFOM Climacool Shoes Better Scarlet 6 - Mens Originals Shoes",
         "marker": {
          "color": "blue",
          "size": 2
         },
         "mode": "markers+text",
         "text": "Shoe",
         "textfont": {
          "size": 8
         },
         "textposition": "bottom center",
         "type": "scatter",
         "x": [
          7.5
         ],
         "y": [
          -64
         ]
        },
        {
         "hoverinfo": "text",
         "hovertext": "",
         "marker": {
          "color": "blue",
          "size": 2
         },
         "mode": "markers+text",
         "text": "PUMA",
         "textfont": {
          "size": 8
         },
         "textposition": "bottom center",
         "type": "scatter",
         "x": [
          3
         ],
         "y": [
          -65
         ]
        },
        {
         "hoverinfo": "text",
         "hovertext": "",
         "marker": {
          "color": "blue",
          "size": 2
         },
         "mode": "markers+text",
         "text": "Medium",
         "textfont": {
          "size": 8
         },
         "textposition": "bottom center",
         "type": "scatter",
         "x": [
          4.5
         ],
         "y": [
          -66
         ]
        },
        {
         "hoverinfo": "text",
         "hovertext": "",
         "marker": {
          "color": "blue",
          "size": 2
         },
         "mode": "markers+text",
         "text": "5 Star",
         "textfont": {
          "size": 8
         },
         "textposition": "bottom center",
         "type": "scatter",
         "x": [
          6
         ],
         "y": [
          -67
         ]
        },
        {
         "hoverinfo": "text",
         "hovertext": "Puma Suede Classic XXI Women's Sneakers, High Risk Red/White, 6",
         "marker": {
          "color": "blue",
          "size": 2
         },
         "mode": "markers+text",
         "text": "Shoe",
         "textfont": {
          "size": 8
         },
         "textposition": "bottom center",
         "type": "scatter",
         "x": [
          7.5
         ],
         "y": [
          -68
         ]
        },
        {
         "hoverinfo": "text",
         "hovertext": "Puma Suede Mid XXI Sneakers, High Risk Red/White, 9.5",
         "marker": {
          "color": "blue",
          "size": 2
         },
         "mode": "markers+text",
         "text": "Shoe",
         "textfont": {
          "size": 8
         },
         "textposition": "bottom center",
         "type": "scatter",
         "x": [
          7.5
         ],
         "y": [
          -69
         ]
        },
        {
         "hoverinfo": "text",
         "hovertext": "",
         "marker": {
          "color": "blue",
          "size": 2
         },
         "mode": "markers+text",
         "text": "Walmart - ATshoes.SHOES",
         "textfont": {
          "size": 8
         },
         "textposition": "bottom center",
         "type": "scatter",
         "x": [
          3
         ],
         "y": [
          -70
         ]
        },
        {
         "hoverinfo": "text",
         "hovertext": "",
         "marker": {
          "color": "blue",
          "size": 2
         },
         "mode": "markers+text",
         "text": "Medium",
         "textfont": {
          "size": 8
         },
         "textposition": "bottom center",
         "type": "scatter",
         "x": [
          4.5
         ],
         "y": [
          -71
         ]
        },
        {
         "hoverinfo": "text",
         "hovertext": "",
         "marker": {
          "color": "blue",
          "size": 2
         },
         "mode": "markers+text",
         "text": "5 Star",
         "textfont": {
          "size": 8
         },
         "textposition": "bottom center",
         "type": "scatter",
         "x": [
          6
         ],
         "y": [
          -72
         ]
        },
        {
         "hoverinfo": "text",
         "hovertext": "Under Armour Men's Charged Assert 9 Running Shoes - Red, 12",
         "marker": {
          "color": "blue",
          "size": 2
         },
         "mode": "markers+text",
         "text": "Shoe",
         "textfont": {
          "size": 8
         },
         "textposition": "bottom center",
         "type": "scatter",
         "x": [
          7.5
         ],
         "y": [
          -73
         ]
        },
        {
         "hoverinfo": "text",
         "hovertext": "",
         "marker": {
          "color": "blue",
          "size": 2
         },
         "mode": "markers+text",
         "text": "Steve Madden",
         "textfont": {
          "size": 8
         },
         "textposition": "bottom center",
         "type": "scatter",
         "x": [
          3
         ],
         "y": [
          -74
         ]
        },
        {
         "hoverinfo": "text",
         "hovertext": "",
         "marker": {
          "color": "blue",
          "size": 2
         },
         "mode": "markers+text",
         "text": "Medium",
         "textfont": {
          "size": 8
         },
         "textposition": "bottom center",
         "type": "scatter",
         "x": [
          4.5
         ],
         "y": [
          -75
         ]
        },
        {
         "hoverinfo": "text",
         "hovertext": "",
         "marker": {
          "color": "blue",
          "size": 2
         },
         "mode": "markers+text",
         "text": "4 Star",
         "textfont": {
          "size": 8
         },
         "textposition": "bottom center",
         "type": "scatter",
         "x": [
          6
         ],
         "y": [
          -76
         ]
        },
        {
         "hoverinfo": "text",
         "hovertext": "Frosting Red Men's Sneakers | Size 11 | by Steve Madden",
         "marker": {
          "color": "blue",
          "size": 2
         },
         "mode": "markers+text",
         "text": "Shoe",
         "textfont": {
          "size": 8
         },
         "textposition": "bottom center",
         "type": "scatter",
         "x": [
          7.5
         ],
         "y": [
          -77
         ]
        },
        {
         "hoverinfo": "text",
         "hovertext": "",
         "marker": {
          "color": "blue",
          "size": 2
         },
         "mode": "markers+text",
         "text": "High",
         "textfont": {
          "size": 8
         },
         "textposition": "bottom center",
         "type": "scatter",
         "x": [
          4.5
         ],
         "y": [
          -78
         ]
        },
        {
         "hoverinfo": "text",
         "hovertext": "",
         "marker": {
          "color": "blue",
          "size": 2
         },
         "mode": "markers+text",
         "text": "5 Star",
         "textfont": {
          "size": 8
         },
         "textposition": "bottom center",
         "type": "scatter",
         "x": [
          6
         ],
         "y": [
          -79
         ]
        },
        {
         "hoverinfo": "text",
         "hovertext": "Ponce Red Men's Sneakers | Size 10 | by Steve Madden",
         "marker": {
          "color": "blue",
          "size": 2
         },
         "mode": "markers+text",
         "text": "Shoe",
         "textfont": {
          "size": 8
         },
         "textposition": "bottom center",
         "type": "scatter",
         "x": [
          7.5
         ],
         "y": [
          -80
         ]
        },
        {
         "hoverinfo": "text",
         "hovertext": "",
         "marker": {
          "color": "blue",
          "size": 2
         },
         "mode": "markers+text",
         "text": "ALDO Shoes",
         "textfont": {
          "size": 8
         },
         "textposition": "bottom center",
         "type": "scatter",
         "x": [
          3
         ],
         "y": [
          -81
         ]
        },
        {
         "hoverinfo": "text",
         "hovertext": "",
         "marker": {
          "color": "blue",
          "size": 2
         },
         "mode": "markers+text",
         "text": "Medium",
         "textfont": {
          "size": 8
         },
         "textposition": "bottom center",
         "type": "scatter",
         "x": [
          4.5
         ],
         "y": [
          -82
         ]
        },
        {
         "hoverinfo": "text",
         "hovertext": "",
         "marker": {
          "color": "blue",
          "size": 2
         },
         "mode": "markers+text",
         "text": "Unknown",
         "textfont": {
          "size": 8
         },
         "textposition": "bottom center",
         "type": "scatter",
         "x": [
          6
         ],
         "y": [
          -83
         ]
        },
        {
         "hoverinfo": "text",
         "hovertext": "ALDO Antonio - Men's High Top Sneakers - Red, Size 13",
         "marker": {
          "color": "blue",
          "size": 2
         },
         "mode": "markers+text",
         "text": "Shoe",
         "textfont": {
          "size": 8
         },
         "textposition": "bottom center",
         "type": "scatter",
         "x": [
          7.5
         ],
         "y": [
          -84
         ]
        },
        {
         "hoverinfo": "text",
         "hovertext": "",
         "marker": {
          "color": "blue",
          "size": 2
         },
         "mode": "markers+text",
         "text": "Low",
         "textfont": {
          "size": 8
         },
         "textposition": "bottom center",
         "type": "scatter",
         "x": [
          4.5
         ],
         "y": [
          -85
         ]
        },
        {
         "hoverinfo": "text",
         "hovertext": "",
         "marker": {
          "color": "blue",
          "size": 2
         },
         "mode": "markers+text",
         "text": "Unknown",
         "textfont": {
          "size": 8
         },
         "textposition": "bottom center",
         "type": "scatter",
         "x": [
          6
         ],
         "y": [
          -86
         ]
        },
        {
         "hoverinfo": "text",
         "hovertext": "ALDO Dwia - Women's High Top Sneaker Sneakers - Red, Size 6.5",
         "marker": {
          "color": "blue",
          "size": 2
         },
         "mode": "markers+text",
         "text": "Shoe",
         "textfont": {
          "size": 8
         },
         "textposition": "bottom center",
         "type": "scatter",
         "x": [
          7.5
         ],
         "y": [
          -87
         ]
        },
        {
         "hoverinfo": "text",
         "hovertext": "",
         "marker": {
          "color": "blue",
          "size": 2
         },
         "mode": "markers+text",
         "text": "ShopWSS",
         "textfont": {
          "size": 8
         },
         "textposition": "bottom center",
         "type": "scatter",
         "x": [
          3
         ],
         "y": [
          -88
         ]
        },
        {
         "hoverinfo": "text",
         "hovertext": "",
         "marker": {
          "color": "blue",
          "size": 2
         },
         "mode": "markers+text",
         "text": "Low",
         "textfont": {
          "size": 8
         },
         "textposition": "bottom center",
         "type": "scatter",
         "x": [
          4.5
         ],
         "y": [
          -89
         ]
        },
        {
         "hoverinfo": "text",
         "hovertext": "",
         "marker": {
          "color": "blue",
          "size": 2
         },
         "mode": "markers+text",
         "text": "5 Star",
         "textfont": {
          "size": 8
         },
         "textposition": "bottom center",
         "type": "scatter",
         "x": [
          6
         ],
         "y": [
          -90
         ]
        },
        {
         "hoverinfo": "text",
         "hovertext": "Vans Authentic Kids Shoes - Red - 3",
         "marker": {
          "color": "blue",
          "size": 2
         },
         "mode": "markers+text",
         "text": "Shoe",
         "textfont": {
          "size": 8
         },
         "textposition": "bottom center",
         "type": "scatter",
         "x": [
          7.5
         ],
         "y": [
          -91
         ]
        },
        {
         "hoverinfo": "text",
         "hovertext": "",
         "marker": {
          "color": "blue",
          "size": 2
         },
         "mode": "markers+text",
         "text": "Converse",
         "textfont": {
          "size": 8
         },
         "textposition": "bottom center",
         "type": "scatter",
         "x": [
          3
         ],
         "y": [
          -92
         ]
        },
        {
         "hoverinfo": "text",
         "hovertext": "",
         "marker": {
          "color": "blue",
          "size": 2
         },
         "mode": "markers+text",
         "text": "Low",
         "textfont": {
          "size": 8
         },
         "textposition": "bottom center",
         "type": "scatter",
         "x": [
          4.5
         ],
         "y": [
          -93
         ]
        },
        {
         "hoverinfo": "text",
         "hovertext": "",
         "marker": {
          "color": "blue",
          "size": 2
         },
         "mode": "markers+text",
         "text": "5 Star",
         "textfont": {
          "size": 8
         },
         "textposition": "bottom center",
         "type": "scatter",
         "x": [
          6
         ],
         "y": [
          -94
         ]
        },
        {
         "hoverinfo": "text",
         "hovertext": "Converse Chuck Taylor All Star Hi, Red",
         "marker": {
          "color": "blue",
          "size": 2
         },
         "mode": "markers+text",
         "text": "Shoe",
         "textfont": {
          "size": 8
         },
         "textposition": "bottom center",
         "type": "scatter",
         "x": [
          7.5
         ],
         "y": [
          -95
         ]
        },
        {
         "hoverinfo": "text",
         "hovertext": "",
         "marker": {
          "color": "blue",
          "size": 2
         },
         "mode": "markers+text",
         "text": "Jeffrey Campbell",
         "textfont": {
          "size": 8
         },
         "textposition": "bottom center",
         "type": "scatter",
         "x": [
          3
         ],
         "y": [
          -96
         ]
        },
        {
         "hoverinfo": "text",
         "hovertext": "",
         "marker": {
          "color": "blue",
          "size": 2
         },
         "mode": "markers+text",
         "text": "Medium",
         "textfont": {
          "size": 8
         },
         "textposition": "bottom center",
         "type": "scatter",
         "x": [
          4.5
         ],
         "y": [
          -97
         ]
        },
        {
         "hoverinfo": "text",
         "hovertext": "",
         "marker": {
          "color": "blue",
          "size": 2
         },
         "mode": "markers+text",
         "text": "5 Star",
         "textfont": {
          "size": 8
         },
         "textposition": "bottom center",
         "type": "scatter",
         "x": [
          6
         ],
         "y": [
          -98
         ]
        },
        {
         "hoverinfo": "text",
         "hovertext": "Jeffrey Campbell Keys Sneaker in Red",
         "marker": {
          "color": "blue",
          "size": 2
         },
         "mode": "markers+text",
         "text": "Shoe",
         "textfont": {
          "size": 8
         },
         "textposition": "bottom center",
         "type": "scatter",
         "x": [
          7.5
         ],
         "y": [
          -99
         ]
        },
        {
         "hoverinfo": "text",
         "hovertext": "",
         "marker": {
          "color": "blue",
          "size": 2
         },
         "mode": "markers+text",
         "text": "Kids Foot Locker",
         "textfont": {
          "size": 8
         },
         "textposition": "bottom center",
         "type": "scatter",
         "x": [
          3
         ],
         "y": [
          -100
         ]
        },
        {
         "hoverinfo": "text",
         "hovertext": "",
         "marker": {
          "color": "blue",
          "size": 2
         },
         "mode": "markers+text",
         "text": "Medium",
         "textfont": {
          "size": 8
         },
         "textposition": "bottom center",
         "type": "scatter",
         "x": [
          4.5
         ],
         "y": [
          -101
         ]
        },
        {
         "hoverinfo": "text",
         "hovertext": "",
         "marker": {
          "color": "blue",
          "size": 2
         },
         "mode": "markers+text",
         "text": "5 Star",
         "textfont": {
          "size": 8
         },
         "textposition": "bottom center",
         "type": "scatter",
         "x": [
          6
         ],
         "y": [
          -102
         ]
        },
        {
         "hoverinfo": "text",
         "hovertext": "Nike Air Max 1 GS Sport Red",
         "marker": {
          "color": "blue",
          "size": 2
         },
         "mode": "markers+text",
         "text": "Shoe",
         "textfont": {
          "size": 8
         },
         "textposition": "bottom center",
         "type": "scatter",
         "x": [
          7.5
         ],
         "y": [
          -103
         ]
        },
        {
         "hoverinfo": "text",
         "hovertext": "",
         "marker": {
          "color": "blue",
          "size": 2
         },
         "mode": "markers+text",
         "text": "Hibbett Sports",
         "textfont": {
          "size": 8
         },
         "textposition": "bottom center",
         "type": "scatter",
         "x": [
          3
         ],
         "y": [
          -104
         ]
        },
        {
         "hoverinfo": "text",
         "hovertext": "",
         "marker": {
          "color": "blue",
          "size": 2
         },
         "mode": "markers+text",
         "text": "Low",
         "textfont": {
          "size": 8
         },
         "textposition": "bottom center",
         "type": "scatter",
         "x": [
          4.5
         ],
         "y": [
          -105
         ]
        },
        {
         "hoverinfo": "text",
         "hovertext": "",
         "marker": {
          "color": "blue",
          "size": 2
         },
         "mode": "markers+text",
         "text": "5 Star",
         "textfont": {
          "size": 8
         },
         "textposition": "bottom center",
         "type": "scatter",
         "x": [
          6
         ],
         "y": [
          -106
         ]
        },
        {
         "hoverinfo": "text",
         "hovertext": "Puma Suede Classic XXI Red",
         "marker": {
          "color": "blue",
          "size": 2
         },
         "mode": "markers+text",
         "text": "Shoe",
         "textfont": {
          "size": 8
         },
         "textposition": "bottom center",
         "type": "scatter",
         "x": [
          7.5
         ],
         "y": [
          -107
         ]
        },
        {
         "hoverinfo": "text",
         "hovertext": "",
         "marker": {
          "color": "blue",
          "size": 2
         },
         "mode": "markers+text",
         "text": "Macy's",
         "textfont": {
          "size": 8
         },
         "textposition": "bottom center",
         "type": "scatter",
         "x": [
          3
         ],
         "y": [
          -108
         ]
        },
        {
         "hoverinfo": "text",
         "hovertext": "",
         "marker": {
          "color": "blue",
          "size": 2
         },
         "mode": "markers+text",
         "text": "Medium",
         "textfont": {
          "size": 8
         },
         "textposition": "bottom center",
         "type": "scatter",
         "x": [
          4.5
         ],
         "y": [
          -109
         ]
        },
        {
         "hoverinfo": "text",
         "hovertext": "",
         "marker": {
          "color": "blue",
          "size": 2
         },
         "mode": "markers+text",
         "text": "5 Star",
         "textfont": {
          "size": 8
         },
         "textposition": "bottom center",
         "type": "scatter",
         "x": [
          6
         ],
         "y": [
          -110
         ]
        },
        {
         "hoverinfo": "text",
         "hovertext": "Nike Air Max 270 GS 'University Red'",
         "marker": {
          "color": "blue",
          "size": 2
         },
         "mode": "markers+text",
         "text": "Shoe",
         "textfont": {
          "size": 8
         },
         "textposition": "bottom center",
         "type": "scatter",
         "x": [
          7.5
         ],
         "y": [
          -111
         ]
        },
        {
         "hoverinfo": "text",
         "hovertext": "",
         "marker": {
          "color": "blue",
          "size": 2
         },
         "mode": "markers+text",
         "text": "Shop Premium Outlets",
         "textfont": {
          "size": 8
         },
         "textposition": "bottom center",
         "type": "scatter",
         "x": [
          3
         ],
         "y": [
          -112
         ]
        },
        {
         "hoverinfo": "text",
         "hovertext": "",
         "marker": {
          "color": "blue",
          "size": 2
         },
         "mode": "markers+text",
         "text": "Medium",
         "textfont": {
          "size": 8
         },
         "textposition": "bottom center",
         "type": "scatter",
         "x": [
          4.5
         ],
         "y": [
          -113
         ]
        },
        {
         "hoverinfo": "text",
         "hovertext": "",
         "marker": {
          "color": "blue",
          "size": 2
         },
         "mode": "markers+text",
         "text": "5 Star",
         "textfont": {
          "size": 8
         },
         "textposition": "bottom center",
         "type": "scatter",
         "x": [
          6
         ],
         "y": [
          -114
         ]
        },
        {
         "hoverinfo": "text",
         "hovertext": "Adidas Forum Low Shoes - Men's - Red / Off White / Gum - 11",
         "marker": {
          "color": "blue",
          "size": 2
         },
         "mode": "markers+text",
         "text": "Shoe",
         "textfont": {
          "size": 8
         },
         "textposition": "bottom center",
         "type": "scatter",
         "x": [
          7.5
         ],
         "y": [
          -115
         ]
        },
        {
         "hoverinfo": "text",
         "hovertext": "",
         "marker": {
          "color": "blue",
          "size": 2
         },
         "mode": "markers+text",
         "text": "shopAKIRA.com | AKIRA",
         "textfont": {
          "size": 8
         },
         "textposition": "bottom center",
         "type": "scatter",
         "x": [
          3
         ],
         "y": [
          -116
         ]
        },
        {
         "hoverinfo": "text",
         "hovertext": "",
         "marker": {
          "color": "blue",
          "size": 2
         },
         "mode": "markers+text",
         "text": "Low",
         "textfont": {
          "size": 8
         },
         "textposition": "bottom center",
         "type": "scatter",
         "x": [
          4.5
         ],
         "y": [
          -117
         ]
        },
        {
         "hoverinfo": "text",
         "hovertext": "",
         "marker": {
          "color": "blue",
          "size": 2
         },
         "mode": "markers+text",
         "text": "Unknown",
         "textfont": {
          "size": 8
         },
         "textposition": "bottom center",
         "type": "scatter",
         "x": [
          6
         ],
         "y": [
          -118
         ]
        },
        {
         "hoverinfo": "text",
         "hovertext": "Akira Azalea Wang Korr Sneaker | Red | Size 8",
         "marker": {
          "color": "blue",
          "size": 2
         },
         "mode": "markers+text",
         "text": "Shoe",
         "textfont": {
          "size": 8
         },
         "textposition": "bottom center",
         "type": "scatter",
         "x": [
          7.5
         ],
         "y": [
          -119
         ]
        },
        {
         "hoverinfo": "text",
         "hovertext": "",
         "marker": {
          "color": "blue",
          "size": 2
         },
         "mode": "markers+text",
         "text": "Medium",
         "textfont": {
          "size": 8
         },
         "textposition": "bottom center",
         "type": "scatter",
         "x": [
          4.5
         ],
         "y": [
          -120
         ]
        },
        {
         "hoverinfo": "text",
         "hovertext": "",
         "marker": {
          "color": "blue",
          "size": 2
         },
         "mode": "markers+text",
         "text": "Unknown",
         "textfont": {
          "size": 8
         },
         "textposition": "bottom center",
         "type": "scatter",
         "x": [
          6
         ],
         "y": [
          -121
         ]
        },
        {
         "hoverinfo": "text",
         "hovertext": "Akira Azalea Wang South High Top Sneaker | Red | Size 10",
         "marker": {
          "color": "blue",
          "size": 2
         },
         "mode": "markers+text",
         "text": "Shoe",
         "textfont": {
          "size": 8
         },
         "textposition": "bottom center",
         "type": "scatter",
         "x": [
          7.5
         ],
         "y": [
          -122
         ]
        },
        {
         "hoverinfo": "text",
         "hovertext": "",
         "marker": {
          "color": "blue",
          "size": 2
         },
         "mode": "markers+text",
         "text": "Foot Locker",
         "textfont": {
          "size": 8
         },
         "textposition": "bottom center",
         "type": "scatter",
         "x": [
          3
         ],
         "y": [
          -123
         ]
        },
        {
         "hoverinfo": "text",
         "hovertext": "",
         "marker": {
          "color": "blue",
          "size": 2
         },
         "mode": "markers+text",
         "text": "Medium",
         "textfont": {
          "size": 8
         },
         "textposition": "bottom center",
         "type": "scatter",
         "x": [
          4.5
         ],
         "y": [
          -124
         ]
        },
        {
         "hoverinfo": "text",
         "hovertext": "",
         "marker": {
          "color": "blue",
          "size": 2
         },
         "mode": "markers+text",
         "text": "5 Star",
         "textfont": {
          "size": 8
         },
         "textposition": "bottom center",
         "type": "scatter",
         "x": [
          6
         ],
         "y": [
          -125
         ]
        },
        {
         "hoverinfo": "text",
         "hovertext": "Converse UNT1TL3D High Top - Mens - Red/White, Size 11.0",
         "marker": {
          "color": "blue",
          "size": 2
         },
         "mode": "markers+text",
         "text": "Shoe",
         "textfont": {
          "size": 8
         },
         "textposition": "bottom center",
         "type": "scatter",
         "x": [
          7.5
         ],
         "y": [
          -126
         ]
        },
        {
         "hoverinfo": "text",
         "hovertext": "",
         "marker": {
          "color": "blue",
          "size": 2
         },
         "mode": "markers+text",
         "text": "Low",
         "textfont": {
          "size": 8
         },
         "textposition": "bottom center",
         "type": "scatter",
         "x": [
          4.5
         ],
         "y": [
          -127
         ]
        },
        {
         "hoverinfo": "text",
         "hovertext": "",
         "marker": {
          "color": "blue",
          "size": 2
         },
         "mode": "markers+text",
         "text": "Unknown",
         "textfont": {
          "size": 8
         },
         "textposition": "bottom center",
         "type": "scatter",
         "x": [
          6
         ],
         "y": [
          -128
         ]
        },
        {
         "hoverinfo": "text",
         "hovertext": "Vans Womens Old Skool - Shoes Racing Red/White Size 04.5",
         "marker": {
          "color": "blue",
          "size": 2
         },
         "mode": "markers+text",
         "text": "Shoe",
         "textfont": {
          "size": 8
         },
         "textposition": "bottom center",
         "type": "scatter",
         "x": [
          7.5
         ],
         "y": [
          -129
         ]
        },
        {
         "hoverinfo": "text",
         "hovertext": "",
         "marker": {
          "color": "blue",
          "size": 2
         },
         "mode": "markers+text",
         "text": "DSW",
         "textfont": {
          "size": 8
         },
         "textposition": "bottom center",
         "type": "scatter",
         "x": [
          3
         ],
         "y": [
          -130
         ]
        },
        {
         "hoverinfo": "text",
         "hovertext": "",
         "marker": {
          "color": "blue",
          "size": 2
         },
         "mode": "markers+text",
         "text": "Medium",
         "textfont": {
          "size": 8
         },
         "textposition": "bottom center",
         "type": "scatter",
         "x": [
          4.5
         ],
         "y": [
          -131
         ]
        },
        {
         "hoverinfo": "text",
         "hovertext": "",
         "marker": {
          "color": "blue",
          "size": 2
         },
         "mode": "markers+text",
         "text": "5 Star",
         "textfont": {
          "size": 8
         },
         "textposition": "bottom center",
         "type": "scatter",
         "x": [
          6
         ],
         "y": [
          -132
         ]
        },
        {
         "hoverinfo": "text",
         "hovertext": "Nike Men's Run Swift 3 Road Running Shoes in Red, Size: 13 | DR2695-600",
         "marker": {
          "color": "blue",
          "size": 2
         },
         "mode": "markers+text",
         "text": "Shoe",
         "textfont": {
          "size": 8
         },
         "textposition": "bottom center",
         "type": "scatter",
         "x": [
          7.5
         ],
         "y": [
          -133
         ]
        },
        {
         "hoverinfo": "text",
         "hovertext": "",
         "marker": {
          "color": "blue",
          "size": 2
         },
         "mode": "markers+text",
         "text": "JD Sports",
         "textfont": {
          "size": 8
         },
         "textposition": "bottom center",
         "type": "scatter",
         "x": [
          3
         ],
         "y": [
          -134
         ]
        },
        {
         "hoverinfo": "text",
         "hovertext": "",
         "marker": {
          "color": "blue",
          "size": 2
         },
         "mode": "markers+text",
         "text": "Medium",
         "textfont": {
          "size": 8
         },
         "textposition": "bottom center",
         "type": "scatter",
         "x": [
          4.5
         ],
         "y": [
          -135
         ]
        },
        {
         "hoverinfo": "text",
         "hovertext": "",
         "marker": {
          "color": "blue",
          "size": 2
         },
         "mode": "markers+text",
         "text": "5 Star",
         "textfont": {
          "size": 8
         },
         "textposition": "bottom center",
         "type": "scatter",
         "x": [
          6
         ],
         "y": [
          -136
         ]
        },
        {
         "hoverinfo": "text",
         "hovertext": "Nike Men's Flex Experience Run 11 Road Running Shoes in Red, Size: 8 | DD9284-601",
         "marker": {
          "color": "blue",
          "size": 2
         },
         "mode": "markers+text",
         "text": "Shoe",
         "textfont": {
          "size": 8
         },
         "textposition": "bottom center",
         "type": "scatter",
         "x": [
          7.5
         ],
         "y": [
          -137
         ]
        },
        {
         "hoverinfo": "text",
         "hovertext": "",
         "marker": {
          "color": "blue",
          "size": 2
         },
         "mode": "markers+text",
         "text": "Champs Sports",
         "textfont": {
          "size": 8
         },
         "textposition": "bottom center",
         "type": "scatter",
         "x": [
          3
         ],
         "y": [
          -138
         ]
        },
        {
         "hoverinfo": "text",
         "hovertext": "",
         "marker": {
          "color": "blue",
          "size": 2
         },
         "mode": "markers+text",
         "text": "Medium",
         "textfont": {
          "size": 8
         },
         "textposition": "bottom center",
         "type": "scatter",
         "x": [
          4.5
         ],
         "y": [
          -139
         ]
        },
        {
         "hoverinfo": "text",
         "hovertext": "",
         "marker": {
          "color": "blue",
          "size": 2
         },
         "mode": "markers+text",
         "text": "5 Star",
         "textfont": {
          "size": 8
         },
         "textposition": "bottom center",
         "type": "scatter",
         "x": [
          6
         ],
         "y": [
          -140
         ]
        },
        {
         "hoverinfo": "text",
         "hovertext": "Puma Mens RS-XL Diamond Forever - Running Shoes Red/Red Size 09.0",
         "marker": {
          "color": "blue",
          "size": 2
         },
         "mode": "markers+text",
         "text": "Shoe",
         "textfont": {
          "size": 8
         },
         "textposition": "bottom center",
         "type": "scatter",
         "x": [
          7.5
         ],
         "y": [
          -141
         ]
        },
        {
         "hoverinfo": "text",
         "hovertext": "",
         "marker": {
          "color": "blue",
          "size": 2
         },
         "mode": "markers+text",
         "text": "Dillard's",
         "textfont": {
          "size": 8
         },
         "textposition": "bottom center",
         "type": "scatter",
         "x": [
          3
         ],
         "y": [
          -142
         ]
        },
        {
         "hoverinfo": "text",
         "hovertext": "",
         "marker": {
          "color": "blue",
          "size": 2
         },
         "mode": "markers+text",
         "text": "Medium",
         "textfont": {
          "size": 8
         },
         "textposition": "bottom center",
         "type": "scatter",
         "x": [
          4.5
         ],
         "y": [
          -143
         ]
        },
        {
         "hoverinfo": "text",
         "hovertext": "",
         "marker": {
          "color": "blue",
          "size": 2
         },
         "mode": "markers+text",
         "text": "5 Star",
         "textfont": {
          "size": 8
         },
         "textposition": "bottom center",
         "type": "scatter",
         "x": [
          6
         ],
         "y": [
          -144
         ]
        },
        {
         "hoverinfo": "text",
         "hovertext": "Betsey Johnson Women's Sidny Sneakers, Red, 5.5M",
         "marker": {
          "color": "blue",
          "size": 2
         },
         "mode": "markers+text",
         "text": "Shoe",
         "textfont": {
          "size": 8
         },
         "textposition": "bottom center",
         "type": "scatter",
         "x": [
          7.5
         ],
         "y": [
          -145
         ]
        },
        {
         "hoverinfo": "text",
         "hovertext": "",
         "marker": {
          "color": "blue",
          "size": 2
         },
         "mode": "markers+text",
         "text": "shoebacca.com",
         "textfont": {
          "size": 8
         },
         "textposition": "bottom center",
         "type": "scatter",
         "x": [
          3
         ],
         "y": [
          -146
         ]
        },
        {
         "hoverinfo": "text",
         "hovertext": "",
         "marker": {
          "color": "blue",
          "size": 2
         },
         "mode": "markers+text",
         "text": "Low",
         "textfont": {
          "size": 8
         },
         "textposition": "bottom center",
         "type": "scatter",
         "x": [
          4.5
         ],
         "y": [
          -147
         ]
        },
        {
         "hoverinfo": "text",
         "hovertext": "",
         "marker": {
          "color": "blue",
          "size": 2
         },
         "mode": "markers+text",
         "text": "Unknown",
         "textfont": {
          "size": 8
         },
         "textposition": "bottom center",
         "type": "scatter",
         "x": [
          6
         ],
         "y": [
          -148
         ]
        },
        {
         "hoverinfo": "text",
         "hovertext": "Puma Clasico L Sneaker 13 Men's High Risk Red",
         "marker": {
          "color": "blue",
          "size": 2
         },
         "mode": "markers+text",
         "text": "Shoe",
         "textfont": {
          "size": 8
         },
         "textposition": "bottom center",
         "type": "scatter",
         "x": [
          7.5
         ],
         "y": [
          -149
         ]
        },
        {
         "hoverinfo": "text",
         "hovertext": "",
         "marker": {
          "color": "blue",
          "size": 2
         },
         "mode": "markers+text",
         "text": "Flight Club",
         "textfont": {
          "size": 8
         },
         "textposition": "bottom center",
         "type": "scatter",
         "x": [
          3
         ],
         "y": [
          -150
         ]
        },
        {
         "hoverinfo": "text",
         "hovertext": "",
         "marker": {
          "color": "blue",
          "size": 2
         },
         "mode": "markers+text",
         "text": "Medium",
         "textfont": {
          "size": 8
         },
         "textposition": "bottom center",
         "type": "scatter",
         "x": [
          4.5
         ],
         "y": [
          -151
         ]
        },
        {
         "hoverinfo": "text",
         "hovertext": "",
         "marker": {
          "color": "blue",
          "size": 2
         },
         "mode": "markers+text",
         "text": "5 Star",
         "textfont": {
          "size": 8
         },
         "textposition": "bottom center",
         "type": "scatter",
         "x": [
          6
         ],
         "y": [
          -152
         ]
        },
        {
         "hoverinfo": "text",
         "hovertext": "Puma | Men's Wild Rider Pickup Red / 9",
         "marker": {
          "color": "blue",
          "size": 2
         },
         "mode": "markers+text",
         "text": "Shoe",
         "textfont": {
          "size": 8
         },
         "textposition": "bottom center",
         "type": "scatter",
         "x": [
          7.5
         ],
         "y": [
          -153
         ]
        },
        {
         "hoverinfo": "text",
         "hovertext": "",
         "marker": {
          "color": "blue",
          "size": 2
         },
         "mode": "markers+text",
         "text": "eBay",
         "textfont": {
          "size": 8
         },
         "textposition": "bottom center",
         "type": "scatter",
         "x": [
          3
         ],
         "y": [
          -154
         ]
        },
        {
         "hoverinfo": "text",
         "hovertext": "",
         "marker": {
          "color": "blue",
          "size": 2
         },
         "mode": "markers+text",
         "text": "High",
         "textfont": {
          "size": 8
         },
         "textposition": "bottom center",
         "type": "scatter",
         "x": [
          4.5
         ],
         "y": [
          -155
         ]
        },
        {
         "hoverinfo": "text",
         "hovertext": "",
         "marker": {
          "color": "blue",
          "size": 2
         },
         "mode": "markers+text",
         "text": "5 Star",
         "textfont": {
          "size": 8
         },
         "textposition": "bottom center",
         "type": "scatter",
         "x": [
          6
         ],
         "y": [
          -156
         ]
        },
        {
         "hoverinfo": "text",
         "hovertext": "Air Jordan 4 Retro OG 'Fire Red' 2020",
         "marker": {
          "color": "blue",
          "size": 2
         },
         "mode": "markers+text",
         "text": "Shoe",
         "textfont": {
          "size": 8
         },
         "textposition": "bottom center",
         "type": "scatter",
         "x": [
          7.5
         ],
         "y": [
          -157
         ]
        },
        {
         "hoverinfo": "text",
         "hovertext": "",
         "marker": {
          "color": "blue",
          "size": 2
         },
         "mode": "markers+text",
         "text": "Tillys",
         "textfont": {
          "size": 8
         },
         "textposition": "bottom center",
         "type": "scatter",
         "x": [
          3
         ],
         "y": [
          -158
         ]
        },
        {
         "hoverinfo": "text",
         "hovertext": "",
         "marker": {
          "color": "blue",
          "size": 2
         },
         "mode": "markers+text",
         "text": "Low",
         "textfont": {
          "size": 8
         },
         "textposition": "bottom center",
         "type": "scatter",
         "x": [
          4.5
         ],
         "y": [
          -159
         ]
        },
        {
         "hoverinfo": "text",
         "hovertext": "",
         "marker": {
          "color": "blue",
          "size": 2
         },
         "mode": "markers+text",
         "text": "5 Star",
         "textfont": {
          "size": 8
         },
         "textposition": "bottom center",
         "type": "scatter",
         "x": [
          6
         ],
         "y": [
          -160
         ]
        },
        {
         "hoverinfo": "text",
         "hovertext": "Vans Old Skool Shoes - Red/White - M95w11",
         "marker": {
          "color": "blue",
          "size": 2
         },
         "mode": "markers+text",
         "text": "Shoe",
         "textfont": {
          "size": 8
         },
         "textposition": "bottom center",
         "type": "scatter",
         "x": [
          7.5
         ],
         "y": [
          -161
         ]
        },
        {
         "hoverinfo": "text",
         "hovertext": "",
         "marker": {
          "color": "blue",
          "size": 2
         },
         "mode": "markers+text",
         "text": "SHEIN",
         "textfont": {
          "size": 8
         },
         "textposition": "bottom center",
         "type": "scatter",
         "x": [
          3
         ],
         "y": [
          -162
         ]
        },
        {
         "hoverinfo": "text",
         "hovertext": "",
         "marker": {
          "color": "blue",
          "size": 2
         },
         "mode": "markers+text",
         "text": "Low",
         "textfont": {
          "size": 8
         },
         "textposition": "bottom center",
         "type": "scatter",
         "x": [
          4.5
         ],
         "y": [
          -163
         ]
        },
        {
         "hoverinfo": "text",
         "hovertext": "",
         "marker": {
          "color": "blue",
          "size": 2
         },
         "mode": "markers+text",
         "text": "Unknown",
         "textfont": {
          "size": 8
         },
         "textposition": "bottom center",
         "type": "scatter",
         "x": [
          6
         ],
         "y": [
          -164
         ]
        },
        {
         "hoverinfo": "text",
         "hovertext": "Women's Casual Flat Sneakers with Thin Strap, Red Skate Shoes, EUR40 Red PU Leather",
         "marker": {
          "color": "blue",
          "size": 2
         },
         "mode": "markers+text",
         "text": "Shoe",
         "textfont": {
          "size": 8
         },
         "textposition": "bottom center",
         "type": "scatter",
         "x": [
          7.5
         ],
         "y": [
          -165
         ]
        },
        {
         "hoverinfo": "text",
         "hovertext": "",
         "marker": {
          "color": "blue",
          "size": 2
         },
         "mode": "markers+text",
         "text": "T.U.K.",
         "textfont": {
          "size": 8
         },
         "textposition": "bottom center",
         "type": "scatter",
         "x": [
          3
         ],
         "y": [
          -166
         ]
        },
        {
         "hoverinfo": "text",
         "hovertext": "",
         "marker": {
          "color": "blue",
          "size": 2
         },
         "mode": "markers+text",
         "text": "Medium",
         "textfont": {
          "size": 8
         },
         "textposition": "bottom center",
         "type": "scatter",
         "x": [
          4.5
         ],
         "y": [
          -167
         ]
        },
        {
         "hoverinfo": "text",
         "hovertext": "",
         "marker": {
          "color": "blue",
          "size": 2
         },
         "mode": "markers+text",
         "text": "Unknown",
         "textfont": {
          "size": 8
         },
         "textposition": "bottom center",
         "type": "scatter",
         "x": [
          6
         ],
         "y": [
          -168
         ]
        },
        {
         "hoverinfo": "text",
         "hovertext": "A3088 Red & White 2-Ring Creeper Sneaker Red/White",
         "marker": {
          "color": "blue",
          "size": 2
         },
         "mode": "markers+text",
         "text": "Shoe",
         "textfont": {
          "size": 8
         },
         "textposition": "bottom center",
         "type": "scatter",
         "x": [
          7.5
         ],
         "y": [
          -169
         ]
        },
        {
         "hoverinfo": "text",
         "hovertext": "",
         "marker": {
          "color": "blue",
          "size": 2
         },
         "mode": "markers+text",
         "text": "StockX",
         "textfont": {
          "size": 8
         },
         "textposition": "bottom center",
         "type": "scatter",
         "x": [
          3
         ],
         "y": [
          -170
         ]
        },
        {
         "hoverinfo": "text",
         "hovertext": "",
         "marker": {
          "color": "blue",
          "size": 2
         },
         "mode": "markers+text",
         "text": "High",
         "textfont": {
          "size": 8
         },
         "textposition": "bottom center",
         "type": "scatter",
         "x": [
          4.5
         ],
         "y": [
          -171
         ]
        },
        {
         "hoverinfo": "text",
         "hovertext": "",
         "marker": {
          "color": "blue",
          "size": 2
         },
         "mode": "markers+text",
         "text": "5 Star",
         "textfont": {
          "size": 8
         },
         "textposition": "bottom center",
         "type": "scatter",
         "x": [
          6
         ],
         "y": [
          -172
         ]
        },
        {
         "hoverinfo": "text",
         "hovertext": "Nike Air Yeezy 2 Red October",
         "marker": {
          "color": "blue",
          "size": 2
         },
         "mode": "markers+text",
         "text": "Shoe",
         "textfont": {
          "size": 8
         },
         "textposition": "bottom center",
         "type": "scatter",
         "x": [
          7.5
         ],
         "y": [
          -173
         ]
        },
        {
         "hoverinfo": "text",
         "hovertext": "",
         "marker": {
          "color": "blue",
          "size": 2
         },
         "mode": "markers+text",
         "text": "Soxy",
         "textfont": {
          "size": 8
         },
         "textposition": "bottom center",
         "type": "scatter",
         "x": [
          3
         ],
         "y": [
          -174
         ]
        },
        {
         "hoverinfo": "text",
         "hovertext": "",
         "marker": {
          "color": "blue",
          "size": 2
         },
         "mode": "markers+text",
         "text": "Medium",
         "textfont": {
          "size": 8
         },
         "textposition": "bottom center",
         "type": "scatter",
         "x": [
          4.5
         ],
         "y": [
          -175
         ]
        },
        {
         "hoverinfo": "text",
         "hovertext": "",
         "marker": {
          "color": "blue",
          "size": 2
         },
         "mode": "markers+text",
         "text": "5 Star",
         "textfont": {
          "size": 8
         },
         "textposition": "bottom center",
         "type": "scatter",
         "x": [
          6
         ],
         "y": [
          -176
         ]
        },
        {
         "hoverinfo": "text",
         "hovertext": "New Balance 574 Sneaker in Alpha Red/White",
         "marker": {
          "color": "blue",
          "size": 2
         },
         "mode": "markers+text",
         "text": "Shoe",
         "textfont": {
          "size": 8
         },
         "textposition": "bottom center",
         "type": "scatter",
         "x": [
          7.5
         ],
         "y": [
          -177
         ]
        },
        {
         "hoverinfo": "text",
         "hovertext": "",
         "marker": {
          "color": "blue",
          "size": 2
         },
         "mode": "markers+text",
         "text": "Rack Room Shoes",
         "textfont": {
          "size": 8
         },
         "textposition": "bottom center",
         "type": "scatter",
         "x": [
          3
         ],
         "y": [
          -178
         ]
        },
        {
         "hoverinfo": "text",
         "hovertext": "",
         "marker": {
          "color": "blue",
          "size": 2
         },
         "mode": "markers+text",
         "text": "Medium",
         "textfont": {
          "size": 8
         },
         "textposition": "bottom center",
         "type": "scatter",
         "x": [
          4.5
         ],
         "y": [
          -179
         ]
        },
        {
         "hoverinfo": "text",
         "hovertext": "",
         "marker": {
          "color": "blue",
          "size": 2
         },
         "mode": "markers+text",
         "text": "5 Star",
         "textfont": {
          "size": 8
         },
         "textposition": "bottom center",
         "type": "scatter",
         "x": [
          6
         ],
         "y": [
          -180
         ]
        },
        {
         "hoverinfo": "text",
         "hovertext": "Nike Court Borough Mid 2 GS 'White University Red'",
         "marker": {
          "color": "blue",
          "size": 2
         },
         "mode": "markers+text",
         "text": "Shoe",
         "textfont": {
          "size": 8
         },
         "textposition": "bottom center",
         "type": "scatter",
         "x": [
          7.5
         ],
         "y": [
          -181
         ]
        },
        {
         "hoverinfo": "text",
         "hovertext": "",
         "marker": {
          "color": "blue",
          "size": 2
         },
         "mode": "markers+text",
         "text": "Walmart",
         "textfont": {
          "size": 8
         },
         "textposition": "bottom center",
         "type": "scatter",
         "x": [
          3
         ],
         "y": [
          -182
         ]
        },
        {
         "hoverinfo": "text",
         "hovertext": "",
         "marker": {
          "color": "blue",
          "size": 2
         },
         "mode": "markers+text",
         "text": "Low",
         "textfont": {
          "size": 8
         },
         "textposition": "bottom center",
         "type": "scatter",
         "x": [
          4.5
         ],
         "y": [
          -183
         ]
        },
        {
         "hoverinfo": "text",
         "hovertext": "",
         "marker": {
          "color": "blue",
          "size": 2
         },
         "mode": "markers+text",
         "text": "5 Star",
         "textfont": {
          "size": 8
         },
         "textposition": "bottom center",
         "type": "scatter",
         "x": [
          6
         ],
         "y": [
          -184
         ]
        },
        {
         "hoverinfo": "text",
         "hovertext": "Time and Tru Women's Casual Lace Up Sneakers - Wide Width Available, Red",
         "marker": {
          "color": "blue",
          "size": 2
         },
         "mode": "markers+text",
         "text": "Shoe",
         "textfont": {
          "size": 8
         },
         "textposition": "bottom center",
         "type": "scatter",
         "x": [
          7.5
         ],
         "y": [
          -185
         ]
        },
        {
         "hoverinfo": "text",
         "hovertext": "",
         "marker": {
          "color": "blue",
          "size": 2
         },
         "mode": "markers+text",
         "text": "Academy Sports + Outdoors",
         "textfont": {
          "size": 8
         },
         "textposition": "bottom center",
         "type": "scatter",
         "x": [
          3
         ],
         "y": [
          -186
         ]
        },
        {
         "hoverinfo": "text",
         "hovertext": "",
         "marker": {
          "color": "blue",
          "size": 2
         },
         "mode": "markers+text",
         "text": "Medium",
         "textfont": {
          "size": 8
         },
         "textposition": "bottom center",
         "type": "scatter",
         "x": [
          4.5
         ],
         "y": [
          -187
         ]
        },
        {
         "hoverinfo": "text",
         "hovertext": "",
         "marker": {
          "color": "blue",
          "size": 2
         },
         "mode": "markers+text",
         "text": "5 Star",
         "textfont": {
          "size": 8
         },
         "textposition": "bottom center",
         "type": "scatter",
         "x": [
          6
         ],
         "y": [
          -188
         ]
        },
        {
         "hoverinfo": "text",
         "hovertext": "Nike Men's KD Trey 5 x Basketball Shoes in Red, Size: 9.5 | DD9538-601",
         "marker": {
          "color": "blue",
          "size": 2
         },
         "mode": "markers+text",
         "text": "Shoe",
         "textfont": {
          "size": 8
         },
         "textposition": "bottom center",
         "type": "scatter",
         "x": [
          7.5
         ],
         "y": [
          -189
         ]
        },
        {
         "hoverinfo": "text",
         "hovertext": "",
         "marker": {
          "color": "blue",
          "size": 2
         },
         "mode": "markers+text",
         "text": "Kohl's",
         "textfont": {
          "size": 8
         },
         "textposition": "bottom center",
         "type": "scatter",
         "x": [
          3
         ],
         "y": [
          -190
         ]
        },
        {
         "hoverinfo": "text",
         "hovertext": "",
         "marker": {
          "color": "blue",
          "size": 2
         },
         "mode": "markers+text",
         "text": "Medium",
         "textfont": {
          "size": 8
         },
         "textposition": "bottom center",
         "type": "scatter",
         "x": [
          4.5
         ],
         "y": [
          -191
         ]
        },
        {
         "hoverinfo": "text",
         "hovertext": "",
         "marker": {
          "color": "blue",
          "size": 2
         },
         "mode": "markers+text",
         "text": "Unknown",
         "textfont": {
          "size": 8
         },
         "textposition": "bottom center",
         "type": "scatter",
         "x": [
          6
         ],
         "y": [
          -192
         ]
        },
        {
         "hoverinfo": "text",
         "hovertext": "Olivia Miller Erin Women's High-Top Sneakers, Size: 10, Red",
         "marker": {
          "color": "blue",
          "size": 2
         },
         "mode": "markers+text",
         "text": "Shoe",
         "textfont": {
          "size": 8
         },
         "textposition": "bottom center",
         "type": "scatter",
         "x": [
          7.5
         ],
         "y": [
          -193
         ]
        },
        {
         "hoverinfo": "text",
         "hovertext": "",
         "marker": {
          "color": "blue",
          "size": 2
         },
         "mode": "markers+text",
         "text": "Handball-Store US",
         "textfont": {
          "size": 8
         },
         "textposition": "bottom center",
         "type": "scatter",
         "x": [
          3
         ],
         "y": [
          -194
         ]
        },
        {
         "hoverinfo": "text",
         "hovertext": "",
         "marker": {
          "color": "blue",
          "size": 2
         },
         "mode": "markers+text",
         "text": "Medium",
         "textfont": {
          "size": 8
         },
         "textposition": "bottom center",
         "type": "scatter",
         "x": [
          4.5
         ],
         "y": [
          -195
         ]
        },
        {
         "hoverinfo": "text",
         "hovertext": "",
         "marker": {
          "color": "blue",
          "size": 2
         },
         "mode": "markers+text",
         "text": "5 Star",
         "textfont": {
          "size": 8
         },
         "textposition": "bottom center",
         "type": "scatter",
         "x": [
          6
         ],
         "y": [
          -196
         ]
        },
        {
         "hoverinfo": "text",
         "hovertext": "Nike Men's Court Vision Mid Winter Shoes in Red, Size: 6 | DR7882-600",
         "marker": {
          "color": "blue",
          "size": 2
         },
         "mode": "markers+text",
         "text": "Shoe",
         "textfont": {
          "size": 8
         },
         "textposition": "bottom center",
         "type": "scatter",
         "x": [
          7.5
         ],
         "y": [
          -197
         ]
        },
        {
         "hoverinfo": "text",
         "hovertext": "",
         "marker": {
          "color": "blue",
          "size": 2
         },
         "mode": "markers+text",
         "text": "Poshmark",
         "textfont": {
          "size": 8
         },
         "textposition": "bottom center",
         "type": "scatter",
         "x": [
          3
         ],
         "y": [
          -198
         ]
        },
        {
         "hoverinfo": "text",
         "hovertext": "",
         "marker": {
          "color": "blue",
          "size": 2
         },
         "mode": "markers+text",
         "text": "Medium",
         "textfont": {
          "size": 8
         },
         "textposition": "bottom center",
         "type": "scatter",
         "x": [
          4.5
         ],
         "y": [
          -199
         ]
        },
        {
         "hoverinfo": "text",
         "hovertext": "",
         "marker": {
          "color": "blue",
          "size": 2
         },
         "mode": "markers+text",
         "text": "5 Star",
         "textfont": {
          "size": 8
         },
         "textposition": "bottom center",
         "type": "scatter",
         "x": [
          6
         ],
         "y": [
          -200
         ]
        },
        {
         "hoverinfo": "text",
         "hovertext": "Adidas Mens Originals Top Ten RB - Basketball Shoes Vivid Red/Vivid Red Size 11.0",
         "marker": {
          "color": "blue",
          "size": 2
         },
         "mode": "markers+text",
         "text": "Shoe",
         "textfont": {
          "size": 8
         },
         "textposition": "bottom center",
         "type": "scatter",
         "x": [
          7.5
         ],
         "y": [
          -201
         ]
        },
        {
         "hoverinfo": "text",
         "hovertext": "",
         "marker": {
          "color": "blue",
          "size": 2
         },
         "mode": "markers+text",
         "text": "Sears - Built4Speed",
         "textfont": {
          "size": 8
         },
         "textposition": "bottom center",
         "type": "scatter",
         "x": [
          3
         ],
         "y": [
          -202
         ]
        },
        {
         "hoverinfo": "text",
         "hovertext": "",
         "marker": {
          "color": "blue",
          "size": 2
         },
         "mode": "markers+text",
         "text": "High",
         "textfont": {
          "size": 8
         },
         "textposition": "bottom center",
         "type": "scatter",
         "x": [
          4.5
         ],
         "y": [
          -203
         ]
        },
        {
         "hoverinfo": "text",
         "hovertext": "",
         "marker": {
          "color": "blue",
          "size": 2
         },
         "mode": "markers+text",
         "text": "Unknown",
         "textfont": {
          "size": 8
         },
         "textposition": "bottom center",
         "type": "scatter",
         "x": [
          6
         ],
         "y": [
          -204
         ]
        },
        {
         "hoverinfo": "text",
         "hovertext": "Nike Men's Air Max SC Running Sneaker, Red",
         "marker": {
          "color": "blue",
          "size": 2
         },
         "mode": "markers+text",
         "text": "Shoe",
         "textfont": {
          "size": 8
         },
         "textposition": "bottom center",
         "type": "scatter",
         "x": [
          7.5
         ],
         "y": [
          -205
         ]
        },
        {
         "hoverinfo": "text",
         "hovertext": "",
         "marker": {
          "color": "blue",
          "size": 2
         },
         "mode": "markers+text",
         "text": "shop.com",
         "textfont": {
          "size": 8
         },
         "textposition": "bottom center",
         "type": "scatter",
         "x": [
          3
         ],
         "y": [
          -206
         ]
        },
        {
         "hoverinfo": "text",
         "hovertext": "",
         "marker": {
          "color": "blue",
          "size": 2
         },
         "mode": "markers+text",
         "text": "Low",
         "textfont": {
          "size": 8
         },
         "textposition": "bottom center",
         "type": "scatter",
         "x": [
          4.5
         ],
         "y": [
          -207
         ]
        },
        {
         "hoverinfo": "text",
         "hovertext": "",
         "marker": {
          "color": "blue",
          "size": 2
         },
         "mode": "markers+text",
         "text": "3 Star",
         "textfont": {
          "size": 8
         },
         "textposition": "bottom center",
         "type": "scatter",
         "x": [
          6
         ],
         "y": [
          -208
         ]
        },
        {
         "hoverinfo": "text",
         "hovertext": "Wanted Torque Women's Shoe (Red - Size 9 - Knit)",
         "marker": {
          "color": "blue",
          "size": 2
         },
         "mode": "markers+text",
         "text": "Shoe",
         "textfont": {
          "size": 8
         },
         "textposition": "bottom center",
         "type": "scatter",
         "x": [
          7.5
         ],
         "y": [
          -209
         ]
        },
        {
         "hoverinfo": "text",
         "hovertext": "",
         "marker": {
          "color": "blue",
          "size": 2
         },
         "mode": "markers+text",
         "text": "Rainbow Shops",
         "textfont": {
          "size": 8
         },
         "textposition": "bottom center",
         "type": "scatter",
         "x": [
          3
         ],
         "y": [
          -210
         ]
        },
        {
         "hoverinfo": "text",
         "hovertext": "",
         "marker": {
          "color": "blue",
          "size": 2
         },
         "mode": "markers+text",
         "text": "Low",
         "textfont": {
          "size": 8
         },
         "textposition": "bottom center",
         "type": "scatter",
         "x": [
          4.5
         ],
         "y": [
          -211
         ]
        },
        {
         "hoverinfo": "text",
         "hovertext": "",
         "marker": {
          "color": "blue",
          "size": 2
         },
         "mode": "markers+text",
         "text": "Unknown",
         "textfont": {
          "size": 8
         },
         "textposition": "bottom center",
         "type": "scatter",
         "x": [
          6
         ],
         "y": [
          -212
         ]
        },
        {
         "hoverinfo": "text",
         "hovertext": "Womens Lace Up Chunky Sole High Top Sneakers, Red, Size 10 | Rainbow Shops",
         "marker": {
          "color": "blue",
          "size": 2
         },
         "mode": "markers+text",
         "text": "Shoe",
         "textfont": {
          "size": 8
         },
         "textposition": "bottom center",
         "type": "scatter",
         "x": [
          7.5
         ],
         "y": [
          -213
         ]
        },
        {
         "hoverinfo": "text",
         "hovertext": "",
         "marker": {
          "color": "blue",
          "size": 2
         },
         "mode": "markers+text",
         "text": "Coach Outlet",
         "textfont": {
          "size": 8
         },
         "textposition": "bottom center",
         "type": "scatter",
         "x": [
          3
         ],
         "y": [
          -214
         ]
        },
        {
         "hoverinfo": "text",
         "hovertext": "",
         "marker": {
          "color": "blue",
          "size": 2
         },
         "mode": "markers+text",
         "text": "High",
         "textfont": {
          "size": 8
         },
         "textposition": "bottom center",
         "type": "scatter",
         "x": [
          4.5
         ],
         "y": [
          -215
         ]
        },
        {
         "hoverinfo": "text",
         "hovertext": "",
         "marker": {
          "color": "blue",
          "size": 2
         },
         "mode": "markers+text",
         "text": "Unknown",
         "textfont": {
          "size": 8
         },
         "textposition": "bottom center",
         "type": "scatter",
         "x": [
          6
         ],
         "y": [
          -216
         ]
        },
        {
         "hoverinfo": "text",
         "hovertext": "Coach Citysole High Top Sneaker with Trompe L'oeil Size 8 - Sport Red/steam",
         "marker": {
          "color": "blue",
          "size": 2
         },
         "mode": "markers+text",
         "text": "Shoe",
         "textfont": {
          "size": 8
         },
         "textposition": "bottom center",
         "type": "scatter",
         "x": [
          7.5
         ],
         "y": [
          -217
         ]
        },
        {
         "hoverinfo": "text",
         "hovertext": "",
         "marker": {
          "color": "blue",
          "size": 2
         },
         "mode": "markers+text",
         "text": "black",
         "textfont": {
          "size": 8
         },
         "textposition": "bottom center",
         "type": "scatter",
         "x": [
          1.5
         ],
         "y": [
          -218
         ]
        },
        {
         "hoverinfo": "text",
         "hovertext": "",
         "marker": {
          "color": "blue",
          "size": 2
         },
         "mode": "markers+text",
         "text": "Zara USA",
         "textfont": {
          "size": 8
         },
         "textposition": "bottom center",
         "type": "scatter",
         "x": [
          3
         ],
         "y": [
          -219
         ]
        },
        {
         "hoverinfo": "text",
         "hovertext": "",
         "marker": {
          "color": "blue",
          "size": 2
         },
         "mode": "markers+text",
         "text": "Low",
         "textfont": {
          "size": 8
         },
         "textposition": "bottom center",
         "type": "scatter",
         "x": [
          4.5
         ],
         "y": [
          -220
         ]
        },
        {
         "hoverinfo": "text",
         "hovertext": "",
         "marker": {
          "color": "blue",
          "size": 2
         },
         "mode": "markers+text",
         "text": "Unknown",
         "textfont": {
          "size": 8
         },
         "textposition": "bottom center",
         "type": "scatter",
         "x": [
          6
         ],
         "y": [
          -221
         ]
        },
        {
         "hoverinfo": "text",
         "hovertext": "Zara - Solid Color Sneakers - Black - Men",
         "marker": {
          "color": "blue",
          "size": 2
         },
         "mode": "markers+text",
         "text": "Shoe",
         "textfont": {
          "size": 8
         },
         "textposition": "bottom center",
         "type": "scatter",
         "x": [
          7.5
         ],
         "y": [
          -222
         ]
        },
        {
         "hoverinfo": "text",
         "hovertext": "Zara - Single Color High Tops - Black - Men",
         "marker": {
          "color": "blue",
          "size": 2
         },
         "mode": "markers+text",
         "text": "Shoe",
         "textfont": {
          "size": 8
         },
         "textposition": "bottom center",
         "type": "scatter",
         "x": [
          7.5
         ],
         "y": [
          -223
         ]
        },
        {
         "hoverinfo": "text",
         "hovertext": "Zara - Athletic Platform Sneakers - Black - Women",
         "marker": {
          "color": "blue",
          "size": 2
         },
         "mode": "markers+text",
         "text": "Shoe",
         "textfont": {
          "size": 8
         },
         "textposition": "bottom center",
         "type": "scatter",
         "x": [
          7.5
         ],
         "y": [
          -224
         ]
        },
        {
         "hoverinfo": "text",
         "hovertext": "",
         "marker": {
          "color": "blue",
          "size": 2
         },
         "mode": "markers+text",
         "text": "Medium",
         "textfont": {
          "size": 8
         },
         "textposition": "bottom center",
         "type": "scatter",
         "x": [
          4.5
         ],
         "y": [
          -225
         ]
        },
        {
         "hoverinfo": "text",
         "hovertext": "",
         "marker": {
          "color": "blue",
          "size": 2
         },
         "mode": "markers+text",
         "text": "Unknown",
         "textfont": {
          "size": 8
         },
         "textposition": "bottom center",
         "type": "scatter",
         "x": [
          6
         ],
         "y": [
          -226
         ]
        },
        {
         "hoverinfo": "text",
         "hovertext": "Zara - Striped Sole High Top Sneakers - Black - Men",
         "marker": {
          "color": "blue",
          "size": 2
         },
         "mode": "markers+text",
         "text": "Shoe",
         "textfont": {
          "size": 8
         },
         "textposition": "bottom center",
         "type": "scatter",
         "x": [
          7.5
         ],
         "y": [
          -227
         ]
        },
        {
         "hoverinfo": "text",
         "hovertext": "",
         "marker": {
          "color": "blue",
          "size": 2
         },
         "mode": "markers+text",
         "text": "Amazon.com",
         "textfont": {
          "size": 8
         },
         "textposition": "bottom center",
         "type": "scatter",
         "x": [
          3
         ],
         "y": [
          -228
         ]
        },
        {
         "hoverinfo": "text",
         "hovertext": "",
         "marker": {
          "color": "blue",
          "size": 2
         },
         "mode": "markers+text",
         "text": "Medium",
         "textfont": {
          "size": 8
         },
         "textposition": "bottom center",
         "type": "scatter",
         "x": [
          4.5
         ],
         "y": [
          -229
         ]
        },
        {
         "hoverinfo": "text",
         "hovertext": "",
         "marker": {
          "color": "blue",
          "size": 2
         },
         "mode": "markers+text",
         "text": "Unknown",
         "textfont": {
          "size": 8
         },
         "textposition": "bottom center",
         "type": "scatter",
         "x": [
          6
         ],
         "y": [
          -230
         ]
        },
        {
         "hoverinfo": "text",
         "hovertext": "Adidas Forum Low Men's Shoes in Black/Black/Gum Size 12 | WSS",
         "marker": {
          "color": "blue",
          "size": 2
         },
         "mode": "markers+text",
         "text": "Shoe",
         "textfont": {
          "size": 8
         },
         "textposition": "bottom center",
         "type": "scatter",
         "x": [
          7.5
         ],
         "y": [
          -231
         ]
        },
        {
         "hoverinfo": "text",
         "hovertext": "",
         "marker": {
          "color": "blue",
          "size": 2
         },
         "mode": "markers+text",
         "text": "Vans",
         "textfont": {
          "size": 8
         },
         "textposition": "bottom center",
         "type": "scatter",
         "x": [
          3
         ],
         "y": [
          -232
         ]
        },
        {
         "hoverinfo": "text",
         "hovertext": "",
         "marker": {
          "color": "blue",
          "size": 2
         },
         "mode": "markers+text",
         "text": "Low",
         "textfont": {
          "size": 8
         },
         "textposition": "bottom center",
         "type": "scatter",
         "x": [
          4.5
         ],
         "y": [
          -233
         ]
        },
        {
         "hoverinfo": "text",
         "hovertext": "",
         "marker": {
          "color": "blue",
          "size": 2
         },
         "mode": "markers+text",
         "text": "5 Star",
         "textfont": {
          "size": 8
         },
         "textposition": "bottom center",
         "type": "scatter",
         "x": [
          6
         ],
         "y": [
          -234
         ]
        },
        {
         "hoverinfo": "text",
         "hovertext": "Vans Old Skool Black Black",
         "marker": {
          "color": "blue",
          "size": 2
         },
         "mode": "markers+text",
         "text": "Shoe",
         "textfont": {
          "size": 8
         },
         "textposition": "bottom center",
         "type": "scatter",
         "x": [
          7.5
         ],
         "y": [
          -235
         ]
        },
        {
         "hoverinfo": "text",
         "hovertext": "",
         "marker": {
          "color": "blue",
          "size": 2
         },
         "mode": "markers+text",
         "text": "adidas",
         "textfont": {
          "size": 8
         },
         "textposition": "bottom center",
         "type": "scatter",
         "x": [
          3
         ],
         "y": [
          -236
         ]
        },
        {
         "hoverinfo": "text",
         "hovertext": "",
         "marker": {
          "color": "blue",
          "size": 2
         },
         "mode": "markers+text",
         "text": "Medium",
         "textfont": {
          "size": 8
         },
         "textposition": "bottom center",
         "type": "scatter",
         "x": [
          4.5
         ],
         "y": [
          -237
         ]
        },
        {
         "hoverinfo": "text",
         "hovertext": "",
         "marker": {
          "color": "blue",
          "size": 2
         },
         "mode": "markers+text",
         "text": "5 Star",
         "textfont": {
          "size": 8
         },
         "textposition": "bottom center",
         "type": "scatter",
         "x": [
          6
         ],
         "y": [
          -238
         ]
        },
        {
         "hoverinfo": "text",
         "hovertext": "Adidas Swift Run 1.0 Shoes - Men's - Core Black / Core Black - 8.5",
         "marker": {
          "color": "blue",
          "size": 2
         },
         "mode": "markers+text",
         "text": "Shoe",
         "textfont": {
          "size": 8
         },
         "textposition": "bottom center",
         "type": "scatter",
         "x": [
          7.5
         ],
         "y": [
          -239
         ]
        },
        {
         "hoverinfo": "text",
         "hovertext": "",
         "marker": {
          "color": "blue",
          "size": 2
         },
         "mode": "markers+text",
         "text": "Finish Line",
         "textfont": {
          "size": 8
         },
         "textposition": "bottom center",
         "type": "scatter",
         "x": [
          3
         ],
         "y": [
          -240
         ]
        },
        {
         "hoverinfo": "text",
         "hovertext": "",
         "marker": {
          "color": "blue",
          "size": 2
         },
         "mode": "markers+text",
         "text": "Low",
         "textfont": {
          "size": 8
         },
         "textposition": "bottom center",
         "type": "scatter",
         "x": [
          4.5
         ],
         "y": [
          -241
         ]
        },
        {
         "hoverinfo": "text",
         "hovertext": "",
         "marker": {
          "color": "blue",
          "size": 2
         },
         "mode": "markers+text",
         "text": "5 Star",
         "textfont": {
          "size": 8
         },
         "textposition": "bottom center",
         "type": "scatter",
         "x": [
          6
         ],
         "y": [
          -242
         ]
        },
        {
         "hoverinfo": "text",
         "hovertext": "Nike Court Vision Low Black Men's Shoes, Size: 12",
         "marker": {
          "color": "blue",
          "size": 2
         },
         "mode": "markers+text",
         "text": "Shoe",
         "textfont": {
          "size": 8
         },
         "textposition": "bottom center",
         "type": "scatter",
         "x": [
          7.5
         ],
         "y": [
          -243
         ]
        },
        {
         "hoverinfo": "text",
         "hovertext": "",
         "marker": {
          "color": "blue",
          "size": 2
         },
         "mode": "markers+text",
         "text": "DICK'S Sporting Goods",
         "textfont": {
          "size": 8
         },
         "textposition": "bottom center",
         "type": "scatter",
         "x": [
          3
         ],
         "y": [
          -244
         ]
        },
        {
         "hoverinfo": "text",
         "hovertext": "",
         "marker": {
          "color": "blue",
          "size": 2
         },
         "mode": "markers+text",
         "text": "Medium",
         "textfont": {
          "size": 8
         },
         "textposition": "bottom center",
         "type": "scatter",
         "x": [
          4.5
         ],
         "y": [
          -245
         ]
        },
        {
         "hoverinfo": "text",
         "hovertext": "",
         "marker": {
          "color": "blue",
          "size": 2
         },
         "mode": "markers+text",
         "text": "5 Star",
         "textfont": {
          "size": 8
         },
         "textposition": "bottom center",
         "type": "scatter",
         "x": [
          6
         ],
         "y": [
          -246
         ]
        },
        {
         "hoverinfo": "text",
         "hovertext": "Adidas Swift Run Shoes - Women's - Core Black / Core Black - 7",
         "marker": {
          "color": "blue",
          "size": 2
         },
         "mode": "markers+text",
         "text": "Shoe",
         "textfont": {
          "size": 8
         },
         "textposition": "bottom center",
         "type": "scatter",
         "x": [
          7.5
         ],
         "y": [
          -247
         ]
        },
        {
         "hoverinfo": "text",
         "hovertext": "",
         "marker": {
          "color": "blue",
          "size": 2
         },
         "mode": "markers+text",
         "text": "Wolf & Shepherd",
         "textfont": {
          "size": 8
         },
         "textposition": "bottom center",
         "type": "scatter",
         "x": [
          3
         ],
         "y": [
          -248
         ]
        },
        {
         "hoverinfo": "text",
         "hovertext": "",
         "marker": {
          "color": "blue",
          "size": 2
         },
         "mode": "markers+text",
         "text": "High",
         "textfont": {
          "size": 8
         },
         "textposition": "bottom center",
         "type": "scatter",
         "x": [
          4.5
         ],
         "y": [
          -249
         ]
        },
        {
         "hoverinfo": "text",
         "hovertext": "",
         "marker": {
          "color": "blue",
          "size": 2
         },
         "mode": "markers+text",
         "text": "5 Star",
         "textfont": {
          "size": 8
         },
         "textposition": "bottom center",
         "type": "scatter",
         "x": [
          6
         ],
         "y": [
          -250
         ]
        },
        {
         "hoverinfo": "text",
         "hovertext": "Wolf & Shepherd - Crossover Victory Trainer - Black / Black",
         "marker": {
          "color": "blue",
          "size": 2
         },
         "mode": "markers+text",
         "text": "Shoe",
         "textfont": {
          "size": 8
         },
         "textposition": "bottom center",
         "type": "scatter",
         "x": [
          7.5
         ],
         "y": [
          -251
         ]
        },
        {
         "hoverinfo": "text",
         "hovertext": "",
         "marker": {
          "color": "blue",
          "size": 2
         },
         "mode": "markers+text",
         "text": "ShopWSS",
         "textfont": {
          "size": 8
         },
         "textposition": "bottom center",
         "type": "scatter",
         "x": [
          3
         ],
         "y": [
          -252
         ]
        },
        {
         "hoverinfo": "text",
         "hovertext": "",
         "marker": {
          "color": "blue",
          "size": 2
         },
         "mode": "markers+text",
         "text": "Medium",
         "textfont": {
          "size": 8
         },
         "textposition": "bottom center",
         "type": "scatter",
         "x": [
          4.5
         ],
         "y": [
          -253
         ]
        },
        {
         "hoverinfo": "text",
         "hovertext": "",
         "marker": {
          "color": "blue",
          "size": 2
         },
         "mode": "markers+text",
         "text": "5 Star",
         "textfont": {
          "size": 8
         },
         "textposition": "bottom center",
         "type": "scatter",
         "x": [
          6
         ],
         "y": [
          -254
         ]
        },
        {
         "hoverinfo": "text",
         "hovertext": "Puma GV Special Black 10",
         "marker": {
          "color": "blue",
          "size": 2
         },
         "mode": "markers+text",
         "text": "Shoe",
         "textfont": {
          "size": 8
         },
         "textposition": "bottom center",
         "type": "scatter",
         "x": [
          7.5
         ],
         "y": [
          -255
         ]
        },
        {
         "hoverinfo": "text",
         "hovertext": "",
         "marker": {
          "color": "blue",
          "size": 2
         },
         "mode": "markers+text",
         "text": "ALDO Shoes",
         "textfont": {
          "size": 8
         },
         "textposition": "bottom center",
         "type": "scatter",
         "x": [
          3
         ],
         "y": [
          -256
         ]
        },
        {
         "hoverinfo": "text",
         "hovertext": "",
         "marker": {
          "color": "blue",
          "size": 2
         },
         "mode": "markers+text",
         "text": "Medium",
         "textfont": {
          "size": 8
         },
         "textposition": "bottom center",
         "type": "scatter",
         "x": [
          4.5
         ],
         "y": [
          -257
         ]
        },
        {
         "hoverinfo": "text",
         "hovertext": "",
         "marker": {
          "color": "blue",
          "size": 2
         },
         "mode": "markers+text",
         "text": "Unknown",
         "textfont": {
          "size": 8
         },
         "textposition": "bottom center",
         "type": "scatter",
         "x": [
          6
         ],
         "y": [
          -258
         ]
        },
        {
         "hoverinfo": "text",
         "hovertext": "ALDO Montague - Men's High Top Sneakers - Black, Size 12",
         "marker": {
          "color": "blue",
          "size": 2
         },
         "mode": "markers+text",
         "text": "Shoe",
         "textfont": {
          "size": 8
         },
         "textposition": "bottom center",
         "type": "scatter",
         "x": [
          7.5
         ],
         "y": [
          -259
         ]
        },
        {
         "hoverinfo": "text",
         "hovertext": "ALDO Antonio - Men's High Top Sneakers - Black, Size 8",
         "marker": {
          "color": "blue",
          "size": 2
         },
         "mode": "markers+text",
         "text": "Shoe",
         "textfont": {
          "size": 8
         },
         "textposition": "bottom center",
         "type": "scatter",
         "x": [
          7.5
         ],
         "y": [
          -260
         ]
        },
        {
         "hoverinfo": "text",
         "hovertext": "",
         "marker": {
          "color": "blue",
          "size": 2
         },
         "mode": "markers+text",
         "text": "High",
         "textfont": {
          "size": 8
         },
         "textposition": "bottom center",
         "type": "scatter",
         "x": [
          4.5
         ],
         "y": [
          -261
         ]
        },
        {
         "hoverinfo": "text",
         "hovertext": "",
         "marker": {
          "color": "blue",
          "size": 2
         },
         "mode": "markers+text",
         "text": "Unknown",
         "textfont": {
          "size": 8
         },
         "textposition": "bottom center",
         "type": "scatter",
         "x": [
          6
         ],
         "y": [
          -262
         ]
        },
        {
         "hoverinfo": "text",
         "hovertext": "ALDO Estanqueiro - Men's High Top Sneakers - Black, Size 10.5",
         "marker": {
          "color": "blue",
          "size": 2
         },
         "mode": "markers+text",
         "text": "Shoe",
         "textfont": {
          "size": 8
         },
         "textposition": "bottom center",
         "type": "scatter",
         "x": [
          7.5
         ],
         "y": [
          -263
         ]
        },
        {
         "hoverinfo": "text",
         "hovertext": "",
         "marker": {
          "color": "blue",
          "size": 2
         },
         "mode": "markers+text",
         "text": "DSW",
         "textfont": {
          "size": 8
         },
         "textposition": "bottom center",
         "type": "scatter",
         "x": [
          3
         ],
         "y": [
          -264
         ]
        },
        {
         "hoverinfo": "text",
         "hovertext": "",
         "marker": {
          "color": "blue",
          "size": 2
         },
         "mode": "markers+text",
         "text": "Medium",
         "textfont": {
          "size": 8
         },
         "textposition": "bottom center",
         "type": "scatter",
         "x": [
          4.5
         ],
         "y": [
          -265
         ]
        },
        {
         "hoverinfo": "text",
         "hovertext": "",
         "marker": {
          "color": "blue",
          "size": 2
         },
         "mode": "markers+text",
         "text": "5 Star",
         "textfont": {
          "size": 8
         },
         "textposition": "bottom center",
         "type": "scatter",
         "x": [
          6
         ],
         "y": [
          -266
         ]
        },
        {
         "hoverinfo": "text",
         "hovertext": "Adidas Daily 3.0 9.5 Men's Black",
         "marker": {
          "color": "blue",
          "size": 2
         },
         "mode": "markers+text",
         "text": "Shoe",
         "textfont": {
          "size": 8
         },
         "textposition": "bottom center",
         "type": "scatter",
         "x": [
          7.5
         ],
         "y": [
          -267
         ]
        },
        {
         "hoverinfo": "text",
         "hovertext": "",
         "marker": {
          "color": "blue",
          "size": 2
         },
         "mode": "markers+text",
         "text": "Nothing New",
         "textfont": {
          "size": 8
         },
         "textposition": "bottom center",
         "type": "scatter",
         "x": [
          3
         ],
         "y": [
          -268
         ]
        },
        {
         "hoverinfo": "text",
         "hovertext": "",
         "marker": {
          "color": "blue",
          "size": 2
         },
         "mode": "markers+text",
         "text": "Medium",
         "textfont": {
          "size": 8
         },
         "textposition": "bottom center",
         "type": "scatter",
         "x": [
          4.5
         ],
         "y": [
          -269
         ]
        },
        {
         "hoverinfo": "text",
         "hovertext": "",
         "marker": {
          "color": "blue",
          "size": 2
         },
         "mode": "markers+text",
         "text": "5 Star",
         "textfont": {
          "size": 8
         },
         "textposition": "bottom center",
         "type": "scatter",
         "x": [
          6
         ],
         "y": [
          -270
         ]
        },
        {
         "hoverinfo": "text",
         "hovertext": "Nothing New Men's Kicks Sustainable Canvas Low-top Sneaker | Black Gum Sole, Size 8.5",
         "marker": {
          "color": "blue",
          "size": 2
         },
         "mode": "markers+text",
         "text": "Shoe",
         "textfont": {
          "size": 8
         },
         "textposition": "bottom center",
         "type": "scatter",
         "x": [
          7.5
         ],
         "y": [
          -271
         ]
        },
        {
         "hoverinfo": "text",
         "hovertext": "",
         "marker": {
          "color": "blue",
          "size": 2
         },
         "mode": "markers+text",
         "text": "Target",
         "textfont": {
          "size": 8
         },
         "textposition": "bottom center",
         "type": "scatter",
         "x": [
          3
         ],
         "y": [
          -272
         ]
        },
        {
         "hoverinfo": "text",
         "hovertext": "",
         "marker": {
          "color": "blue",
          "size": 2
         },
         "mode": "markers+text",
         "text": "Low",
         "textfont": {
          "size": 8
         },
         "textposition": "bottom center",
         "type": "scatter",
         "x": [
          4.5
         ],
         "y": [
          -273
         ]
        },
        {
         "hoverinfo": "text",
         "hovertext": "",
         "marker": {
          "color": "blue",
          "size": 2
         },
         "mode": "markers+text",
         "text": "5 Star",
         "textfont": {
          "size": 8
         },
         "textposition": "bottom center",
         "type": "scatter",
         "x": [
          6
         ],
         "y": [
          -274
         ]
        },
        {
         "hoverinfo": "text",
         "hovertext": "Men's Brady Canvas Sneakers - Goodfellow & Co Black 13",
         "marker": {
          "color": "blue",
          "size": 2
         },
         "mode": "markers+text",
         "text": "Shoe",
         "textfont": {
          "size": 8
         },
         "textposition": "bottom center",
         "type": "scatter",
         "x": [
          7.5
         ],
         "y": [
          -275
         ]
        },
        {
         "hoverinfo": "text",
         "hovertext": "",
         "marker": {
          "color": "blue",
          "size": 2
         },
         "mode": "markers+text",
         "text": "New Balance",
         "textfont": {
          "size": 8
         },
         "textposition": "bottom center",
         "type": "scatter",
         "x": [
          3
         ],
         "y": [
          -276
         ]
        },
        {
         "hoverinfo": "text",
         "hovertext": "",
         "marker": {
          "color": "blue",
          "size": 2
         },
         "mode": "markers+text",
         "text": "High",
         "textfont": {
          "size": 8
         },
         "textposition": "bottom center",
         "type": "scatter",
         "x": [
          4.5
         ],
         "y": [
          -277
         ]
        },
        {
         "hoverinfo": "text",
         "hovertext": "",
         "marker": {
          "color": "blue",
          "size": 2
         },
         "mode": "markers+text",
         "text": "5 Star",
         "textfont": {
          "size": 8
         },
         "textposition": "bottom center",
         "type": "scatter",
         "x": [
          6
         ],
         "y": [
          -278
         ]
        },
        {
         "hoverinfo": "text",
         "hovertext": "New Balance Black 9060 Sneakers",
         "marker": {
          "color": "blue",
          "size": 2
         },
         "mode": "markers+text",
         "text": "Shoe",
         "textfont": {
          "size": 8
         },
         "textposition": "bottom center",
         "type": "scatter",
         "x": [
          7.5
         ],
         "y": [
          -279
         ]
        },
        {
         "hoverinfo": "text",
         "hovertext": "",
         "marker": {
          "color": "blue",
          "size": 2
         },
         "mode": "markers+text",
         "text": "Nike",
         "textfont": {
          "size": 8
         },
         "textposition": "bottom center",
         "type": "scatter",
         "x": [
          3
         ],
         "y": [
          -280
         ]
        },
        {
         "hoverinfo": "text",
         "hovertext": "",
         "marker": {
          "color": "blue",
          "size": 2
         },
         "mode": "markers+text",
         "text": "High",
         "textfont": {
          "size": 8
         },
         "textposition": "bottom center",
         "type": "scatter",
         "x": [
          4.5
         ],
         "y": [
          -281
         ]
        },
        {
         "hoverinfo": "text",
         "hovertext": "",
         "marker": {
          "color": "blue",
          "size": 2
         },
         "mode": "markers+text",
         "text": "5 Star",
         "textfont": {
          "size": 8
         },
         "textposition": "bottom center",
         "type": "scatter",
         "x": [
          6
         ],
         "y": [
          -282
         ]
        },
        {
         "hoverinfo": "text",
         "hovertext": "Air Jordan 1 Mid 'Triple Black' 2022",
         "marker": {
          "color": "blue",
          "size": 2
         },
         "mode": "markers+text",
         "text": "Shoe",
         "textfont": {
          "size": 8
         },
         "textposition": "bottom center",
         "type": "scatter",
         "x": [
          7.5
         ],
         "y": [
          -283
         ]
        },
        {
         "hoverinfo": "text",
         "hovertext": "",
         "marker": {
          "color": "blue",
          "size": 2
         },
         "mode": "markers+text",
         "text": "ASOS",
         "textfont": {
          "size": 8
         },
         "textposition": "bottom center",
         "type": "scatter",
         "x": [
          3
         ],
         "y": [
          -284
         ]
        },
        {
         "hoverinfo": "text",
         "hovertext": "",
         "marker": {
          "color": "blue",
          "size": 2
         },
         "mode": "markers+text",
         "text": "Low",
         "textfont": {
          "size": 8
         },
         "textposition": "bottom center",
         "type": "scatter",
         "x": [
          4.5
         ],
         "y": [
          -285
         ]
        },
        {
         "hoverinfo": "text",
         "hovertext": "",
         "marker": {
          "color": "blue",
          "size": 2
         },
         "mode": "markers+text",
         "text": "4 Star",
         "textfont": {
          "size": 8
         },
         "textposition": "bottom center",
         "type": "scatter",
         "x": [
          6
         ],
         "y": [
          -286
         ]
        },
        {
         "hoverinfo": "text",
         "hovertext": "ASOS Design Sneakers in Black",
         "marker": {
          "color": "blue",
          "size": 2
         },
         "mode": "markers+text",
         "text": "Shoe",
         "textfont": {
          "size": 8
         },
         "textposition": "bottom center",
         "type": "scatter",
         "x": [
          7.5
         ],
         "y": [
          -287
         ]
        },
        {
         "hoverinfo": "text",
         "hovertext": "",
         "marker": {
          "color": "blue",
          "size": 2
         },
         "mode": "markers+text",
         "text": "Nordstrom Rack",
         "textfont": {
          "size": 8
         },
         "textposition": "bottom center",
         "type": "scatter",
         "x": [
          3
         ],
         "y": [
          -288
         ]
        },
        {
         "hoverinfo": "text",
         "hovertext": "",
         "marker": {
          "color": "blue",
          "size": 2
         },
         "mode": "markers+text",
         "text": "Medium",
         "textfont": {
          "size": 8
         },
         "textposition": "bottom center",
         "type": "scatter",
         "x": [
          4.5
         ],
         "y": [
          -289
         ]
        },
        {
         "hoverinfo": "text",
         "hovertext": "",
         "marker": {
          "color": "blue",
          "size": 2
         },
         "mode": "markers+text",
         "text": "4 Star",
         "textfont": {
          "size": 8
         },
         "textposition": "bottom center",
         "type": "scatter",
         "x": [
          6
         ],
         "y": [
          -290
         ]
        },
        {
         "hoverinfo": "text",
         "hovertext": "Supply Lab Damian, Adult Unisex, Size: 9.5, Black",
         "marker": {
          "color": "blue",
          "size": 2
         },
         "mode": "markers+text",
         "text": "Shoe",
         "textfont": {
          "size": 8
         },
         "textposition": "bottom center",
         "type": "scatter",
         "x": [
          7.5
         ],
         "y": [
          -291
         ]
        },
        {
         "hoverinfo": "text",
         "hovertext": "",
         "marker": {
          "color": "blue",
          "size": 2
         },
         "mode": "markers+text",
         "text": "StockX",
         "textfont": {
          "size": 8
         },
         "textposition": "bottom center",
         "type": "scatter",
         "x": [
          3
         ],
         "y": [
          -292
         ]
        },
        {
         "hoverinfo": "text",
         "hovertext": "",
         "marker": {
          "color": "blue",
          "size": 2
         },
         "mode": "markers+text",
         "text": "Medium",
         "textfont": {
          "size": 8
         },
         "textposition": "bottom center",
         "type": "scatter",
         "x": [
          4.5
         ],
         "y": [
          -293
         ]
        },
        {
         "hoverinfo": "text",
         "hovertext": "",
         "marker": {
          "color": "blue",
          "size": 2
         },
         "mode": "markers+text",
         "text": "5 Star",
         "textfont": {
          "size": 8
         },
         "textposition": "bottom center",
         "type": "scatter",
         "x": [
          6
         ],
         "y": [
          -294
         ]
        },
        {
         "hoverinfo": "text",
         "hovertext": "New Balance Black 530 Sneakers",
         "marker": {
          "color": "blue",
          "size": 2
         },
         "mode": "markers+text",
         "text": "Shoe",
         "textfont": {
          "size": 8
         },
         "textposition": "bottom center",
         "type": "scatter",
         "x": [
          7.5
         ],
         "y": [
          -295
         ]
        },
        {
         "hoverinfo": "text",
         "hovertext": "",
         "marker": {
          "color": "blue",
          "size": 2
         },
         "mode": "markers+text",
         "text": "Free People",
         "textfont": {
          "size": 8
         },
         "textposition": "bottom center",
         "type": "scatter",
         "x": [
          3
         ],
         "y": [
          -296
         ]
        },
        {
         "hoverinfo": "text",
         "hovertext": "",
         "marker": {
          "color": "blue",
          "size": 2
         },
         "mode": "markers+text",
         "text": "Medium",
         "textfont": {
          "size": 8
         },
         "textposition": "bottom center",
         "type": "scatter",
         "x": [
          4.5
         ],
         "y": [
          -297
         ]
        },
        {
         "hoverinfo": "text",
         "hovertext": "",
         "marker": {
          "color": "blue",
          "size": 2
         },
         "mode": "markers+text",
         "text": "4 Star",
         "textfont": {
          "size": 8
         },
         "textposition": "bottom center",
         "type": "scatter",
         "x": [
          6
         ],
         "y": [
          -298
         ]
        },
        {
         "hoverinfo": "text",
         "hovertext": "in A Daze Sneakers by Jeffrey Campbell at Free People in Black, Size: US 10",
         "marker": {
          "color": "blue",
          "size": 2
         },
         "mode": "markers+text",
         "text": "Shoe",
         "textfont": {
          "size": 8
         },
         "textposition": "bottom center",
         "type": "scatter",
         "x": [
          7.5
         ],
         "y": [
          -299
         ]
        },
        {
         "hoverinfo": "text",
         "hovertext": "",
         "marker": {
          "color": "blue",
          "size": 2
         },
         "mode": "markers+text",
         "text": "Steve Madden",
         "textfont": {
          "size": 8
         },
         "textposition": "bottom center",
         "type": "scatter",
         "x": [
          3
         ],
         "y": [
          -300
         ]
        },
        {
         "hoverinfo": "text",
         "hovertext": "",
         "marker": {
          "color": "blue",
          "size": 2
         },
         "mode": "markers+text",
         "text": "High",
         "textfont": {
          "size": 8
         },
         "textposition": "bottom center",
         "type": "scatter",
         "x": [
          4.5
         ],
         "y": [
          -301
         ]
        },
        {
         "hoverinfo": "text",
         "hovertext": "",
         "marker": {
          "color": "blue",
          "size": 2
         },
         "mode": "markers+text",
         "text": "Unknown",
         "textfont": {
          "size": 8
         },
         "textposition": "bottom center",
         "type": "scatter",
         "x": [
          6
         ],
         "y": [
          -302
         ]
        },
        {
         "hoverinfo": "text",
         "hovertext": "Peek Black Men's Sneakers | Size 12 | by Steve Madden",
         "marker": {
          "color": "blue",
          "size": 2
         },
         "mode": "markers+text",
         "text": "Shoe",
         "textfont": {
          "size": 8
         },
         "textposition": "bottom center",
         "type": "scatter",
         "x": [
          7.5
         ],
         "y": [
          -303
         ]
        },
        {
         "hoverinfo": "text",
         "hovertext": "",
         "marker": {
          "color": "blue",
          "size": 2
         },
         "mode": "markers+text",
         "text": "Walmart - Advanced Management Group",
         "textfont": {
          "size": 8
         },
         "textposition": "bottom center",
         "type": "scatter",
         "x": [
          3
         ],
         "y": [
          -304
         ]
        },
        {
         "hoverinfo": "text",
         "hovertext": "",
         "marker": {
          "color": "blue",
          "size": 2
         },
         "mode": "markers+text",
         "text": "Low",
         "textfont": {
          "size": 8
         },
         "textposition": "bottom center",
         "type": "scatter",
         "x": [
          4.5
         ],
         "y": [
          -305
         ]
        },
        {
         "hoverinfo": "text",
         "hovertext": "",
         "marker": {
          "color": "blue",
          "size": 2
         },
         "mode": "markers+text",
         "text": "5 Star",
         "textfont": {
          "size": 8
         },
         "textposition": "bottom center",
         "type": "scatter",
         "x": [
          6
         ],
         "y": [
          -306
         ]
        },
        {
         "hoverinfo": "text",
         "hovertext": "Under Armour Men's Charged Assert 9 Running Shoes - Black, 9",
         "marker": {
          "color": "blue",
          "size": 2
         },
         "mode": "markers+text",
         "text": "Shoe",
         "textfont": {
          "size": 8
         },
         "textposition": "bottom center",
         "type": "scatter",
         "x": [
          7.5
         ],
         "y": [
          -307
         ]
        },
        {
         "hoverinfo": "text",
         "hovertext": "",
         "marker": {
          "color": "blue",
          "size": 2
         },
         "mode": "markers+text",
         "text": "Thursday Boot Company",
         "textfont": {
          "size": 8
         },
         "textposition": "bottom center",
         "type": "scatter",
         "x": [
          3
         ],
         "y": [
          -308
         ]
        },
        {
         "hoverinfo": "text",
         "hovertext": "",
         "marker": {
          "color": "blue",
          "size": 2
         },
         "mode": "markers+text",
         "text": "High",
         "textfont": {
          "size": 8
         },
         "textposition": "bottom center",
         "type": "scatter",
         "x": [
          4.5
         ],
         "y": [
          -309
         ]
        },
        {
         "hoverinfo": "text",
         "hovertext": "",
         "marker": {
          "color": "blue",
          "size": 2
         },
         "mode": "markers+text",
         "text": "4 Star",
         "textfont": {
          "size": 8
         },
         "textposition": "bottom center",
         "type": "scatter",
         "x": [
          6
         ],
         "y": [
          -310
         ]
        },
        {
         "hoverinfo": "text",
         "hovertext": "Women's Black Vachetta Leather Premier Low Top Sneaker Size 7 by Thursday Boot ...",
         "marker": {
          "color": "blue",
          "size": 2
         },
         "mode": "markers+text",
         "text": "Shoe",
         "textfont": {
          "size": 8
         },
         "textposition": "bottom center",
         "type": "scatter",
         "x": [
          7.5
         ],
         "y": [
          -311
         ]
        },
        {
         "hoverinfo": "text",
         "hovertext": "",
         "marker": {
          "color": "blue",
          "size": 2
         },
         "mode": "markers+text",
         "text": "Macy's",
         "textfont": {
          "size": 8
         },
         "textposition": "bottom center",
         "type": "scatter",
         "x": [
          3
         ],
         "y": [
          -312
         ]
        },
        {
         "hoverinfo": "text",
         "hovertext": "",
         "marker": {
          "color": "blue",
          "size": 2
         },
         "mode": "markers+text",
         "text": "Medium",
         "textfont": {
          "size": 8
         },
         "textposition": "bottom center",
         "type": "scatter",
         "x": [
          4.5
         ],
         "y": [
          -313
         ]
        },
        {
         "hoverinfo": "text",
         "hovertext": "",
         "marker": {
          "color": "blue",
          "size": 2
         },
         "mode": "markers+text",
         "text": "5 Star",
         "textfont": {
          "size": 8
         },
         "textposition": "bottom center",
         "type": "scatter",
         "x": [
          6
         ],
         "y": [
          -314
         ]
        },
        {
         "hoverinfo": "text",
         "hovertext": "Nike Court Vision Low Next Nature Black Men's Shoes, Size: 10.5",
         "marker": {
          "color": "blue",
          "size": 2
         },
         "mode": "markers+text",
         "text": "Shoe",
         "textfont": {
          "size": 8
         },
         "textposition": "bottom center",
         "type": "scatter",
         "x": [
          7.5
         ],
         "y": [
          -315
         ]
        },
        {
         "hoverinfo": "text",
         "hovertext": "",
         "marker": {
          "color": "blue",
          "size": 2
         },
         "mode": "markers+text",
         "text": "Low",
         "textfont": {
          "size": 8
         },
         "textposition": "bottom center",
         "type": "scatter",
         "x": [
          4.5
         ],
         "y": [
          -316
         ]
        },
        {
         "hoverinfo": "text",
         "hovertext": "",
         "marker": {
          "color": "blue",
          "size": 2
         },
         "mode": "markers+text",
         "text": "5 Star",
         "textfont": {
          "size": 8
         },
         "textposition": "bottom center",
         "type": "scatter",
         "x": [
          6
         ],
         "y": [
          -317
         ]
        },
        {
         "hoverinfo": "text",
         "hovertext": "Nautica Men's Arano Sneakers - Black Mono - Size 9.5M",
         "marker": {
          "color": "blue",
          "size": 2
         },
         "mode": "markers+text",
         "text": "Shoe",
         "textfont": {
          "size": 8
         },
         "textposition": "bottom center",
         "type": "scatter",
         "x": [
          7.5
         ],
         "y": [
          -318
         ]
        },
        {
         "hoverinfo": "text",
         "hovertext": "",
         "marker": {
          "color": "blue",
          "size": 2
         },
         "mode": "markers+text",
         "text": "Kohl's",
         "textfont": {
          "size": 8
         },
         "textposition": "bottom center",
         "type": "scatter",
         "x": [
          3
         ],
         "y": [
          -319
         ]
        },
        {
         "hoverinfo": "text",
         "hovertext": "",
         "marker": {
          "color": "blue",
          "size": 2
         },
         "mode": "markers+text",
         "text": "Medium",
         "textfont": {
          "size": 8
         },
         "textposition": "bottom center",
         "type": "scatter",
         "x": [
          4.5
         ],
         "y": [
          -320
         ]
        },
        {
         "hoverinfo": "text",
         "hovertext": "",
         "marker": {
          "color": "blue",
          "size": 2
         },
         "mode": "markers+text",
         "text": "5 Star",
         "textfont": {
          "size": 8
         },
         "textposition": "bottom center",
         "type": "scatter",
         "x": [
          6
         ],
         "y": [
          -321
         ]
        },
        {
         "hoverinfo": "text",
         "hovertext": "Skechers Work Cessnock (Black) Men's Shoes",
         "marker": {
          "color": "blue",
          "size": 2
         },
         "mode": "markers+text",
         "text": "Shoe",
         "textfont": {
          "size": 8
         },
         "textposition": "bottom center",
         "type": "scatter",
         "x": [
          7.5
         ],
         "y": [
          -322
         ]
        },
        {
         "hoverinfo": "text",
         "hovertext": "",
         "marker": {
          "color": "blue",
          "size": 2
         },
         "mode": "markers+text",
         "text": "Nordstrom",
         "textfont": {
          "size": 8
         },
         "textposition": "bottom center",
         "type": "scatter",
         "x": [
          3
         ],
         "y": [
          -323
         ]
        },
        {
         "hoverinfo": "text",
         "hovertext": "",
         "marker": {
          "color": "blue",
          "size": 2
         },
         "mode": "markers+text",
         "text": "Medium",
         "textfont": {
          "size": 8
         },
         "textposition": "bottom center",
         "type": "scatter",
         "x": [
          4.5
         ],
         "y": [
          -324
         ]
        },
        {
         "hoverinfo": "text",
         "hovertext": "",
         "marker": {
          "color": "blue",
          "size": 2
         },
         "mode": "markers+text",
         "text": "3 Star",
         "textfont": {
          "size": 8
         },
         "textposition": "bottom center",
         "type": "scatter",
         "x": [
          6
         ],
         "y": [
          -325
         ]
        },
        {
         "hoverinfo": "text",
         "hovertext": "AllSaints Mem Low Top Sneaker Black",
         "marker": {
          "color": "blue",
          "size": 2
         },
         "mode": "markers+text",
         "text": "Shoe",
         "textfont": {
          "size": 8
         },
         "textposition": "bottom center",
         "type": "scatter",
         "x": [
          7.5
         ],
         "y": [
          -326
         ]
        },
        {
         "hoverinfo": "text",
         "hovertext": "",
         "marker": {
          "color": "blue",
          "size": 2
         },
         "mode": "markers+text",
         "text": "High",
         "textfont": {
          "size": 8
         },
         "textposition": "bottom center",
         "type": "scatter",
         "x": [
          4.5
         ],
         "y": [
          -327
         ]
        },
        {
         "hoverinfo": "text",
         "hovertext": "",
         "marker": {
          "color": "blue",
          "size": 2
         },
         "mode": "markers+text",
         "text": "5 Star",
         "textfont": {
          "size": 8
         },
         "textposition": "bottom center",
         "type": "scatter",
         "x": [
          6
         ],
         "y": [
          -328
         ]
        },
        {
         "hoverinfo": "text",
         "hovertext": "AllSaints Men's Dumont High Top Sneakers - Black - Size 10",
         "marker": {
          "color": "blue",
          "size": 2
         },
         "mode": "markers+text",
         "text": "Shoe",
         "textfont": {
          "size": 8
         },
         "textposition": "bottom center",
         "type": "scatter",
         "x": [
          7.5
         ],
         "y": [
          -329
         ]
        },
        {
         "hoverinfo": "text",
         "hovertext": "",
         "marker": {
          "color": "blue",
          "size": 2
         },
         "mode": "markers+text",
         "text": "GOAT",
         "textfont": {
          "size": 8
         },
         "textposition": "bottom center",
         "type": "scatter",
         "x": [
          3
         ],
         "y": [
          -330
         ]
        },
        {
         "hoverinfo": "text",
         "hovertext": "",
         "marker": {
          "color": "blue",
          "size": 2
         },
         "mode": "markers+text",
         "text": "Medium",
         "textfont": {
          "size": 8
         },
         "textposition": "bottom center",
         "type": "scatter",
         "x": [
          4.5
         ],
         "y": [
          -331
         ]
        },
        {
         "hoverinfo": "text",
         "hovertext": "",
         "marker": {
          "color": "blue",
          "size": 2
         },
         "mode": "markers+text",
         "text": "5 Star",
         "textfont": {
          "size": 8
         },
         "textposition": "bottom center",
         "type": "scatter",
         "x": [
          6
         ],
         "y": [
          -332
         ]
        },
        {
         "hoverinfo": "text",
         "hovertext": "Adidas Gazelle Black",
         "marker": {
          "color": "blue",
          "size": 2
         },
         "mode": "markers+text",
         "text": "Shoe",
         "textfont": {
          "size": 8
         },
         "textposition": "bottom center",
         "type": "scatter",
         "x": [
          7.5
         ],
         "y": [
          -333
         ]
        },
        {
         "hoverinfo": "text",
         "hovertext": "",
         "marker": {
          "color": "blue",
          "size": 2
         },
         "mode": "markers+text",
         "text": "On",
         "textfont": {
          "size": 8
         },
         "textposition": "bottom center",
         "type": "scatter",
         "x": [
          3
         ],
         "y": [
          -334
         ]
        },
        {
         "hoverinfo": "text",
         "hovertext": "",
         "marker": {
          "color": "blue",
          "size": 2
         },
         "mode": "markers+text",
         "text": "High",
         "textfont": {
          "size": 8
         },
         "textposition": "bottom center",
         "type": "scatter",
         "x": [
          4.5
         ],
         "y": [
          -335
         ]
        },
        {
         "hoverinfo": "text",
         "hovertext": "",
         "marker": {
          "color": "blue",
          "size": 2
         },
         "mode": "markers+text",
         "text": "5 Star",
         "textfont": {
          "size": 8
         },
         "textposition": "bottom center",
         "type": "scatter",
         "x": [
          6
         ],
         "y": [
          -336
         ]
        },
        {
         "hoverinfo": "text",
         "hovertext": "on The Roger Advantage Women's Shoes All Black : 8 M",
         "marker": {
          "color": "blue",
          "size": 2
         },
         "mode": "markers+text",
         "text": "Shoe",
         "textfont": {
          "size": 8
         },
         "textposition": "bottom center",
         "type": "scatter",
         "x": [
          7.5
         ],
         "y": [
          -337
         ]
        },
        {
         "hoverinfo": "text",
         "hovertext": "",
         "marker": {
          "color": "blue",
          "size": 2
         },
         "mode": "markers+text",
         "text": "ASICS",
         "textfont": {
          "size": 8
         },
         "textposition": "bottom center",
         "type": "scatter",
         "x": [
          3
         ],
         "y": [
          -338
         ]
        },
        {
         "hoverinfo": "text",
         "hovertext": "",
         "marker": {
          "color": "blue",
          "size": 2
         },
         "mode": "markers+text",
         "text": "Low",
         "textfont": {
          "size": 8
         },
         "textposition": "bottom center",
         "type": "scatter",
         "x": [
          4.5
         ],
         "y": [
          -339
         ]
        },
        {
         "hoverinfo": "text",
         "hovertext": "",
         "marker": {
          "color": "blue",
          "size": 2
         },
         "mode": "markers+text",
         "text": "5 Star",
         "textfont": {
          "size": 8
         },
         "textposition": "bottom center",
         "type": "scatter",
         "x": [
          6
         ],
         "y": [
          -340
         ]
        },
        {
         "hoverinfo": "text",
         "hovertext": "ASICS Jolt 3 11 Men's Black",
         "marker": {
          "color": "blue",
          "size": 2
         },
         "mode": "markers+text",
         "text": "Shoe",
         "textfont": {
          "size": 8
         },
         "textposition": "bottom center",
         "type": "scatter",
         "x": [
          7.5
         ],
         "y": [
          -341
         ]
        },
        {
         "hoverinfo": "text",
         "hovertext": "",
         "marker": {
          "color": "blue",
          "size": 2
         },
         "mode": "markers+text",
         "text": "Zappos.com",
         "textfont": {
          "size": 8
         },
         "textposition": "bottom center",
         "type": "scatter",
         "x": [
          3
         ],
         "y": [
          -342
         ]
        },
        {
         "hoverinfo": "text",
         "hovertext": "",
         "marker": {
          "color": "blue",
          "size": 2
         },
         "mode": "markers+text",
         "text": "High",
         "textfont": {
          "size": 8
         },
         "textposition": "bottom center",
         "type": "scatter",
         "x": [
          4.5
         ],
         "y": [
          -343
         ]
        },
        {
         "hoverinfo": "text",
         "hovertext": "",
         "marker": {
          "color": "blue",
          "size": 2
         },
         "mode": "markers+text",
         "text": "5 Star",
         "textfont": {
          "size": 8
         },
         "textposition": "bottom center",
         "type": "scatter",
         "x": [
          6
         ],
         "y": [
          -344
         ]
        },
        {
         "hoverinfo": "text",
         "hovertext": "on The Roger Advantage Men's Shoes All Black : 13 M",
         "marker": {
          "color": "blue",
          "size": 2
         },
         "mode": "markers+text",
         "text": "Shoe",
         "textfont": {
          "size": 8
         },
         "textposition": "bottom center",
         "type": "scatter",
         "x": [
          7.5
         ],
         "y": [
          -345
         ]
        },
        {
         "hoverinfo": "text",
         "hovertext": "",
         "marker": {
          "color": "blue",
          "size": 2
         },
         "mode": "markers+text",
         "text": "Calvin Klein",
         "textfont": {
          "size": 8
         },
         "textposition": "bottom center",
         "type": "scatter",
         "x": [
          3
         ],
         "y": [
          -346
         ]
        },
        {
         "hoverinfo": "text",
         "hovertext": "",
         "marker": {
          "color": "blue",
          "size": 2
         },
         "mode": "markers+text",
         "text": "Medium",
         "textfont": {
          "size": 8
         },
         "textposition": "bottom center",
         "type": "scatter",
         "x": [
          4.5
         ],
         "y": [
          -347
         ]
        },
        {
         "hoverinfo": "text",
         "hovertext": "",
         "marker": {
          "color": "blue",
          "size": 2
         },
         "mode": "markers+text",
         "text": "5 Star",
         "textfont": {
          "size": 8
         },
         "textposition": "bottom center",
         "type": "scatter",
         "x": [
          6
         ],
         "y": [
          -348
         ]
        },
        {
         "hoverinfo": "text",
         "hovertext": "Calvin Klein Women's Alondra Platform Sneakers (Black) - Size 9.5 M",
         "marker": {
          "color": "blue",
          "size": 2
         },
         "mode": "markers+text",
         "text": "Shoe",
         "textfont": {
          "size": 8
         },
         "textposition": "bottom center",
         "type": "scatter",
         "x": [
          7.5
         ],
         "y": [
          -349
         ]
        },
        {
         "hoverinfo": "text",
         "hovertext": "",
         "marker": {
          "color": "blue",
          "size": 2
         },
         "mode": "markers+text",
         "text": "PUMA",
         "textfont": {
          "size": 8
         },
         "textposition": "bottom center",
         "type": "scatter",
         "x": [
          3
         ],
         "y": [
          -350
         ]
        },
        {
         "hoverinfo": "text",
         "hovertext": "",
         "marker": {
          "color": "blue",
          "size": 2
         },
         "mode": "markers+text",
         "text": "Low",
         "textfont": {
          "size": 8
         },
         "textposition": "bottom center",
         "type": "scatter",
         "x": [
          4.5
         ],
         "y": [
          -351
         ]
        },
        {
         "hoverinfo": "text",
         "hovertext": "",
         "marker": {
          "color": "blue",
          "size": 2
         },
         "mode": "markers+text",
         "text": "5 Star",
         "textfont": {
          "size": 8
         },
         "textposition": "bottom center",
         "type": "scatter",
         "x": [
          6
         ],
         "y": [
          -352
         ]
        },
        {
         "hoverinfo": "text",
         "hovertext": "Puma Tazon 6 Fracture FM Wide Men's Sneakers, Black",
         "marker": {
          "color": "blue",
          "size": 2
         },
         "mode": "markers+text",
         "text": "Shoe",
         "textfont": {
          "size": 8
         },
         "textposition": "bottom center",
         "type": "scatter",
         "x": [
          7.5
         ],
         "y": [
          -353
         ]
        },
        {
         "hoverinfo": "text",
         "hovertext": "",
         "marker": {
          "color": "blue",
          "size": 2
         },
         "mode": "markers+text",
         "text": "shoebacca.com",
         "textfont": {
          "size": 8
         },
         "textposition": "bottom center",
         "type": "scatter",
         "x": [
          3
         ],
         "y": [
          -354
         ]
        },
        {
         "hoverinfo": "text",
         "hovertext": "",
         "marker": {
          "color": "blue",
          "size": 2
         },
         "mode": "markers+text",
         "text": "Medium",
         "textfont": {
          "size": 8
         },
         "textposition": "bottom center",
         "type": "scatter",
         "x": [
          4.5
         ],
         "y": [
          -355
         ]
        },
        {
         "hoverinfo": "text",
         "hovertext": "",
         "marker": {
          "color": "blue",
          "size": 2
         },
         "mode": "markers+text",
         "text": "5 Star",
         "textfont": {
          "size": 8
         },
         "textposition": "bottom center",
         "type": "scatter",
         "x": [
          6
         ],
         "y": [
          -356
         ]
        },
        {
         "hoverinfo": "text",
         "hovertext": "Puma St Runner V3 L Men's Sneakers, Black, 9",
         "marker": {
          "color": "blue",
          "size": 2
         },
         "mode": "markers+text",
         "text": "Shoe",
         "textfont": {
          "size": 8
         },
         "textposition": "bottom center",
         "type": "scatter",
         "x": [
          7.5
         ],
         "y": [
          -357
         ]
        },
        {
         "hoverinfo": "text",
         "hovertext": "",
         "marker": {
          "color": "blue",
          "size": 2
         },
         "mode": "markers+text",
         "text": "Sneakersnstuff",
         "textfont": {
          "size": 8
         },
         "textposition": "bottom center",
         "type": "scatter",
         "x": [
          3
         ],
         "y": [
          -358
         ]
        },
        {
         "hoverinfo": "text",
         "hovertext": "",
         "marker": {
          "color": "blue",
          "size": 2
         },
         "mode": "markers+text",
         "text": "High",
         "textfont": {
          "size": 8
         },
         "textposition": "bottom center",
         "type": "scatter",
         "x": [
          4.5
         ],
         "y": [
          -359
         ]
        },
        {
         "hoverinfo": "text",
         "hovertext": "",
         "marker": {
          "color": "blue",
          "size": 2
         },
         "mode": "markers+text",
         "text": "5 Star",
         "textfont": {
          "size": 8
         },
         "textposition": "bottom center",
         "type": "scatter",
         "x": [
          6
         ],
         "y": [
          -360
         ]
        },
        {
         "hoverinfo": "text",
         "hovertext": "Sneakers New Balance 1906D Black",
         "marker": {
          "color": "blue",
          "size": 2
         },
         "mode": "markers+text",
         "text": "Shoe",
         "textfont": {
          "size": 8
         },
         "textposition": "bottom center",
         "type": "scatter",
         "x": [
          7.5
         ],
         "y": [
          -361
         ]
        },
        {
         "hoverinfo": "text",
         "hovertext": "",
         "marker": {
          "color": "blue",
          "size": 2
         },
         "mode": "markers+text",
         "text": "CCS",
         "textfont": {
          "size": 8
         },
         "textposition": "bottom center",
         "type": "scatter",
         "x": [
          3
         ],
         "y": [
          -362
         ]
        },
        {
         "hoverinfo": "text",
         "hovertext": "",
         "marker": {
          "color": "blue",
          "size": 2
         },
         "mode": "markers+text",
         "text": "Medium",
         "textfont": {
          "size": 8
         },
         "textposition": "bottom center",
         "type": "scatter",
         "x": [
          4.5
         ],
         "y": [
          -363
         ]
        },
        {
         "hoverinfo": "text",
         "hovertext": "",
         "marker": {
          "color": "blue",
          "size": 2
         },
         "mode": "markers+text",
         "text": "5 Star",
         "textfont": {
          "size": 8
         },
         "textposition": "bottom center",
         "type": "scatter",
         "x": [
          6
         ],
         "y": [
          -364
         ]
        },
        {
         "hoverinfo": "text",
         "hovertext": "Nike SB Chron 2 Canvas Shoes - Black/Black - 5.5",
         "marker": {
          "color": "blue",
          "size": 2
         },
         "mode": "markers+text",
         "text": "Shoe",
         "textfont": {
          "size": 8
         },
         "textposition": "bottom center",
         "type": "scatter",
         "x": [
          7.5
         ],
         "y": [
          -365
         ]
        },
        {
         "hoverinfo": "text",
         "hovertext": "",
         "marker": {
          "color": "blue",
          "size": 2
         },
         "mode": "markers+text",
         "text": "Foot Locker",
         "textfont": {
          "size": 8
         },
         "textposition": "bottom center",
         "type": "scatter",
         "x": [
          3
         ],
         "y": [
          -366
         ]
        },
        {
         "hoverinfo": "text",
         "hovertext": "",
         "marker": {
          "color": "blue",
          "size": 2
         },
         "mode": "markers+text",
         "text": "Medium",
         "textfont": {
          "size": 8
         },
         "textposition": "bottom center",
         "type": "scatter",
         "x": [
          4.5
         ],
         "y": [
          -367
         ]
        },
        {
         "hoverinfo": "text",
         "hovertext": "",
         "marker": {
          "color": "blue",
          "size": 2
         },
         "mode": "markers+text",
         "text": "5 Star",
         "textfont": {
          "size": 8
         },
         "textposition": "bottom center",
         "type": "scatter",
         "x": [
          6
         ],
         "y": [
          -368
         ]
        },
        {
         "hoverinfo": "text",
         "hovertext": "Nike (GS) Air Force 1 Le Black/Black",
         "marker": {
          "color": "blue",
          "size": 2
         },
         "mode": "markers+text",
         "text": "Shoe",
         "textfont": {
          "size": 8
         },
         "textposition": "bottom center",
         "type": "scatter",
         "x": [
          7.5
         ],
         "y": [
          -369
         ]
        },
        {
         "hoverinfo": "text",
         "hovertext": "",
         "marker": {
          "color": "blue",
          "size": 2
         },
         "mode": "markers+text",
         "text": "Converse",
         "textfont": {
          "size": 8
         },
         "textposition": "bottom center",
         "type": "scatter",
         "x": [
          3
         ],
         "y": [
          -370
         ]
        },
        {
         "hoverinfo": "text",
         "hovertext": "",
         "marker": {
          "color": "blue",
          "size": 2
         },
         "mode": "markers+text",
         "text": "Low",
         "textfont": {
          "size": 8
         },
         "textposition": "bottom center",
         "type": "scatter",
         "x": [
          4.5
         ],
         "y": [
          -371
         ]
        },
        {
         "hoverinfo": "text",
         "hovertext": "",
         "marker": {
          "color": "blue",
          "size": 2
         },
         "mode": "markers+text",
         "text": "5 Star",
         "textfont": {
          "size": 8
         },
         "textposition": "bottom center",
         "type": "scatter",
         "x": [
          6
         ],
         "y": [
          -372
         ]
        },
        {
         "hoverinfo": "text",
         "hovertext": "Converse Chuck Taylor All Star Hi Black",
         "marker": {
          "color": "blue",
          "size": 2
         },
         "mode": "markers+text",
         "text": "Shoe",
         "textfont": {
          "size": 8
         },
         "textposition": "bottom center",
         "type": "scatter",
         "x": [
          7.5
         ],
         "y": [
          -373
         ]
        },
        {
         "hoverinfo": "text",
         "hovertext": "",
         "marker": {
          "color": "blue",
          "size": 2
         },
         "mode": "markers+text",
         "text": "Sorel USA",
         "textfont": {
          "size": 8
         },
         "textposition": "bottom center",
         "type": "scatter",
         "x": [
          3
         ],
         "y": [
          -374
         ]
        },
        {
         "hoverinfo": "text",
         "hovertext": "",
         "marker": {
          "color": "blue",
          "size": 2
         },
         "mode": "markers+text",
         "text": "High",
         "textfont": {
          "size": 8
         },
         "textposition": "bottom center",
         "type": "scatter",
         "x": [
          4.5
         ],
         "y": [
          -375
         ]
        },
        {
         "hoverinfo": "text",
         "hovertext": "",
         "marker": {
          "color": "blue",
          "size": 2
         },
         "mode": "markers+text",
         "text": "4 Star",
         "textfont": {
          "size": 8
         },
         "textposition": "bottom center",
         "type": "scatter",
         "x": [
          6
         ],
         "y": [
          -376
         ]
        },
        {
         "hoverinfo": "text",
         "hovertext": "Sorel Women's Out N About III Low Sneaker Size 5.5 - Black",
         "marker": {
          "color": "blue",
          "size": 2
         },
         "mode": "markers+text",
         "text": "Shoe",
         "textfont": {
          "size": 8
         },
         "textposition": "bottom center",
         "type": "scatter",
         "x": [
          7.5
         ],
         "y": [
          -377
         ]
        },
        {
         "hoverinfo": "text",
         "hovertext": "",
         "marker": {
          "color": "blue",
          "size": 2
         },
         "mode": "markers+text",
         "text": "Scheels",
         "textfont": {
          "size": 8
         },
         "textposition": "bottom center",
         "type": "scatter",
         "x": [
          3
         ],
         "y": [
          -378
         ]
        },
        {
         "hoverinfo": "text",
         "hovertext": "",
         "marker": {
          "color": "blue",
          "size": 2
         },
         "mode": "markers+text",
         "text": "High",
         "textfont": {
          "size": 8
         },
         "textposition": "bottom center",
         "type": "scatter",
         "x": [
          4.5
         ],
         "y": [
          -379
         ]
        },
        {
         "hoverinfo": "text",
         "hovertext": "",
         "marker": {
          "color": "blue",
          "size": 2
         },
         "mode": "markers+text",
         "text": "5 Star",
         "textfont": {
          "size": 8
         },
         "textposition": "bottom center",
         "type": "scatter",
         "x": [
          6
         ],
         "y": [
          -380
         ]
        },
        {
         "hoverinfo": "text",
         "hovertext": "Blazer Mid 77 Vintage Black 6",
         "marker": {
          "color": "blue",
          "size": 2
         },
         "mode": "markers+text",
         "text": "Shoe",
         "textfont": {
          "size": 8
         },
         "textposition": "bottom center",
         "type": "scatter",
         "x": [
          7.5
         ],
         "y": [
          -381
         ]
        },
        {
         "hoverinfo": "text",
         "hovertext": "",
         "marker": {
          "color": "blue",
          "size": 2
         },
         "mode": "markers+text",
         "text": "Flight Club",
         "textfont": {
          "size": 8
         },
         "textposition": "bottom center",
         "type": "scatter",
         "x": [
          3
         ],
         "y": [
          -382
         ]
        },
        {
         "hoverinfo": "text",
         "hovertext": "",
         "marker": {
          "color": "blue",
          "size": 2
         },
         "mode": "markers+text",
         "text": "High",
         "textfont": {
          "size": 8
         },
         "textposition": "bottom center",
         "type": "scatter",
         "x": [
          4.5
         ],
         "y": [
          -383
         ]
        },
        {
         "hoverinfo": "text",
         "hovertext": "",
         "marker": {
          "color": "blue",
          "size": 2
         },
         "mode": "markers+text",
         "text": "5 Star",
         "textfont": {
          "size": 8
         },
         "textposition": "bottom center",
         "type": "scatter",
         "x": [
          6
         ],
         "y": [
          -384
         ]
        },
        {
         "hoverinfo": "text",
         "hovertext": "New Balance 2002R 'Protection Pack - Phantom' | Black | Men's Size 10",
         "marker": {
          "color": "blue",
          "size": 2
         },
         "mode": "markers+text",
         "text": "Shoe",
         "textfont": {
          "size": 8
         },
         "textposition": "bottom center",
         "type": "scatter",
         "x": [
          7.5
         ],
         "y": [
          -385
         ]
        },
        {
         "hoverinfo": "text",
         "hovertext": "",
         "marker": {
          "color": "blue",
          "size": 2
         },
         "mode": "markers+text",
         "text": "bta-mall",
         "textfont": {
          "size": 8
         },
         "textposition": "bottom center",
         "type": "scatter",
         "x": [
          3
         ],
         "y": [
          -386
         ]
        },
        {
         "hoverinfo": "text",
         "hovertext": "",
         "marker": {
          "color": "blue",
          "size": 2
         },
         "mode": "markers+text",
         "text": "Medium",
         "textfont": {
          "size": 8
         },
         "textposition": "bottom center",
         "type": "scatter",
         "x": [
          4.5
         ],
         "y": [
          -387
         ]
        },
        {
         "hoverinfo": "text",
         "hovertext": "",
         "marker": {
          "color": "blue",
          "size": 2
         },
         "mode": "markers+text",
         "text": "5 Star",
         "textfont": {
          "size": 8
         },
         "textposition": "bottom center",
         "type": "scatter",
         "x": [
          6
         ],
         "y": [
          -388
         ]
        },
        {
         "hoverinfo": "text",
         "hovertext": "Reebok Classic Harman Run Mens Sneakers 15 Black / Black, Men's",
         "marker": {
          "color": "blue",
          "size": 2
         },
         "mode": "markers+text",
         "text": "Shoe",
         "textfont": {
          "size": 8
         },
         "textposition": "bottom center",
         "type": "scatter",
         "x": [
          7.5
         ],
         "y": [
          -389
         ]
        },
        {
         "hoverinfo": "text",
         "hovertext": "",
         "marker": {
          "color": "blue",
          "size": 2
         },
         "mode": "markers+text",
         "text": "Italic",
         "textfont": {
          "size": 8
         },
         "textposition": "bottom center",
         "type": "scatter",
         "x": [
          3
         ],
         "y": [
          -390
         ]
        },
        {
         "hoverinfo": "text",
         "hovertext": "",
         "marker": {
          "color": "blue",
          "size": 2
         },
         "mode": "markers+text",
         "text": "Medium",
         "textfont": {
          "size": 8
         },
         "textposition": "bottom center",
         "type": "scatter",
         "x": [
          4.5
         ],
         "y": [
          -391
         ]
        },
        {
         "hoverinfo": "text",
         "hovertext": "",
         "marker": {
          "color": "blue",
          "size": 2
         },
         "mode": "markers+text",
         "text": "5 Star",
         "textfont": {
          "size": 8
         },
         "textposition": "bottom center",
         "type": "scatter",
         "x": [
          6
         ],
         "y": [
          -392
         ]
        },
        {
         "hoverinfo": "text",
         "hovertext": "M4 / W6 Black Women's Cadence Leather Sneakers | Italic",
         "marker": {
          "color": "blue",
          "size": 2
         },
         "mode": "markers+text",
         "text": "Shoe",
         "textfont": {
          "size": 8
         },
         "textposition": "bottom center",
         "type": "scatter",
         "x": [
          7.5
         ],
         "y": [
          -393
         ]
        },
        {
         "hoverinfo": "text",
         "hovertext": "",
         "marker": {
          "color": "blue",
          "size": 2
         },
         "mode": "markers+text",
         "text": "Saks OFF 5TH",
         "textfont": {
          "size": 8
         },
         "textposition": "bottom center",
         "type": "scatter",
         "x": [
          3
         ],
         "y": [
          -394
         ]
        },
        {
         "hoverinfo": "text",
         "hovertext": "",
         "marker": {
          "color": "blue",
          "size": 2
         },
         "mode": "markers+text",
         "text": "Medium",
         "textfont": {
          "size": 8
         },
         "textposition": "bottom center",
         "type": "scatter",
         "x": [
          4.5
         ],
         "y": [
          -395
         ]
        },
        {
         "hoverinfo": "text",
         "hovertext": "",
         "marker": {
          "color": "blue",
          "size": 2
         },
         "mode": "markers+text",
         "text": "5 Star",
         "textfont": {
          "size": 8
         },
         "textposition": "bottom center",
         "type": "scatter",
         "x": [
          6
         ],
         "y": [
          -396
         ]
        },
        {
         "hoverinfo": "text",
         "hovertext": "Lady Couture Women's New York Embellished High-Top Sneakers - Black - Size 40 (10)",
         "marker": {
          "color": "blue",
          "size": 2
         },
         "mode": "markers+text",
         "text": "Shoe",
         "textfont": {
          "size": 8
         },
         "textposition": "bottom center",
         "type": "scatter",
         "x": [
          7.5
         ],
         "y": [
          -397
         ]
        },
        {
         "hoverinfo": "text",
         "hovertext": "",
         "marker": {
          "color": "blue",
          "size": 2
         },
         "mode": "markers+text",
         "text": "Famous Footwear",
         "textfont": {
          "size": 8
         },
         "textposition": "bottom center",
         "type": "scatter",
         "x": [
          3
         ],
         "y": [
          -398
         ]
        },
        {
         "hoverinfo": "text",
         "hovertext": "",
         "marker": {
          "color": "blue",
          "size": 2
         },
         "mode": "markers+text",
         "text": "Medium",
         "textfont": {
          "size": 8
         },
         "textposition": "bottom center",
         "type": "scatter",
         "x": [
          4.5
         ],
         "y": [
          -399
         ]
        },
        {
         "hoverinfo": "text",
         "hovertext": "",
         "marker": {
          "color": "blue",
          "size": 2
         },
         "mode": "markers+text",
         "text": "Unknown",
         "textfont": {
          "size": 8
         },
         "textposition": "bottom center",
         "type": "scatter",
         "x": [
          6
         ],
         "y": [
          -400
         ]
        },
        {
         "hoverinfo": "text",
         "hovertext": "Adidas VL Court 3.0 Sneaker | Men's | Black/White | Size 8 | Sneakers",
         "marker": {
          "color": "blue",
          "size": 2
         },
         "mode": "markers+text",
         "text": "Shoe",
         "textfont": {
          "size": 8
         },
         "textposition": "bottom center",
         "type": "scatter",
         "x": [
          7.5
         ],
         "y": [
          -401
         ]
        },
        {
         "hoverinfo": "text",
         "hovertext": "",
         "marker": {
          "color": "blue",
          "size": 2
         },
         "mode": "markers+text",
         "text": "Shoe City",
         "textfont": {
          "size": 8
         },
         "textposition": "bottom center",
         "type": "scatter",
         "x": [
          3
         ],
         "y": [
          -402
         ]
        },
        {
         "hoverinfo": "text",
         "hovertext": "",
         "marker": {
          "color": "blue",
          "size": 2
         },
         "mode": "markers+text",
         "text": "Medium",
         "textfont": {
          "size": 8
         },
         "textposition": "bottom center",
         "type": "scatter",
         "x": [
          4.5
         ],
         "y": [
          -403
         ]
        },
        {
         "hoverinfo": "text",
         "hovertext": "",
         "marker": {
          "color": "blue",
          "size": 2
         },
         "mode": "markers+text",
         "text": "5 Star",
         "textfont": {
          "size": 8
         },
         "textposition": "bottom center",
         "type": "scatter",
         "x": [
          6
         ],
         "y": [
          -404
         ]
        },
        {
         "hoverinfo": "text",
         "hovertext": "Vans Ward Men Trainers Black",
         "marker": {
          "color": "blue",
          "size": 2
         },
         "mode": "markers+text",
         "text": "Shoe",
         "textfont": {
          "size": 8
         },
         "textposition": "bottom center",
         "type": "scatter",
         "x": [
          7.5
         ],
         "y": [
          -405
         ]
        },
        {
         "hoverinfo": "text",
         "hovertext": "",
         "marker": {
          "color": "blue",
          "size": 2
         },
         "mode": "markers+text",
         "text": "Academy Sports + Outdoors",
         "textfont": {
          "size": 8
         },
         "textposition": "bottom center",
         "type": "scatter",
         "x": [
          3
         ],
         "y": [
          -406
         ]
        },
        {
         "hoverinfo": "text",
         "hovertext": "",
         "marker": {
          "color": "blue",
          "size": 2
         },
         "mode": "markers+text",
         "text": "Low",
         "textfont": {
          "size": 8
         },
         "textposition": "bottom center",
         "type": "scatter",
         "x": [
          4.5
         ],
         "y": [
          -407
         ]
        },
        {
         "hoverinfo": "text",
         "hovertext": "",
         "marker": {
          "color": "blue",
          "size": 2
         },
         "mode": "markers+text",
         "text": "5 Star",
         "textfont": {
          "size": 8
         },
         "textposition": "bottom center",
         "type": "scatter",
         "x": [
          6
         ],
         "y": [
          -408
         ]
        },
        {
         "hoverinfo": "text",
         "hovertext": "Adidas Lite Racer Adapt 5.0 Black 11K - Originals Shoes",
         "marker": {
          "color": "blue",
          "size": 2
         },
         "mode": "markers+text",
         "text": "Shoe",
         "textfont": {
          "size": 8
         },
         "textposition": "bottom center",
         "type": "scatter",
         "x": [
          7.5
         ],
         "y": [
          -409
         ]
        },
        {
         "hoverinfo": "text",
         "hovertext": "",
         "marker": {
          "color": "blue",
          "size": 2
         },
         "mode": "markers+text",
         "text": "Betsey Johnson",
         "textfont": {
          "size": 8
         },
         "textposition": "bottom center",
         "type": "scatter",
         "x": [
          3
         ],
         "y": [
          -410
         ]
        },
        {
         "hoverinfo": "text",
         "hovertext": "",
         "marker": {
          "color": "blue",
          "size": 2
         },
         "mode": "markers+text",
         "text": "Medium",
         "textfont": {
          "size": 8
         },
         "textposition": "bottom center",
         "type": "scatter",
         "x": [
          4.5
         ],
         "y": [
          -411
         ]
        },
        {
         "hoverinfo": "text",
         "hovertext": "",
         "marker": {
          "color": "blue",
          "size": 2
         },
         "mode": "markers+text",
         "text": "5 Star",
         "textfont": {
          "size": 8
         },
         "textposition": "bottom center",
         "type": "scatter",
         "x": [
          6
         ],
         "y": [
          -412
         ]
        },
        {
         "hoverinfo": "text",
         "hovertext": "Betsey Johnson Women's Sidny Sneakers, Black, 5M",
         "marker": {
          "color": "blue",
          "size": 2
         },
         "mode": "markers+text",
         "text": "Shoe",
         "textfont": {
          "size": 8
         },
         "textposition": "bottom center",
         "type": "scatter",
         "x": [
          7.5
         ],
         "y": [
          -413
         ]
        },
        {
         "hoverinfo": "text",
         "hovertext": "",
         "marker": {
          "color": "blue",
          "size": 2
         },
         "mode": "markers+text",
         "text": "Salomon.com",
         "textfont": {
          "size": 8
         },
         "textposition": "bottom center",
         "type": "scatter",
         "x": [
          3
         ],
         "y": [
          -414
         ]
        },
        {
         "hoverinfo": "text",
         "hovertext": "",
         "marker": {
          "color": "blue",
          "size": 2
         },
         "mode": "markers+text",
         "text": "High",
         "textfont": {
          "size": 8
         },
         "textposition": "bottom center",
         "type": "scatter",
         "x": [
          4.5
         ],
         "y": [
          -415
         ]
        },
        {
         "hoverinfo": "text",
         "hovertext": "",
         "marker": {
          "color": "blue",
          "size": 2
         },
         "mode": "markers+text",
         "text": "5 Star",
         "textfont": {
          "size": 8
         },
         "textposition": "bottom center",
         "type": "scatter",
         "x": [
          6
         ],
         "y": [
          -416
         ]
        },
        {
         "hoverinfo": "text",
         "hovertext": "Salomon XT-6 (Black)",
         "marker": {
          "color": "blue",
          "size": 2
         },
         "mode": "markers+text",
         "text": "Shoe",
         "textfont": {
          "size": 8
         },
         "textposition": "bottom center",
         "type": "scatter",
         "x": [
          7.5
         ],
         "y": [
          -417
         ]
        },
        {
         "hoverinfo": "text",
         "hovertext": "",
         "marker": {
          "color": "blue",
          "size": 2
         },
         "mode": "markers+text",
         "text": "Stadium Goods",
         "textfont": {
          "size": 8
         },
         "textposition": "bottom center",
         "type": "scatter",
         "x": [
          3
         ],
         "y": [
          -418
         ]
        },
        {
         "hoverinfo": "text",
         "hovertext": "",
         "marker": {
          "color": "blue",
          "size": 2
         },
         "mode": "markers+text",
         "text": "Medium",
         "textfont": {
          "size": 8
         },
         "textposition": "bottom center",
         "type": "scatter",
         "x": [
          4.5
         ],
         "y": [
          -419
         ]
        },
        {
         "hoverinfo": "text",
         "hovertext": "",
         "marker": {
          "color": "blue",
          "size": 2
         },
         "mode": "markers+text",
         "text": "5 Star",
         "textfont": {
          "size": 8
         },
         "textposition": "bottom center",
         "type": "scatter",
         "x": [
          6
         ],
         "y": [
          -420
         ]
        },
        {
         "hoverinfo": "text",
         "hovertext": "Nike Legend Essential 2 Men's Training Shoes",
         "marker": {
          "color": "blue",
          "size": 2
         },
         "mode": "markers+text",
         "text": "Shoe",
         "textfont": {
          "size": 8
         },
         "textposition": "bottom center",
         "type": "scatter",
         "x": [
          7.5
         ],
         "y": [
          -421
         ]
        },
        {
         "hoverinfo": "text",
         "hovertext": "",
         "marker": {
          "color": "blue",
          "size": 2
         },
         "mode": "markers+text",
         "text": "eBay - sneakar",
         "textfont": {
          "size": 8
         },
         "textposition": "bottom center",
         "type": "scatter",
         "x": [
          3
         ],
         "y": [
          -422
         ]
        },
        {
         "hoverinfo": "text",
         "hovertext": "",
         "marker": {
          "color": "blue",
          "size": 2
         },
         "mode": "markers+text",
         "text": "Medium",
         "textfont": {
          "size": 8
         },
         "textposition": "bottom center",
         "type": "scatter",
         "x": [
          4.5
         ],
         "y": [
          -423
         ]
        },
        {
         "hoverinfo": "text",
         "hovertext": "",
         "marker": {
          "color": "blue",
          "size": 2
         },
         "mode": "markers+text",
         "text": "5 Star",
         "textfont": {
          "size": 8
         },
         "textposition": "bottom center",
         "type": "scatter",
         "x": [
          6
         ],
         "y": [
          -424
         ]
        },
        {
         "hoverinfo": "text",
         "hovertext": "Nike Air Max 90 Black White (PS)",
         "marker": {
          "color": "blue",
          "size": 2
         },
         "mode": "markers+text",
         "text": "Shoe",
         "textfont": {
          "size": 8
         },
         "textposition": "bottom center",
         "type": "scatter",
         "x": [
          7.5
         ],
         "y": [
          -425
         ]
        },
        {
         "hoverinfo": "text",
         "hovertext": "",
         "marker": {
          "color": "blue",
          "size": 2
         },
         "mode": "markers+text",
         "text": "Shiekh",
         "textfont": {
          "size": 8
         },
         "textposition": "bottom center",
         "type": "scatter",
         "x": [
          3
         ],
         "y": [
          -426
         ]
        },
        {
         "hoverinfo": "text",
         "hovertext": "",
         "marker": {
          "color": "blue",
          "size": 2
         },
         "mode": "markers+text",
         "text": "High",
         "textfont": {
          "size": 8
         },
         "textposition": "bottom center",
         "type": "scatter",
         "x": [
          4.5
         ],
         "y": [
          -427
         ]
        },
        {
         "hoverinfo": "text",
         "hovertext": "",
         "marker": {
          "color": "blue",
          "size": 2
         },
         "mode": "markers+text",
         "text": "5 Star",
         "textfont": {
          "size": 8
         },
         "textposition": "bottom center",
         "type": "scatter",
         "x": [
          6
         ],
         "y": [
          -428
         ]
        },
        {
         "hoverinfo": "text",
         "hovertext": "Nike Black Lunar Force 1 Sneakers",
         "marker": {
          "color": "blue",
          "size": 2
         },
         "mode": "markers+text",
         "text": "Shoe",
         "textfont": {
          "size": 8
         },
         "textposition": "bottom center",
         "type": "scatter",
         "x": [
          7.5
         ],
         "y": [
          -429
         ]
        },
        {
         "hoverinfo": "text",
         "hovertext": "",
         "marker": {
          "color": "blue",
          "size": 2
         },
         "mode": "markers+text",
         "text": "Champs Sports",
         "textfont": {
          "size": 8
         },
         "textposition": "bottom center",
         "type": "scatter",
         "x": [
          3
         ],
         "y": [
          -430
         ]
        },
        {
         "hoverinfo": "text",
         "hovertext": "",
         "marker": {
          "color": "blue",
          "size": 2
         },
         "mode": "markers+text",
         "text": "Medium",
         "textfont": {
          "size": 8
         },
         "textposition": "bottom center",
         "type": "scatter",
         "x": [
          4.5
         ],
         "y": [
          -431
         ]
        },
        {
         "hoverinfo": "text",
         "hovertext": "",
         "marker": {
          "color": "blue",
          "size": 2
         },
         "mode": "markers+text",
         "text": "5 Star",
         "textfont": {
          "size": 8
         },
         "textposition": "bottom center",
         "type": "scatter",
         "x": [
          6
         ],
         "y": [
          -432
         ]
        },
        {
         "hoverinfo": "text",
         "hovertext": "New Balance Black 574+ Sneakers",
         "marker": {
          "color": "blue",
          "size": 2
         },
         "mode": "markers+text",
         "text": "Shoe",
         "textfont": {
          "size": 8
         },
         "textposition": "bottom center",
         "type": "scatter",
         "x": [
          7.5
         ],
         "y": [
          -433
         ]
        },
        {
         "hoverinfo": "text",
         "hovertext": "",
         "marker": {
          "color": "blue",
          "size": 2
         },
         "mode": "markers+text",
         "text": "Kixify",
         "textfont": {
          "size": 8
         },
         "textposition": "bottom center",
         "type": "scatter",
         "x": [
          3
         ],
         "y": [
          -434
         ]
        },
        {
         "hoverinfo": "text",
         "hovertext": "",
         "marker": {
          "color": "blue",
          "size": 2
         },
         "mode": "markers+text",
         "text": "High",
         "textfont": {
          "size": 8
         },
         "textposition": "bottom center",
         "type": "scatter",
         "x": [
          4.5
         ],
         "y": [
          -435
         ]
        },
        {
         "hoverinfo": "text",
         "hovertext": "",
         "marker": {
          "color": "blue",
          "size": 2
         },
         "mode": "markers+text",
         "text": "5 Star",
         "textfont": {
          "size": 8
         },
         "textposition": "bottom center",
         "type": "scatter",
         "x": [
          6
         ],
         "y": [
          -436
         ]
        },
        {
         "hoverinfo": "text",
         "hovertext": "Reebok Men's Classic Leather Sneaker, Black/Gum, 9",
         "marker": {
          "color": "blue",
          "size": 2
         },
         "mode": "markers+text",
         "text": "Shoe",
         "textfont": {
          "size": 8
         },
         "textposition": "bottom center",
         "type": "scatter",
         "x": [
          7.5
         ],
         "y": [
          -437
         ]
        },
        {
         "hoverinfo": "text",
         "hovertext": "",
         "marker": {
          "color": "blue",
          "size": 2
         },
         "mode": "markers+text",
         "text": "Banana Republic Factory",
         "textfont": {
          "size": 8
         },
         "textposition": "bottom center",
         "type": "scatter",
         "x": [
          3
         ],
         "y": [
          -438
         ]
        },
        {
         "hoverinfo": "text",
         "hovertext": "",
         "marker": {
          "color": "blue",
          "size": 2
         },
         "mode": "markers+text",
         "text": "Low",
         "textfont": {
          "size": 8
         },
         "textposition": "bottom center",
         "type": "scatter",
         "x": [
          4.5
         ],
         "y": [
          -439
         ]
        },
        {
         "hoverinfo": "text",
         "hovertext": "",
         "marker": {
          "color": "blue",
          "size": 2
         },
         "mode": "markers+text",
         "text": "5 Star",
         "textfont": {
          "size": 8
         },
         "textposition": "bottom center",
         "type": "scatter",
         "x": [
          6
         ],
         "y": [
          -440
         ]
        },
        {
         "hoverinfo": "text",
         "hovertext": "Women's Knit Sneaker Black Regular Size 10",
         "marker": {
          "color": "blue",
          "size": 2
         },
         "mode": "markers+text",
         "text": "Shoe",
         "textfont": {
          "size": 8
         },
         "textposition": "bottom center",
         "type": "scatter",
         "x": [
          7.5
         ],
         "y": [
          -441
         ]
        },
        {
         "hoverinfo": "text",
         "hovertext": "",
         "marker": {
          "color": "blue",
          "size": 2
         },
         "mode": "markers+text",
         "text": "H&M",
         "textfont": {
          "size": 8
         },
         "textposition": "bottom center",
         "type": "scatter",
         "x": [
          3
         ],
         "y": [
          -442
         ]
        },
        {
         "hoverinfo": "text",
         "hovertext": "",
         "marker": {
          "color": "blue",
          "size": 2
         },
         "mode": "markers+text",
         "text": "Medium",
         "textfont": {
          "size": 8
         },
         "textposition": "bottom center",
         "type": "scatter",
         "x": [
          4.5
         ],
         "y": [
          -443
         ]
        },
        {
         "hoverinfo": "text",
         "hovertext": "",
         "marker": {
          "color": "blue",
          "size": 2
         },
         "mode": "markers+text",
         "text": "Unknown",
         "textfont": {
          "size": 8
         },
         "textposition": "bottom center",
         "type": "scatter",
         "x": [
          6
         ],
         "y": [
          -444
         ]
        },
        {
         "hoverinfo": "text",
         "hovertext": "Men - Black Chunky Sneakers - Size: 11.5 - H&M",
         "marker": {
          "color": "blue",
          "size": 2
         },
         "mode": "markers+text",
         "text": "Shoe",
         "textfont": {
          "size": 8
         },
         "textposition": "bottom center",
         "type": "scatter",
         "x": [
          7.5
         ],
         "y": [
          -445
         ]
        }
       ],
       "layout": {
        "height": 1500,
        "hovermode": "closest",
        "showlegend": false,
        "template": {
         "data": {
          "bar": [
           {
            "error_x": {
             "color": "#2a3f5f"
            },
            "error_y": {
             "color": "#2a3f5f"
            },
            "marker": {
             "line": {
              "color": "#E5ECF6",
              "width": 0.5
             },
             "pattern": {
              "fillmode": "overlay",
              "size": 10,
              "solidity": 0.2
             }
            },
            "type": "bar"
           }
          ],
          "barpolar": [
           {
            "marker": {
             "line": {
              "color": "#E5ECF6",
              "width": 0.5
             },
             "pattern": {
              "fillmode": "overlay",
              "size": 10,
              "solidity": 0.2
             }
            },
            "type": "barpolar"
           }
          ],
          "carpet": [
           {
            "aaxis": {
             "endlinecolor": "#2a3f5f",
             "gridcolor": "white",
             "linecolor": "white",
             "minorgridcolor": "white",
             "startlinecolor": "#2a3f5f"
            },
            "baxis": {
             "endlinecolor": "#2a3f5f",
             "gridcolor": "white",
             "linecolor": "white",
             "minorgridcolor": "white",
             "startlinecolor": "#2a3f5f"
            },
            "type": "carpet"
           }
          ],
          "choropleth": [
           {
            "colorbar": {
             "outlinewidth": 0,
             "ticks": ""
            },
            "type": "choropleth"
           }
          ],
          "contour": [
           {
            "colorbar": {
             "outlinewidth": 0,
             "ticks": ""
            },
            "colorscale": [
             [
              0,
              "#0d0887"
             ],
             [
              0.1111111111111111,
              "#46039f"
             ],
             [
              0.2222222222222222,
              "#7201a8"
             ],
             [
              0.3333333333333333,
              "#9c179e"
             ],
             [
              0.4444444444444444,
              "#bd3786"
             ],
             [
              0.5555555555555556,
              "#d8576b"
             ],
             [
              0.6666666666666666,
              "#ed7953"
             ],
             [
              0.7777777777777778,
              "#fb9f3a"
             ],
             [
              0.8888888888888888,
              "#fdca26"
             ],
             [
              1,
              "#f0f921"
             ]
            ],
            "type": "contour"
           }
          ],
          "contourcarpet": [
           {
            "colorbar": {
             "outlinewidth": 0,
             "ticks": ""
            },
            "type": "contourcarpet"
           }
          ],
          "heatmap": [
           {
            "colorbar": {
             "outlinewidth": 0,
             "ticks": ""
            },
            "colorscale": [
             [
              0,
              "#0d0887"
             ],
             [
              0.1111111111111111,
              "#46039f"
             ],
             [
              0.2222222222222222,
              "#7201a8"
             ],
             [
              0.3333333333333333,
              "#9c179e"
             ],
             [
              0.4444444444444444,
              "#bd3786"
             ],
             [
              0.5555555555555556,
              "#d8576b"
             ],
             [
              0.6666666666666666,
              "#ed7953"
             ],
             [
              0.7777777777777778,
              "#fb9f3a"
             ],
             [
              0.8888888888888888,
              "#fdca26"
             ],
             [
              1,
              "#f0f921"
             ]
            ],
            "type": "heatmap"
           }
          ],
          "heatmapgl": [
           {
            "colorbar": {
             "outlinewidth": 0,
             "ticks": ""
            },
            "colorscale": [
             [
              0,
              "#0d0887"
             ],
             [
              0.1111111111111111,
              "#46039f"
             ],
             [
              0.2222222222222222,
              "#7201a8"
             ],
             [
              0.3333333333333333,
              "#9c179e"
             ],
             [
              0.4444444444444444,
              "#bd3786"
             ],
             [
              0.5555555555555556,
              "#d8576b"
             ],
             [
              0.6666666666666666,
              "#ed7953"
             ],
             [
              0.7777777777777778,
              "#fb9f3a"
             ],
             [
              0.8888888888888888,
              "#fdca26"
             ],
             [
              1,
              "#f0f921"
             ]
            ],
            "type": "heatmapgl"
           }
          ],
          "histogram": [
           {
            "marker": {
             "pattern": {
              "fillmode": "overlay",
              "size": 10,
              "solidity": 0.2
             }
            },
            "type": "histogram"
           }
          ],
          "histogram2d": [
           {
            "colorbar": {
             "outlinewidth": 0,
             "ticks": ""
            },
            "colorscale": [
             [
              0,
              "#0d0887"
             ],
             [
              0.1111111111111111,
              "#46039f"
             ],
             [
              0.2222222222222222,
              "#7201a8"
             ],
             [
              0.3333333333333333,
              "#9c179e"
             ],
             [
              0.4444444444444444,
              "#bd3786"
             ],
             [
              0.5555555555555556,
              "#d8576b"
             ],
             [
              0.6666666666666666,
              "#ed7953"
             ],
             [
              0.7777777777777778,
              "#fb9f3a"
             ],
             [
              0.8888888888888888,
              "#fdca26"
             ],
             [
              1,
              "#f0f921"
             ]
            ],
            "type": "histogram2d"
           }
          ],
          "histogram2dcontour": [
           {
            "colorbar": {
             "outlinewidth": 0,
             "ticks": ""
            },
            "colorscale": [
             [
              0,
              "#0d0887"
             ],
             [
              0.1111111111111111,
              "#46039f"
             ],
             [
              0.2222222222222222,
              "#7201a8"
             ],
             [
              0.3333333333333333,
              "#9c179e"
             ],
             [
              0.4444444444444444,
              "#bd3786"
             ],
             [
              0.5555555555555556,
              "#d8576b"
             ],
             [
              0.6666666666666666,
              "#ed7953"
             ],
             [
              0.7777777777777778,
              "#fb9f3a"
             ],
             [
              0.8888888888888888,
              "#fdca26"
             ],
             [
              1,
              "#f0f921"
             ]
            ],
            "type": "histogram2dcontour"
           }
          ],
          "mesh3d": [
           {
            "colorbar": {
             "outlinewidth": 0,
             "ticks": ""
            },
            "type": "mesh3d"
           }
          ],
          "parcoords": [
           {
            "line": {
             "colorbar": {
              "outlinewidth": 0,
              "ticks": ""
             }
            },
            "type": "parcoords"
           }
          ],
          "pie": [
           {
            "automargin": true,
            "type": "pie"
           }
          ],
          "scatter": [
           {
            "marker": {
             "colorbar": {
              "outlinewidth": 0,
              "ticks": ""
             }
            },
            "type": "scatter"
           }
          ],
          "scatter3d": [
           {
            "line": {
             "colorbar": {
              "outlinewidth": 0,
              "ticks": ""
             }
            },
            "marker": {
             "colorbar": {
              "outlinewidth": 0,
              "ticks": ""
             }
            },
            "type": "scatter3d"
           }
          ],
          "scattercarpet": [
           {
            "marker": {
             "colorbar": {
              "outlinewidth": 0,
              "ticks": ""
             }
            },
            "type": "scattercarpet"
           }
          ],
          "scattergeo": [
           {
            "marker": {
             "colorbar": {
              "outlinewidth": 0,
              "ticks": ""
             }
            },
            "type": "scattergeo"
           }
          ],
          "scattergl": [
           {
            "marker": {
             "colorbar": {
              "outlinewidth": 0,
              "ticks": ""
             }
            },
            "type": "scattergl"
           }
          ],
          "scattermapbox": [
           {
            "marker": {
             "colorbar": {
              "outlinewidth": 0,
              "ticks": ""
             }
            },
            "type": "scattermapbox"
           }
          ],
          "scatterpolar": [
           {
            "marker": {
             "colorbar": {
              "outlinewidth": 0,
              "ticks": ""
             }
            },
            "type": "scatterpolar"
           }
          ],
          "scatterpolargl": [
           {
            "marker": {
             "colorbar": {
              "outlinewidth": 0,
              "ticks": ""
             }
            },
            "type": "scatterpolargl"
           }
          ],
          "scatterternary": [
           {
            "marker": {
             "colorbar": {
              "outlinewidth": 0,
              "ticks": ""
             }
            },
            "type": "scatterternary"
           }
          ],
          "surface": [
           {
            "colorbar": {
             "outlinewidth": 0,
             "ticks": ""
            },
            "colorscale": [
             [
              0,
              "#0d0887"
             ],
             [
              0.1111111111111111,
              "#46039f"
             ],
             [
              0.2222222222222222,
              "#7201a8"
             ],
             [
              0.3333333333333333,
              "#9c179e"
             ],
             [
              0.4444444444444444,
              "#bd3786"
             ],
             [
              0.5555555555555556,
              "#d8576b"
             ],
             [
              0.6666666666666666,
              "#ed7953"
             ],
             [
              0.7777777777777778,
              "#fb9f3a"
             ],
             [
              0.8888888888888888,
              "#fdca26"
             ],
             [
              1,
              "#f0f921"
             ]
            ],
            "type": "surface"
           }
          ],
          "table": [
           {
            "cells": {
             "fill": {
              "color": "#EBF0F8"
             },
             "line": {
              "color": "white"
             }
            },
            "header": {
             "fill": {
              "color": "#C8D4E3"
             },
             "line": {
              "color": "white"
             }
            },
            "type": "table"
           }
          ]
         },
         "layout": {
          "annotationdefaults": {
           "arrowcolor": "#2a3f5f",
           "arrowhead": 0,
           "arrowwidth": 1
          },
          "autotypenumbers": "strict",
          "coloraxis": {
           "colorbar": {
            "outlinewidth": 0,
            "ticks": ""
           }
          },
          "colorscale": {
           "diverging": [
            [
             0,
             "#8e0152"
            ],
            [
             0.1,
             "#c51b7d"
            ],
            [
             0.2,
             "#de77ae"
            ],
            [
             0.3,
             "#f1b6da"
            ],
            [
             0.4,
             "#fde0ef"
            ],
            [
             0.5,
             "#f7f7f7"
            ],
            [
             0.6,
             "#e6f5d0"
            ],
            [
             0.7,
             "#b8e186"
            ],
            [
             0.8,
             "#7fbc41"
            ],
            [
             0.9,
             "#4d9221"
            ],
            [
             1,
             "#276419"
            ]
           ],
           "sequential": [
            [
             0,
             "#0d0887"
            ],
            [
             0.1111111111111111,
             "#46039f"
            ],
            [
             0.2222222222222222,
             "#7201a8"
            ],
            [
             0.3333333333333333,
             "#9c179e"
            ],
            [
             0.4444444444444444,
             "#bd3786"
            ],
            [
             0.5555555555555556,
             "#d8576b"
            ],
            [
             0.6666666666666666,
             "#ed7953"
            ],
            [
             0.7777777777777778,
             "#fb9f3a"
            ],
            [
             0.8888888888888888,
             "#fdca26"
            ],
            [
             1,
             "#f0f921"
            ]
           ],
           "sequentialminus": [
            [
             0,
             "#0d0887"
            ],
            [
             0.1111111111111111,
             "#46039f"
            ],
            [
             0.2222222222222222,
             "#7201a8"
            ],
            [
             0.3333333333333333,
             "#9c179e"
            ],
            [
             0.4444444444444444,
             "#bd3786"
            ],
            [
             0.5555555555555556,
             "#d8576b"
            ],
            [
             0.6666666666666666,
             "#ed7953"
            ],
            [
             0.7777777777777778,
             "#fb9f3a"
            ],
            [
             0.8888888888888888,
             "#fdca26"
            ],
            [
             1,
             "#f0f921"
            ]
           ]
          },
          "colorway": [
           "#636efa",
           "#EF553B",
           "#00cc96",
           "#ab63fa",
           "#FFA15A",
           "#19d3f3",
           "#FF6692",
           "#B6E880",
           "#FF97FF",
           "#FECB52"
          ],
          "font": {
           "color": "#2a3f5f"
          },
          "geo": {
           "bgcolor": "white",
           "lakecolor": "white",
           "landcolor": "#E5ECF6",
           "showlakes": true,
           "showland": true,
           "subunitcolor": "white"
          },
          "hoverlabel": {
           "align": "left"
          },
          "hovermode": "closest",
          "mapbox": {
           "style": "light"
          },
          "paper_bgcolor": "white",
          "plot_bgcolor": "#E5ECF6",
          "polar": {
           "angularaxis": {
            "gridcolor": "white",
            "linecolor": "white",
            "ticks": ""
           },
           "bgcolor": "#E5ECF6",
           "radialaxis": {
            "gridcolor": "white",
            "linecolor": "white",
            "ticks": ""
           }
          },
          "scene": {
           "xaxis": {
            "backgroundcolor": "#E5ECF6",
            "gridcolor": "white",
            "gridwidth": 2,
            "linecolor": "white",
            "showbackground": true,
            "ticks": "",
            "zerolinecolor": "white"
           },
           "yaxis": {
            "backgroundcolor": "#E5ECF6",
            "gridcolor": "white",
            "gridwidth": 2,
            "linecolor": "white",
            "showbackground": true,
            "ticks": "",
            "zerolinecolor": "white"
           },
           "zaxis": {
            "backgroundcolor": "#E5ECF6",
            "gridcolor": "white",
            "gridwidth": 2,
            "linecolor": "white",
            "showbackground": true,
            "ticks": "",
            "zerolinecolor": "white"
           }
          },
          "shapedefaults": {
           "line": {
            "color": "#2a3f5f"
           }
          },
          "ternary": {
           "aaxis": {
            "gridcolor": "white",
            "linecolor": "white",
            "ticks": ""
           },
           "baxis": {
            "gridcolor": "white",
            "linecolor": "white",
            "ticks": ""
           },
           "bgcolor": "#E5ECF6",
           "caxis": {
            "gridcolor": "white",
            "linecolor": "white",
            "ticks": ""
           }
          },
          "title": {
           "x": 0.05
          },
          "xaxis": {
           "automargin": true,
           "gridcolor": "white",
           "linecolor": "white",
           "ticks": "",
           "title": {
            "standoff": 15
           },
           "zerolinecolor": "white",
           "zerolinewidth": 2
          },
          "yaxis": {
           "automargin": true,
           "gridcolor": "white",
           "linecolor": "white",
           "ticks": "",
           "title": {
            "standoff": 15
           },
           "zerolinecolor": "white",
           "zerolinewidth": 2
          }
         }
        },
        "title": {
         "text": "Interactive Tree of Shoes"
        },
        "width": 1200,
        "xaxis": {
         "showgrid": false,
         "showticklabels": false,
         "zeroline": false
        },
        "yaxis": {
         "showgrid": false,
         "showticklabels": false,
         "zeroline": false
        }
       }
      },
      "text/html": [
       "<div>                            <div id=\"61b22def-4f6d-456f-80f8-d9a9c3a4887f\" class=\"plotly-graph-div\" style=\"height:1500px; width:1200px;\"></div>            <script type=\"text/javascript\">                require([\"plotly\"], function(Plotly) {                    window.PLOTLYENV=window.PLOTLYENV || {};                                    if (document.getElementById(\"61b22def-4f6d-456f-80f8-d9a9c3a4887f\")) {                    Plotly.newPlot(                        \"61b22def-4f6d-456f-80f8-d9a9c3a4887f\",                        [{\"line\":{\"color\":\"grey\",\"width\":1},\"mode\":\"lines\",\"type\":\"scatter\",\"x\":[1.5,0],\"y\":[-1,0]},{\"line\":{\"color\":\"grey\",\"width\":1},\"mode\":\"lines\",\"type\":\"scatter\",\"x\":[3.0,1.5],\"y\":[-2,-1]},{\"line\":{\"color\":\"grey\",\"width\":1},\"mode\":\"lines\",\"type\":\"scatter\",\"x\":[4.5,3.0],\"y\":[-3,-2]},{\"line\":{\"color\":\"grey\",\"width\":1},\"mode\":\"lines\",\"type\":\"scatter\",\"x\":[6.0,4.5],\"y\":[-4,-3]},{\"line\":{\"color\":\"grey\",\"width\":1},\"mode\":\"lines\",\"type\":\"scatter\",\"x\":[7.5,6.0],\"y\":[-5,-4]},{\"line\":{\"color\":\"grey\",\"width\":1},\"mode\":\"lines\",\"type\":\"scatter\",\"x\":[4.5,3.0],\"y\":[-6,-2]},{\"line\":{\"color\":\"grey\",\"width\":1},\"mode\":\"lines\",\"type\":\"scatter\",\"x\":[6.0,4.5],\"y\":[-7,-6]},{\"line\":{\"color\":\"grey\",\"width\":1},\"mode\":\"lines\",\"type\":\"scatter\",\"x\":[7.5,6.0],\"y\":[-8,-7]},{\"line\":{\"color\":\"grey\",\"width\":1},\"mode\":\"lines\",\"type\":\"scatter\",\"x\":[3.0,1.5],\"y\":[-9,-1]},{\"line\":{\"color\":\"grey\",\"width\":1},\"mode\":\"lines\",\"type\":\"scatter\",\"x\":[4.5,3.0],\"y\":[-10,-9]},{\"line\":{\"color\":\"grey\",\"width\":1},\"mode\":\"lines\",\"type\":\"scatter\",\"x\":[6.0,4.5],\"y\":[-11,-10]},{\"line\":{\"color\":\"grey\",\"width\":1},\"mode\":\"lines\",\"type\":\"scatter\",\"x\":[7.5,6.0],\"y\":[-12,-11]},{\"line\":{\"color\":\"grey\",\"width\":1},\"mode\":\"lines\",\"type\":\"scatter\",\"x\":[7.5,6.0],\"y\":[-13,-11]},{\"line\":{\"color\":\"grey\",\"width\":1},\"mode\":\"lines\",\"type\":\"scatter\",\"x\":[3.0,1.5],\"y\":[-14,-1]},{\"line\":{\"color\":\"grey\",\"width\":1},\"mode\":\"lines\",\"type\":\"scatter\",\"x\":[4.5,3.0],\"y\":[-15,-14]},{\"line\":{\"color\":\"grey\",\"width\":1},\"mode\":\"lines\",\"type\":\"scatter\",\"x\":[6.0,4.5],\"y\":[-16,-15]},{\"line\":{\"color\":\"grey\",\"width\":1},\"mode\":\"lines\",\"type\":\"scatter\",\"x\":[7.5,6.0],\"y\":[-17,-16]},{\"line\":{\"color\":\"grey\",\"width\":1},\"mode\":\"lines\",\"type\":\"scatter\",\"x\":[3.0,1.5],\"y\":[-18,-1]},{\"line\":{\"color\":\"grey\",\"width\":1},\"mode\":\"lines\",\"type\":\"scatter\",\"x\":[4.5,3.0],\"y\":[-19,-18]},{\"line\":{\"color\":\"grey\",\"width\":1},\"mode\":\"lines\",\"type\":\"scatter\",\"x\":[6.0,4.5],\"y\":[-20,-19]},{\"line\":{\"color\":\"grey\",\"width\":1},\"mode\":\"lines\",\"type\":\"scatter\",\"x\":[7.5,6.0],\"y\":[-21,-20]},{\"line\":{\"color\":\"grey\",\"width\":1},\"mode\":\"lines\",\"type\":\"scatter\",\"x\":[7.5,6.0],\"y\":[-22,-20]},{\"line\":{\"color\":\"grey\",\"width\":1},\"mode\":\"lines\",\"type\":\"scatter\",\"x\":[3.0,1.5],\"y\":[-23,-1]},{\"line\":{\"color\":\"grey\",\"width\":1},\"mode\":\"lines\",\"type\":\"scatter\",\"x\":[4.5,3.0],\"y\":[-24,-23]},{\"line\":{\"color\":\"grey\",\"width\":1},\"mode\":\"lines\",\"type\":\"scatter\",\"x\":[6.0,4.5],\"y\":[-25,-24]},{\"line\":{\"color\":\"grey\",\"width\":1},\"mode\":\"lines\",\"type\":\"scatter\",\"x\":[7.5,6.0],\"y\":[-26,-25]},{\"line\":{\"color\":\"grey\",\"width\":1},\"mode\":\"lines\",\"type\":\"scatter\",\"x\":[4.5,3.0],\"y\":[-27,-23]},{\"line\":{\"color\":\"grey\",\"width\":1},\"mode\":\"lines\",\"type\":\"scatter\",\"x\":[6.0,4.5],\"y\":[-28,-27]},{\"line\":{\"color\":\"grey\",\"width\":1},\"mode\":\"lines\",\"type\":\"scatter\",\"x\":[7.5,6.0],\"y\":[-29,-28]},{\"line\":{\"color\":\"grey\",\"width\":1},\"mode\":\"lines\",\"type\":\"scatter\",\"x\":[6.0,4.5],\"y\":[-30,-27]},{\"line\":{\"color\":\"grey\",\"width\":1},\"mode\":\"lines\",\"type\":\"scatter\",\"x\":[7.5,6.0],\"y\":[-31,-30]},{\"line\":{\"color\":\"grey\",\"width\":1},\"mode\":\"lines\",\"type\":\"scatter\",\"x\":[3.0,1.5],\"y\":[-32,-1]},{\"line\":{\"color\":\"grey\",\"width\":1},\"mode\":\"lines\",\"type\":\"scatter\",\"x\":[4.5,3.0],\"y\":[-33,-32]},{\"line\":{\"color\":\"grey\",\"width\":1},\"mode\":\"lines\",\"type\":\"scatter\",\"x\":[6.0,4.5],\"y\":[-34,-33]},{\"line\":{\"color\":\"grey\",\"width\":1},\"mode\":\"lines\",\"type\":\"scatter\",\"x\":[7.5,6.0],\"y\":[-35,-34]},{\"line\":{\"color\":\"grey\",\"width\":1},\"mode\":\"lines\",\"type\":\"scatter\",\"x\":[6.0,4.5],\"y\":[-36,-33]},{\"line\":{\"color\":\"grey\",\"width\":1},\"mode\":\"lines\",\"type\":\"scatter\",\"x\":[7.5,6.0],\"y\":[-37,-36]},{\"line\":{\"color\":\"grey\",\"width\":1},\"mode\":\"lines\",\"type\":\"scatter\",\"x\":[4.5,3.0],\"y\":[-38,-32]},{\"line\":{\"color\":\"grey\",\"width\":1},\"mode\":\"lines\",\"type\":\"scatter\",\"x\":[6.0,4.5],\"y\":[-39,-38]},{\"line\":{\"color\":\"grey\",\"width\":1},\"mode\":\"lines\",\"type\":\"scatter\",\"x\":[7.5,6.0],\"y\":[-40,-39]},{\"line\":{\"color\":\"grey\",\"width\":1},\"mode\":\"lines\",\"type\":\"scatter\",\"x\":[6.0,4.5],\"y\":[-41,-38]},{\"line\":{\"color\":\"grey\",\"width\":1},\"mode\":\"lines\",\"type\":\"scatter\",\"x\":[7.5,6.0],\"y\":[-42,-41]},{\"line\":{\"color\":\"grey\",\"width\":1},\"mode\":\"lines\",\"type\":\"scatter\",\"x\":[3.0,1.5],\"y\":[-43,-1]},{\"line\":{\"color\":\"grey\",\"width\":1},\"mode\":\"lines\",\"type\":\"scatter\",\"x\":[4.5,3.0],\"y\":[-44,-43]},{\"line\":{\"color\":\"grey\",\"width\":1},\"mode\":\"lines\",\"type\":\"scatter\",\"x\":[6.0,4.5],\"y\":[-45,-44]},{\"line\":{\"color\":\"grey\",\"width\":1},\"mode\":\"lines\",\"type\":\"scatter\",\"x\":[7.5,6.0],\"y\":[-46,-45]},{\"line\":{\"color\":\"grey\",\"width\":1},\"mode\":\"lines\",\"type\":\"scatter\",\"x\":[3.0,1.5],\"y\":[-47,-1]},{\"line\":{\"color\":\"grey\",\"width\":1},\"mode\":\"lines\",\"type\":\"scatter\",\"x\":[4.5,3.0],\"y\":[-48,-47]},{\"line\":{\"color\":\"grey\",\"width\":1},\"mode\":\"lines\",\"type\":\"scatter\",\"x\":[6.0,4.5],\"y\":[-49,-48]},{\"line\":{\"color\":\"grey\",\"width\":1},\"mode\":\"lines\",\"type\":\"scatter\",\"x\":[7.5,6.0],\"y\":[-50,-49]},{\"line\":{\"color\":\"grey\",\"width\":1},\"mode\":\"lines\",\"type\":\"scatter\",\"x\":[3.0,1.5],\"y\":[-51,-1]},{\"line\":{\"color\":\"grey\",\"width\":1},\"mode\":\"lines\",\"type\":\"scatter\",\"x\":[4.5,3.0],\"y\":[-52,-51]},{\"line\":{\"color\":\"grey\",\"width\":1},\"mode\":\"lines\",\"type\":\"scatter\",\"x\":[6.0,4.5],\"y\":[-53,-52]},{\"line\":{\"color\":\"grey\",\"width\":1},\"mode\":\"lines\",\"type\":\"scatter\",\"x\":[7.5,6.0],\"y\":[-54,-53]},{\"line\":{\"color\":\"grey\",\"width\":1},\"mode\":\"lines\",\"type\":\"scatter\",\"x\":[3.0,1.5],\"y\":[-55,-1]},{\"line\":{\"color\":\"grey\",\"width\":1},\"mode\":\"lines\",\"type\":\"scatter\",\"x\":[4.5,3.0],\"y\":[-56,-55]},{\"line\":{\"color\":\"grey\",\"width\":1},\"mode\":\"lines\",\"type\":\"scatter\",\"x\":[6.0,4.5],\"y\":[-57,-56]},{\"line\":{\"color\":\"grey\",\"width\":1},\"mode\":\"lines\",\"type\":\"scatter\",\"x\":[7.5,6.0],\"y\":[-58,-57]},{\"line\":{\"color\":\"grey\",\"width\":1},\"mode\":\"lines\",\"type\":\"scatter\",\"x\":[3.0,1.5],\"y\":[-59,-1]},{\"line\":{\"color\":\"grey\",\"width\":1},\"mode\":\"lines\",\"type\":\"scatter\",\"x\":[4.5,3.0],\"y\":[-60,-59]},{\"line\":{\"color\":\"grey\",\"width\":1},\"mode\":\"lines\",\"type\":\"scatter\",\"x\":[6.0,4.5],\"y\":[-61,-60]},{\"line\":{\"color\":\"grey\",\"width\":1},\"mode\":\"lines\",\"type\":\"scatter\",\"x\":[7.5,6.0],\"y\":[-62,-61]},{\"line\":{\"color\":\"grey\",\"width\":1},\"mode\":\"lines\",\"type\":\"scatter\",\"x\":[6.0,4.5],\"y\":[-63,-60]},{\"line\":{\"color\":\"grey\",\"width\":1},\"mode\":\"lines\",\"type\":\"scatter\",\"x\":[7.5,6.0],\"y\":[-64,-63]},{\"line\":{\"color\":\"grey\",\"width\":1},\"mode\":\"lines\",\"type\":\"scatter\",\"x\":[3.0,1.5],\"y\":[-65,-1]},{\"line\":{\"color\":\"grey\",\"width\":1},\"mode\":\"lines\",\"type\":\"scatter\",\"x\":[4.5,3.0],\"y\":[-66,-65]},{\"line\":{\"color\":\"grey\",\"width\":1},\"mode\":\"lines\",\"type\":\"scatter\",\"x\":[6.0,4.5],\"y\":[-67,-66]},{\"line\":{\"color\":\"grey\",\"width\":1},\"mode\":\"lines\",\"type\":\"scatter\",\"x\":[7.5,6.0],\"y\":[-68,-67]},{\"line\":{\"color\":\"grey\",\"width\":1},\"mode\":\"lines\",\"type\":\"scatter\",\"x\":[7.5,6.0],\"y\":[-69,-67]},{\"line\":{\"color\":\"grey\",\"width\":1},\"mode\":\"lines\",\"type\":\"scatter\",\"x\":[3.0,1.5],\"y\":[-70,-1]},{\"line\":{\"color\":\"grey\",\"width\":1},\"mode\":\"lines\",\"type\":\"scatter\",\"x\":[4.5,3.0],\"y\":[-71,-70]},{\"line\":{\"color\":\"grey\",\"width\":1},\"mode\":\"lines\",\"type\":\"scatter\",\"x\":[6.0,4.5],\"y\":[-72,-71]},{\"line\":{\"color\":\"grey\",\"width\":1},\"mode\":\"lines\",\"type\":\"scatter\",\"x\":[7.5,6.0],\"y\":[-73,-72]},{\"line\":{\"color\":\"grey\",\"width\":1},\"mode\":\"lines\",\"type\":\"scatter\",\"x\":[3.0,1.5],\"y\":[-74,-1]},{\"line\":{\"color\":\"grey\",\"width\":1},\"mode\":\"lines\",\"type\":\"scatter\",\"x\":[4.5,3.0],\"y\":[-75,-74]},{\"line\":{\"color\":\"grey\",\"width\":1},\"mode\":\"lines\",\"type\":\"scatter\",\"x\":[6.0,4.5],\"y\":[-76,-75]},{\"line\":{\"color\":\"grey\",\"width\":1},\"mode\":\"lines\",\"type\":\"scatter\",\"x\":[7.5,6.0],\"y\":[-77,-76]},{\"line\":{\"color\":\"grey\",\"width\":1},\"mode\":\"lines\",\"type\":\"scatter\",\"x\":[4.5,3.0],\"y\":[-78,-74]},{\"line\":{\"color\":\"grey\",\"width\":1},\"mode\":\"lines\",\"type\":\"scatter\",\"x\":[6.0,4.5],\"y\":[-79,-78]},{\"line\":{\"color\":\"grey\",\"width\":1},\"mode\":\"lines\",\"type\":\"scatter\",\"x\":[7.5,6.0],\"y\":[-80,-79]},{\"line\":{\"color\":\"grey\",\"width\":1},\"mode\":\"lines\",\"type\":\"scatter\",\"x\":[3.0,1.5],\"y\":[-81,-1]},{\"line\":{\"color\":\"grey\",\"width\":1},\"mode\":\"lines\",\"type\":\"scatter\",\"x\":[4.5,3.0],\"y\":[-82,-81]},{\"line\":{\"color\":\"grey\",\"width\":1},\"mode\":\"lines\",\"type\":\"scatter\",\"x\":[6.0,4.5],\"y\":[-83,-82]},{\"line\":{\"color\":\"grey\",\"width\":1},\"mode\":\"lines\",\"type\":\"scatter\",\"x\":[7.5,6.0],\"y\":[-84,-83]},{\"line\":{\"color\":\"grey\",\"width\":1},\"mode\":\"lines\",\"type\":\"scatter\",\"x\":[4.5,3.0],\"y\":[-85,-81]},{\"line\":{\"color\":\"grey\",\"width\":1},\"mode\":\"lines\",\"type\":\"scatter\",\"x\":[6.0,4.5],\"y\":[-86,-85]},{\"line\":{\"color\":\"grey\",\"width\":1},\"mode\":\"lines\",\"type\":\"scatter\",\"x\":[7.5,6.0],\"y\":[-87,-86]},{\"line\":{\"color\":\"grey\",\"width\":1},\"mode\":\"lines\",\"type\":\"scatter\",\"x\":[3.0,1.5],\"y\":[-88,-1]},{\"line\":{\"color\":\"grey\",\"width\":1},\"mode\":\"lines\",\"type\":\"scatter\",\"x\":[4.5,3.0],\"y\":[-89,-88]},{\"line\":{\"color\":\"grey\",\"width\":1},\"mode\":\"lines\",\"type\":\"scatter\",\"x\":[6.0,4.5],\"y\":[-90,-89]},{\"line\":{\"color\":\"grey\",\"width\":1},\"mode\":\"lines\",\"type\":\"scatter\",\"x\":[7.5,6.0],\"y\":[-91,-90]},{\"line\":{\"color\":\"grey\",\"width\":1},\"mode\":\"lines\",\"type\":\"scatter\",\"x\":[3.0,1.5],\"y\":[-92,-1]},{\"line\":{\"color\":\"grey\",\"width\":1},\"mode\":\"lines\",\"type\":\"scatter\",\"x\":[4.5,3.0],\"y\":[-93,-92]},{\"line\":{\"color\":\"grey\",\"width\":1},\"mode\":\"lines\",\"type\":\"scatter\",\"x\":[6.0,4.5],\"y\":[-94,-93]},{\"line\":{\"color\":\"grey\",\"width\":1},\"mode\":\"lines\",\"type\":\"scatter\",\"x\":[7.5,6.0],\"y\":[-95,-94]},{\"line\":{\"color\":\"grey\",\"width\":1},\"mode\":\"lines\",\"type\":\"scatter\",\"x\":[3.0,1.5],\"y\":[-96,-1]},{\"line\":{\"color\":\"grey\",\"width\":1},\"mode\":\"lines\",\"type\":\"scatter\",\"x\":[4.5,3.0],\"y\":[-97,-96]},{\"line\":{\"color\":\"grey\",\"width\":1},\"mode\":\"lines\",\"type\":\"scatter\",\"x\":[6.0,4.5],\"y\":[-98,-97]},{\"line\":{\"color\":\"grey\",\"width\":1},\"mode\":\"lines\",\"type\":\"scatter\",\"x\":[7.5,6.0],\"y\":[-99,-98]},{\"line\":{\"color\":\"grey\",\"width\":1},\"mode\":\"lines\",\"type\":\"scatter\",\"x\":[3.0,1.5],\"y\":[-100,-1]},{\"line\":{\"color\":\"grey\",\"width\":1},\"mode\":\"lines\",\"type\":\"scatter\",\"x\":[4.5,3.0],\"y\":[-101,-100]},{\"line\":{\"color\":\"grey\",\"width\":1},\"mode\":\"lines\",\"type\":\"scatter\",\"x\":[6.0,4.5],\"y\":[-102,-101]},{\"line\":{\"color\":\"grey\",\"width\":1},\"mode\":\"lines\",\"type\":\"scatter\",\"x\":[7.5,6.0],\"y\":[-103,-102]},{\"line\":{\"color\":\"grey\",\"width\":1},\"mode\":\"lines\",\"type\":\"scatter\",\"x\":[3.0,1.5],\"y\":[-104,-1]},{\"line\":{\"color\":\"grey\",\"width\":1},\"mode\":\"lines\",\"type\":\"scatter\",\"x\":[4.5,3.0],\"y\":[-105,-104]},{\"line\":{\"color\":\"grey\",\"width\":1},\"mode\":\"lines\",\"type\":\"scatter\",\"x\":[6.0,4.5],\"y\":[-106,-105]},{\"line\":{\"color\":\"grey\",\"width\":1},\"mode\":\"lines\",\"type\":\"scatter\",\"x\":[7.5,6.0],\"y\":[-107,-106]},{\"line\":{\"color\":\"grey\",\"width\":1},\"mode\":\"lines\",\"type\":\"scatter\",\"x\":[3.0,1.5],\"y\":[-108,-1]},{\"line\":{\"color\":\"grey\",\"width\":1},\"mode\":\"lines\",\"type\":\"scatter\",\"x\":[4.5,3.0],\"y\":[-109,-108]},{\"line\":{\"color\":\"grey\",\"width\":1},\"mode\":\"lines\",\"type\":\"scatter\",\"x\":[6.0,4.5],\"y\":[-110,-109]},{\"line\":{\"color\":\"grey\",\"width\":1},\"mode\":\"lines\",\"type\":\"scatter\",\"x\":[7.5,6.0],\"y\":[-111,-110]},{\"line\":{\"color\":\"grey\",\"width\":1},\"mode\":\"lines\",\"type\":\"scatter\",\"x\":[3.0,1.5],\"y\":[-112,-1]},{\"line\":{\"color\":\"grey\",\"width\":1},\"mode\":\"lines\",\"type\":\"scatter\",\"x\":[4.5,3.0],\"y\":[-113,-112]},{\"line\":{\"color\":\"grey\",\"width\":1},\"mode\":\"lines\",\"type\":\"scatter\",\"x\":[6.0,4.5],\"y\":[-114,-113]},{\"line\":{\"color\":\"grey\",\"width\":1},\"mode\":\"lines\",\"type\":\"scatter\",\"x\":[7.5,6.0],\"y\":[-115,-114]},{\"line\":{\"color\":\"grey\",\"width\":1},\"mode\":\"lines\",\"type\":\"scatter\",\"x\":[3.0,1.5],\"y\":[-116,-1]},{\"line\":{\"color\":\"grey\",\"width\":1},\"mode\":\"lines\",\"type\":\"scatter\",\"x\":[4.5,3.0],\"y\":[-117,-116]},{\"line\":{\"color\":\"grey\",\"width\":1},\"mode\":\"lines\",\"type\":\"scatter\",\"x\":[6.0,4.5],\"y\":[-118,-117]},{\"line\":{\"color\":\"grey\",\"width\":1},\"mode\":\"lines\",\"type\":\"scatter\",\"x\":[7.5,6.0],\"y\":[-119,-118]},{\"line\":{\"color\":\"grey\",\"width\":1},\"mode\":\"lines\",\"type\":\"scatter\",\"x\":[4.5,3.0],\"y\":[-120,-116]},{\"line\":{\"color\":\"grey\",\"width\":1},\"mode\":\"lines\",\"type\":\"scatter\",\"x\":[6.0,4.5],\"y\":[-121,-120]},{\"line\":{\"color\":\"grey\",\"width\":1},\"mode\":\"lines\",\"type\":\"scatter\",\"x\":[7.5,6.0],\"y\":[-122,-121]},{\"line\":{\"color\":\"grey\",\"width\":1},\"mode\":\"lines\",\"type\":\"scatter\",\"x\":[3.0,1.5],\"y\":[-123,-1]},{\"line\":{\"color\":\"grey\",\"width\":1},\"mode\":\"lines\",\"type\":\"scatter\",\"x\":[4.5,3.0],\"y\":[-124,-123]},{\"line\":{\"color\":\"grey\",\"width\":1},\"mode\":\"lines\",\"type\":\"scatter\",\"x\":[6.0,4.5],\"y\":[-125,-124]},{\"line\":{\"color\":\"grey\",\"width\":1},\"mode\":\"lines\",\"type\":\"scatter\",\"x\":[7.5,6.0],\"y\":[-126,-125]},{\"line\":{\"color\":\"grey\",\"width\":1},\"mode\":\"lines\",\"type\":\"scatter\",\"x\":[4.5,3.0],\"y\":[-127,-123]},{\"line\":{\"color\":\"grey\",\"width\":1},\"mode\":\"lines\",\"type\":\"scatter\",\"x\":[6.0,4.5],\"y\":[-128,-127]},{\"line\":{\"color\":\"grey\",\"width\":1},\"mode\":\"lines\",\"type\":\"scatter\",\"x\":[7.5,6.0],\"y\":[-129,-128]},{\"line\":{\"color\":\"grey\",\"width\":1},\"mode\":\"lines\",\"type\":\"scatter\",\"x\":[3.0,1.5],\"y\":[-130,-1]},{\"line\":{\"color\":\"grey\",\"width\":1},\"mode\":\"lines\",\"type\":\"scatter\",\"x\":[4.5,3.0],\"y\":[-131,-130]},{\"line\":{\"color\":\"grey\",\"width\":1},\"mode\":\"lines\",\"type\":\"scatter\",\"x\":[6.0,4.5],\"y\":[-132,-131]},{\"line\":{\"color\":\"grey\",\"width\":1},\"mode\":\"lines\",\"type\":\"scatter\",\"x\":[7.5,6.0],\"y\":[-133,-132]},{\"line\":{\"color\":\"grey\",\"width\":1},\"mode\":\"lines\",\"type\":\"scatter\",\"x\":[3.0,1.5],\"y\":[-134,-1]},{\"line\":{\"color\":\"grey\",\"width\":1},\"mode\":\"lines\",\"type\":\"scatter\",\"x\":[4.5,3.0],\"y\":[-135,-134]},{\"line\":{\"color\":\"grey\",\"width\":1},\"mode\":\"lines\",\"type\":\"scatter\",\"x\":[6.0,4.5],\"y\":[-136,-135]},{\"line\":{\"color\":\"grey\",\"width\":1},\"mode\":\"lines\",\"type\":\"scatter\",\"x\":[7.5,6.0],\"y\":[-137,-136]},{\"line\":{\"color\":\"grey\",\"width\":1},\"mode\":\"lines\",\"type\":\"scatter\",\"x\":[3.0,1.5],\"y\":[-138,-1]},{\"line\":{\"color\":\"grey\",\"width\":1},\"mode\":\"lines\",\"type\":\"scatter\",\"x\":[4.5,3.0],\"y\":[-139,-138]},{\"line\":{\"color\":\"grey\",\"width\":1},\"mode\":\"lines\",\"type\":\"scatter\",\"x\":[6.0,4.5],\"y\":[-140,-139]},{\"line\":{\"color\":\"grey\",\"width\":1},\"mode\":\"lines\",\"type\":\"scatter\",\"x\":[7.5,6.0],\"y\":[-141,-140]},{\"line\":{\"color\":\"grey\",\"width\":1},\"mode\":\"lines\",\"type\":\"scatter\",\"x\":[3.0,1.5],\"y\":[-142,-1]},{\"line\":{\"color\":\"grey\",\"width\":1},\"mode\":\"lines\",\"type\":\"scatter\",\"x\":[4.5,3.0],\"y\":[-143,-142]},{\"line\":{\"color\":\"grey\",\"width\":1},\"mode\":\"lines\",\"type\":\"scatter\",\"x\":[6.0,4.5],\"y\":[-144,-143]},{\"line\":{\"color\":\"grey\",\"width\":1},\"mode\":\"lines\",\"type\":\"scatter\",\"x\":[7.5,6.0],\"y\":[-145,-144]},{\"line\":{\"color\":\"grey\",\"width\":1},\"mode\":\"lines\",\"type\":\"scatter\",\"x\":[3.0,1.5],\"y\":[-146,-1]},{\"line\":{\"color\":\"grey\",\"width\":1},\"mode\":\"lines\",\"type\":\"scatter\",\"x\":[4.5,3.0],\"y\":[-147,-146]},{\"line\":{\"color\":\"grey\",\"width\":1},\"mode\":\"lines\",\"type\":\"scatter\",\"x\":[6.0,4.5],\"y\":[-148,-147]},{\"line\":{\"color\":\"grey\",\"width\":1},\"mode\":\"lines\",\"type\":\"scatter\",\"x\":[7.5,6.0],\"y\":[-149,-148]},{\"line\":{\"color\":\"grey\",\"width\":1},\"mode\":\"lines\",\"type\":\"scatter\",\"x\":[3.0,1.5],\"y\":[-150,-1]},{\"line\":{\"color\":\"grey\",\"width\":1},\"mode\":\"lines\",\"type\":\"scatter\",\"x\":[4.5,3.0],\"y\":[-151,-150]},{\"line\":{\"color\":\"grey\",\"width\":1},\"mode\":\"lines\",\"type\":\"scatter\",\"x\":[6.0,4.5],\"y\":[-152,-151]},{\"line\":{\"color\":\"grey\",\"width\":1},\"mode\":\"lines\",\"type\":\"scatter\",\"x\":[7.5,6.0],\"y\":[-153,-152]},{\"line\":{\"color\":\"grey\",\"width\":1},\"mode\":\"lines\",\"type\":\"scatter\",\"x\":[3.0,1.5],\"y\":[-154,-1]},{\"line\":{\"color\":\"grey\",\"width\":1},\"mode\":\"lines\",\"type\":\"scatter\",\"x\":[4.5,3.0],\"y\":[-155,-154]},{\"line\":{\"color\":\"grey\",\"width\":1},\"mode\":\"lines\",\"type\":\"scatter\",\"x\":[6.0,4.5],\"y\":[-156,-155]},{\"line\":{\"color\":\"grey\",\"width\":1},\"mode\":\"lines\",\"type\":\"scatter\",\"x\":[7.5,6.0],\"y\":[-157,-156]},{\"line\":{\"color\":\"grey\",\"width\":1},\"mode\":\"lines\",\"type\":\"scatter\",\"x\":[3.0,1.5],\"y\":[-158,-1]},{\"line\":{\"color\":\"grey\",\"width\":1},\"mode\":\"lines\",\"type\":\"scatter\",\"x\":[4.5,3.0],\"y\":[-159,-158]},{\"line\":{\"color\":\"grey\",\"width\":1},\"mode\":\"lines\",\"type\":\"scatter\",\"x\":[6.0,4.5],\"y\":[-160,-159]},{\"line\":{\"color\":\"grey\",\"width\":1},\"mode\":\"lines\",\"type\":\"scatter\",\"x\":[7.5,6.0],\"y\":[-161,-160]},{\"line\":{\"color\":\"grey\",\"width\":1},\"mode\":\"lines\",\"type\":\"scatter\",\"x\":[3.0,1.5],\"y\":[-162,-1]},{\"line\":{\"color\":\"grey\",\"width\":1},\"mode\":\"lines\",\"type\":\"scatter\",\"x\":[4.5,3.0],\"y\":[-163,-162]},{\"line\":{\"color\":\"grey\",\"width\":1},\"mode\":\"lines\",\"type\":\"scatter\",\"x\":[6.0,4.5],\"y\":[-164,-163]},{\"line\":{\"color\":\"grey\",\"width\":1},\"mode\":\"lines\",\"type\":\"scatter\",\"x\":[7.5,6.0],\"y\":[-165,-164]},{\"line\":{\"color\":\"grey\",\"width\":1},\"mode\":\"lines\",\"type\":\"scatter\",\"x\":[3.0,1.5],\"y\":[-166,-1]},{\"line\":{\"color\":\"grey\",\"width\":1},\"mode\":\"lines\",\"type\":\"scatter\",\"x\":[4.5,3.0],\"y\":[-167,-166]},{\"line\":{\"color\":\"grey\",\"width\":1},\"mode\":\"lines\",\"type\":\"scatter\",\"x\":[6.0,4.5],\"y\":[-168,-167]},{\"line\":{\"color\":\"grey\",\"width\":1},\"mode\":\"lines\",\"type\":\"scatter\",\"x\":[7.5,6.0],\"y\":[-169,-168]},{\"line\":{\"color\":\"grey\",\"width\":1},\"mode\":\"lines\",\"type\":\"scatter\",\"x\":[3.0,1.5],\"y\":[-170,-1]},{\"line\":{\"color\":\"grey\",\"width\":1},\"mode\":\"lines\",\"type\":\"scatter\",\"x\":[4.5,3.0],\"y\":[-171,-170]},{\"line\":{\"color\":\"grey\",\"width\":1},\"mode\":\"lines\",\"type\":\"scatter\",\"x\":[6.0,4.5],\"y\":[-172,-171]},{\"line\":{\"color\":\"grey\",\"width\":1},\"mode\":\"lines\",\"type\":\"scatter\",\"x\":[7.5,6.0],\"y\":[-173,-172]},{\"line\":{\"color\":\"grey\",\"width\":1},\"mode\":\"lines\",\"type\":\"scatter\",\"x\":[3.0,1.5],\"y\":[-174,-1]},{\"line\":{\"color\":\"grey\",\"width\":1},\"mode\":\"lines\",\"type\":\"scatter\",\"x\":[4.5,3.0],\"y\":[-175,-174]},{\"line\":{\"color\":\"grey\",\"width\":1},\"mode\":\"lines\",\"type\":\"scatter\",\"x\":[6.0,4.5],\"y\":[-176,-175]},{\"line\":{\"color\":\"grey\",\"width\":1},\"mode\":\"lines\",\"type\":\"scatter\",\"x\":[7.5,6.0],\"y\":[-177,-176]},{\"line\":{\"color\":\"grey\",\"width\":1},\"mode\":\"lines\",\"type\":\"scatter\",\"x\":[3.0,1.5],\"y\":[-178,-1]},{\"line\":{\"color\":\"grey\",\"width\":1},\"mode\":\"lines\",\"type\":\"scatter\",\"x\":[4.5,3.0],\"y\":[-179,-178]},{\"line\":{\"color\":\"grey\",\"width\":1},\"mode\":\"lines\",\"type\":\"scatter\",\"x\":[6.0,4.5],\"y\":[-180,-179]},{\"line\":{\"color\":\"grey\",\"width\":1},\"mode\":\"lines\",\"type\":\"scatter\",\"x\":[7.5,6.0],\"y\":[-181,-180]},{\"line\":{\"color\":\"grey\",\"width\":1},\"mode\":\"lines\",\"type\":\"scatter\",\"x\":[3.0,1.5],\"y\":[-182,-1]},{\"line\":{\"color\":\"grey\",\"width\":1},\"mode\":\"lines\",\"type\":\"scatter\",\"x\":[4.5,3.0],\"y\":[-183,-182]},{\"line\":{\"color\":\"grey\",\"width\":1},\"mode\":\"lines\",\"type\":\"scatter\",\"x\":[6.0,4.5],\"y\":[-184,-183]},{\"line\":{\"color\":\"grey\",\"width\":1},\"mode\":\"lines\",\"type\":\"scatter\",\"x\":[7.5,6.0],\"y\":[-185,-184]},{\"line\":{\"color\":\"grey\",\"width\":1},\"mode\":\"lines\",\"type\":\"scatter\",\"x\":[3.0,1.5],\"y\":[-186,-1]},{\"line\":{\"color\":\"grey\",\"width\":1},\"mode\":\"lines\",\"type\":\"scatter\",\"x\":[4.5,3.0],\"y\":[-187,-186]},{\"line\":{\"color\":\"grey\",\"width\":1},\"mode\":\"lines\",\"type\":\"scatter\",\"x\":[6.0,4.5],\"y\":[-188,-187]},{\"line\":{\"color\":\"grey\",\"width\":1},\"mode\":\"lines\",\"type\":\"scatter\",\"x\":[7.5,6.0],\"y\":[-189,-188]},{\"line\":{\"color\":\"grey\",\"width\":1},\"mode\":\"lines\",\"type\":\"scatter\",\"x\":[3.0,1.5],\"y\":[-190,-1]},{\"line\":{\"color\":\"grey\",\"width\":1},\"mode\":\"lines\",\"type\":\"scatter\",\"x\":[4.5,3.0],\"y\":[-191,-190]},{\"line\":{\"color\":\"grey\",\"width\":1},\"mode\":\"lines\",\"type\":\"scatter\",\"x\":[6.0,4.5],\"y\":[-192,-191]},{\"line\":{\"color\":\"grey\",\"width\":1},\"mode\":\"lines\",\"type\":\"scatter\",\"x\":[7.5,6.0],\"y\":[-193,-192]},{\"line\":{\"color\":\"grey\",\"width\":1},\"mode\":\"lines\",\"type\":\"scatter\",\"x\":[3.0,1.5],\"y\":[-194,-1]},{\"line\":{\"color\":\"grey\",\"width\":1},\"mode\":\"lines\",\"type\":\"scatter\",\"x\":[4.5,3.0],\"y\":[-195,-194]},{\"line\":{\"color\":\"grey\",\"width\":1},\"mode\":\"lines\",\"type\":\"scatter\",\"x\":[6.0,4.5],\"y\":[-196,-195]},{\"line\":{\"color\":\"grey\",\"width\":1},\"mode\":\"lines\",\"type\":\"scatter\",\"x\":[7.5,6.0],\"y\":[-197,-196]},{\"line\":{\"color\":\"grey\",\"width\":1},\"mode\":\"lines\",\"type\":\"scatter\",\"x\":[3.0,1.5],\"y\":[-198,-1]},{\"line\":{\"color\":\"grey\",\"width\":1},\"mode\":\"lines\",\"type\":\"scatter\",\"x\":[4.5,3.0],\"y\":[-199,-198]},{\"line\":{\"color\":\"grey\",\"width\":1},\"mode\":\"lines\",\"type\":\"scatter\",\"x\":[6.0,4.5],\"y\":[-200,-199]},{\"line\":{\"color\":\"grey\",\"width\":1},\"mode\":\"lines\",\"type\":\"scatter\",\"x\":[7.5,6.0],\"y\":[-201,-200]},{\"line\":{\"color\":\"grey\",\"width\":1},\"mode\":\"lines\",\"type\":\"scatter\",\"x\":[3.0,1.5],\"y\":[-202,-1]},{\"line\":{\"color\":\"grey\",\"width\":1},\"mode\":\"lines\",\"type\":\"scatter\",\"x\":[4.5,3.0],\"y\":[-203,-202]},{\"line\":{\"color\":\"grey\",\"width\":1},\"mode\":\"lines\",\"type\":\"scatter\",\"x\":[6.0,4.5],\"y\":[-204,-203]},{\"line\":{\"color\":\"grey\",\"width\":1},\"mode\":\"lines\",\"type\":\"scatter\",\"x\":[7.5,6.0],\"y\":[-205,-204]},{\"line\":{\"color\":\"grey\",\"width\":1},\"mode\":\"lines\",\"type\":\"scatter\",\"x\":[3.0,1.5],\"y\":[-206,-1]},{\"line\":{\"color\":\"grey\",\"width\":1},\"mode\":\"lines\",\"type\":\"scatter\",\"x\":[4.5,3.0],\"y\":[-207,-206]},{\"line\":{\"color\":\"grey\",\"width\":1},\"mode\":\"lines\",\"type\":\"scatter\",\"x\":[6.0,4.5],\"y\":[-208,-207]},{\"line\":{\"color\":\"grey\",\"width\":1},\"mode\":\"lines\",\"type\":\"scatter\",\"x\":[7.5,6.0],\"y\":[-209,-208]},{\"line\":{\"color\":\"grey\",\"width\":1},\"mode\":\"lines\",\"type\":\"scatter\",\"x\":[3.0,1.5],\"y\":[-210,-1]},{\"line\":{\"color\":\"grey\",\"width\":1},\"mode\":\"lines\",\"type\":\"scatter\",\"x\":[4.5,3.0],\"y\":[-211,-210]},{\"line\":{\"color\":\"grey\",\"width\":1},\"mode\":\"lines\",\"type\":\"scatter\",\"x\":[6.0,4.5],\"y\":[-212,-211]},{\"line\":{\"color\":\"grey\",\"width\":1},\"mode\":\"lines\",\"type\":\"scatter\",\"x\":[7.5,6.0],\"y\":[-213,-212]},{\"line\":{\"color\":\"grey\",\"width\":1},\"mode\":\"lines\",\"type\":\"scatter\",\"x\":[3.0,1.5],\"y\":[-214,-1]},{\"line\":{\"color\":\"grey\",\"width\":1},\"mode\":\"lines\",\"type\":\"scatter\",\"x\":[4.5,3.0],\"y\":[-215,-214]},{\"line\":{\"color\":\"grey\",\"width\":1},\"mode\":\"lines\",\"type\":\"scatter\",\"x\":[6.0,4.5],\"y\":[-216,-215]},{\"line\":{\"color\":\"grey\",\"width\":1},\"mode\":\"lines\",\"type\":\"scatter\",\"x\":[7.5,6.0],\"y\":[-217,-216]},{\"line\":{\"color\":\"grey\",\"width\":1},\"mode\":\"lines\",\"type\":\"scatter\",\"x\":[1.5,0],\"y\":[-218,0]},{\"line\":{\"color\":\"grey\",\"width\":1},\"mode\":\"lines\",\"type\":\"scatter\",\"x\":[3.0,1.5],\"y\":[-219,-218]},{\"line\":{\"color\":\"grey\",\"width\":1},\"mode\":\"lines\",\"type\":\"scatter\",\"x\":[4.5,3.0],\"y\":[-220,-219]},{\"line\":{\"color\":\"grey\",\"width\":1},\"mode\":\"lines\",\"type\":\"scatter\",\"x\":[6.0,4.5],\"y\":[-221,-220]},{\"line\":{\"color\":\"grey\",\"width\":1},\"mode\":\"lines\",\"type\":\"scatter\",\"x\":[7.5,6.0],\"y\":[-222,-221]},{\"line\":{\"color\":\"grey\",\"width\":1},\"mode\":\"lines\",\"type\":\"scatter\",\"x\":[7.5,6.0],\"y\":[-223,-221]},{\"line\":{\"color\":\"grey\",\"width\":1},\"mode\":\"lines\",\"type\":\"scatter\",\"x\":[7.5,6.0],\"y\":[-224,-221]},{\"line\":{\"color\":\"grey\",\"width\":1},\"mode\":\"lines\",\"type\":\"scatter\",\"x\":[4.5,3.0],\"y\":[-225,-219]},{\"line\":{\"color\":\"grey\",\"width\":1},\"mode\":\"lines\",\"type\":\"scatter\",\"x\":[6.0,4.5],\"y\":[-226,-225]},{\"line\":{\"color\":\"grey\",\"width\":1},\"mode\":\"lines\",\"type\":\"scatter\",\"x\":[7.5,6.0],\"y\":[-227,-226]},{\"line\":{\"color\":\"grey\",\"width\":1},\"mode\":\"lines\",\"type\":\"scatter\",\"x\":[3.0,1.5],\"y\":[-228,-218]},{\"line\":{\"color\":\"grey\",\"width\":1},\"mode\":\"lines\",\"type\":\"scatter\",\"x\":[4.5,3.0],\"y\":[-229,-228]},{\"line\":{\"color\":\"grey\",\"width\":1},\"mode\":\"lines\",\"type\":\"scatter\",\"x\":[6.0,4.5],\"y\":[-230,-229]},{\"line\":{\"color\":\"grey\",\"width\":1},\"mode\":\"lines\",\"type\":\"scatter\",\"x\":[7.5,6.0],\"y\":[-231,-230]},{\"line\":{\"color\":\"grey\",\"width\":1},\"mode\":\"lines\",\"type\":\"scatter\",\"x\":[3.0,1.5],\"y\":[-232,-218]},{\"line\":{\"color\":\"grey\",\"width\":1},\"mode\":\"lines\",\"type\":\"scatter\",\"x\":[4.5,3.0],\"y\":[-233,-232]},{\"line\":{\"color\":\"grey\",\"width\":1},\"mode\":\"lines\",\"type\":\"scatter\",\"x\":[6.0,4.5],\"y\":[-234,-233]},{\"line\":{\"color\":\"grey\",\"width\":1},\"mode\":\"lines\",\"type\":\"scatter\",\"x\":[7.5,6.0],\"y\":[-235,-234]},{\"line\":{\"color\":\"grey\",\"width\":1},\"mode\":\"lines\",\"type\":\"scatter\",\"x\":[3.0,1.5],\"y\":[-236,-218]},{\"line\":{\"color\":\"grey\",\"width\":1},\"mode\":\"lines\",\"type\":\"scatter\",\"x\":[4.5,3.0],\"y\":[-237,-236]},{\"line\":{\"color\":\"grey\",\"width\":1},\"mode\":\"lines\",\"type\":\"scatter\",\"x\":[6.0,4.5],\"y\":[-238,-237]},{\"line\":{\"color\":\"grey\",\"width\":1},\"mode\":\"lines\",\"type\":\"scatter\",\"x\":[7.5,6.0],\"y\":[-239,-238]},{\"line\":{\"color\":\"grey\",\"width\":1},\"mode\":\"lines\",\"type\":\"scatter\",\"x\":[3.0,1.5],\"y\":[-240,-218]},{\"line\":{\"color\":\"grey\",\"width\":1},\"mode\":\"lines\",\"type\":\"scatter\",\"x\":[4.5,3.0],\"y\":[-241,-240]},{\"line\":{\"color\":\"grey\",\"width\":1},\"mode\":\"lines\",\"type\":\"scatter\",\"x\":[6.0,4.5],\"y\":[-242,-241]},{\"line\":{\"color\":\"grey\",\"width\":1},\"mode\":\"lines\",\"type\":\"scatter\",\"x\":[7.5,6.0],\"y\":[-243,-242]},{\"line\":{\"color\":\"grey\",\"width\":1},\"mode\":\"lines\",\"type\":\"scatter\",\"x\":[3.0,1.5],\"y\":[-244,-218]},{\"line\":{\"color\":\"grey\",\"width\":1},\"mode\":\"lines\",\"type\":\"scatter\",\"x\":[4.5,3.0],\"y\":[-245,-244]},{\"line\":{\"color\":\"grey\",\"width\":1},\"mode\":\"lines\",\"type\":\"scatter\",\"x\":[6.0,4.5],\"y\":[-246,-245]},{\"line\":{\"color\":\"grey\",\"width\":1},\"mode\":\"lines\",\"type\":\"scatter\",\"x\":[7.5,6.0],\"y\":[-247,-246]},{\"line\":{\"color\":\"grey\",\"width\":1},\"mode\":\"lines\",\"type\":\"scatter\",\"x\":[3.0,1.5],\"y\":[-248,-218]},{\"line\":{\"color\":\"grey\",\"width\":1},\"mode\":\"lines\",\"type\":\"scatter\",\"x\":[4.5,3.0],\"y\":[-249,-248]},{\"line\":{\"color\":\"grey\",\"width\":1},\"mode\":\"lines\",\"type\":\"scatter\",\"x\":[6.0,4.5],\"y\":[-250,-249]},{\"line\":{\"color\":\"grey\",\"width\":1},\"mode\":\"lines\",\"type\":\"scatter\",\"x\":[7.5,6.0],\"y\":[-251,-250]},{\"line\":{\"color\":\"grey\",\"width\":1},\"mode\":\"lines\",\"type\":\"scatter\",\"x\":[3.0,1.5],\"y\":[-252,-218]},{\"line\":{\"color\":\"grey\",\"width\":1},\"mode\":\"lines\",\"type\":\"scatter\",\"x\":[4.5,3.0],\"y\":[-253,-252]},{\"line\":{\"color\":\"grey\",\"width\":1},\"mode\":\"lines\",\"type\":\"scatter\",\"x\":[6.0,4.5],\"y\":[-254,-253]},{\"line\":{\"color\":\"grey\",\"width\":1},\"mode\":\"lines\",\"type\":\"scatter\",\"x\":[7.5,6.0],\"y\":[-255,-254]},{\"line\":{\"color\":\"grey\",\"width\":1},\"mode\":\"lines\",\"type\":\"scatter\",\"x\":[3.0,1.5],\"y\":[-256,-218]},{\"line\":{\"color\":\"grey\",\"width\":1},\"mode\":\"lines\",\"type\":\"scatter\",\"x\":[4.5,3.0],\"y\":[-257,-256]},{\"line\":{\"color\":\"grey\",\"width\":1},\"mode\":\"lines\",\"type\":\"scatter\",\"x\":[6.0,4.5],\"y\":[-258,-257]},{\"line\":{\"color\":\"grey\",\"width\":1},\"mode\":\"lines\",\"type\":\"scatter\",\"x\":[7.5,6.0],\"y\":[-259,-258]},{\"line\":{\"color\":\"grey\",\"width\":1},\"mode\":\"lines\",\"type\":\"scatter\",\"x\":[7.5,6.0],\"y\":[-260,-258]},{\"line\":{\"color\":\"grey\",\"width\":1},\"mode\":\"lines\",\"type\":\"scatter\",\"x\":[4.5,3.0],\"y\":[-261,-256]},{\"line\":{\"color\":\"grey\",\"width\":1},\"mode\":\"lines\",\"type\":\"scatter\",\"x\":[6.0,4.5],\"y\":[-262,-261]},{\"line\":{\"color\":\"grey\",\"width\":1},\"mode\":\"lines\",\"type\":\"scatter\",\"x\":[7.5,6.0],\"y\":[-263,-262]},{\"line\":{\"color\":\"grey\",\"width\":1},\"mode\":\"lines\",\"type\":\"scatter\",\"x\":[3.0,1.5],\"y\":[-264,-218]},{\"line\":{\"color\":\"grey\",\"width\":1},\"mode\":\"lines\",\"type\":\"scatter\",\"x\":[4.5,3.0],\"y\":[-265,-264]},{\"line\":{\"color\":\"grey\",\"width\":1},\"mode\":\"lines\",\"type\":\"scatter\",\"x\":[6.0,4.5],\"y\":[-266,-265]},{\"line\":{\"color\":\"grey\",\"width\":1},\"mode\":\"lines\",\"type\":\"scatter\",\"x\":[7.5,6.0],\"y\":[-267,-266]},{\"line\":{\"color\":\"grey\",\"width\":1},\"mode\":\"lines\",\"type\":\"scatter\",\"x\":[3.0,1.5],\"y\":[-268,-218]},{\"line\":{\"color\":\"grey\",\"width\":1},\"mode\":\"lines\",\"type\":\"scatter\",\"x\":[4.5,3.0],\"y\":[-269,-268]},{\"line\":{\"color\":\"grey\",\"width\":1},\"mode\":\"lines\",\"type\":\"scatter\",\"x\":[6.0,4.5],\"y\":[-270,-269]},{\"line\":{\"color\":\"grey\",\"width\":1},\"mode\":\"lines\",\"type\":\"scatter\",\"x\":[7.5,6.0],\"y\":[-271,-270]},{\"line\":{\"color\":\"grey\",\"width\":1},\"mode\":\"lines\",\"type\":\"scatter\",\"x\":[3.0,1.5],\"y\":[-272,-218]},{\"line\":{\"color\":\"grey\",\"width\":1},\"mode\":\"lines\",\"type\":\"scatter\",\"x\":[4.5,3.0],\"y\":[-273,-272]},{\"line\":{\"color\":\"grey\",\"width\":1},\"mode\":\"lines\",\"type\":\"scatter\",\"x\":[6.0,4.5],\"y\":[-274,-273]},{\"line\":{\"color\":\"grey\",\"width\":1},\"mode\":\"lines\",\"type\":\"scatter\",\"x\":[7.5,6.0],\"y\":[-275,-274]},{\"line\":{\"color\":\"grey\",\"width\":1},\"mode\":\"lines\",\"type\":\"scatter\",\"x\":[3.0,1.5],\"y\":[-276,-218]},{\"line\":{\"color\":\"grey\",\"width\":1},\"mode\":\"lines\",\"type\":\"scatter\",\"x\":[4.5,3.0],\"y\":[-277,-276]},{\"line\":{\"color\":\"grey\",\"width\":1},\"mode\":\"lines\",\"type\":\"scatter\",\"x\":[6.0,4.5],\"y\":[-278,-277]},{\"line\":{\"color\":\"grey\",\"width\":1},\"mode\":\"lines\",\"type\":\"scatter\",\"x\":[7.5,6.0],\"y\":[-279,-278]},{\"line\":{\"color\":\"grey\",\"width\":1},\"mode\":\"lines\",\"type\":\"scatter\",\"x\":[3.0,1.5],\"y\":[-280,-218]},{\"line\":{\"color\":\"grey\",\"width\":1},\"mode\":\"lines\",\"type\":\"scatter\",\"x\":[4.5,3.0],\"y\":[-281,-280]},{\"line\":{\"color\":\"grey\",\"width\":1},\"mode\":\"lines\",\"type\":\"scatter\",\"x\":[6.0,4.5],\"y\":[-282,-281]},{\"line\":{\"color\":\"grey\",\"width\":1},\"mode\":\"lines\",\"type\":\"scatter\",\"x\":[7.5,6.0],\"y\":[-283,-282]},{\"line\":{\"color\":\"grey\",\"width\":1},\"mode\":\"lines\",\"type\":\"scatter\",\"x\":[3.0,1.5],\"y\":[-284,-218]},{\"line\":{\"color\":\"grey\",\"width\":1},\"mode\":\"lines\",\"type\":\"scatter\",\"x\":[4.5,3.0],\"y\":[-285,-284]},{\"line\":{\"color\":\"grey\",\"width\":1},\"mode\":\"lines\",\"type\":\"scatter\",\"x\":[6.0,4.5],\"y\":[-286,-285]},{\"line\":{\"color\":\"grey\",\"width\":1},\"mode\":\"lines\",\"type\":\"scatter\",\"x\":[7.5,6.0],\"y\":[-287,-286]},{\"line\":{\"color\":\"grey\",\"width\":1},\"mode\":\"lines\",\"type\":\"scatter\",\"x\":[3.0,1.5],\"y\":[-288,-218]},{\"line\":{\"color\":\"grey\",\"width\":1},\"mode\":\"lines\",\"type\":\"scatter\",\"x\":[4.5,3.0],\"y\":[-289,-288]},{\"line\":{\"color\":\"grey\",\"width\":1},\"mode\":\"lines\",\"type\":\"scatter\",\"x\":[6.0,4.5],\"y\":[-290,-289]},{\"line\":{\"color\":\"grey\",\"width\":1},\"mode\":\"lines\",\"type\":\"scatter\",\"x\":[7.5,6.0],\"y\":[-291,-290]},{\"line\":{\"color\":\"grey\",\"width\":1},\"mode\":\"lines\",\"type\":\"scatter\",\"x\":[3.0,1.5],\"y\":[-292,-218]},{\"line\":{\"color\":\"grey\",\"width\":1},\"mode\":\"lines\",\"type\":\"scatter\",\"x\":[4.5,3.0],\"y\":[-293,-292]},{\"line\":{\"color\":\"grey\",\"width\":1},\"mode\":\"lines\",\"type\":\"scatter\",\"x\":[6.0,4.5],\"y\":[-294,-293]},{\"line\":{\"color\":\"grey\",\"width\":1},\"mode\":\"lines\",\"type\":\"scatter\",\"x\":[7.5,6.0],\"y\":[-295,-294]},{\"line\":{\"color\":\"grey\",\"width\":1},\"mode\":\"lines\",\"type\":\"scatter\",\"x\":[3.0,1.5],\"y\":[-296,-218]},{\"line\":{\"color\":\"grey\",\"width\":1},\"mode\":\"lines\",\"type\":\"scatter\",\"x\":[4.5,3.0],\"y\":[-297,-296]},{\"line\":{\"color\":\"grey\",\"width\":1},\"mode\":\"lines\",\"type\":\"scatter\",\"x\":[6.0,4.5],\"y\":[-298,-297]},{\"line\":{\"color\":\"grey\",\"width\":1},\"mode\":\"lines\",\"type\":\"scatter\",\"x\":[7.5,6.0],\"y\":[-299,-298]},{\"line\":{\"color\":\"grey\",\"width\":1},\"mode\":\"lines\",\"type\":\"scatter\",\"x\":[3.0,1.5],\"y\":[-300,-218]},{\"line\":{\"color\":\"grey\",\"width\":1},\"mode\":\"lines\",\"type\":\"scatter\",\"x\":[4.5,3.0],\"y\":[-301,-300]},{\"line\":{\"color\":\"grey\",\"width\":1},\"mode\":\"lines\",\"type\":\"scatter\",\"x\":[6.0,4.5],\"y\":[-302,-301]},{\"line\":{\"color\":\"grey\",\"width\":1},\"mode\":\"lines\",\"type\":\"scatter\",\"x\":[7.5,6.0],\"y\":[-303,-302]},{\"line\":{\"color\":\"grey\",\"width\":1},\"mode\":\"lines\",\"type\":\"scatter\",\"x\":[3.0,1.5],\"y\":[-304,-218]},{\"line\":{\"color\":\"grey\",\"width\":1},\"mode\":\"lines\",\"type\":\"scatter\",\"x\":[4.5,3.0],\"y\":[-305,-304]},{\"line\":{\"color\":\"grey\",\"width\":1},\"mode\":\"lines\",\"type\":\"scatter\",\"x\":[6.0,4.5],\"y\":[-306,-305]},{\"line\":{\"color\":\"grey\",\"width\":1},\"mode\":\"lines\",\"type\":\"scatter\",\"x\":[7.5,6.0],\"y\":[-307,-306]},{\"line\":{\"color\":\"grey\",\"width\":1},\"mode\":\"lines\",\"type\":\"scatter\",\"x\":[3.0,1.5],\"y\":[-308,-218]},{\"line\":{\"color\":\"grey\",\"width\":1},\"mode\":\"lines\",\"type\":\"scatter\",\"x\":[4.5,3.0],\"y\":[-309,-308]},{\"line\":{\"color\":\"grey\",\"width\":1},\"mode\":\"lines\",\"type\":\"scatter\",\"x\":[6.0,4.5],\"y\":[-310,-309]},{\"line\":{\"color\":\"grey\",\"width\":1},\"mode\":\"lines\",\"type\":\"scatter\",\"x\":[7.5,6.0],\"y\":[-311,-310]},{\"line\":{\"color\":\"grey\",\"width\":1},\"mode\":\"lines\",\"type\":\"scatter\",\"x\":[3.0,1.5],\"y\":[-312,-218]},{\"line\":{\"color\":\"grey\",\"width\":1},\"mode\":\"lines\",\"type\":\"scatter\",\"x\":[4.5,3.0],\"y\":[-313,-312]},{\"line\":{\"color\":\"grey\",\"width\":1},\"mode\":\"lines\",\"type\":\"scatter\",\"x\":[6.0,4.5],\"y\":[-314,-313]},{\"line\":{\"color\":\"grey\",\"width\":1},\"mode\":\"lines\",\"type\":\"scatter\",\"x\":[7.5,6.0],\"y\":[-315,-314]},{\"line\":{\"color\":\"grey\",\"width\":1},\"mode\":\"lines\",\"type\":\"scatter\",\"x\":[4.5,3.0],\"y\":[-316,-312]},{\"line\":{\"color\":\"grey\",\"width\":1},\"mode\":\"lines\",\"type\":\"scatter\",\"x\":[6.0,4.5],\"y\":[-317,-316]},{\"line\":{\"color\":\"grey\",\"width\":1},\"mode\":\"lines\",\"type\":\"scatter\",\"x\":[7.5,6.0],\"y\":[-318,-317]},{\"line\":{\"color\":\"grey\",\"width\":1},\"mode\":\"lines\",\"type\":\"scatter\",\"x\":[3.0,1.5],\"y\":[-319,-218]},{\"line\":{\"color\":\"grey\",\"width\":1},\"mode\":\"lines\",\"type\":\"scatter\",\"x\":[4.5,3.0],\"y\":[-320,-319]},{\"line\":{\"color\":\"grey\",\"width\":1},\"mode\":\"lines\",\"type\":\"scatter\",\"x\":[6.0,4.5],\"y\":[-321,-320]},{\"line\":{\"color\":\"grey\",\"width\":1},\"mode\":\"lines\",\"type\":\"scatter\",\"x\":[7.5,6.0],\"y\":[-322,-321]},{\"line\":{\"color\":\"grey\",\"width\":1},\"mode\":\"lines\",\"type\":\"scatter\",\"x\":[3.0,1.5],\"y\":[-323,-218]},{\"line\":{\"color\":\"grey\",\"width\":1},\"mode\":\"lines\",\"type\":\"scatter\",\"x\":[4.5,3.0],\"y\":[-324,-323]},{\"line\":{\"color\":\"grey\",\"width\":1},\"mode\":\"lines\",\"type\":\"scatter\",\"x\":[6.0,4.5],\"y\":[-325,-324]},{\"line\":{\"color\":\"grey\",\"width\":1},\"mode\":\"lines\",\"type\":\"scatter\",\"x\":[7.5,6.0],\"y\":[-326,-325]},{\"line\":{\"color\":\"grey\",\"width\":1},\"mode\":\"lines\",\"type\":\"scatter\",\"x\":[4.5,3.0],\"y\":[-327,-323]},{\"line\":{\"color\":\"grey\",\"width\":1},\"mode\":\"lines\",\"type\":\"scatter\",\"x\":[6.0,4.5],\"y\":[-328,-327]},{\"line\":{\"color\":\"grey\",\"width\":1},\"mode\":\"lines\",\"type\":\"scatter\",\"x\":[7.5,6.0],\"y\":[-329,-328]},{\"line\":{\"color\":\"grey\",\"width\":1},\"mode\":\"lines\",\"type\":\"scatter\",\"x\":[3.0,1.5],\"y\":[-330,-218]},{\"line\":{\"color\":\"grey\",\"width\":1},\"mode\":\"lines\",\"type\":\"scatter\",\"x\":[4.5,3.0],\"y\":[-331,-330]},{\"line\":{\"color\":\"grey\",\"width\":1},\"mode\":\"lines\",\"type\":\"scatter\",\"x\":[6.0,4.5],\"y\":[-332,-331]},{\"line\":{\"color\":\"grey\",\"width\":1},\"mode\":\"lines\",\"type\":\"scatter\",\"x\":[7.5,6.0],\"y\":[-333,-332]},{\"line\":{\"color\":\"grey\",\"width\":1},\"mode\":\"lines\",\"type\":\"scatter\",\"x\":[3.0,1.5],\"y\":[-334,-218]},{\"line\":{\"color\":\"grey\",\"width\":1},\"mode\":\"lines\",\"type\":\"scatter\",\"x\":[4.5,3.0],\"y\":[-335,-334]},{\"line\":{\"color\":\"grey\",\"width\":1},\"mode\":\"lines\",\"type\":\"scatter\",\"x\":[6.0,4.5],\"y\":[-336,-335]},{\"line\":{\"color\":\"grey\",\"width\":1},\"mode\":\"lines\",\"type\":\"scatter\",\"x\":[7.5,6.0],\"y\":[-337,-336]},{\"line\":{\"color\":\"grey\",\"width\":1},\"mode\":\"lines\",\"type\":\"scatter\",\"x\":[3.0,1.5],\"y\":[-338,-218]},{\"line\":{\"color\":\"grey\",\"width\":1},\"mode\":\"lines\",\"type\":\"scatter\",\"x\":[4.5,3.0],\"y\":[-339,-338]},{\"line\":{\"color\":\"grey\",\"width\":1},\"mode\":\"lines\",\"type\":\"scatter\",\"x\":[6.0,4.5],\"y\":[-340,-339]},{\"line\":{\"color\":\"grey\",\"width\":1},\"mode\":\"lines\",\"type\":\"scatter\",\"x\":[7.5,6.0],\"y\":[-341,-340]},{\"line\":{\"color\":\"grey\",\"width\":1},\"mode\":\"lines\",\"type\":\"scatter\",\"x\":[3.0,1.5],\"y\":[-342,-218]},{\"line\":{\"color\":\"grey\",\"width\":1},\"mode\":\"lines\",\"type\":\"scatter\",\"x\":[4.5,3.0],\"y\":[-343,-342]},{\"line\":{\"color\":\"grey\",\"width\":1},\"mode\":\"lines\",\"type\":\"scatter\",\"x\":[6.0,4.5],\"y\":[-344,-343]},{\"line\":{\"color\":\"grey\",\"width\":1},\"mode\":\"lines\",\"type\":\"scatter\",\"x\":[7.5,6.0],\"y\":[-345,-344]},{\"line\":{\"color\":\"grey\",\"width\":1},\"mode\":\"lines\",\"type\":\"scatter\",\"x\":[3.0,1.5],\"y\":[-346,-218]},{\"line\":{\"color\":\"grey\",\"width\":1},\"mode\":\"lines\",\"type\":\"scatter\",\"x\":[4.5,3.0],\"y\":[-347,-346]},{\"line\":{\"color\":\"grey\",\"width\":1},\"mode\":\"lines\",\"type\":\"scatter\",\"x\":[6.0,4.5],\"y\":[-348,-347]},{\"line\":{\"color\":\"grey\",\"width\":1},\"mode\":\"lines\",\"type\":\"scatter\",\"x\":[7.5,6.0],\"y\":[-349,-348]},{\"line\":{\"color\":\"grey\",\"width\":1},\"mode\":\"lines\",\"type\":\"scatter\",\"x\":[3.0,1.5],\"y\":[-350,-218]},{\"line\":{\"color\":\"grey\",\"width\":1},\"mode\":\"lines\",\"type\":\"scatter\",\"x\":[4.5,3.0],\"y\":[-351,-350]},{\"line\":{\"color\":\"grey\",\"width\":1},\"mode\":\"lines\",\"type\":\"scatter\",\"x\":[6.0,4.5],\"y\":[-352,-351]},{\"line\":{\"color\":\"grey\",\"width\":1},\"mode\":\"lines\",\"type\":\"scatter\",\"x\":[7.5,6.0],\"y\":[-353,-352]},{\"line\":{\"color\":\"grey\",\"width\":1},\"mode\":\"lines\",\"type\":\"scatter\",\"x\":[3.0,1.5],\"y\":[-354,-218]},{\"line\":{\"color\":\"grey\",\"width\":1},\"mode\":\"lines\",\"type\":\"scatter\",\"x\":[4.5,3.0],\"y\":[-355,-354]},{\"line\":{\"color\":\"grey\",\"width\":1},\"mode\":\"lines\",\"type\":\"scatter\",\"x\":[6.0,4.5],\"y\":[-356,-355]},{\"line\":{\"color\":\"grey\",\"width\":1},\"mode\":\"lines\",\"type\":\"scatter\",\"x\":[7.5,6.0],\"y\":[-357,-356]},{\"line\":{\"color\":\"grey\",\"width\":1},\"mode\":\"lines\",\"type\":\"scatter\",\"x\":[3.0,1.5],\"y\":[-358,-218]},{\"line\":{\"color\":\"grey\",\"width\":1},\"mode\":\"lines\",\"type\":\"scatter\",\"x\":[4.5,3.0],\"y\":[-359,-358]},{\"line\":{\"color\":\"grey\",\"width\":1},\"mode\":\"lines\",\"type\":\"scatter\",\"x\":[6.0,4.5],\"y\":[-360,-359]},{\"line\":{\"color\":\"grey\",\"width\":1},\"mode\":\"lines\",\"type\":\"scatter\",\"x\":[7.5,6.0],\"y\":[-361,-360]},{\"line\":{\"color\":\"grey\",\"width\":1},\"mode\":\"lines\",\"type\":\"scatter\",\"x\":[3.0,1.5],\"y\":[-362,-218]},{\"line\":{\"color\":\"grey\",\"width\":1},\"mode\":\"lines\",\"type\":\"scatter\",\"x\":[4.5,3.0],\"y\":[-363,-362]},{\"line\":{\"color\":\"grey\",\"width\":1},\"mode\":\"lines\",\"type\":\"scatter\",\"x\":[6.0,4.5],\"y\":[-364,-363]},{\"line\":{\"color\":\"grey\",\"width\":1},\"mode\":\"lines\",\"type\":\"scatter\",\"x\":[7.5,6.0],\"y\":[-365,-364]},{\"line\":{\"color\":\"grey\",\"width\":1},\"mode\":\"lines\",\"type\":\"scatter\",\"x\":[3.0,1.5],\"y\":[-366,-218]},{\"line\":{\"color\":\"grey\",\"width\":1},\"mode\":\"lines\",\"type\":\"scatter\",\"x\":[4.5,3.0],\"y\":[-367,-366]},{\"line\":{\"color\":\"grey\",\"width\":1},\"mode\":\"lines\",\"type\":\"scatter\",\"x\":[6.0,4.5],\"y\":[-368,-367]},{\"line\":{\"color\":\"grey\",\"width\":1},\"mode\":\"lines\",\"type\":\"scatter\",\"x\":[7.5,6.0],\"y\":[-369,-368]},{\"line\":{\"color\":\"grey\",\"width\":1},\"mode\":\"lines\",\"type\":\"scatter\",\"x\":[3.0,1.5],\"y\":[-370,-218]},{\"line\":{\"color\":\"grey\",\"width\":1},\"mode\":\"lines\",\"type\":\"scatter\",\"x\":[4.5,3.0],\"y\":[-371,-370]},{\"line\":{\"color\":\"grey\",\"width\":1},\"mode\":\"lines\",\"type\":\"scatter\",\"x\":[6.0,4.5],\"y\":[-372,-371]},{\"line\":{\"color\":\"grey\",\"width\":1},\"mode\":\"lines\",\"type\":\"scatter\",\"x\":[7.5,6.0],\"y\":[-373,-372]},{\"line\":{\"color\":\"grey\",\"width\":1},\"mode\":\"lines\",\"type\":\"scatter\",\"x\":[3.0,1.5],\"y\":[-374,-218]},{\"line\":{\"color\":\"grey\",\"width\":1},\"mode\":\"lines\",\"type\":\"scatter\",\"x\":[4.5,3.0],\"y\":[-375,-374]},{\"line\":{\"color\":\"grey\",\"width\":1},\"mode\":\"lines\",\"type\":\"scatter\",\"x\":[6.0,4.5],\"y\":[-376,-375]},{\"line\":{\"color\":\"grey\",\"width\":1},\"mode\":\"lines\",\"type\":\"scatter\",\"x\":[7.5,6.0],\"y\":[-377,-376]},{\"line\":{\"color\":\"grey\",\"width\":1},\"mode\":\"lines\",\"type\":\"scatter\",\"x\":[3.0,1.5],\"y\":[-378,-218]},{\"line\":{\"color\":\"grey\",\"width\":1},\"mode\":\"lines\",\"type\":\"scatter\",\"x\":[4.5,3.0],\"y\":[-379,-378]},{\"line\":{\"color\":\"grey\",\"width\":1},\"mode\":\"lines\",\"type\":\"scatter\",\"x\":[6.0,4.5],\"y\":[-380,-379]},{\"line\":{\"color\":\"grey\",\"width\":1},\"mode\":\"lines\",\"type\":\"scatter\",\"x\":[7.5,6.0],\"y\":[-381,-380]},{\"line\":{\"color\":\"grey\",\"width\":1},\"mode\":\"lines\",\"type\":\"scatter\",\"x\":[3.0,1.5],\"y\":[-382,-218]},{\"line\":{\"color\":\"grey\",\"width\":1},\"mode\":\"lines\",\"type\":\"scatter\",\"x\":[4.5,3.0],\"y\":[-383,-382]},{\"line\":{\"color\":\"grey\",\"width\":1},\"mode\":\"lines\",\"type\":\"scatter\",\"x\":[6.0,4.5],\"y\":[-384,-383]},{\"line\":{\"color\":\"grey\",\"width\":1},\"mode\":\"lines\",\"type\":\"scatter\",\"x\":[7.5,6.0],\"y\":[-385,-384]},{\"line\":{\"color\":\"grey\",\"width\":1},\"mode\":\"lines\",\"type\":\"scatter\",\"x\":[3.0,1.5],\"y\":[-386,-218]},{\"line\":{\"color\":\"grey\",\"width\":1},\"mode\":\"lines\",\"type\":\"scatter\",\"x\":[4.5,3.0],\"y\":[-387,-386]},{\"line\":{\"color\":\"grey\",\"width\":1},\"mode\":\"lines\",\"type\":\"scatter\",\"x\":[6.0,4.5],\"y\":[-388,-387]},{\"line\":{\"color\":\"grey\",\"width\":1},\"mode\":\"lines\",\"type\":\"scatter\",\"x\":[7.5,6.0],\"y\":[-389,-388]},{\"line\":{\"color\":\"grey\",\"width\":1},\"mode\":\"lines\",\"type\":\"scatter\",\"x\":[3.0,1.5],\"y\":[-390,-218]},{\"line\":{\"color\":\"grey\",\"width\":1},\"mode\":\"lines\",\"type\":\"scatter\",\"x\":[4.5,3.0],\"y\":[-391,-390]},{\"line\":{\"color\":\"grey\",\"width\":1},\"mode\":\"lines\",\"type\":\"scatter\",\"x\":[6.0,4.5],\"y\":[-392,-391]},{\"line\":{\"color\":\"grey\",\"width\":1},\"mode\":\"lines\",\"type\":\"scatter\",\"x\":[7.5,6.0],\"y\":[-393,-392]},{\"line\":{\"color\":\"grey\",\"width\":1},\"mode\":\"lines\",\"type\":\"scatter\",\"x\":[3.0,1.5],\"y\":[-394,-218]},{\"line\":{\"color\":\"grey\",\"width\":1},\"mode\":\"lines\",\"type\":\"scatter\",\"x\":[4.5,3.0],\"y\":[-395,-394]},{\"line\":{\"color\":\"grey\",\"width\":1},\"mode\":\"lines\",\"type\":\"scatter\",\"x\":[6.0,4.5],\"y\":[-396,-395]},{\"line\":{\"color\":\"grey\",\"width\":1},\"mode\":\"lines\",\"type\":\"scatter\",\"x\":[7.5,6.0],\"y\":[-397,-396]},{\"line\":{\"color\":\"grey\",\"width\":1},\"mode\":\"lines\",\"type\":\"scatter\",\"x\":[3.0,1.5],\"y\":[-398,-218]},{\"line\":{\"color\":\"grey\",\"width\":1},\"mode\":\"lines\",\"type\":\"scatter\",\"x\":[4.5,3.0],\"y\":[-399,-398]},{\"line\":{\"color\":\"grey\",\"width\":1},\"mode\":\"lines\",\"type\":\"scatter\",\"x\":[6.0,4.5],\"y\":[-400,-399]},{\"line\":{\"color\":\"grey\",\"width\":1},\"mode\":\"lines\",\"type\":\"scatter\",\"x\":[7.5,6.0],\"y\":[-401,-400]},{\"line\":{\"color\":\"grey\",\"width\":1},\"mode\":\"lines\",\"type\":\"scatter\",\"x\":[3.0,1.5],\"y\":[-402,-218]},{\"line\":{\"color\":\"grey\",\"width\":1},\"mode\":\"lines\",\"type\":\"scatter\",\"x\":[4.5,3.0],\"y\":[-403,-402]},{\"line\":{\"color\":\"grey\",\"width\":1},\"mode\":\"lines\",\"type\":\"scatter\",\"x\":[6.0,4.5],\"y\":[-404,-403]},{\"line\":{\"color\":\"grey\",\"width\":1},\"mode\":\"lines\",\"type\":\"scatter\",\"x\":[7.5,6.0],\"y\":[-405,-404]},{\"line\":{\"color\":\"grey\",\"width\":1},\"mode\":\"lines\",\"type\":\"scatter\",\"x\":[3.0,1.5],\"y\":[-406,-218]},{\"line\":{\"color\":\"grey\",\"width\":1},\"mode\":\"lines\",\"type\":\"scatter\",\"x\":[4.5,3.0],\"y\":[-407,-406]},{\"line\":{\"color\":\"grey\",\"width\":1},\"mode\":\"lines\",\"type\":\"scatter\",\"x\":[6.0,4.5],\"y\":[-408,-407]},{\"line\":{\"color\":\"grey\",\"width\":1},\"mode\":\"lines\",\"type\":\"scatter\",\"x\":[7.5,6.0],\"y\":[-409,-408]},{\"line\":{\"color\":\"grey\",\"width\":1},\"mode\":\"lines\",\"type\":\"scatter\",\"x\":[3.0,1.5],\"y\":[-410,-218]},{\"line\":{\"color\":\"grey\",\"width\":1},\"mode\":\"lines\",\"type\":\"scatter\",\"x\":[4.5,3.0],\"y\":[-411,-410]},{\"line\":{\"color\":\"grey\",\"width\":1},\"mode\":\"lines\",\"type\":\"scatter\",\"x\":[6.0,4.5],\"y\":[-412,-411]},{\"line\":{\"color\":\"grey\",\"width\":1},\"mode\":\"lines\",\"type\":\"scatter\",\"x\":[7.5,6.0],\"y\":[-413,-412]},{\"line\":{\"color\":\"grey\",\"width\":1},\"mode\":\"lines\",\"type\":\"scatter\",\"x\":[3.0,1.5],\"y\":[-414,-218]},{\"line\":{\"color\":\"grey\",\"width\":1},\"mode\":\"lines\",\"type\":\"scatter\",\"x\":[4.5,3.0],\"y\":[-415,-414]},{\"line\":{\"color\":\"grey\",\"width\":1},\"mode\":\"lines\",\"type\":\"scatter\",\"x\":[6.0,4.5],\"y\":[-416,-415]},{\"line\":{\"color\":\"grey\",\"width\":1},\"mode\":\"lines\",\"type\":\"scatter\",\"x\":[7.5,6.0],\"y\":[-417,-416]},{\"line\":{\"color\":\"grey\",\"width\":1},\"mode\":\"lines\",\"type\":\"scatter\",\"x\":[3.0,1.5],\"y\":[-418,-218]},{\"line\":{\"color\":\"grey\",\"width\":1},\"mode\":\"lines\",\"type\":\"scatter\",\"x\":[4.5,3.0],\"y\":[-419,-418]},{\"line\":{\"color\":\"grey\",\"width\":1},\"mode\":\"lines\",\"type\":\"scatter\",\"x\":[6.0,4.5],\"y\":[-420,-419]},{\"line\":{\"color\":\"grey\",\"width\":1},\"mode\":\"lines\",\"type\":\"scatter\",\"x\":[7.5,6.0],\"y\":[-421,-420]},{\"line\":{\"color\":\"grey\",\"width\":1},\"mode\":\"lines\",\"type\":\"scatter\",\"x\":[3.0,1.5],\"y\":[-422,-218]},{\"line\":{\"color\":\"grey\",\"width\":1},\"mode\":\"lines\",\"type\":\"scatter\",\"x\":[4.5,3.0],\"y\":[-423,-422]},{\"line\":{\"color\":\"grey\",\"width\":1},\"mode\":\"lines\",\"type\":\"scatter\",\"x\":[6.0,4.5],\"y\":[-424,-423]},{\"line\":{\"color\":\"grey\",\"width\":1},\"mode\":\"lines\",\"type\":\"scatter\",\"x\":[7.5,6.0],\"y\":[-425,-424]},{\"line\":{\"color\":\"grey\",\"width\":1},\"mode\":\"lines\",\"type\":\"scatter\",\"x\":[3.0,1.5],\"y\":[-426,-218]},{\"line\":{\"color\":\"grey\",\"width\":1},\"mode\":\"lines\",\"type\":\"scatter\",\"x\":[4.5,3.0],\"y\":[-427,-426]},{\"line\":{\"color\":\"grey\",\"width\":1},\"mode\":\"lines\",\"type\":\"scatter\",\"x\":[6.0,4.5],\"y\":[-428,-427]},{\"line\":{\"color\":\"grey\",\"width\":1},\"mode\":\"lines\",\"type\":\"scatter\",\"x\":[7.5,6.0],\"y\":[-429,-428]},{\"line\":{\"color\":\"grey\",\"width\":1},\"mode\":\"lines\",\"type\":\"scatter\",\"x\":[3.0,1.5],\"y\":[-430,-218]},{\"line\":{\"color\":\"grey\",\"width\":1},\"mode\":\"lines\",\"type\":\"scatter\",\"x\":[4.5,3.0],\"y\":[-431,-430]},{\"line\":{\"color\":\"grey\",\"width\":1},\"mode\":\"lines\",\"type\":\"scatter\",\"x\":[6.0,4.5],\"y\":[-432,-431]},{\"line\":{\"color\":\"grey\",\"width\":1},\"mode\":\"lines\",\"type\":\"scatter\",\"x\":[7.5,6.0],\"y\":[-433,-432]},{\"line\":{\"color\":\"grey\",\"width\":1},\"mode\":\"lines\",\"type\":\"scatter\",\"x\":[3.0,1.5],\"y\":[-434,-218]},{\"line\":{\"color\":\"grey\",\"width\":1},\"mode\":\"lines\",\"type\":\"scatter\",\"x\":[4.5,3.0],\"y\":[-435,-434]},{\"line\":{\"color\":\"grey\",\"width\":1},\"mode\":\"lines\",\"type\":\"scatter\",\"x\":[6.0,4.5],\"y\":[-436,-435]},{\"line\":{\"color\":\"grey\",\"width\":1},\"mode\":\"lines\",\"type\":\"scatter\",\"x\":[7.5,6.0],\"y\":[-437,-436]},{\"line\":{\"color\":\"grey\",\"width\":1},\"mode\":\"lines\",\"type\":\"scatter\",\"x\":[3.0,1.5],\"y\":[-438,-218]},{\"line\":{\"color\":\"grey\",\"width\":1},\"mode\":\"lines\",\"type\":\"scatter\",\"x\":[4.5,3.0],\"y\":[-439,-438]},{\"line\":{\"color\":\"grey\",\"width\":1},\"mode\":\"lines\",\"type\":\"scatter\",\"x\":[6.0,4.5],\"y\":[-440,-439]},{\"line\":{\"color\":\"grey\",\"width\":1},\"mode\":\"lines\",\"type\":\"scatter\",\"x\":[7.5,6.0],\"y\":[-441,-440]},{\"line\":{\"color\":\"grey\",\"width\":1},\"mode\":\"lines\",\"type\":\"scatter\",\"x\":[3.0,1.5],\"y\":[-442,-218]},{\"line\":{\"color\":\"grey\",\"width\":1},\"mode\":\"lines\",\"type\":\"scatter\",\"x\":[4.5,3.0],\"y\":[-443,-442]},{\"line\":{\"color\":\"grey\",\"width\":1},\"mode\":\"lines\",\"type\":\"scatter\",\"x\":[6.0,4.5],\"y\":[-444,-443]},{\"line\":{\"color\":\"grey\",\"width\":1},\"mode\":\"lines\",\"type\":\"scatter\",\"x\":[7.5,6.0],\"y\":[-445,-444]},{\"hoverinfo\":\"text\",\"hovertext\":\"\",\"marker\":{\"color\":\"blue\",\"size\":2},\"mode\":\"markers+text\",\"text\":\"sneaker\",\"textfont\":{\"size\":8},\"textposition\":\"bottom center\",\"type\":\"scatter\",\"x\":[0],\"y\":[0]},{\"hoverinfo\":\"text\",\"hovertext\":\"\",\"marker\":{\"color\":\"blue\",\"size\":2},\"mode\":\"markers+text\",\"text\":\"red\",\"textfont\":{\"size\":8},\"textposition\":\"bottom center\",\"type\":\"scatter\",\"x\":[1.5],\"y\":[-1]},{\"hoverinfo\":\"text\",\"hovertext\":\"\",\"marker\":{\"color\":\"blue\",\"size\":2},\"mode\":\"markers+text\",\"text\":\"adidas\",\"textfont\":{\"size\":8},\"textposition\":\"bottom center\",\"type\":\"scatter\",\"x\":[3.0],\"y\":[-2]},{\"hoverinfo\":\"text\",\"hovertext\":\"\",\"marker\":{\"color\":\"blue\",\"size\":2},\"mode\":\"markers+text\",\"text\":\"High\",\"textfont\":{\"size\":8},\"textposition\":\"bottom center\",\"type\":\"scatter\",\"x\":[4.5],\"y\":[-3]},{\"hoverinfo\":\"text\",\"hovertext\":\"\",\"marker\":{\"color\":\"blue\",\"size\":2},\"mode\":\"markers+text\",\"text\":\"5 Star\",\"textfont\":{\"size\":8},\"textposition\":\"bottom center\",\"type\":\"scatter\",\"x\":[6.0],\"y\":[-4]},{\"hoverinfo\":\"text\",\"hovertext\":\"Adidas Gazelle Indoor - Scarlet / Cloud White 10\",\"marker\":{\"color\":\"blue\",\"size\":2},\"mode\":\"markers+text\",\"text\":\"Shoe\",\"textfont\":{\"size\":8},\"textposition\":\"bottom center\",\"type\":\"scatter\",\"x\":[7.5],\"y\":[-5]},{\"hoverinfo\":\"text\",\"hovertext\":\"\",\"marker\":{\"color\":\"blue\",\"size\":2},\"mode\":\"markers+text\",\"text\":\"Medium\",\"textfont\":{\"size\":8},\"textposition\":\"bottom center\",\"type\":\"scatter\",\"x\":[4.5],\"y\":[-6]},{\"hoverinfo\":\"text\",\"hovertext\":\"\",\"marker\":{\"color\":\"blue\",\"size\":2},\"mode\":\"markers+text\",\"text\":\"5 Star\",\"textfont\":{\"size\":8},\"textposition\":\"bottom center\",\"type\":\"scatter\",\"x\":[6.0],\"y\":[-7]},{\"hoverinfo\":\"text\",\"hovertext\":\"Adidas Samoa Shoes Red 5 - Mens Originals Shoes\",\"marker\":{\"color\":\"blue\",\"size\":2},\"mode\":\"markers+text\",\"text\":\"Shoe\",\"textfont\":{\"size\":8},\"textposition\":\"bottom center\",\"type\":\"scatter\",\"x\":[7.5],\"y\":[-8]},{\"hoverinfo\":\"text\",\"hovertext\":\"\",\"marker\":{\"color\":\"blue\",\"size\":2},\"mode\":\"markers+text\",\"text\":\"Nike\",\"textfont\":{\"size\":8},\"textposition\":\"bottom center\",\"type\":\"scatter\",\"x\":[3.0],\"y\":[-9]},{\"hoverinfo\":\"text\",\"hovertext\":\"\",\"marker\":{\"color\":\"blue\",\"size\":2},\"mode\":\"markers+text\",\"text\":\"High\",\"textfont\":{\"size\":8},\"textposition\":\"bottom center\",\"type\":\"scatter\",\"x\":[4.5],\"y\":[-10]},{\"hoverinfo\":\"text\",\"hovertext\":\"\",\"marker\":{\"color\":\"blue\",\"size\":2},\"mode\":\"markers+text\",\"text\":\"5 Star\",\"textfont\":{\"size\":8},\"textposition\":\"bottom center\",\"type\":\"scatter\",\"x\":[6.0],\"y\":[-11]},{\"hoverinfo\":\"text\",\"hovertext\":\"Nike Air Force 1 '07 LV8 1 Red / 10\",\"marker\":{\"color\":\"blue\",\"size\":2},\"mode\":\"markers+text\",\"text\":\"Shoe\",\"textfont\":{\"size\":8},\"textposition\":\"bottom center\",\"type\":\"scatter\",\"x\":[7.5],\"y\":[-12]},{\"hoverinfo\":\"text\",\"hovertext\":\"Nike Men's G.T. Cut 2 Basketball Shoes in Red, Size: 9.5 | DJ6015-603\",\"marker\":{\"color\":\"blue\",\"size\":2},\"mode\":\"markers+text\",\"text\":\"Shoe\",\"textfont\":{\"size\":8},\"textposition\":\"bottom center\",\"type\":\"scatter\",\"x\":[7.5],\"y\":[-13]},{\"hoverinfo\":\"text\",\"hovertext\":\"\",\"marker\":{\"color\":\"blue\",\"size\":2},\"mode\":\"markers+text\",\"text\":\"DICK'S Sporting Goods\",\"textfont\":{\"size\":8},\"textposition\":\"bottom center\",\"type\":\"scatter\",\"x\":[3.0],\"y\":[-14]},{\"hoverinfo\":\"text\",\"hovertext\":\"\",\"marker\":{\"color\":\"blue\",\"size\":2},\"mode\":\"markers+text\",\"text\":\"Medium\",\"textfont\":{\"size\":8},\"textposition\":\"bottom center\",\"type\":\"scatter\",\"x\":[4.5],\"y\":[-15]},{\"hoverinfo\":\"text\",\"hovertext\":\"\",\"marker\":{\"color\":\"blue\",\"size\":2},\"mode\":\"markers+text\",\"text\":\"5 Star\",\"textfont\":{\"size\":8},\"textposition\":\"bottom center\",\"type\":\"scatter\",\"x\":[6.0],\"y\":[-16]},{\"hoverinfo\":\"text\",\"hovertext\":\"Adidas Gazelle Mens Lifestyle Shoes (Red)\",\"marker\":{\"color\":\"blue\",\"size\":2},\"mode\":\"markers+text\",\"text\":\"Shoe\",\"textfont\":{\"size\":8},\"textposition\":\"bottom center\",\"type\":\"scatter\",\"x\":[7.5],\"y\":[-17]},{\"hoverinfo\":\"text\",\"hovertext\":\"\",\"marker\":{\"color\":\"blue\",\"size\":2},\"mode\":\"markers+text\",\"text\":\"Vans\",\"textfont\":{\"size\":8},\"textposition\":\"bottom center\",\"type\":\"scatter\",\"x\":[3.0],\"y\":[-18]},{\"hoverinfo\":\"text\",\"hovertext\":\"\",\"marker\":{\"color\":\"blue\",\"size\":2},\"mode\":\"markers+text\",\"text\":\"Low\",\"textfont\":{\"size\":8},\"textposition\":\"bottom center\",\"type\":\"scatter\",\"x\":[4.5],\"y\":[-19]},{\"hoverinfo\":\"text\",\"hovertext\":\"\",\"marker\":{\"color\":\"blue\",\"size\":2},\"mode\":\"markers+text\",\"text\":\"5 Star\",\"textfont\":{\"size\":8},\"textposition\":\"bottom center\",\"type\":\"scatter\",\"x\":[6.0],\"y\":[-20]},{\"hoverinfo\":\"text\",\"hovertext\":\"Vans Authentic Skate Shoes Red 6.5\",\"marker\":{\"color\":\"blue\",\"size\":2},\"mode\":\"markers+text\",\"text\":\"Shoe\",\"textfont\":{\"size\":8},\"textposition\":\"bottom center\",\"type\":\"scatter\",\"x\":[7.5],\"y\":[-21]},{\"hoverinfo\":\"text\",\"hovertext\":\"Vans Old Skool V Sneaker, Size 8 M in Racing Red/True White at Nordstrom\",\"marker\":{\"color\":\"blue\",\"size\":2},\"mode\":\"markers+text\",\"text\":\"Shoe\",\"textfont\":{\"size\":8},\"textposition\":\"bottom center\",\"type\":\"scatter\",\"x\":[7.5],\"y\":[-22]},{\"hoverinfo\":\"text\",\"hovertext\":\"\",\"marker\":{\"color\":\"blue\",\"size\":2},\"mode\":\"markers+text\",\"text\":\"Amazon.com - Seller\",\"textfont\":{\"size\":8},\"textposition\":\"bottom center\",\"type\":\"scatter\",\"x\":[3.0],\"y\":[-23]},{\"hoverinfo\":\"text\",\"hovertext\":\"\",\"marker\":{\"color\":\"blue\",\"size\":2},\"mode\":\"markers+text\",\"text\":\"High\",\"textfont\":{\"size\":8},\"textposition\":\"bottom center\",\"type\":\"scatter\",\"x\":[4.5],\"y\":[-24]},{\"hoverinfo\":\"text\",\"hovertext\":\"\",\"marker\":{\"color\":\"blue\",\"size\":2},\"mode\":\"markers+text\",\"text\":\"5 Star\",\"textfont\":{\"size\":8},\"textposition\":\"bottom center\",\"type\":\"scatter\",\"x\":[6.0],\"y\":[-25]},{\"hoverinfo\":\"text\",\"hovertext\":\"Adidas Gazelle Bold Shoes Women's, Red, Size 8\",\"marker\":{\"color\":\"blue\",\"size\":2},\"mode\":\"markers+text\",\"text\":\"Shoe\",\"textfont\":{\"size\":8},\"textposition\":\"bottom center\",\"type\":\"scatter\",\"x\":[7.5],\"y\":[-26]},{\"hoverinfo\":\"text\",\"hovertext\":\"\",\"marker\":{\"color\":\"blue\",\"size\":2},\"mode\":\"markers+text\",\"text\":\"Medium\",\"textfont\":{\"size\":8},\"textposition\":\"bottom center\",\"type\":\"scatter\",\"x\":[4.5],\"y\":[-27]},{\"hoverinfo\":\"text\",\"hovertext\":\"\",\"marker\":{\"color\":\"blue\",\"size\":2},\"mode\":\"markers+text\",\"text\":\"Unknown\",\"textfont\":{\"size\":8},\"textposition\":\"bottom center\",\"type\":\"scatter\",\"x\":[6.0],\"y\":[-28]},{\"hoverinfo\":\"text\",\"hovertext\":\"Adidas Originals Mens Stan Smith - Shoes Red/Red/White Size 07.5\",\"marker\":{\"color\":\"blue\",\"size\":2},\"mode\":\"markers+text\",\"text\":\"Shoe\",\"textfont\":{\"size\":8},\"textposition\":\"bottom center\",\"type\":\"scatter\",\"x\":[7.5],\"y\":[-29]},{\"hoverinfo\":\"text\",\"hovertext\":\"\",\"marker\":{\"color\":\"blue\",\"size\":2},\"mode\":\"markers+text\",\"text\":\"5 Star\",\"textfont\":{\"size\":8},\"textposition\":\"bottom center\",\"type\":\"scatter\",\"x\":[6.0],\"y\":[-30]},{\"hoverinfo\":\"text\",\"hovertext\":\"PF Flyers Center Lo (Red) Men's Shoes\",\"marker\":{\"color\":\"blue\",\"size\":2},\"mode\":\"markers+text\",\"text\":\"Shoe\",\"textfont\":{\"size\":8},\"textposition\":\"bottom center\",\"type\":\"scatter\",\"x\":[7.5],\"y\":[-31]},{\"hoverinfo\":\"text\",\"hovertext\":\"\",\"marker\":{\"color\":\"blue\",\"size\":2},\"mode\":\"markers+text\",\"text\":\"Nordstrom Rack\",\"textfont\":{\"size\":8},\"textposition\":\"bottom center\",\"type\":\"scatter\",\"x\":[3.0],\"y\":[-32]},{\"hoverinfo\":\"text\",\"hovertext\":\"\",\"marker\":{\"color\":\"blue\",\"size\":2},\"mode\":\"markers+text\",\"text\":\"Low\",\"textfont\":{\"size\":8},\"textposition\":\"bottom center\",\"type\":\"scatter\",\"x\":[4.5],\"y\":[-33]},{\"hoverinfo\":\"text\",\"hovertext\":\"\",\"marker\":{\"color\":\"blue\",\"size\":2},\"mode\":\"markers+text\",\"text\":\"5 Star\",\"textfont\":{\"size\":8},\"textposition\":\"bottom center\",\"type\":\"scatter\",\"x\":[6.0],\"y\":[-34]},{\"hoverinfo\":\"text\",\"hovertext\":\"Madden Sport Sneaker in Red at Nordstrom Rack, Size 10\",\"marker\":{\"color\":\"blue\",\"size\":2},\"mode\":\"markers+text\",\"text\":\"Shoe\",\"textfont\":{\"size\":8},\"textposition\":\"bottom center\",\"type\":\"scatter\",\"x\":[7.5],\"y\":[-35]},{\"hoverinfo\":\"text\",\"hovertext\":\"\",\"marker\":{\"color\":\"blue\",\"size\":2},\"mode\":\"markers+text\",\"text\":\"4 Star\",\"textfont\":{\"size\":8},\"textposition\":\"bottom center\",\"type\":\"scatter\",\"x\":[6.0],\"y\":[-36]},{\"hoverinfo\":\"text\",\"hovertext\":\"Madden Koppar Athletic Sneaker in Red at Nordstrom Rack, Size 10.5\",\"marker\":{\"color\":\"blue\",\"size\":2},\"mode\":\"markers+text\",\"text\":\"Shoe\",\"textfont\":{\"size\":8},\"textposition\":\"bottom center\",\"type\":\"scatter\",\"x\":[7.5],\"y\":[-37]},{\"hoverinfo\":\"text\",\"hovertext\":\"\",\"marker\":{\"color\":\"blue\",\"size\":2},\"mode\":\"markers+text\",\"text\":\"Medium\",\"textfont\":{\"size\":8},\"textposition\":\"bottom center\",\"type\":\"scatter\",\"x\":[4.5],\"y\":[-38]},{\"hoverinfo\":\"text\",\"hovertext\":\"\",\"marker\":{\"color\":\"blue\",\"size\":2},\"mode\":\"markers+text\",\"text\":\"Unknown\",\"textfont\":{\"size\":8},\"textposition\":\"bottom center\",\"type\":\"scatter\",\"x\":[6.0],\"y\":[-39]},{\"hoverinfo\":\"text\",\"hovertext\":\"New Balance 574 Sneaker in Admiral Red/White at Nordstrom Rack, Size 12.5 Women's ...\",\"marker\":{\"color\":\"blue\",\"size\":2},\"mode\":\"markers+text\",\"text\":\"Shoe\",\"textfont\":{\"size\":8},\"textposition\":\"bottom center\",\"type\":\"scatter\",\"x\":[7.5],\"y\":[-40]},{\"hoverinfo\":\"text\",\"hovertext\":\"\",\"marker\":{\"color\":\"blue\",\"size\":2},\"mode\":\"markers+text\",\"text\":\"5 Star\",\"textfont\":{\"size\":8},\"textposition\":\"bottom center\",\"type\":\"scatter\",\"x\":[6.0],\"y\":[-41]},{\"hoverinfo\":\"text\",\"hovertext\":\"Adidas VL Court 2.0 Skate Sneaker in Red/Off White/Bright Red at Nordstrom Rack ...\",\"marker\":{\"color\":\"blue\",\"size\":2},\"mode\":\"markers+text\",\"text\":\"Shoe\",\"textfont\":{\"size\":8},\"textposition\":\"bottom center\",\"type\":\"scatter\",\"x\":[7.5],\"y\":[-42]},{\"hoverinfo\":\"text\",\"hovertext\":\"\",\"marker\":{\"color\":\"blue\",\"size\":2},\"mode\":\"markers+text\",\"text\":\"GOAT\",\"textfont\":{\"size\":8},\"textposition\":\"bottom center\",\"type\":\"scatter\",\"x\":[3.0],\"y\":[-43]},{\"hoverinfo\":\"text\",\"hovertext\":\"\",\"marker\":{\"color\":\"blue\",\"size\":2},\"mode\":\"markers+text\",\"text\":\"Medium\",\"textfont\":{\"size\":8},\"textposition\":\"bottom center\",\"type\":\"scatter\",\"x\":[4.5],\"y\":[-44]},{\"hoverinfo\":\"text\",\"hovertext\":\"\",\"marker\":{\"color\":\"blue\",\"size\":2},\"mode\":\"markers+text\",\"text\":\"5 Star\",\"textfont\":{\"size\":8},\"textposition\":\"bottom center\",\"type\":\"scatter\",\"x\":[6.0],\"y\":[-45]},{\"hoverinfo\":\"text\",\"hovertext\":\"Nike Huarache Run GS 'Triple Red'\",\"marker\":{\"color\":\"blue\",\"size\":2},\"mode\":\"markers+text\",\"text\":\"Shoe\",\"textfont\":{\"size\":8},\"textposition\":\"bottom center\",\"type\":\"scatter\",\"x\":[7.5],\"y\":[-46]},{\"hoverinfo\":\"text\",\"hovertext\":\"\",\"marker\":{\"color\":\"blue\",\"size\":2},\"mode\":\"markers+text\",\"text\":\"Zappos.com\",\"textfont\":{\"size\":8},\"textposition\":\"bottom center\",\"type\":\"scatter\",\"x\":[3.0],\"y\":[-47]},{\"hoverinfo\":\"text\",\"hovertext\":\"\",\"marker\":{\"color\":\"blue\",\"size\":2},\"mode\":\"markers+text\",\"text\":\"Low\",\"textfont\":{\"size\":8},\"textposition\":\"bottom center\",\"type\":\"scatter\",\"x\":[4.5],\"y\":[-48]},{\"hoverinfo\":\"text\",\"hovertext\":\"\",\"marker\":{\"color\":\"blue\",\"size\":2},\"mode\":\"markers+text\",\"text\":\"5 Star\",\"textfont\":{\"size\":8},\"textposition\":\"bottom center\",\"type\":\"scatter\",\"x\":[6.0],\"y\":[-49]},{\"hoverinfo\":\"text\",\"hovertext\":\"Vans Authentic Core Classics Skate Shoes Red : Men's 5.5 - Women's 7 Medium\",\"marker\":{\"color\":\"blue\",\"size\":2},\"mode\":\"markers+text\",\"text\":\"Shoe\",\"textfont\":{\"size\":8},\"textposition\":\"bottom center\",\"type\":\"scatter\",\"x\":[7.5],\"y\":[-50]},{\"hoverinfo\":\"text\",\"hovertext\":\"\",\"marker\":{\"color\":\"blue\",\"size\":2},\"mode\":\"markers+text\",\"text\":\"The Edit LDN\",\"textfont\":{\"size\":8},\"textposition\":\"bottom center\",\"type\":\"scatter\",\"x\":[3.0],\"y\":[-51]},{\"hoverinfo\":\"text\",\"hovertext\":\"\",\"marker\":{\"color\":\"blue\",\"size\":2},\"mode\":\"markers+text\",\"text\":\"High\",\"textfont\":{\"size\":8},\"textposition\":\"bottom center\",\"type\":\"scatter\",\"x\":[4.5],\"y\":[-52]},{\"hoverinfo\":\"text\",\"hovertext\":\"\",\"marker\":{\"color\":\"blue\",\"size\":2},\"mode\":\"markers+text\",\"text\":\"5 Star\",\"textfont\":{\"size\":8},\"textposition\":\"bottom center\",\"type\":\"scatter\",\"x\":[6.0],\"y\":[-53]},{\"hoverinfo\":\"text\",\"hovertext\":\"Adidas Campus 00s Mens Lifestyle Shoes (Red)\",\"marker\":{\"color\":\"blue\",\"size\":2},\"mode\":\"markers+text\",\"text\":\"Shoe\",\"textfont\":{\"size\":8},\"textposition\":\"bottom center\",\"type\":\"scatter\",\"x\":[7.5],\"y\":[-54]},{\"hoverinfo\":\"text\",\"hovertext\":\"\",\"marker\":{\"color\":\"blue\",\"size\":2},\"mode\":\"markers+text\",\"text\":\"farfetch.com\",\"textfont\":{\"size\":8},\"textposition\":\"bottom center\",\"type\":\"scatter\",\"x\":[3.0],\"y\":[-55]},{\"hoverinfo\":\"text\",\"hovertext\":\"\",\"marker\":{\"color\":\"blue\",\"size\":2},\"mode\":\"markers+text\",\"text\":\"High\",\"textfont\":{\"size\":8},\"textposition\":\"bottom center\",\"type\":\"scatter\",\"x\":[4.5],\"y\":[-56]},{\"hoverinfo\":\"text\",\"hovertext\":\"\",\"marker\":{\"color\":\"blue\",\"size\":2},\"mode\":\"markers+text\",\"text\":\"5 Star\",\"textfont\":{\"size\":8},\"textposition\":\"bottom center\",\"type\":\"scatter\",\"x\":[6.0],\"y\":[-57]},{\"hoverinfo\":\"text\",\"hovertext\":\"Adidas NMD_R1 Scarlet Men's Shoes, Red, Size: 12\",\"marker\":{\"color\":\"blue\",\"size\":2},\"mode\":\"markers+text\",\"text\":\"Shoe\",\"textfont\":{\"size\":8},\"textposition\":\"bottom center\",\"type\":\"scatter\",\"x\":[7.5],\"y\":[-58]},{\"hoverinfo\":\"text\",\"hovertext\":\"\",\"marker\":{\"color\":\"blue\",\"size\":2},\"mode\":\"markers+text\",\"text\":\"Finish Line\",\"textfont\":{\"size\":8},\"textposition\":\"bottom center\",\"type\":\"scatter\",\"x\":[3.0],\"y\":[-59]},{\"hoverinfo\":\"text\",\"hovertext\":\"\",\"marker\":{\"color\":\"blue\",\"size\":2},\"mode\":\"markers+text\",\"text\":\"High\",\"textfont\":{\"size\":8},\"textposition\":\"bottom center\",\"type\":\"scatter\",\"x\":[4.5],\"y\":[-60]},{\"hoverinfo\":\"text\",\"hovertext\":\"\",\"marker\":{\"color\":\"blue\",\"size\":2},\"mode\":\"markers+text\",\"text\":\"5 Star\",\"textfont\":{\"size\":8},\"textposition\":\"bottom center\",\"type\":\"scatter\",\"x\":[6.0],\"y\":[-61]},{\"hoverinfo\":\"text\",\"hovertext\":\"Nike Air Max 270 University Red (PS)\",\"marker\":{\"color\":\"blue\",\"size\":2},\"mode\":\"markers+text\",\"text\":\"Shoe\",\"textfont\":{\"size\":8},\"textposition\":\"bottom center\",\"type\":\"scatter\",\"x\":[7.5],\"y\":[-62]},{\"hoverinfo\":\"text\",\"hovertext\":\"\",\"marker\":{\"color\":\"blue\",\"size\":2},\"mode\":\"markers+text\",\"text\":\"Unknown\",\"textfont\":{\"size\":8},\"textposition\":\"bottom center\",\"type\":\"scatter\",\"x\":[6.0],\"y\":[-63]},{\"hoverinfo\":\"text\",\"hovertext\":\"Adidas adiFOM Climacool Shoes Better Scarlet 6 - Mens Originals Shoes\",\"marker\":{\"color\":\"blue\",\"size\":2},\"mode\":\"markers+text\",\"text\":\"Shoe\",\"textfont\":{\"size\":8},\"textposition\":\"bottom center\",\"type\":\"scatter\",\"x\":[7.5],\"y\":[-64]},{\"hoverinfo\":\"text\",\"hovertext\":\"\",\"marker\":{\"color\":\"blue\",\"size\":2},\"mode\":\"markers+text\",\"text\":\"PUMA\",\"textfont\":{\"size\":8},\"textposition\":\"bottom center\",\"type\":\"scatter\",\"x\":[3.0],\"y\":[-65]},{\"hoverinfo\":\"text\",\"hovertext\":\"\",\"marker\":{\"color\":\"blue\",\"size\":2},\"mode\":\"markers+text\",\"text\":\"Medium\",\"textfont\":{\"size\":8},\"textposition\":\"bottom center\",\"type\":\"scatter\",\"x\":[4.5],\"y\":[-66]},{\"hoverinfo\":\"text\",\"hovertext\":\"\",\"marker\":{\"color\":\"blue\",\"size\":2},\"mode\":\"markers+text\",\"text\":\"5 Star\",\"textfont\":{\"size\":8},\"textposition\":\"bottom center\",\"type\":\"scatter\",\"x\":[6.0],\"y\":[-67]},{\"hoverinfo\":\"text\",\"hovertext\":\"Puma Suede Classic XXI Women's Sneakers, High Risk Red/White, 6\",\"marker\":{\"color\":\"blue\",\"size\":2},\"mode\":\"markers+text\",\"text\":\"Shoe\",\"textfont\":{\"size\":8},\"textposition\":\"bottom center\",\"type\":\"scatter\",\"x\":[7.5],\"y\":[-68]},{\"hoverinfo\":\"text\",\"hovertext\":\"Puma Suede Mid XXI Sneakers, High Risk Red/White, 9.5\",\"marker\":{\"color\":\"blue\",\"size\":2},\"mode\":\"markers+text\",\"text\":\"Shoe\",\"textfont\":{\"size\":8},\"textposition\":\"bottom center\",\"type\":\"scatter\",\"x\":[7.5],\"y\":[-69]},{\"hoverinfo\":\"text\",\"hovertext\":\"\",\"marker\":{\"color\":\"blue\",\"size\":2},\"mode\":\"markers+text\",\"text\":\"Walmart - ATshoes.SHOES\",\"textfont\":{\"size\":8},\"textposition\":\"bottom center\",\"type\":\"scatter\",\"x\":[3.0],\"y\":[-70]},{\"hoverinfo\":\"text\",\"hovertext\":\"\",\"marker\":{\"color\":\"blue\",\"size\":2},\"mode\":\"markers+text\",\"text\":\"Medium\",\"textfont\":{\"size\":8},\"textposition\":\"bottom center\",\"type\":\"scatter\",\"x\":[4.5],\"y\":[-71]},{\"hoverinfo\":\"text\",\"hovertext\":\"\",\"marker\":{\"color\":\"blue\",\"size\":2},\"mode\":\"markers+text\",\"text\":\"5 Star\",\"textfont\":{\"size\":8},\"textposition\":\"bottom center\",\"type\":\"scatter\",\"x\":[6.0],\"y\":[-72]},{\"hoverinfo\":\"text\",\"hovertext\":\"Under Armour Men's Charged Assert 9 Running Shoes - Red, 12\",\"marker\":{\"color\":\"blue\",\"size\":2},\"mode\":\"markers+text\",\"text\":\"Shoe\",\"textfont\":{\"size\":8},\"textposition\":\"bottom center\",\"type\":\"scatter\",\"x\":[7.5],\"y\":[-73]},{\"hoverinfo\":\"text\",\"hovertext\":\"\",\"marker\":{\"color\":\"blue\",\"size\":2},\"mode\":\"markers+text\",\"text\":\"Steve Madden\",\"textfont\":{\"size\":8},\"textposition\":\"bottom center\",\"type\":\"scatter\",\"x\":[3.0],\"y\":[-74]},{\"hoverinfo\":\"text\",\"hovertext\":\"\",\"marker\":{\"color\":\"blue\",\"size\":2},\"mode\":\"markers+text\",\"text\":\"Medium\",\"textfont\":{\"size\":8},\"textposition\":\"bottom center\",\"type\":\"scatter\",\"x\":[4.5],\"y\":[-75]},{\"hoverinfo\":\"text\",\"hovertext\":\"\",\"marker\":{\"color\":\"blue\",\"size\":2},\"mode\":\"markers+text\",\"text\":\"4 Star\",\"textfont\":{\"size\":8},\"textposition\":\"bottom center\",\"type\":\"scatter\",\"x\":[6.0],\"y\":[-76]},{\"hoverinfo\":\"text\",\"hovertext\":\"Frosting Red Men's Sneakers | Size 11 | by Steve Madden\",\"marker\":{\"color\":\"blue\",\"size\":2},\"mode\":\"markers+text\",\"text\":\"Shoe\",\"textfont\":{\"size\":8},\"textposition\":\"bottom center\",\"type\":\"scatter\",\"x\":[7.5],\"y\":[-77]},{\"hoverinfo\":\"text\",\"hovertext\":\"\",\"marker\":{\"color\":\"blue\",\"size\":2},\"mode\":\"markers+text\",\"text\":\"High\",\"textfont\":{\"size\":8},\"textposition\":\"bottom center\",\"type\":\"scatter\",\"x\":[4.5],\"y\":[-78]},{\"hoverinfo\":\"text\",\"hovertext\":\"\",\"marker\":{\"color\":\"blue\",\"size\":2},\"mode\":\"markers+text\",\"text\":\"5 Star\",\"textfont\":{\"size\":8},\"textposition\":\"bottom center\",\"type\":\"scatter\",\"x\":[6.0],\"y\":[-79]},{\"hoverinfo\":\"text\",\"hovertext\":\"Ponce Red Men's Sneakers | Size 10 | by Steve Madden\",\"marker\":{\"color\":\"blue\",\"size\":2},\"mode\":\"markers+text\",\"text\":\"Shoe\",\"textfont\":{\"size\":8},\"textposition\":\"bottom center\",\"type\":\"scatter\",\"x\":[7.5],\"y\":[-80]},{\"hoverinfo\":\"text\",\"hovertext\":\"\",\"marker\":{\"color\":\"blue\",\"size\":2},\"mode\":\"markers+text\",\"text\":\"ALDO Shoes\",\"textfont\":{\"size\":8},\"textposition\":\"bottom center\",\"type\":\"scatter\",\"x\":[3.0],\"y\":[-81]},{\"hoverinfo\":\"text\",\"hovertext\":\"\",\"marker\":{\"color\":\"blue\",\"size\":2},\"mode\":\"markers+text\",\"text\":\"Medium\",\"textfont\":{\"size\":8},\"textposition\":\"bottom center\",\"type\":\"scatter\",\"x\":[4.5],\"y\":[-82]},{\"hoverinfo\":\"text\",\"hovertext\":\"\",\"marker\":{\"color\":\"blue\",\"size\":2},\"mode\":\"markers+text\",\"text\":\"Unknown\",\"textfont\":{\"size\":8},\"textposition\":\"bottom center\",\"type\":\"scatter\",\"x\":[6.0],\"y\":[-83]},{\"hoverinfo\":\"text\",\"hovertext\":\"ALDO Antonio - Men's High Top Sneakers - Red, Size 13\",\"marker\":{\"color\":\"blue\",\"size\":2},\"mode\":\"markers+text\",\"text\":\"Shoe\",\"textfont\":{\"size\":8},\"textposition\":\"bottom center\",\"type\":\"scatter\",\"x\":[7.5],\"y\":[-84]},{\"hoverinfo\":\"text\",\"hovertext\":\"\",\"marker\":{\"color\":\"blue\",\"size\":2},\"mode\":\"markers+text\",\"text\":\"Low\",\"textfont\":{\"size\":8},\"textposition\":\"bottom center\",\"type\":\"scatter\",\"x\":[4.5],\"y\":[-85]},{\"hoverinfo\":\"text\",\"hovertext\":\"\",\"marker\":{\"color\":\"blue\",\"size\":2},\"mode\":\"markers+text\",\"text\":\"Unknown\",\"textfont\":{\"size\":8},\"textposition\":\"bottom center\",\"type\":\"scatter\",\"x\":[6.0],\"y\":[-86]},{\"hoverinfo\":\"text\",\"hovertext\":\"ALDO Dwia - Women's High Top Sneaker Sneakers - Red, Size 6.5\",\"marker\":{\"color\":\"blue\",\"size\":2},\"mode\":\"markers+text\",\"text\":\"Shoe\",\"textfont\":{\"size\":8},\"textposition\":\"bottom center\",\"type\":\"scatter\",\"x\":[7.5],\"y\":[-87]},{\"hoverinfo\":\"text\",\"hovertext\":\"\",\"marker\":{\"color\":\"blue\",\"size\":2},\"mode\":\"markers+text\",\"text\":\"ShopWSS\",\"textfont\":{\"size\":8},\"textposition\":\"bottom center\",\"type\":\"scatter\",\"x\":[3.0],\"y\":[-88]},{\"hoverinfo\":\"text\",\"hovertext\":\"\",\"marker\":{\"color\":\"blue\",\"size\":2},\"mode\":\"markers+text\",\"text\":\"Low\",\"textfont\":{\"size\":8},\"textposition\":\"bottom center\",\"type\":\"scatter\",\"x\":[4.5],\"y\":[-89]},{\"hoverinfo\":\"text\",\"hovertext\":\"\",\"marker\":{\"color\":\"blue\",\"size\":2},\"mode\":\"markers+text\",\"text\":\"5 Star\",\"textfont\":{\"size\":8},\"textposition\":\"bottom center\",\"type\":\"scatter\",\"x\":[6.0],\"y\":[-90]},{\"hoverinfo\":\"text\",\"hovertext\":\"Vans Authentic Kids Shoes - Red - 3\",\"marker\":{\"color\":\"blue\",\"size\":2},\"mode\":\"markers+text\",\"text\":\"Shoe\",\"textfont\":{\"size\":8},\"textposition\":\"bottom center\",\"type\":\"scatter\",\"x\":[7.5],\"y\":[-91]},{\"hoverinfo\":\"text\",\"hovertext\":\"\",\"marker\":{\"color\":\"blue\",\"size\":2},\"mode\":\"markers+text\",\"text\":\"Converse\",\"textfont\":{\"size\":8},\"textposition\":\"bottom center\",\"type\":\"scatter\",\"x\":[3.0],\"y\":[-92]},{\"hoverinfo\":\"text\",\"hovertext\":\"\",\"marker\":{\"color\":\"blue\",\"size\":2},\"mode\":\"markers+text\",\"text\":\"Low\",\"textfont\":{\"size\":8},\"textposition\":\"bottom center\",\"type\":\"scatter\",\"x\":[4.5],\"y\":[-93]},{\"hoverinfo\":\"text\",\"hovertext\":\"\",\"marker\":{\"color\":\"blue\",\"size\":2},\"mode\":\"markers+text\",\"text\":\"5 Star\",\"textfont\":{\"size\":8},\"textposition\":\"bottom center\",\"type\":\"scatter\",\"x\":[6.0],\"y\":[-94]},{\"hoverinfo\":\"text\",\"hovertext\":\"Converse Chuck Taylor All Star Hi, Red\",\"marker\":{\"color\":\"blue\",\"size\":2},\"mode\":\"markers+text\",\"text\":\"Shoe\",\"textfont\":{\"size\":8},\"textposition\":\"bottom center\",\"type\":\"scatter\",\"x\":[7.5],\"y\":[-95]},{\"hoverinfo\":\"text\",\"hovertext\":\"\",\"marker\":{\"color\":\"blue\",\"size\":2},\"mode\":\"markers+text\",\"text\":\"Jeffrey Campbell\",\"textfont\":{\"size\":8},\"textposition\":\"bottom center\",\"type\":\"scatter\",\"x\":[3.0],\"y\":[-96]},{\"hoverinfo\":\"text\",\"hovertext\":\"\",\"marker\":{\"color\":\"blue\",\"size\":2},\"mode\":\"markers+text\",\"text\":\"Medium\",\"textfont\":{\"size\":8},\"textposition\":\"bottom center\",\"type\":\"scatter\",\"x\":[4.5],\"y\":[-97]},{\"hoverinfo\":\"text\",\"hovertext\":\"\",\"marker\":{\"color\":\"blue\",\"size\":2},\"mode\":\"markers+text\",\"text\":\"5 Star\",\"textfont\":{\"size\":8},\"textposition\":\"bottom center\",\"type\":\"scatter\",\"x\":[6.0],\"y\":[-98]},{\"hoverinfo\":\"text\",\"hovertext\":\"Jeffrey Campbell Keys Sneaker in Red\",\"marker\":{\"color\":\"blue\",\"size\":2},\"mode\":\"markers+text\",\"text\":\"Shoe\",\"textfont\":{\"size\":8},\"textposition\":\"bottom center\",\"type\":\"scatter\",\"x\":[7.5],\"y\":[-99]},{\"hoverinfo\":\"text\",\"hovertext\":\"\",\"marker\":{\"color\":\"blue\",\"size\":2},\"mode\":\"markers+text\",\"text\":\"Kids Foot Locker\",\"textfont\":{\"size\":8},\"textposition\":\"bottom center\",\"type\":\"scatter\",\"x\":[3.0],\"y\":[-100]},{\"hoverinfo\":\"text\",\"hovertext\":\"\",\"marker\":{\"color\":\"blue\",\"size\":2},\"mode\":\"markers+text\",\"text\":\"Medium\",\"textfont\":{\"size\":8},\"textposition\":\"bottom center\",\"type\":\"scatter\",\"x\":[4.5],\"y\":[-101]},{\"hoverinfo\":\"text\",\"hovertext\":\"\",\"marker\":{\"color\":\"blue\",\"size\":2},\"mode\":\"markers+text\",\"text\":\"5 Star\",\"textfont\":{\"size\":8},\"textposition\":\"bottom center\",\"type\":\"scatter\",\"x\":[6.0],\"y\":[-102]},{\"hoverinfo\":\"text\",\"hovertext\":\"Nike Air Max 1 GS Sport Red\",\"marker\":{\"color\":\"blue\",\"size\":2},\"mode\":\"markers+text\",\"text\":\"Shoe\",\"textfont\":{\"size\":8},\"textposition\":\"bottom center\",\"type\":\"scatter\",\"x\":[7.5],\"y\":[-103]},{\"hoverinfo\":\"text\",\"hovertext\":\"\",\"marker\":{\"color\":\"blue\",\"size\":2},\"mode\":\"markers+text\",\"text\":\"Hibbett Sports\",\"textfont\":{\"size\":8},\"textposition\":\"bottom center\",\"type\":\"scatter\",\"x\":[3.0],\"y\":[-104]},{\"hoverinfo\":\"text\",\"hovertext\":\"\",\"marker\":{\"color\":\"blue\",\"size\":2},\"mode\":\"markers+text\",\"text\":\"Low\",\"textfont\":{\"size\":8},\"textposition\":\"bottom center\",\"type\":\"scatter\",\"x\":[4.5],\"y\":[-105]},{\"hoverinfo\":\"text\",\"hovertext\":\"\",\"marker\":{\"color\":\"blue\",\"size\":2},\"mode\":\"markers+text\",\"text\":\"5 Star\",\"textfont\":{\"size\":8},\"textposition\":\"bottom center\",\"type\":\"scatter\",\"x\":[6.0],\"y\":[-106]},{\"hoverinfo\":\"text\",\"hovertext\":\"Puma Suede Classic XXI Red\",\"marker\":{\"color\":\"blue\",\"size\":2},\"mode\":\"markers+text\",\"text\":\"Shoe\",\"textfont\":{\"size\":8},\"textposition\":\"bottom center\",\"type\":\"scatter\",\"x\":[7.5],\"y\":[-107]},{\"hoverinfo\":\"text\",\"hovertext\":\"\",\"marker\":{\"color\":\"blue\",\"size\":2},\"mode\":\"markers+text\",\"text\":\"Macy's\",\"textfont\":{\"size\":8},\"textposition\":\"bottom center\",\"type\":\"scatter\",\"x\":[3.0],\"y\":[-108]},{\"hoverinfo\":\"text\",\"hovertext\":\"\",\"marker\":{\"color\":\"blue\",\"size\":2},\"mode\":\"markers+text\",\"text\":\"Medium\",\"textfont\":{\"size\":8},\"textposition\":\"bottom center\",\"type\":\"scatter\",\"x\":[4.5],\"y\":[-109]},{\"hoverinfo\":\"text\",\"hovertext\":\"\",\"marker\":{\"color\":\"blue\",\"size\":2},\"mode\":\"markers+text\",\"text\":\"5 Star\",\"textfont\":{\"size\":8},\"textposition\":\"bottom center\",\"type\":\"scatter\",\"x\":[6.0],\"y\":[-110]},{\"hoverinfo\":\"text\",\"hovertext\":\"Nike Air Max 270 GS 'University Red'\",\"marker\":{\"color\":\"blue\",\"size\":2},\"mode\":\"markers+text\",\"text\":\"Shoe\",\"textfont\":{\"size\":8},\"textposition\":\"bottom center\",\"type\":\"scatter\",\"x\":[7.5],\"y\":[-111]},{\"hoverinfo\":\"text\",\"hovertext\":\"\",\"marker\":{\"color\":\"blue\",\"size\":2},\"mode\":\"markers+text\",\"text\":\"Shop Premium Outlets\",\"textfont\":{\"size\":8},\"textposition\":\"bottom center\",\"type\":\"scatter\",\"x\":[3.0],\"y\":[-112]},{\"hoverinfo\":\"text\",\"hovertext\":\"\",\"marker\":{\"color\":\"blue\",\"size\":2},\"mode\":\"markers+text\",\"text\":\"Medium\",\"textfont\":{\"size\":8},\"textposition\":\"bottom center\",\"type\":\"scatter\",\"x\":[4.5],\"y\":[-113]},{\"hoverinfo\":\"text\",\"hovertext\":\"\",\"marker\":{\"color\":\"blue\",\"size\":2},\"mode\":\"markers+text\",\"text\":\"5 Star\",\"textfont\":{\"size\":8},\"textposition\":\"bottom center\",\"type\":\"scatter\",\"x\":[6.0],\"y\":[-114]},{\"hoverinfo\":\"text\",\"hovertext\":\"Adidas Forum Low Shoes - Men's - Red / Off White / Gum - 11\",\"marker\":{\"color\":\"blue\",\"size\":2},\"mode\":\"markers+text\",\"text\":\"Shoe\",\"textfont\":{\"size\":8},\"textposition\":\"bottom center\",\"type\":\"scatter\",\"x\":[7.5],\"y\":[-115]},{\"hoverinfo\":\"text\",\"hovertext\":\"\",\"marker\":{\"color\":\"blue\",\"size\":2},\"mode\":\"markers+text\",\"text\":\"shopAKIRA.com | AKIRA\",\"textfont\":{\"size\":8},\"textposition\":\"bottom center\",\"type\":\"scatter\",\"x\":[3.0],\"y\":[-116]},{\"hoverinfo\":\"text\",\"hovertext\":\"\",\"marker\":{\"color\":\"blue\",\"size\":2},\"mode\":\"markers+text\",\"text\":\"Low\",\"textfont\":{\"size\":8},\"textposition\":\"bottom center\",\"type\":\"scatter\",\"x\":[4.5],\"y\":[-117]},{\"hoverinfo\":\"text\",\"hovertext\":\"\",\"marker\":{\"color\":\"blue\",\"size\":2},\"mode\":\"markers+text\",\"text\":\"Unknown\",\"textfont\":{\"size\":8},\"textposition\":\"bottom center\",\"type\":\"scatter\",\"x\":[6.0],\"y\":[-118]},{\"hoverinfo\":\"text\",\"hovertext\":\"Akira Azalea Wang Korr Sneaker | Red | Size 8\",\"marker\":{\"color\":\"blue\",\"size\":2},\"mode\":\"markers+text\",\"text\":\"Shoe\",\"textfont\":{\"size\":8},\"textposition\":\"bottom center\",\"type\":\"scatter\",\"x\":[7.5],\"y\":[-119]},{\"hoverinfo\":\"text\",\"hovertext\":\"\",\"marker\":{\"color\":\"blue\",\"size\":2},\"mode\":\"markers+text\",\"text\":\"Medium\",\"textfont\":{\"size\":8},\"textposition\":\"bottom center\",\"type\":\"scatter\",\"x\":[4.5],\"y\":[-120]},{\"hoverinfo\":\"text\",\"hovertext\":\"\",\"marker\":{\"color\":\"blue\",\"size\":2},\"mode\":\"markers+text\",\"text\":\"Unknown\",\"textfont\":{\"size\":8},\"textposition\":\"bottom center\",\"type\":\"scatter\",\"x\":[6.0],\"y\":[-121]},{\"hoverinfo\":\"text\",\"hovertext\":\"Akira Azalea Wang South High Top Sneaker | Red | Size 10\",\"marker\":{\"color\":\"blue\",\"size\":2},\"mode\":\"markers+text\",\"text\":\"Shoe\",\"textfont\":{\"size\":8},\"textposition\":\"bottom center\",\"type\":\"scatter\",\"x\":[7.5],\"y\":[-122]},{\"hoverinfo\":\"text\",\"hovertext\":\"\",\"marker\":{\"color\":\"blue\",\"size\":2},\"mode\":\"markers+text\",\"text\":\"Foot Locker\",\"textfont\":{\"size\":8},\"textposition\":\"bottom center\",\"type\":\"scatter\",\"x\":[3.0],\"y\":[-123]},{\"hoverinfo\":\"text\",\"hovertext\":\"\",\"marker\":{\"color\":\"blue\",\"size\":2},\"mode\":\"markers+text\",\"text\":\"Medium\",\"textfont\":{\"size\":8},\"textposition\":\"bottom center\",\"type\":\"scatter\",\"x\":[4.5],\"y\":[-124]},{\"hoverinfo\":\"text\",\"hovertext\":\"\",\"marker\":{\"color\":\"blue\",\"size\":2},\"mode\":\"markers+text\",\"text\":\"5 Star\",\"textfont\":{\"size\":8},\"textposition\":\"bottom center\",\"type\":\"scatter\",\"x\":[6.0],\"y\":[-125]},{\"hoverinfo\":\"text\",\"hovertext\":\"Converse UNT1TL3D High Top - Mens - Red/White, Size 11.0\",\"marker\":{\"color\":\"blue\",\"size\":2},\"mode\":\"markers+text\",\"text\":\"Shoe\",\"textfont\":{\"size\":8},\"textposition\":\"bottom center\",\"type\":\"scatter\",\"x\":[7.5],\"y\":[-126]},{\"hoverinfo\":\"text\",\"hovertext\":\"\",\"marker\":{\"color\":\"blue\",\"size\":2},\"mode\":\"markers+text\",\"text\":\"Low\",\"textfont\":{\"size\":8},\"textposition\":\"bottom center\",\"type\":\"scatter\",\"x\":[4.5],\"y\":[-127]},{\"hoverinfo\":\"text\",\"hovertext\":\"\",\"marker\":{\"color\":\"blue\",\"size\":2},\"mode\":\"markers+text\",\"text\":\"Unknown\",\"textfont\":{\"size\":8},\"textposition\":\"bottom center\",\"type\":\"scatter\",\"x\":[6.0],\"y\":[-128]},{\"hoverinfo\":\"text\",\"hovertext\":\"Vans Womens Old Skool - Shoes Racing Red/White Size 04.5\",\"marker\":{\"color\":\"blue\",\"size\":2},\"mode\":\"markers+text\",\"text\":\"Shoe\",\"textfont\":{\"size\":8},\"textposition\":\"bottom center\",\"type\":\"scatter\",\"x\":[7.5],\"y\":[-129]},{\"hoverinfo\":\"text\",\"hovertext\":\"\",\"marker\":{\"color\":\"blue\",\"size\":2},\"mode\":\"markers+text\",\"text\":\"DSW\",\"textfont\":{\"size\":8},\"textposition\":\"bottom center\",\"type\":\"scatter\",\"x\":[3.0],\"y\":[-130]},{\"hoverinfo\":\"text\",\"hovertext\":\"\",\"marker\":{\"color\":\"blue\",\"size\":2},\"mode\":\"markers+text\",\"text\":\"Medium\",\"textfont\":{\"size\":8},\"textposition\":\"bottom center\",\"type\":\"scatter\",\"x\":[4.5],\"y\":[-131]},{\"hoverinfo\":\"text\",\"hovertext\":\"\",\"marker\":{\"color\":\"blue\",\"size\":2},\"mode\":\"markers+text\",\"text\":\"5 Star\",\"textfont\":{\"size\":8},\"textposition\":\"bottom center\",\"type\":\"scatter\",\"x\":[6.0],\"y\":[-132]},{\"hoverinfo\":\"text\",\"hovertext\":\"Nike Men's Run Swift 3 Road Running Shoes in Red, Size: 13 | DR2695-600\",\"marker\":{\"color\":\"blue\",\"size\":2},\"mode\":\"markers+text\",\"text\":\"Shoe\",\"textfont\":{\"size\":8},\"textposition\":\"bottom center\",\"type\":\"scatter\",\"x\":[7.5],\"y\":[-133]},{\"hoverinfo\":\"text\",\"hovertext\":\"\",\"marker\":{\"color\":\"blue\",\"size\":2},\"mode\":\"markers+text\",\"text\":\"JD Sports\",\"textfont\":{\"size\":8},\"textposition\":\"bottom center\",\"type\":\"scatter\",\"x\":[3.0],\"y\":[-134]},{\"hoverinfo\":\"text\",\"hovertext\":\"\",\"marker\":{\"color\":\"blue\",\"size\":2},\"mode\":\"markers+text\",\"text\":\"Medium\",\"textfont\":{\"size\":8},\"textposition\":\"bottom center\",\"type\":\"scatter\",\"x\":[4.5],\"y\":[-135]},{\"hoverinfo\":\"text\",\"hovertext\":\"\",\"marker\":{\"color\":\"blue\",\"size\":2},\"mode\":\"markers+text\",\"text\":\"5 Star\",\"textfont\":{\"size\":8},\"textposition\":\"bottom center\",\"type\":\"scatter\",\"x\":[6.0],\"y\":[-136]},{\"hoverinfo\":\"text\",\"hovertext\":\"Nike Men's Flex Experience Run 11 Road Running Shoes in Red, Size: 8 | DD9284-601\",\"marker\":{\"color\":\"blue\",\"size\":2},\"mode\":\"markers+text\",\"text\":\"Shoe\",\"textfont\":{\"size\":8},\"textposition\":\"bottom center\",\"type\":\"scatter\",\"x\":[7.5],\"y\":[-137]},{\"hoverinfo\":\"text\",\"hovertext\":\"\",\"marker\":{\"color\":\"blue\",\"size\":2},\"mode\":\"markers+text\",\"text\":\"Champs Sports\",\"textfont\":{\"size\":8},\"textposition\":\"bottom center\",\"type\":\"scatter\",\"x\":[3.0],\"y\":[-138]},{\"hoverinfo\":\"text\",\"hovertext\":\"\",\"marker\":{\"color\":\"blue\",\"size\":2},\"mode\":\"markers+text\",\"text\":\"Medium\",\"textfont\":{\"size\":8},\"textposition\":\"bottom center\",\"type\":\"scatter\",\"x\":[4.5],\"y\":[-139]},{\"hoverinfo\":\"text\",\"hovertext\":\"\",\"marker\":{\"color\":\"blue\",\"size\":2},\"mode\":\"markers+text\",\"text\":\"5 Star\",\"textfont\":{\"size\":8},\"textposition\":\"bottom center\",\"type\":\"scatter\",\"x\":[6.0],\"y\":[-140]},{\"hoverinfo\":\"text\",\"hovertext\":\"Puma Mens RS-XL Diamond Forever - Running Shoes Red/Red Size 09.0\",\"marker\":{\"color\":\"blue\",\"size\":2},\"mode\":\"markers+text\",\"text\":\"Shoe\",\"textfont\":{\"size\":8},\"textposition\":\"bottom center\",\"type\":\"scatter\",\"x\":[7.5],\"y\":[-141]},{\"hoverinfo\":\"text\",\"hovertext\":\"\",\"marker\":{\"color\":\"blue\",\"size\":2},\"mode\":\"markers+text\",\"text\":\"Dillard's\",\"textfont\":{\"size\":8},\"textposition\":\"bottom center\",\"type\":\"scatter\",\"x\":[3.0],\"y\":[-142]},{\"hoverinfo\":\"text\",\"hovertext\":\"\",\"marker\":{\"color\":\"blue\",\"size\":2},\"mode\":\"markers+text\",\"text\":\"Medium\",\"textfont\":{\"size\":8},\"textposition\":\"bottom center\",\"type\":\"scatter\",\"x\":[4.5],\"y\":[-143]},{\"hoverinfo\":\"text\",\"hovertext\":\"\",\"marker\":{\"color\":\"blue\",\"size\":2},\"mode\":\"markers+text\",\"text\":\"5 Star\",\"textfont\":{\"size\":8},\"textposition\":\"bottom center\",\"type\":\"scatter\",\"x\":[6.0],\"y\":[-144]},{\"hoverinfo\":\"text\",\"hovertext\":\"Betsey Johnson Women's Sidny Sneakers, Red, 5.5M\",\"marker\":{\"color\":\"blue\",\"size\":2},\"mode\":\"markers+text\",\"text\":\"Shoe\",\"textfont\":{\"size\":8},\"textposition\":\"bottom center\",\"type\":\"scatter\",\"x\":[7.5],\"y\":[-145]},{\"hoverinfo\":\"text\",\"hovertext\":\"\",\"marker\":{\"color\":\"blue\",\"size\":2},\"mode\":\"markers+text\",\"text\":\"shoebacca.com\",\"textfont\":{\"size\":8},\"textposition\":\"bottom center\",\"type\":\"scatter\",\"x\":[3.0],\"y\":[-146]},{\"hoverinfo\":\"text\",\"hovertext\":\"\",\"marker\":{\"color\":\"blue\",\"size\":2},\"mode\":\"markers+text\",\"text\":\"Low\",\"textfont\":{\"size\":8},\"textposition\":\"bottom center\",\"type\":\"scatter\",\"x\":[4.5],\"y\":[-147]},{\"hoverinfo\":\"text\",\"hovertext\":\"\",\"marker\":{\"color\":\"blue\",\"size\":2},\"mode\":\"markers+text\",\"text\":\"Unknown\",\"textfont\":{\"size\":8},\"textposition\":\"bottom center\",\"type\":\"scatter\",\"x\":[6.0],\"y\":[-148]},{\"hoverinfo\":\"text\",\"hovertext\":\"Puma Clasico L Sneaker 13 Men's High Risk Red\",\"marker\":{\"color\":\"blue\",\"size\":2},\"mode\":\"markers+text\",\"text\":\"Shoe\",\"textfont\":{\"size\":8},\"textposition\":\"bottom center\",\"type\":\"scatter\",\"x\":[7.5],\"y\":[-149]},{\"hoverinfo\":\"text\",\"hovertext\":\"\",\"marker\":{\"color\":\"blue\",\"size\":2},\"mode\":\"markers+text\",\"text\":\"Flight Club\",\"textfont\":{\"size\":8},\"textposition\":\"bottom center\",\"type\":\"scatter\",\"x\":[3.0],\"y\":[-150]},{\"hoverinfo\":\"text\",\"hovertext\":\"\",\"marker\":{\"color\":\"blue\",\"size\":2},\"mode\":\"markers+text\",\"text\":\"Medium\",\"textfont\":{\"size\":8},\"textposition\":\"bottom center\",\"type\":\"scatter\",\"x\":[4.5],\"y\":[-151]},{\"hoverinfo\":\"text\",\"hovertext\":\"\",\"marker\":{\"color\":\"blue\",\"size\":2},\"mode\":\"markers+text\",\"text\":\"5 Star\",\"textfont\":{\"size\":8},\"textposition\":\"bottom center\",\"type\":\"scatter\",\"x\":[6.0],\"y\":[-152]},{\"hoverinfo\":\"text\",\"hovertext\":\"Puma | Men's Wild Rider Pickup Red / 9\",\"marker\":{\"color\":\"blue\",\"size\":2},\"mode\":\"markers+text\",\"text\":\"Shoe\",\"textfont\":{\"size\":8},\"textposition\":\"bottom center\",\"type\":\"scatter\",\"x\":[7.5],\"y\":[-153]},{\"hoverinfo\":\"text\",\"hovertext\":\"\",\"marker\":{\"color\":\"blue\",\"size\":2},\"mode\":\"markers+text\",\"text\":\"eBay\",\"textfont\":{\"size\":8},\"textposition\":\"bottom center\",\"type\":\"scatter\",\"x\":[3.0],\"y\":[-154]},{\"hoverinfo\":\"text\",\"hovertext\":\"\",\"marker\":{\"color\":\"blue\",\"size\":2},\"mode\":\"markers+text\",\"text\":\"High\",\"textfont\":{\"size\":8},\"textposition\":\"bottom center\",\"type\":\"scatter\",\"x\":[4.5],\"y\":[-155]},{\"hoverinfo\":\"text\",\"hovertext\":\"\",\"marker\":{\"color\":\"blue\",\"size\":2},\"mode\":\"markers+text\",\"text\":\"5 Star\",\"textfont\":{\"size\":8},\"textposition\":\"bottom center\",\"type\":\"scatter\",\"x\":[6.0],\"y\":[-156]},{\"hoverinfo\":\"text\",\"hovertext\":\"Air Jordan 4 Retro OG 'Fire Red' 2020\",\"marker\":{\"color\":\"blue\",\"size\":2},\"mode\":\"markers+text\",\"text\":\"Shoe\",\"textfont\":{\"size\":8},\"textposition\":\"bottom center\",\"type\":\"scatter\",\"x\":[7.5],\"y\":[-157]},{\"hoverinfo\":\"text\",\"hovertext\":\"\",\"marker\":{\"color\":\"blue\",\"size\":2},\"mode\":\"markers+text\",\"text\":\"Tillys\",\"textfont\":{\"size\":8},\"textposition\":\"bottom center\",\"type\":\"scatter\",\"x\":[3.0],\"y\":[-158]},{\"hoverinfo\":\"text\",\"hovertext\":\"\",\"marker\":{\"color\":\"blue\",\"size\":2},\"mode\":\"markers+text\",\"text\":\"Low\",\"textfont\":{\"size\":8},\"textposition\":\"bottom center\",\"type\":\"scatter\",\"x\":[4.5],\"y\":[-159]},{\"hoverinfo\":\"text\",\"hovertext\":\"\",\"marker\":{\"color\":\"blue\",\"size\":2},\"mode\":\"markers+text\",\"text\":\"5 Star\",\"textfont\":{\"size\":8},\"textposition\":\"bottom center\",\"type\":\"scatter\",\"x\":[6.0],\"y\":[-160]},{\"hoverinfo\":\"text\",\"hovertext\":\"Vans Old Skool Shoes - Red/White - M95w11\",\"marker\":{\"color\":\"blue\",\"size\":2},\"mode\":\"markers+text\",\"text\":\"Shoe\",\"textfont\":{\"size\":8},\"textposition\":\"bottom center\",\"type\":\"scatter\",\"x\":[7.5],\"y\":[-161]},{\"hoverinfo\":\"text\",\"hovertext\":\"\",\"marker\":{\"color\":\"blue\",\"size\":2},\"mode\":\"markers+text\",\"text\":\"SHEIN\",\"textfont\":{\"size\":8},\"textposition\":\"bottom center\",\"type\":\"scatter\",\"x\":[3.0],\"y\":[-162]},{\"hoverinfo\":\"text\",\"hovertext\":\"\",\"marker\":{\"color\":\"blue\",\"size\":2},\"mode\":\"markers+text\",\"text\":\"Low\",\"textfont\":{\"size\":8},\"textposition\":\"bottom center\",\"type\":\"scatter\",\"x\":[4.5],\"y\":[-163]},{\"hoverinfo\":\"text\",\"hovertext\":\"\",\"marker\":{\"color\":\"blue\",\"size\":2},\"mode\":\"markers+text\",\"text\":\"Unknown\",\"textfont\":{\"size\":8},\"textposition\":\"bottom center\",\"type\":\"scatter\",\"x\":[6.0],\"y\":[-164]},{\"hoverinfo\":\"text\",\"hovertext\":\"Women's Casual Flat Sneakers with Thin Strap, Red Skate Shoes, EUR40 Red PU Leather\",\"marker\":{\"color\":\"blue\",\"size\":2},\"mode\":\"markers+text\",\"text\":\"Shoe\",\"textfont\":{\"size\":8},\"textposition\":\"bottom center\",\"type\":\"scatter\",\"x\":[7.5],\"y\":[-165]},{\"hoverinfo\":\"text\",\"hovertext\":\"\",\"marker\":{\"color\":\"blue\",\"size\":2},\"mode\":\"markers+text\",\"text\":\"T.U.K.\",\"textfont\":{\"size\":8},\"textposition\":\"bottom center\",\"type\":\"scatter\",\"x\":[3.0],\"y\":[-166]},{\"hoverinfo\":\"text\",\"hovertext\":\"\",\"marker\":{\"color\":\"blue\",\"size\":2},\"mode\":\"markers+text\",\"text\":\"Medium\",\"textfont\":{\"size\":8},\"textposition\":\"bottom center\",\"type\":\"scatter\",\"x\":[4.5],\"y\":[-167]},{\"hoverinfo\":\"text\",\"hovertext\":\"\",\"marker\":{\"color\":\"blue\",\"size\":2},\"mode\":\"markers+text\",\"text\":\"Unknown\",\"textfont\":{\"size\":8},\"textposition\":\"bottom center\",\"type\":\"scatter\",\"x\":[6.0],\"y\":[-168]},{\"hoverinfo\":\"text\",\"hovertext\":\"A3088 Red & White 2-Ring Creeper Sneaker Red/White\",\"marker\":{\"color\":\"blue\",\"size\":2},\"mode\":\"markers+text\",\"text\":\"Shoe\",\"textfont\":{\"size\":8},\"textposition\":\"bottom center\",\"type\":\"scatter\",\"x\":[7.5],\"y\":[-169]},{\"hoverinfo\":\"text\",\"hovertext\":\"\",\"marker\":{\"color\":\"blue\",\"size\":2},\"mode\":\"markers+text\",\"text\":\"StockX\",\"textfont\":{\"size\":8},\"textposition\":\"bottom center\",\"type\":\"scatter\",\"x\":[3.0],\"y\":[-170]},{\"hoverinfo\":\"text\",\"hovertext\":\"\",\"marker\":{\"color\":\"blue\",\"size\":2},\"mode\":\"markers+text\",\"text\":\"High\",\"textfont\":{\"size\":8},\"textposition\":\"bottom center\",\"type\":\"scatter\",\"x\":[4.5],\"y\":[-171]},{\"hoverinfo\":\"text\",\"hovertext\":\"\",\"marker\":{\"color\":\"blue\",\"size\":2},\"mode\":\"markers+text\",\"text\":\"5 Star\",\"textfont\":{\"size\":8},\"textposition\":\"bottom center\",\"type\":\"scatter\",\"x\":[6.0],\"y\":[-172]},{\"hoverinfo\":\"text\",\"hovertext\":\"Nike Air Yeezy 2 Red October\",\"marker\":{\"color\":\"blue\",\"size\":2},\"mode\":\"markers+text\",\"text\":\"Shoe\",\"textfont\":{\"size\":8},\"textposition\":\"bottom center\",\"type\":\"scatter\",\"x\":[7.5],\"y\":[-173]},{\"hoverinfo\":\"text\",\"hovertext\":\"\",\"marker\":{\"color\":\"blue\",\"size\":2},\"mode\":\"markers+text\",\"text\":\"Soxy\",\"textfont\":{\"size\":8},\"textposition\":\"bottom center\",\"type\":\"scatter\",\"x\":[3.0],\"y\":[-174]},{\"hoverinfo\":\"text\",\"hovertext\":\"\",\"marker\":{\"color\":\"blue\",\"size\":2},\"mode\":\"markers+text\",\"text\":\"Medium\",\"textfont\":{\"size\":8},\"textposition\":\"bottom center\",\"type\":\"scatter\",\"x\":[4.5],\"y\":[-175]},{\"hoverinfo\":\"text\",\"hovertext\":\"\",\"marker\":{\"color\":\"blue\",\"size\":2},\"mode\":\"markers+text\",\"text\":\"5 Star\",\"textfont\":{\"size\":8},\"textposition\":\"bottom center\",\"type\":\"scatter\",\"x\":[6.0],\"y\":[-176]},{\"hoverinfo\":\"text\",\"hovertext\":\"New Balance 574 Sneaker in Alpha Red/White\",\"marker\":{\"color\":\"blue\",\"size\":2},\"mode\":\"markers+text\",\"text\":\"Shoe\",\"textfont\":{\"size\":8},\"textposition\":\"bottom center\",\"type\":\"scatter\",\"x\":[7.5],\"y\":[-177]},{\"hoverinfo\":\"text\",\"hovertext\":\"\",\"marker\":{\"color\":\"blue\",\"size\":2},\"mode\":\"markers+text\",\"text\":\"Rack Room Shoes\",\"textfont\":{\"size\":8},\"textposition\":\"bottom center\",\"type\":\"scatter\",\"x\":[3.0],\"y\":[-178]},{\"hoverinfo\":\"text\",\"hovertext\":\"\",\"marker\":{\"color\":\"blue\",\"size\":2},\"mode\":\"markers+text\",\"text\":\"Medium\",\"textfont\":{\"size\":8},\"textposition\":\"bottom center\",\"type\":\"scatter\",\"x\":[4.5],\"y\":[-179]},{\"hoverinfo\":\"text\",\"hovertext\":\"\",\"marker\":{\"color\":\"blue\",\"size\":2},\"mode\":\"markers+text\",\"text\":\"5 Star\",\"textfont\":{\"size\":8},\"textposition\":\"bottom center\",\"type\":\"scatter\",\"x\":[6.0],\"y\":[-180]},{\"hoverinfo\":\"text\",\"hovertext\":\"Nike Court Borough Mid 2 GS 'White University Red'\",\"marker\":{\"color\":\"blue\",\"size\":2},\"mode\":\"markers+text\",\"text\":\"Shoe\",\"textfont\":{\"size\":8},\"textposition\":\"bottom center\",\"type\":\"scatter\",\"x\":[7.5],\"y\":[-181]},{\"hoverinfo\":\"text\",\"hovertext\":\"\",\"marker\":{\"color\":\"blue\",\"size\":2},\"mode\":\"markers+text\",\"text\":\"Walmart\",\"textfont\":{\"size\":8},\"textposition\":\"bottom center\",\"type\":\"scatter\",\"x\":[3.0],\"y\":[-182]},{\"hoverinfo\":\"text\",\"hovertext\":\"\",\"marker\":{\"color\":\"blue\",\"size\":2},\"mode\":\"markers+text\",\"text\":\"Low\",\"textfont\":{\"size\":8},\"textposition\":\"bottom center\",\"type\":\"scatter\",\"x\":[4.5],\"y\":[-183]},{\"hoverinfo\":\"text\",\"hovertext\":\"\",\"marker\":{\"color\":\"blue\",\"size\":2},\"mode\":\"markers+text\",\"text\":\"5 Star\",\"textfont\":{\"size\":8},\"textposition\":\"bottom center\",\"type\":\"scatter\",\"x\":[6.0],\"y\":[-184]},{\"hoverinfo\":\"text\",\"hovertext\":\"Time and Tru Women's Casual Lace Up Sneakers - Wide Width Available, Red\",\"marker\":{\"color\":\"blue\",\"size\":2},\"mode\":\"markers+text\",\"text\":\"Shoe\",\"textfont\":{\"size\":8},\"textposition\":\"bottom center\",\"type\":\"scatter\",\"x\":[7.5],\"y\":[-185]},{\"hoverinfo\":\"text\",\"hovertext\":\"\",\"marker\":{\"color\":\"blue\",\"size\":2},\"mode\":\"markers+text\",\"text\":\"Academy Sports + Outdoors\",\"textfont\":{\"size\":8},\"textposition\":\"bottom center\",\"type\":\"scatter\",\"x\":[3.0],\"y\":[-186]},{\"hoverinfo\":\"text\",\"hovertext\":\"\",\"marker\":{\"color\":\"blue\",\"size\":2},\"mode\":\"markers+text\",\"text\":\"Medium\",\"textfont\":{\"size\":8},\"textposition\":\"bottom center\",\"type\":\"scatter\",\"x\":[4.5],\"y\":[-187]},{\"hoverinfo\":\"text\",\"hovertext\":\"\",\"marker\":{\"color\":\"blue\",\"size\":2},\"mode\":\"markers+text\",\"text\":\"5 Star\",\"textfont\":{\"size\":8},\"textposition\":\"bottom center\",\"type\":\"scatter\",\"x\":[6.0],\"y\":[-188]},{\"hoverinfo\":\"text\",\"hovertext\":\"Nike Men's KD Trey 5 x Basketball Shoes in Red, Size: 9.5 | DD9538-601\",\"marker\":{\"color\":\"blue\",\"size\":2},\"mode\":\"markers+text\",\"text\":\"Shoe\",\"textfont\":{\"size\":8},\"textposition\":\"bottom center\",\"type\":\"scatter\",\"x\":[7.5],\"y\":[-189]},{\"hoverinfo\":\"text\",\"hovertext\":\"\",\"marker\":{\"color\":\"blue\",\"size\":2},\"mode\":\"markers+text\",\"text\":\"Kohl's\",\"textfont\":{\"size\":8},\"textposition\":\"bottom center\",\"type\":\"scatter\",\"x\":[3.0],\"y\":[-190]},{\"hoverinfo\":\"text\",\"hovertext\":\"\",\"marker\":{\"color\":\"blue\",\"size\":2},\"mode\":\"markers+text\",\"text\":\"Medium\",\"textfont\":{\"size\":8},\"textposition\":\"bottom center\",\"type\":\"scatter\",\"x\":[4.5],\"y\":[-191]},{\"hoverinfo\":\"text\",\"hovertext\":\"\",\"marker\":{\"color\":\"blue\",\"size\":2},\"mode\":\"markers+text\",\"text\":\"Unknown\",\"textfont\":{\"size\":8},\"textposition\":\"bottom center\",\"type\":\"scatter\",\"x\":[6.0],\"y\":[-192]},{\"hoverinfo\":\"text\",\"hovertext\":\"Olivia Miller Erin Women's High-Top Sneakers, Size: 10, Red\",\"marker\":{\"color\":\"blue\",\"size\":2},\"mode\":\"markers+text\",\"text\":\"Shoe\",\"textfont\":{\"size\":8},\"textposition\":\"bottom center\",\"type\":\"scatter\",\"x\":[7.5],\"y\":[-193]},{\"hoverinfo\":\"text\",\"hovertext\":\"\",\"marker\":{\"color\":\"blue\",\"size\":2},\"mode\":\"markers+text\",\"text\":\"Handball-Store US\",\"textfont\":{\"size\":8},\"textposition\":\"bottom center\",\"type\":\"scatter\",\"x\":[3.0],\"y\":[-194]},{\"hoverinfo\":\"text\",\"hovertext\":\"\",\"marker\":{\"color\":\"blue\",\"size\":2},\"mode\":\"markers+text\",\"text\":\"Medium\",\"textfont\":{\"size\":8},\"textposition\":\"bottom center\",\"type\":\"scatter\",\"x\":[4.5],\"y\":[-195]},{\"hoverinfo\":\"text\",\"hovertext\":\"\",\"marker\":{\"color\":\"blue\",\"size\":2},\"mode\":\"markers+text\",\"text\":\"5 Star\",\"textfont\":{\"size\":8},\"textposition\":\"bottom center\",\"type\":\"scatter\",\"x\":[6.0],\"y\":[-196]},{\"hoverinfo\":\"text\",\"hovertext\":\"Nike Men's Court Vision Mid Winter Shoes in Red, Size: 6 | DR7882-600\",\"marker\":{\"color\":\"blue\",\"size\":2},\"mode\":\"markers+text\",\"text\":\"Shoe\",\"textfont\":{\"size\":8},\"textposition\":\"bottom center\",\"type\":\"scatter\",\"x\":[7.5],\"y\":[-197]},{\"hoverinfo\":\"text\",\"hovertext\":\"\",\"marker\":{\"color\":\"blue\",\"size\":2},\"mode\":\"markers+text\",\"text\":\"Poshmark\",\"textfont\":{\"size\":8},\"textposition\":\"bottom center\",\"type\":\"scatter\",\"x\":[3.0],\"y\":[-198]},{\"hoverinfo\":\"text\",\"hovertext\":\"\",\"marker\":{\"color\":\"blue\",\"size\":2},\"mode\":\"markers+text\",\"text\":\"Medium\",\"textfont\":{\"size\":8},\"textposition\":\"bottom center\",\"type\":\"scatter\",\"x\":[4.5],\"y\":[-199]},{\"hoverinfo\":\"text\",\"hovertext\":\"\",\"marker\":{\"color\":\"blue\",\"size\":2},\"mode\":\"markers+text\",\"text\":\"5 Star\",\"textfont\":{\"size\":8},\"textposition\":\"bottom center\",\"type\":\"scatter\",\"x\":[6.0],\"y\":[-200]},{\"hoverinfo\":\"text\",\"hovertext\":\"Adidas Mens Originals Top Ten RB - Basketball Shoes Vivid Red/Vivid Red Size 11.0\",\"marker\":{\"color\":\"blue\",\"size\":2},\"mode\":\"markers+text\",\"text\":\"Shoe\",\"textfont\":{\"size\":8},\"textposition\":\"bottom center\",\"type\":\"scatter\",\"x\":[7.5],\"y\":[-201]},{\"hoverinfo\":\"text\",\"hovertext\":\"\",\"marker\":{\"color\":\"blue\",\"size\":2},\"mode\":\"markers+text\",\"text\":\"Sears - Built4Speed\",\"textfont\":{\"size\":8},\"textposition\":\"bottom center\",\"type\":\"scatter\",\"x\":[3.0],\"y\":[-202]},{\"hoverinfo\":\"text\",\"hovertext\":\"\",\"marker\":{\"color\":\"blue\",\"size\":2},\"mode\":\"markers+text\",\"text\":\"High\",\"textfont\":{\"size\":8},\"textposition\":\"bottom center\",\"type\":\"scatter\",\"x\":[4.5],\"y\":[-203]},{\"hoverinfo\":\"text\",\"hovertext\":\"\",\"marker\":{\"color\":\"blue\",\"size\":2},\"mode\":\"markers+text\",\"text\":\"Unknown\",\"textfont\":{\"size\":8},\"textposition\":\"bottom center\",\"type\":\"scatter\",\"x\":[6.0],\"y\":[-204]},{\"hoverinfo\":\"text\",\"hovertext\":\"Nike Men's Air Max SC Running Sneaker, Red\",\"marker\":{\"color\":\"blue\",\"size\":2},\"mode\":\"markers+text\",\"text\":\"Shoe\",\"textfont\":{\"size\":8},\"textposition\":\"bottom center\",\"type\":\"scatter\",\"x\":[7.5],\"y\":[-205]},{\"hoverinfo\":\"text\",\"hovertext\":\"\",\"marker\":{\"color\":\"blue\",\"size\":2},\"mode\":\"markers+text\",\"text\":\"shop.com\",\"textfont\":{\"size\":8},\"textposition\":\"bottom center\",\"type\":\"scatter\",\"x\":[3.0],\"y\":[-206]},{\"hoverinfo\":\"text\",\"hovertext\":\"\",\"marker\":{\"color\":\"blue\",\"size\":2},\"mode\":\"markers+text\",\"text\":\"Low\",\"textfont\":{\"size\":8},\"textposition\":\"bottom center\",\"type\":\"scatter\",\"x\":[4.5],\"y\":[-207]},{\"hoverinfo\":\"text\",\"hovertext\":\"\",\"marker\":{\"color\":\"blue\",\"size\":2},\"mode\":\"markers+text\",\"text\":\"3 Star\",\"textfont\":{\"size\":8},\"textposition\":\"bottom center\",\"type\":\"scatter\",\"x\":[6.0],\"y\":[-208]},{\"hoverinfo\":\"text\",\"hovertext\":\"Wanted Torque Women's Shoe (Red - Size 9 - Knit)\",\"marker\":{\"color\":\"blue\",\"size\":2},\"mode\":\"markers+text\",\"text\":\"Shoe\",\"textfont\":{\"size\":8},\"textposition\":\"bottom center\",\"type\":\"scatter\",\"x\":[7.5],\"y\":[-209]},{\"hoverinfo\":\"text\",\"hovertext\":\"\",\"marker\":{\"color\":\"blue\",\"size\":2},\"mode\":\"markers+text\",\"text\":\"Rainbow Shops\",\"textfont\":{\"size\":8},\"textposition\":\"bottom center\",\"type\":\"scatter\",\"x\":[3.0],\"y\":[-210]},{\"hoverinfo\":\"text\",\"hovertext\":\"\",\"marker\":{\"color\":\"blue\",\"size\":2},\"mode\":\"markers+text\",\"text\":\"Low\",\"textfont\":{\"size\":8},\"textposition\":\"bottom center\",\"type\":\"scatter\",\"x\":[4.5],\"y\":[-211]},{\"hoverinfo\":\"text\",\"hovertext\":\"\",\"marker\":{\"color\":\"blue\",\"size\":2},\"mode\":\"markers+text\",\"text\":\"Unknown\",\"textfont\":{\"size\":8},\"textposition\":\"bottom center\",\"type\":\"scatter\",\"x\":[6.0],\"y\":[-212]},{\"hoverinfo\":\"text\",\"hovertext\":\"Womens Lace Up Chunky Sole High Top Sneakers, Red, Size 10 | Rainbow Shops\",\"marker\":{\"color\":\"blue\",\"size\":2},\"mode\":\"markers+text\",\"text\":\"Shoe\",\"textfont\":{\"size\":8},\"textposition\":\"bottom center\",\"type\":\"scatter\",\"x\":[7.5],\"y\":[-213]},{\"hoverinfo\":\"text\",\"hovertext\":\"\",\"marker\":{\"color\":\"blue\",\"size\":2},\"mode\":\"markers+text\",\"text\":\"Coach Outlet\",\"textfont\":{\"size\":8},\"textposition\":\"bottom center\",\"type\":\"scatter\",\"x\":[3.0],\"y\":[-214]},{\"hoverinfo\":\"text\",\"hovertext\":\"\",\"marker\":{\"color\":\"blue\",\"size\":2},\"mode\":\"markers+text\",\"text\":\"High\",\"textfont\":{\"size\":8},\"textposition\":\"bottom center\",\"type\":\"scatter\",\"x\":[4.5],\"y\":[-215]},{\"hoverinfo\":\"text\",\"hovertext\":\"\",\"marker\":{\"color\":\"blue\",\"size\":2},\"mode\":\"markers+text\",\"text\":\"Unknown\",\"textfont\":{\"size\":8},\"textposition\":\"bottom center\",\"type\":\"scatter\",\"x\":[6.0],\"y\":[-216]},{\"hoverinfo\":\"text\",\"hovertext\":\"Coach Citysole High Top Sneaker with Trompe L'oeil Size 8 - Sport Red/steam\",\"marker\":{\"color\":\"blue\",\"size\":2},\"mode\":\"markers+text\",\"text\":\"Shoe\",\"textfont\":{\"size\":8},\"textposition\":\"bottom center\",\"type\":\"scatter\",\"x\":[7.5],\"y\":[-217]},{\"hoverinfo\":\"text\",\"hovertext\":\"\",\"marker\":{\"color\":\"blue\",\"size\":2},\"mode\":\"markers+text\",\"text\":\"black\",\"textfont\":{\"size\":8},\"textposition\":\"bottom center\",\"type\":\"scatter\",\"x\":[1.5],\"y\":[-218]},{\"hoverinfo\":\"text\",\"hovertext\":\"\",\"marker\":{\"color\":\"blue\",\"size\":2},\"mode\":\"markers+text\",\"text\":\"Zara USA\",\"textfont\":{\"size\":8},\"textposition\":\"bottom center\",\"type\":\"scatter\",\"x\":[3.0],\"y\":[-219]},{\"hoverinfo\":\"text\",\"hovertext\":\"\",\"marker\":{\"color\":\"blue\",\"size\":2},\"mode\":\"markers+text\",\"text\":\"Low\",\"textfont\":{\"size\":8},\"textposition\":\"bottom center\",\"type\":\"scatter\",\"x\":[4.5],\"y\":[-220]},{\"hoverinfo\":\"text\",\"hovertext\":\"\",\"marker\":{\"color\":\"blue\",\"size\":2},\"mode\":\"markers+text\",\"text\":\"Unknown\",\"textfont\":{\"size\":8},\"textposition\":\"bottom center\",\"type\":\"scatter\",\"x\":[6.0],\"y\":[-221]},{\"hoverinfo\":\"text\",\"hovertext\":\"Zara - Solid Color Sneakers - Black - Men\",\"marker\":{\"color\":\"blue\",\"size\":2},\"mode\":\"markers+text\",\"text\":\"Shoe\",\"textfont\":{\"size\":8},\"textposition\":\"bottom center\",\"type\":\"scatter\",\"x\":[7.5],\"y\":[-222]},{\"hoverinfo\":\"text\",\"hovertext\":\"Zara - Single Color High Tops - Black - Men\",\"marker\":{\"color\":\"blue\",\"size\":2},\"mode\":\"markers+text\",\"text\":\"Shoe\",\"textfont\":{\"size\":8},\"textposition\":\"bottom center\",\"type\":\"scatter\",\"x\":[7.5],\"y\":[-223]},{\"hoverinfo\":\"text\",\"hovertext\":\"Zara - Athletic Platform Sneakers - Black - Women\",\"marker\":{\"color\":\"blue\",\"size\":2},\"mode\":\"markers+text\",\"text\":\"Shoe\",\"textfont\":{\"size\":8},\"textposition\":\"bottom center\",\"type\":\"scatter\",\"x\":[7.5],\"y\":[-224]},{\"hoverinfo\":\"text\",\"hovertext\":\"\",\"marker\":{\"color\":\"blue\",\"size\":2},\"mode\":\"markers+text\",\"text\":\"Medium\",\"textfont\":{\"size\":8},\"textposition\":\"bottom center\",\"type\":\"scatter\",\"x\":[4.5],\"y\":[-225]},{\"hoverinfo\":\"text\",\"hovertext\":\"\",\"marker\":{\"color\":\"blue\",\"size\":2},\"mode\":\"markers+text\",\"text\":\"Unknown\",\"textfont\":{\"size\":8},\"textposition\":\"bottom center\",\"type\":\"scatter\",\"x\":[6.0],\"y\":[-226]},{\"hoverinfo\":\"text\",\"hovertext\":\"Zara - Striped Sole High Top Sneakers - Black - Men\",\"marker\":{\"color\":\"blue\",\"size\":2},\"mode\":\"markers+text\",\"text\":\"Shoe\",\"textfont\":{\"size\":8},\"textposition\":\"bottom center\",\"type\":\"scatter\",\"x\":[7.5],\"y\":[-227]},{\"hoverinfo\":\"text\",\"hovertext\":\"\",\"marker\":{\"color\":\"blue\",\"size\":2},\"mode\":\"markers+text\",\"text\":\"Amazon.com\",\"textfont\":{\"size\":8},\"textposition\":\"bottom center\",\"type\":\"scatter\",\"x\":[3.0],\"y\":[-228]},{\"hoverinfo\":\"text\",\"hovertext\":\"\",\"marker\":{\"color\":\"blue\",\"size\":2},\"mode\":\"markers+text\",\"text\":\"Medium\",\"textfont\":{\"size\":8},\"textposition\":\"bottom center\",\"type\":\"scatter\",\"x\":[4.5],\"y\":[-229]},{\"hoverinfo\":\"text\",\"hovertext\":\"\",\"marker\":{\"color\":\"blue\",\"size\":2},\"mode\":\"markers+text\",\"text\":\"Unknown\",\"textfont\":{\"size\":8},\"textposition\":\"bottom center\",\"type\":\"scatter\",\"x\":[6.0],\"y\":[-230]},{\"hoverinfo\":\"text\",\"hovertext\":\"Adidas Forum Low Men's Shoes in Black/Black/Gum Size 12 | WSS\",\"marker\":{\"color\":\"blue\",\"size\":2},\"mode\":\"markers+text\",\"text\":\"Shoe\",\"textfont\":{\"size\":8},\"textposition\":\"bottom center\",\"type\":\"scatter\",\"x\":[7.5],\"y\":[-231]},{\"hoverinfo\":\"text\",\"hovertext\":\"\",\"marker\":{\"color\":\"blue\",\"size\":2},\"mode\":\"markers+text\",\"text\":\"Vans\",\"textfont\":{\"size\":8},\"textposition\":\"bottom center\",\"type\":\"scatter\",\"x\":[3.0],\"y\":[-232]},{\"hoverinfo\":\"text\",\"hovertext\":\"\",\"marker\":{\"color\":\"blue\",\"size\":2},\"mode\":\"markers+text\",\"text\":\"Low\",\"textfont\":{\"size\":8},\"textposition\":\"bottom center\",\"type\":\"scatter\",\"x\":[4.5],\"y\":[-233]},{\"hoverinfo\":\"text\",\"hovertext\":\"\",\"marker\":{\"color\":\"blue\",\"size\":2},\"mode\":\"markers+text\",\"text\":\"5 Star\",\"textfont\":{\"size\":8},\"textposition\":\"bottom center\",\"type\":\"scatter\",\"x\":[6.0],\"y\":[-234]},{\"hoverinfo\":\"text\",\"hovertext\":\"Vans Old Skool Black Black\",\"marker\":{\"color\":\"blue\",\"size\":2},\"mode\":\"markers+text\",\"text\":\"Shoe\",\"textfont\":{\"size\":8},\"textposition\":\"bottom center\",\"type\":\"scatter\",\"x\":[7.5],\"y\":[-235]},{\"hoverinfo\":\"text\",\"hovertext\":\"\",\"marker\":{\"color\":\"blue\",\"size\":2},\"mode\":\"markers+text\",\"text\":\"adidas\",\"textfont\":{\"size\":8},\"textposition\":\"bottom center\",\"type\":\"scatter\",\"x\":[3.0],\"y\":[-236]},{\"hoverinfo\":\"text\",\"hovertext\":\"\",\"marker\":{\"color\":\"blue\",\"size\":2},\"mode\":\"markers+text\",\"text\":\"Medium\",\"textfont\":{\"size\":8},\"textposition\":\"bottom center\",\"type\":\"scatter\",\"x\":[4.5],\"y\":[-237]},{\"hoverinfo\":\"text\",\"hovertext\":\"\",\"marker\":{\"color\":\"blue\",\"size\":2},\"mode\":\"markers+text\",\"text\":\"5 Star\",\"textfont\":{\"size\":8},\"textposition\":\"bottom center\",\"type\":\"scatter\",\"x\":[6.0],\"y\":[-238]},{\"hoverinfo\":\"text\",\"hovertext\":\"Adidas Swift Run 1.0 Shoes - Men's - Core Black / Core Black - 8.5\",\"marker\":{\"color\":\"blue\",\"size\":2},\"mode\":\"markers+text\",\"text\":\"Shoe\",\"textfont\":{\"size\":8},\"textposition\":\"bottom center\",\"type\":\"scatter\",\"x\":[7.5],\"y\":[-239]},{\"hoverinfo\":\"text\",\"hovertext\":\"\",\"marker\":{\"color\":\"blue\",\"size\":2},\"mode\":\"markers+text\",\"text\":\"Finish Line\",\"textfont\":{\"size\":8},\"textposition\":\"bottom center\",\"type\":\"scatter\",\"x\":[3.0],\"y\":[-240]},{\"hoverinfo\":\"text\",\"hovertext\":\"\",\"marker\":{\"color\":\"blue\",\"size\":2},\"mode\":\"markers+text\",\"text\":\"Low\",\"textfont\":{\"size\":8},\"textposition\":\"bottom center\",\"type\":\"scatter\",\"x\":[4.5],\"y\":[-241]},{\"hoverinfo\":\"text\",\"hovertext\":\"\",\"marker\":{\"color\":\"blue\",\"size\":2},\"mode\":\"markers+text\",\"text\":\"5 Star\",\"textfont\":{\"size\":8},\"textposition\":\"bottom center\",\"type\":\"scatter\",\"x\":[6.0],\"y\":[-242]},{\"hoverinfo\":\"text\",\"hovertext\":\"Nike Court Vision Low Black Men's Shoes, Size: 12\",\"marker\":{\"color\":\"blue\",\"size\":2},\"mode\":\"markers+text\",\"text\":\"Shoe\",\"textfont\":{\"size\":8},\"textposition\":\"bottom center\",\"type\":\"scatter\",\"x\":[7.5],\"y\":[-243]},{\"hoverinfo\":\"text\",\"hovertext\":\"\",\"marker\":{\"color\":\"blue\",\"size\":2},\"mode\":\"markers+text\",\"text\":\"DICK'S Sporting Goods\",\"textfont\":{\"size\":8},\"textposition\":\"bottom center\",\"type\":\"scatter\",\"x\":[3.0],\"y\":[-244]},{\"hoverinfo\":\"text\",\"hovertext\":\"\",\"marker\":{\"color\":\"blue\",\"size\":2},\"mode\":\"markers+text\",\"text\":\"Medium\",\"textfont\":{\"size\":8},\"textposition\":\"bottom center\",\"type\":\"scatter\",\"x\":[4.5],\"y\":[-245]},{\"hoverinfo\":\"text\",\"hovertext\":\"\",\"marker\":{\"color\":\"blue\",\"size\":2},\"mode\":\"markers+text\",\"text\":\"5 Star\",\"textfont\":{\"size\":8},\"textposition\":\"bottom center\",\"type\":\"scatter\",\"x\":[6.0],\"y\":[-246]},{\"hoverinfo\":\"text\",\"hovertext\":\"Adidas Swift Run Shoes - Women's - Core Black / Core Black - 7\",\"marker\":{\"color\":\"blue\",\"size\":2},\"mode\":\"markers+text\",\"text\":\"Shoe\",\"textfont\":{\"size\":8},\"textposition\":\"bottom center\",\"type\":\"scatter\",\"x\":[7.5],\"y\":[-247]},{\"hoverinfo\":\"text\",\"hovertext\":\"\",\"marker\":{\"color\":\"blue\",\"size\":2},\"mode\":\"markers+text\",\"text\":\"Wolf & Shepherd\",\"textfont\":{\"size\":8},\"textposition\":\"bottom center\",\"type\":\"scatter\",\"x\":[3.0],\"y\":[-248]},{\"hoverinfo\":\"text\",\"hovertext\":\"\",\"marker\":{\"color\":\"blue\",\"size\":2},\"mode\":\"markers+text\",\"text\":\"High\",\"textfont\":{\"size\":8},\"textposition\":\"bottom center\",\"type\":\"scatter\",\"x\":[4.5],\"y\":[-249]},{\"hoverinfo\":\"text\",\"hovertext\":\"\",\"marker\":{\"color\":\"blue\",\"size\":2},\"mode\":\"markers+text\",\"text\":\"5 Star\",\"textfont\":{\"size\":8},\"textposition\":\"bottom center\",\"type\":\"scatter\",\"x\":[6.0],\"y\":[-250]},{\"hoverinfo\":\"text\",\"hovertext\":\"Wolf & Shepherd - Crossover Victory Trainer - Black / Black\",\"marker\":{\"color\":\"blue\",\"size\":2},\"mode\":\"markers+text\",\"text\":\"Shoe\",\"textfont\":{\"size\":8},\"textposition\":\"bottom center\",\"type\":\"scatter\",\"x\":[7.5],\"y\":[-251]},{\"hoverinfo\":\"text\",\"hovertext\":\"\",\"marker\":{\"color\":\"blue\",\"size\":2},\"mode\":\"markers+text\",\"text\":\"ShopWSS\",\"textfont\":{\"size\":8},\"textposition\":\"bottom center\",\"type\":\"scatter\",\"x\":[3.0],\"y\":[-252]},{\"hoverinfo\":\"text\",\"hovertext\":\"\",\"marker\":{\"color\":\"blue\",\"size\":2},\"mode\":\"markers+text\",\"text\":\"Medium\",\"textfont\":{\"size\":8},\"textposition\":\"bottom center\",\"type\":\"scatter\",\"x\":[4.5],\"y\":[-253]},{\"hoverinfo\":\"text\",\"hovertext\":\"\",\"marker\":{\"color\":\"blue\",\"size\":2},\"mode\":\"markers+text\",\"text\":\"5 Star\",\"textfont\":{\"size\":8},\"textposition\":\"bottom center\",\"type\":\"scatter\",\"x\":[6.0],\"y\":[-254]},{\"hoverinfo\":\"text\",\"hovertext\":\"Puma GV Special Black 10\",\"marker\":{\"color\":\"blue\",\"size\":2},\"mode\":\"markers+text\",\"text\":\"Shoe\",\"textfont\":{\"size\":8},\"textposition\":\"bottom center\",\"type\":\"scatter\",\"x\":[7.5],\"y\":[-255]},{\"hoverinfo\":\"text\",\"hovertext\":\"\",\"marker\":{\"color\":\"blue\",\"size\":2},\"mode\":\"markers+text\",\"text\":\"ALDO Shoes\",\"textfont\":{\"size\":8},\"textposition\":\"bottom center\",\"type\":\"scatter\",\"x\":[3.0],\"y\":[-256]},{\"hoverinfo\":\"text\",\"hovertext\":\"\",\"marker\":{\"color\":\"blue\",\"size\":2},\"mode\":\"markers+text\",\"text\":\"Medium\",\"textfont\":{\"size\":8},\"textposition\":\"bottom center\",\"type\":\"scatter\",\"x\":[4.5],\"y\":[-257]},{\"hoverinfo\":\"text\",\"hovertext\":\"\",\"marker\":{\"color\":\"blue\",\"size\":2},\"mode\":\"markers+text\",\"text\":\"Unknown\",\"textfont\":{\"size\":8},\"textposition\":\"bottom center\",\"type\":\"scatter\",\"x\":[6.0],\"y\":[-258]},{\"hoverinfo\":\"text\",\"hovertext\":\"ALDO Montague - Men's High Top Sneakers - Black, Size 12\",\"marker\":{\"color\":\"blue\",\"size\":2},\"mode\":\"markers+text\",\"text\":\"Shoe\",\"textfont\":{\"size\":8},\"textposition\":\"bottom center\",\"type\":\"scatter\",\"x\":[7.5],\"y\":[-259]},{\"hoverinfo\":\"text\",\"hovertext\":\"ALDO Antonio - Men's High Top Sneakers - Black, Size 8\",\"marker\":{\"color\":\"blue\",\"size\":2},\"mode\":\"markers+text\",\"text\":\"Shoe\",\"textfont\":{\"size\":8},\"textposition\":\"bottom center\",\"type\":\"scatter\",\"x\":[7.5],\"y\":[-260]},{\"hoverinfo\":\"text\",\"hovertext\":\"\",\"marker\":{\"color\":\"blue\",\"size\":2},\"mode\":\"markers+text\",\"text\":\"High\",\"textfont\":{\"size\":8},\"textposition\":\"bottom center\",\"type\":\"scatter\",\"x\":[4.5],\"y\":[-261]},{\"hoverinfo\":\"text\",\"hovertext\":\"\",\"marker\":{\"color\":\"blue\",\"size\":2},\"mode\":\"markers+text\",\"text\":\"Unknown\",\"textfont\":{\"size\":8},\"textposition\":\"bottom center\",\"type\":\"scatter\",\"x\":[6.0],\"y\":[-262]},{\"hoverinfo\":\"text\",\"hovertext\":\"ALDO Estanqueiro - Men's High Top Sneakers - Black, Size 10.5\",\"marker\":{\"color\":\"blue\",\"size\":2},\"mode\":\"markers+text\",\"text\":\"Shoe\",\"textfont\":{\"size\":8},\"textposition\":\"bottom center\",\"type\":\"scatter\",\"x\":[7.5],\"y\":[-263]},{\"hoverinfo\":\"text\",\"hovertext\":\"\",\"marker\":{\"color\":\"blue\",\"size\":2},\"mode\":\"markers+text\",\"text\":\"DSW\",\"textfont\":{\"size\":8},\"textposition\":\"bottom center\",\"type\":\"scatter\",\"x\":[3.0],\"y\":[-264]},{\"hoverinfo\":\"text\",\"hovertext\":\"\",\"marker\":{\"color\":\"blue\",\"size\":2},\"mode\":\"markers+text\",\"text\":\"Medium\",\"textfont\":{\"size\":8},\"textposition\":\"bottom center\",\"type\":\"scatter\",\"x\":[4.5],\"y\":[-265]},{\"hoverinfo\":\"text\",\"hovertext\":\"\",\"marker\":{\"color\":\"blue\",\"size\":2},\"mode\":\"markers+text\",\"text\":\"5 Star\",\"textfont\":{\"size\":8},\"textposition\":\"bottom center\",\"type\":\"scatter\",\"x\":[6.0],\"y\":[-266]},{\"hoverinfo\":\"text\",\"hovertext\":\"Adidas Daily 3.0 9.5 Men's Black\",\"marker\":{\"color\":\"blue\",\"size\":2},\"mode\":\"markers+text\",\"text\":\"Shoe\",\"textfont\":{\"size\":8},\"textposition\":\"bottom center\",\"type\":\"scatter\",\"x\":[7.5],\"y\":[-267]},{\"hoverinfo\":\"text\",\"hovertext\":\"\",\"marker\":{\"color\":\"blue\",\"size\":2},\"mode\":\"markers+text\",\"text\":\"Nothing New\",\"textfont\":{\"size\":8},\"textposition\":\"bottom center\",\"type\":\"scatter\",\"x\":[3.0],\"y\":[-268]},{\"hoverinfo\":\"text\",\"hovertext\":\"\",\"marker\":{\"color\":\"blue\",\"size\":2},\"mode\":\"markers+text\",\"text\":\"Medium\",\"textfont\":{\"size\":8},\"textposition\":\"bottom center\",\"type\":\"scatter\",\"x\":[4.5],\"y\":[-269]},{\"hoverinfo\":\"text\",\"hovertext\":\"\",\"marker\":{\"color\":\"blue\",\"size\":2},\"mode\":\"markers+text\",\"text\":\"5 Star\",\"textfont\":{\"size\":8},\"textposition\":\"bottom center\",\"type\":\"scatter\",\"x\":[6.0],\"y\":[-270]},{\"hoverinfo\":\"text\",\"hovertext\":\"Nothing New Men's Kicks Sustainable Canvas Low-top Sneaker | Black Gum Sole, Size 8.5\",\"marker\":{\"color\":\"blue\",\"size\":2},\"mode\":\"markers+text\",\"text\":\"Shoe\",\"textfont\":{\"size\":8},\"textposition\":\"bottom center\",\"type\":\"scatter\",\"x\":[7.5],\"y\":[-271]},{\"hoverinfo\":\"text\",\"hovertext\":\"\",\"marker\":{\"color\":\"blue\",\"size\":2},\"mode\":\"markers+text\",\"text\":\"Target\",\"textfont\":{\"size\":8},\"textposition\":\"bottom center\",\"type\":\"scatter\",\"x\":[3.0],\"y\":[-272]},{\"hoverinfo\":\"text\",\"hovertext\":\"\",\"marker\":{\"color\":\"blue\",\"size\":2},\"mode\":\"markers+text\",\"text\":\"Low\",\"textfont\":{\"size\":8},\"textposition\":\"bottom center\",\"type\":\"scatter\",\"x\":[4.5],\"y\":[-273]},{\"hoverinfo\":\"text\",\"hovertext\":\"\",\"marker\":{\"color\":\"blue\",\"size\":2},\"mode\":\"markers+text\",\"text\":\"5 Star\",\"textfont\":{\"size\":8},\"textposition\":\"bottom center\",\"type\":\"scatter\",\"x\":[6.0],\"y\":[-274]},{\"hoverinfo\":\"text\",\"hovertext\":\"Men's Brady Canvas Sneakers - Goodfellow & Co Black 13\",\"marker\":{\"color\":\"blue\",\"size\":2},\"mode\":\"markers+text\",\"text\":\"Shoe\",\"textfont\":{\"size\":8},\"textposition\":\"bottom center\",\"type\":\"scatter\",\"x\":[7.5],\"y\":[-275]},{\"hoverinfo\":\"text\",\"hovertext\":\"\",\"marker\":{\"color\":\"blue\",\"size\":2},\"mode\":\"markers+text\",\"text\":\"New Balance\",\"textfont\":{\"size\":8},\"textposition\":\"bottom center\",\"type\":\"scatter\",\"x\":[3.0],\"y\":[-276]},{\"hoverinfo\":\"text\",\"hovertext\":\"\",\"marker\":{\"color\":\"blue\",\"size\":2},\"mode\":\"markers+text\",\"text\":\"High\",\"textfont\":{\"size\":8},\"textposition\":\"bottom center\",\"type\":\"scatter\",\"x\":[4.5],\"y\":[-277]},{\"hoverinfo\":\"text\",\"hovertext\":\"\",\"marker\":{\"color\":\"blue\",\"size\":2},\"mode\":\"markers+text\",\"text\":\"5 Star\",\"textfont\":{\"size\":8},\"textposition\":\"bottom center\",\"type\":\"scatter\",\"x\":[6.0],\"y\":[-278]},{\"hoverinfo\":\"text\",\"hovertext\":\"New Balance Black 9060 Sneakers\",\"marker\":{\"color\":\"blue\",\"size\":2},\"mode\":\"markers+text\",\"text\":\"Shoe\",\"textfont\":{\"size\":8},\"textposition\":\"bottom center\",\"type\":\"scatter\",\"x\":[7.5],\"y\":[-279]},{\"hoverinfo\":\"text\",\"hovertext\":\"\",\"marker\":{\"color\":\"blue\",\"size\":2},\"mode\":\"markers+text\",\"text\":\"Nike\",\"textfont\":{\"size\":8},\"textposition\":\"bottom center\",\"type\":\"scatter\",\"x\":[3.0],\"y\":[-280]},{\"hoverinfo\":\"text\",\"hovertext\":\"\",\"marker\":{\"color\":\"blue\",\"size\":2},\"mode\":\"markers+text\",\"text\":\"High\",\"textfont\":{\"size\":8},\"textposition\":\"bottom center\",\"type\":\"scatter\",\"x\":[4.5],\"y\":[-281]},{\"hoverinfo\":\"text\",\"hovertext\":\"\",\"marker\":{\"color\":\"blue\",\"size\":2},\"mode\":\"markers+text\",\"text\":\"5 Star\",\"textfont\":{\"size\":8},\"textposition\":\"bottom center\",\"type\":\"scatter\",\"x\":[6.0],\"y\":[-282]},{\"hoverinfo\":\"text\",\"hovertext\":\"Air Jordan 1 Mid 'Triple Black' 2022\",\"marker\":{\"color\":\"blue\",\"size\":2},\"mode\":\"markers+text\",\"text\":\"Shoe\",\"textfont\":{\"size\":8},\"textposition\":\"bottom center\",\"type\":\"scatter\",\"x\":[7.5],\"y\":[-283]},{\"hoverinfo\":\"text\",\"hovertext\":\"\",\"marker\":{\"color\":\"blue\",\"size\":2},\"mode\":\"markers+text\",\"text\":\"ASOS\",\"textfont\":{\"size\":8},\"textposition\":\"bottom center\",\"type\":\"scatter\",\"x\":[3.0],\"y\":[-284]},{\"hoverinfo\":\"text\",\"hovertext\":\"\",\"marker\":{\"color\":\"blue\",\"size\":2},\"mode\":\"markers+text\",\"text\":\"Low\",\"textfont\":{\"size\":8},\"textposition\":\"bottom center\",\"type\":\"scatter\",\"x\":[4.5],\"y\":[-285]},{\"hoverinfo\":\"text\",\"hovertext\":\"\",\"marker\":{\"color\":\"blue\",\"size\":2},\"mode\":\"markers+text\",\"text\":\"4 Star\",\"textfont\":{\"size\":8},\"textposition\":\"bottom center\",\"type\":\"scatter\",\"x\":[6.0],\"y\":[-286]},{\"hoverinfo\":\"text\",\"hovertext\":\"ASOS Design Sneakers in Black\",\"marker\":{\"color\":\"blue\",\"size\":2},\"mode\":\"markers+text\",\"text\":\"Shoe\",\"textfont\":{\"size\":8},\"textposition\":\"bottom center\",\"type\":\"scatter\",\"x\":[7.5],\"y\":[-287]},{\"hoverinfo\":\"text\",\"hovertext\":\"\",\"marker\":{\"color\":\"blue\",\"size\":2},\"mode\":\"markers+text\",\"text\":\"Nordstrom Rack\",\"textfont\":{\"size\":8},\"textposition\":\"bottom center\",\"type\":\"scatter\",\"x\":[3.0],\"y\":[-288]},{\"hoverinfo\":\"text\",\"hovertext\":\"\",\"marker\":{\"color\":\"blue\",\"size\":2},\"mode\":\"markers+text\",\"text\":\"Medium\",\"textfont\":{\"size\":8},\"textposition\":\"bottom center\",\"type\":\"scatter\",\"x\":[4.5],\"y\":[-289]},{\"hoverinfo\":\"text\",\"hovertext\":\"\",\"marker\":{\"color\":\"blue\",\"size\":2},\"mode\":\"markers+text\",\"text\":\"4 Star\",\"textfont\":{\"size\":8},\"textposition\":\"bottom center\",\"type\":\"scatter\",\"x\":[6.0],\"y\":[-290]},{\"hoverinfo\":\"text\",\"hovertext\":\"Supply Lab Damian, Adult Unisex, Size: 9.5, Black\",\"marker\":{\"color\":\"blue\",\"size\":2},\"mode\":\"markers+text\",\"text\":\"Shoe\",\"textfont\":{\"size\":8},\"textposition\":\"bottom center\",\"type\":\"scatter\",\"x\":[7.5],\"y\":[-291]},{\"hoverinfo\":\"text\",\"hovertext\":\"\",\"marker\":{\"color\":\"blue\",\"size\":2},\"mode\":\"markers+text\",\"text\":\"StockX\",\"textfont\":{\"size\":8},\"textposition\":\"bottom center\",\"type\":\"scatter\",\"x\":[3.0],\"y\":[-292]},{\"hoverinfo\":\"text\",\"hovertext\":\"\",\"marker\":{\"color\":\"blue\",\"size\":2},\"mode\":\"markers+text\",\"text\":\"Medium\",\"textfont\":{\"size\":8},\"textposition\":\"bottom center\",\"type\":\"scatter\",\"x\":[4.5],\"y\":[-293]},{\"hoverinfo\":\"text\",\"hovertext\":\"\",\"marker\":{\"color\":\"blue\",\"size\":2},\"mode\":\"markers+text\",\"text\":\"5 Star\",\"textfont\":{\"size\":8},\"textposition\":\"bottom center\",\"type\":\"scatter\",\"x\":[6.0],\"y\":[-294]},{\"hoverinfo\":\"text\",\"hovertext\":\"New Balance Black 530 Sneakers\",\"marker\":{\"color\":\"blue\",\"size\":2},\"mode\":\"markers+text\",\"text\":\"Shoe\",\"textfont\":{\"size\":8},\"textposition\":\"bottom center\",\"type\":\"scatter\",\"x\":[7.5],\"y\":[-295]},{\"hoverinfo\":\"text\",\"hovertext\":\"\",\"marker\":{\"color\":\"blue\",\"size\":2},\"mode\":\"markers+text\",\"text\":\"Free People\",\"textfont\":{\"size\":8},\"textposition\":\"bottom center\",\"type\":\"scatter\",\"x\":[3.0],\"y\":[-296]},{\"hoverinfo\":\"text\",\"hovertext\":\"\",\"marker\":{\"color\":\"blue\",\"size\":2},\"mode\":\"markers+text\",\"text\":\"Medium\",\"textfont\":{\"size\":8},\"textposition\":\"bottom center\",\"type\":\"scatter\",\"x\":[4.5],\"y\":[-297]},{\"hoverinfo\":\"text\",\"hovertext\":\"\",\"marker\":{\"color\":\"blue\",\"size\":2},\"mode\":\"markers+text\",\"text\":\"4 Star\",\"textfont\":{\"size\":8},\"textposition\":\"bottom center\",\"type\":\"scatter\",\"x\":[6.0],\"y\":[-298]},{\"hoverinfo\":\"text\",\"hovertext\":\"in A Daze Sneakers by Jeffrey Campbell at Free People in Black, Size: US 10\",\"marker\":{\"color\":\"blue\",\"size\":2},\"mode\":\"markers+text\",\"text\":\"Shoe\",\"textfont\":{\"size\":8},\"textposition\":\"bottom center\",\"type\":\"scatter\",\"x\":[7.5],\"y\":[-299]},{\"hoverinfo\":\"text\",\"hovertext\":\"\",\"marker\":{\"color\":\"blue\",\"size\":2},\"mode\":\"markers+text\",\"text\":\"Steve Madden\",\"textfont\":{\"size\":8},\"textposition\":\"bottom center\",\"type\":\"scatter\",\"x\":[3.0],\"y\":[-300]},{\"hoverinfo\":\"text\",\"hovertext\":\"\",\"marker\":{\"color\":\"blue\",\"size\":2},\"mode\":\"markers+text\",\"text\":\"High\",\"textfont\":{\"size\":8},\"textposition\":\"bottom center\",\"type\":\"scatter\",\"x\":[4.5],\"y\":[-301]},{\"hoverinfo\":\"text\",\"hovertext\":\"\",\"marker\":{\"color\":\"blue\",\"size\":2},\"mode\":\"markers+text\",\"text\":\"Unknown\",\"textfont\":{\"size\":8},\"textposition\":\"bottom center\",\"type\":\"scatter\",\"x\":[6.0],\"y\":[-302]},{\"hoverinfo\":\"text\",\"hovertext\":\"Peek Black Men's Sneakers | Size 12 | by Steve Madden\",\"marker\":{\"color\":\"blue\",\"size\":2},\"mode\":\"markers+text\",\"text\":\"Shoe\",\"textfont\":{\"size\":8},\"textposition\":\"bottom center\",\"type\":\"scatter\",\"x\":[7.5],\"y\":[-303]},{\"hoverinfo\":\"text\",\"hovertext\":\"\",\"marker\":{\"color\":\"blue\",\"size\":2},\"mode\":\"markers+text\",\"text\":\"Walmart - Advanced Management Group\",\"textfont\":{\"size\":8},\"textposition\":\"bottom center\",\"type\":\"scatter\",\"x\":[3.0],\"y\":[-304]},{\"hoverinfo\":\"text\",\"hovertext\":\"\",\"marker\":{\"color\":\"blue\",\"size\":2},\"mode\":\"markers+text\",\"text\":\"Low\",\"textfont\":{\"size\":8},\"textposition\":\"bottom center\",\"type\":\"scatter\",\"x\":[4.5],\"y\":[-305]},{\"hoverinfo\":\"text\",\"hovertext\":\"\",\"marker\":{\"color\":\"blue\",\"size\":2},\"mode\":\"markers+text\",\"text\":\"5 Star\",\"textfont\":{\"size\":8},\"textposition\":\"bottom center\",\"type\":\"scatter\",\"x\":[6.0],\"y\":[-306]},{\"hoverinfo\":\"text\",\"hovertext\":\"Under Armour Men's Charged Assert 9 Running Shoes - Black, 9\",\"marker\":{\"color\":\"blue\",\"size\":2},\"mode\":\"markers+text\",\"text\":\"Shoe\",\"textfont\":{\"size\":8},\"textposition\":\"bottom center\",\"type\":\"scatter\",\"x\":[7.5],\"y\":[-307]},{\"hoverinfo\":\"text\",\"hovertext\":\"\",\"marker\":{\"color\":\"blue\",\"size\":2},\"mode\":\"markers+text\",\"text\":\"Thursday Boot Company\",\"textfont\":{\"size\":8},\"textposition\":\"bottom center\",\"type\":\"scatter\",\"x\":[3.0],\"y\":[-308]},{\"hoverinfo\":\"text\",\"hovertext\":\"\",\"marker\":{\"color\":\"blue\",\"size\":2},\"mode\":\"markers+text\",\"text\":\"High\",\"textfont\":{\"size\":8},\"textposition\":\"bottom center\",\"type\":\"scatter\",\"x\":[4.5],\"y\":[-309]},{\"hoverinfo\":\"text\",\"hovertext\":\"\",\"marker\":{\"color\":\"blue\",\"size\":2},\"mode\":\"markers+text\",\"text\":\"4 Star\",\"textfont\":{\"size\":8},\"textposition\":\"bottom center\",\"type\":\"scatter\",\"x\":[6.0],\"y\":[-310]},{\"hoverinfo\":\"text\",\"hovertext\":\"Women's Black Vachetta Leather Premier Low Top Sneaker Size 7 by Thursday Boot ...\",\"marker\":{\"color\":\"blue\",\"size\":2},\"mode\":\"markers+text\",\"text\":\"Shoe\",\"textfont\":{\"size\":8},\"textposition\":\"bottom center\",\"type\":\"scatter\",\"x\":[7.5],\"y\":[-311]},{\"hoverinfo\":\"text\",\"hovertext\":\"\",\"marker\":{\"color\":\"blue\",\"size\":2},\"mode\":\"markers+text\",\"text\":\"Macy's\",\"textfont\":{\"size\":8},\"textposition\":\"bottom center\",\"type\":\"scatter\",\"x\":[3.0],\"y\":[-312]},{\"hoverinfo\":\"text\",\"hovertext\":\"\",\"marker\":{\"color\":\"blue\",\"size\":2},\"mode\":\"markers+text\",\"text\":\"Medium\",\"textfont\":{\"size\":8},\"textposition\":\"bottom center\",\"type\":\"scatter\",\"x\":[4.5],\"y\":[-313]},{\"hoverinfo\":\"text\",\"hovertext\":\"\",\"marker\":{\"color\":\"blue\",\"size\":2},\"mode\":\"markers+text\",\"text\":\"5 Star\",\"textfont\":{\"size\":8},\"textposition\":\"bottom center\",\"type\":\"scatter\",\"x\":[6.0],\"y\":[-314]},{\"hoverinfo\":\"text\",\"hovertext\":\"Nike Court Vision Low Next Nature Black Men's Shoes, Size: 10.5\",\"marker\":{\"color\":\"blue\",\"size\":2},\"mode\":\"markers+text\",\"text\":\"Shoe\",\"textfont\":{\"size\":8},\"textposition\":\"bottom center\",\"type\":\"scatter\",\"x\":[7.5],\"y\":[-315]},{\"hoverinfo\":\"text\",\"hovertext\":\"\",\"marker\":{\"color\":\"blue\",\"size\":2},\"mode\":\"markers+text\",\"text\":\"Low\",\"textfont\":{\"size\":8},\"textposition\":\"bottom center\",\"type\":\"scatter\",\"x\":[4.5],\"y\":[-316]},{\"hoverinfo\":\"text\",\"hovertext\":\"\",\"marker\":{\"color\":\"blue\",\"size\":2},\"mode\":\"markers+text\",\"text\":\"5 Star\",\"textfont\":{\"size\":8},\"textposition\":\"bottom center\",\"type\":\"scatter\",\"x\":[6.0],\"y\":[-317]},{\"hoverinfo\":\"text\",\"hovertext\":\"Nautica Men's Arano Sneakers - Black Mono - Size 9.5M\",\"marker\":{\"color\":\"blue\",\"size\":2},\"mode\":\"markers+text\",\"text\":\"Shoe\",\"textfont\":{\"size\":8},\"textposition\":\"bottom center\",\"type\":\"scatter\",\"x\":[7.5],\"y\":[-318]},{\"hoverinfo\":\"text\",\"hovertext\":\"\",\"marker\":{\"color\":\"blue\",\"size\":2},\"mode\":\"markers+text\",\"text\":\"Kohl's\",\"textfont\":{\"size\":8},\"textposition\":\"bottom center\",\"type\":\"scatter\",\"x\":[3.0],\"y\":[-319]},{\"hoverinfo\":\"text\",\"hovertext\":\"\",\"marker\":{\"color\":\"blue\",\"size\":2},\"mode\":\"markers+text\",\"text\":\"Medium\",\"textfont\":{\"size\":8},\"textposition\":\"bottom center\",\"type\":\"scatter\",\"x\":[4.5],\"y\":[-320]},{\"hoverinfo\":\"text\",\"hovertext\":\"\",\"marker\":{\"color\":\"blue\",\"size\":2},\"mode\":\"markers+text\",\"text\":\"5 Star\",\"textfont\":{\"size\":8},\"textposition\":\"bottom center\",\"type\":\"scatter\",\"x\":[6.0],\"y\":[-321]},{\"hoverinfo\":\"text\",\"hovertext\":\"Skechers Work Cessnock (Black) Men's Shoes\",\"marker\":{\"color\":\"blue\",\"size\":2},\"mode\":\"markers+text\",\"text\":\"Shoe\",\"textfont\":{\"size\":8},\"textposition\":\"bottom center\",\"type\":\"scatter\",\"x\":[7.5],\"y\":[-322]},{\"hoverinfo\":\"text\",\"hovertext\":\"\",\"marker\":{\"color\":\"blue\",\"size\":2},\"mode\":\"markers+text\",\"text\":\"Nordstrom\",\"textfont\":{\"size\":8},\"textposition\":\"bottom center\",\"type\":\"scatter\",\"x\":[3.0],\"y\":[-323]},{\"hoverinfo\":\"text\",\"hovertext\":\"\",\"marker\":{\"color\":\"blue\",\"size\":2},\"mode\":\"markers+text\",\"text\":\"Medium\",\"textfont\":{\"size\":8},\"textposition\":\"bottom center\",\"type\":\"scatter\",\"x\":[4.5],\"y\":[-324]},{\"hoverinfo\":\"text\",\"hovertext\":\"\",\"marker\":{\"color\":\"blue\",\"size\":2},\"mode\":\"markers+text\",\"text\":\"3 Star\",\"textfont\":{\"size\":8},\"textposition\":\"bottom center\",\"type\":\"scatter\",\"x\":[6.0],\"y\":[-325]},{\"hoverinfo\":\"text\",\"hovertext\":\"AllSaints Mem Low Top Sneaker Black\",\"marker\":{\"color\":\"blue\",\"size\":2},\"mode\":\"markers+text\",\"text\":\"Shoe\",\"textfont\":{\"size\":8},\"textposition\":\"bottom center\",\"type\":\"scatter\",\"x\":[7.5],\"y\":[-326]},{\"hoverinfo\":\"text\",\"hovertext\":\"\",\"marker\":{\"color\":\"blue\",\"size\":2},\"mode\":\"markers+text\",\"text\":\"High\",\"textfont\":{\"size\":8},\"textposition\":\"bottom center\",\"type\":\"scatter\",\"x\":[4.5],\"y\":[-327]},{\"hoverinfo\":\"text\",\"hovertext\":\"\",\"marker\":{\"color\":\"blue\",\"size\":2},\"mode\":\"markers+text\",\"text\":\"5 Star\",\"textfont\":{\"size\":8},\"textposition\":\"bottom center\",\"type\":\"scatter\",\"x\":[6.0],\"y\":[-328]},{\"hoverinfo\":\"text\",\"hovertext\":\"AllSaints Men's Dumont High Top Sneakers - Black - Size 10\",\"marker\":{\"color\":\"blue\",\"size\":2},\"mode\":\"markers+text\",\"text\":\"Shoe\",\"textfont\":{\"size\":8},\"textposition\":\"bottom center\",\"type\":\"scatter\",\"x\":[7.5],\"y\":[-329]},{\"hoverinfo\":\"text\",\"hovertext\":\"\",\"marker\":{\"color\":\"blue\",\"size\":2},\"mode\":\"markers+text\",\"text\":\"GOAT\",\"textfont\":{\"size\":8},\"textposition\":\"bottom center\",\"type\":\"scatter\",\"x\":[3.0],\"y\":[-330]},{\"hoverinfo\":\"text\",\"hovertext\":\"\",\"marker\":{\"color\":\"blue\",\"size\":2},\"mode\":\"markers+text\",\"text\":\"Medium\",\"textfont\":{\"size\":8},\"textposition\":\"bottom center\",\"type\":\"scatter\",\"x\":[4.5],\"y\":[-331]},{\"hoverinfo\":\"text\",\"hovertext\":\"\",\"marker\":{\"color\":\"blue\",\"size\":2},\"mode\":\"markers+text\",\"text\":\"5 Star\",\"textfont\":{\"size\":8},\"textposition\":\"bottom center\",\"type\":\"scatter\",\"x\":[6.0],\"y\":[-332]},{\"hoverinfo\":\"text\",\"hovertext\":\"Adidas Gazelle Black\",\"marker\":{\"color\":\"blue\",\"size\":2},\"mode\":\"markers+text\",\"text\":\"Shoe\",\"textfont\":{\"size\":8},\"textposition\":\"bottom center\",\"type\":\"scatter\",\"x\":[7.5],\"y\":[-333]},{\"hoverinfo\":\"text\",\"hovertext\":\"\",\"marker\":{\"color\":\"blue\",\"size\":2},\"mode\":\"markers+text\",\"text\":\"On\",\"textfont\":{\"size\":8},\"textposition\":\"bottom center\",\"type\":\"scatter\",\"x\":[3.0],\"y\":[-334]},{\"hoverinfo\":\"text\",\"hovertext\":\"\",\"marker\":{\"color\":\"blue\",\"size\":2},\"mode\":\"markers+text\",\"text\":\"High\",\"textfont\":{\"size\":8},\"textposition\":\"bottom center\",\"type\":\"scatter\",\"x\":[4.5],\"y\":[-335]},{\"hoverinfo\":\"text\",\"hovertext\":\"\",\"marker\":{\"color\":\"blue\",\"size\":2},\"mode\":\"markers+text\",\"text\":\"5 Star\",\"textfont\":{\"size\":8},\"textposition\":\"bottom center\",\"type\":\"scatter\",\"x\":[6.0],\"y\":[-336]},{\"hoverinfo\":\"text\",\"hovertext\":\"on The Roger Advantage Women's Shoes All Black : 8 M\",\"marker\":{\"color\":\"blue\",\"size\":2},\"mode\":\"markers+text\",\"text\":\"Shoe\",\"textfont\":{\"size\":8},\"textposition\":\"bottom center\",\"type\":\"scatter\",\"x\":[7.5],\"y\":[-337]},{\"hoverinfo\":\"text\",\"hovertext\":\"\",\"marker\":{\"color\":\"blue\",\"size\":2},\"mode\":\"markers+text\",\"text\":\"ASICS\",\"textfont\":{\"size\":8},\"textposition\":\"bottom center\",\"type\":\"scatter\",\"x\":[3.0],\"y\":[-338]},{\"hoverinfo\":\"text\",\"hovertext\":\"\",\"marker\":{\"color\":\"blue\",\"size\":2},\"mode\":\"markers+text\",\"text\":\"Low\",\"textfont\":{\"size\":8},\"textposition\":\"bottom center\",\"type\":\"scatter\",\"x\":[4.5],\"y\":[-339]},{\"hoverinfo\":\"text\",\"hovertext\":\"\",\"marker\":{\"color\":\"blue\",\"size\":2},\"mode\":\"markers+text\",\"text\":\"5 Star\",\"textfont\":{\"size\":8},\"textposition\":\"bottom center\",\"type\":\"scatter\",\"x\":[6.0],\"y\":[-340]},{\"hoverinfo\":\"text\",\"hovertext\":\"ASICS Jolt 3 11 Men's Black\",\"marker\":{\"color\":\"blue\",\"size\":2},\"mode\":\"markers+text\",\"text\":\"Shoe\",\"textfont\":{\"size\":8},\"textposition\":\"bottom center\",\"type\":\"scatter\",\"x\":[7.5],\"y\":[-341]},{\"hoverinfo\":\"text\",\"hovertext\":\"\",\"marker\":{\"color\":\"blue\",\"size\":2},\"mode\":\"markers+text\",\"text\":\"Zappos.com\",\"textfont\":{\"size\":8},\"textposition\":\"bottom center\",\"type\":\"scatter\",\"x\":[3.0],\"y\":[-342]},{\"hoverinfo\":\"text\",\"hovertext\":\"\",\"marker\":{\"color\":\"blue\",\"size\":2},\"mode\":\"markers+text\",\"text\":\"High\",\"textfont\":{\"size\":8},\"textposition\":\"bottom center\",\"type\":\"scatter\",\"x\":[4.5],\"y\":[-343]},{\"hoverinfo\":\"text\",\"hovertext\":\"\",\"marker\":{\"color\":\"blue\",\"size\":2},\"mode\":\"markers+text\",\"text\":\"5 Star\",\"textfont\":{\"size\":8},\"textposition\":\"bottom center\",\"type\":\"scatter\",\"x\":[6.0],\"y\":[-344]},{\"hoverinfo\":\"text\",\"hovertext\":\"on The Roger Advantage Men's Shoes All Black : 13 M\",\"marker\":{\"color\":\"blue\",\"size\":2},\"mode\":\"markers+text\",\"text\":\"Shoe\",\"textfont\":{\"size\":8},\"textposition\":\"bottom center\",\"type\":\"scatter\",\"x\":[7.5],\"y\":[-345]},{\"hoverinfo\":\"text\",\"hovertext\":\"\",\"marker\":{\"color\":\"blue\",\"size\":2},\"mode\":\"markers+text\",\"text\":\"Calvin Klein\",\"textfont\":{\"size\":8},\"textposition\":\"bottom center\",\"type\":\"scatter\",\"x\":[3.0],\"y\":[-346]},{\"hoverinfo\":\"text\",\"hovertext\":\"\",\"marker\":{\"color\":\"blue\",\"size\":2},\"mode\":\"markers+text\",\"text\":\"Medium\",\"textfont\":{\"size\":8},\"textposition\":\"bottom center\",\"type\":\"scatter\",\"x\":[4.5],\"y\":[-347]},{\"hoverinfo\":\"text\",\"hovertext\":\"\",\"marker\":{\"color\":\"blue\",\"size\":2},\"mode\":\"markers+text\",\"text\":\"5 Star\",\"textfont\":{\"size\":8},\"textposition\":\"bottom center\",\"type\":\"scatter\",\"x\":[6.0],\"y\":[-348]},{\"hoverinfo\":\"text\",\"hovertext\":\"Calvin Klein Women's Alondra Platform Sneakers (Black) - Size 9.5 M\",\"marker\":{\"color\":\"blue\",\"size\":2},\"mode\":\"markers+text\",\"text\":\"Shoe\",\"textfont\":{\"size\":8},\"textposition\":\"bottom center\",\"type\":\"scatter\",\"x\":[7.5],\"y\":[-349]},{\"hoverinfo\":\"text\",\"hovertext\":\"\",\"marker\":{\"color\":\"blue\",\"size\":2},\"mode\":\"markers+text\",\"text\":\"PUMA\",\"textfont\":{\"size\":8},\"textposition\":\"bottom center\",\"type\":\"scatter\",\"x\":[3.0],\"y\":[-350]},{\"hoverinfo\":\"text\",\"hovertext\":\"\",\"marker\":{\"color\":\"blue\",\"size\":2},\"mode\":\"markers+text\",\"text\":\"Low\",\"textfont\":{\"size\":8},\"textposition\":\"bottom center\",\"type\":\"scatter\",\"x\":[4.5],\"y\":[-351]},{\"hoverinfo\":\"text\",\"hovertext\":\"\",\"marker\":{\"color\":\"blue\",\"size\":2},\"mode\":\"markers+text\",\"text\":\"5 Star\",\"textfont\":{\"size\":8},\"textposition\":\"bottom center\",\"type\":\"scatter\",\"x\":[6.0],\"y\":[-352]},{\"hoverinfo\":\"text\",\"hovertext\":\"Puma Tazon 6 Fracture FM Wide Men's Sneakers, Black\",\"marker\":{\"color\":\"blue\",\"size\":2},\"mode\":\"markers+text\",\"text\":\"Shoe\",\"textfont\":{\"size\":8},\"textposition\":\"bottom center\",\"type\":\"scatter\",\"x\":[7.5],\"y\":[-353]},{\"hoverinfo\":\"text\",\"hovertext\":\"\",\"marker\":{\"color\":\"blue\",\"size\":2},\"mode\":\"markers+text\",\"text\":\"shoebacca.com\",\"textfont\":{\"size\":8},\"textposition\":\"bottom center\",\"type\":\"scatter\",\"x\":[3.0],\"y\":[-354]},{\"hoverinfo\":\"text\",\"hovertext\":\"\",\"marker\":{\"color\":\"blue\",\"size\":2},\"mode\":\"markers+text\",\"text\":\"Medium\",\"textfont\":{\"size\":8},\"textposition\":\"bottom center\",\"type\":\"scatter\",\"x\":[4.5],\"y\":[-355]},{\"hoverinfo\":\"text\",\"hovertext\":\"\",\"marker\":{\"color\":\"blue\",\"size\":2},\"mode\":\"markers+text\",\"text\":\"5 Star\",\"textfont\":{\"size\":8},\"textposition\":\"bottom center\",\"type\":\"scatter\",\"x\":[6.0],\"y\":[-356]},{\"hoverinfo\":\"text\",\"hovertext\":\"Puma St Runner V3 L Men's Sneakers, Black, 9\",\"marker\":{\"color\":\"blue\",\"size\":2},\"mode\":\"markers+text\",\"text\":\"Shoe\",\"textfont\":{\"size\":8},\"textposition\":\"bottom center\",\"type\":\"scatter\",\"x\":[7.5],\"y\":[-357]},{\"hoverinfo\":\"text\",\"hovertext\":\"\",\"marker\":{\"color\":\"blue\",\"size\":2},\"mode\":\"markers+text\",\"text\":\"Sneakersnstuff\",\"textfont\":{\"size\":8},\"textposition\":\"bottom center\",\"type\":\"scatter\",\"x\":[3.0],\"y\":[-358]},{\"hoverinfo\":\"text\",\"hovertext\":\"\",\"marker\":{\"color\":\"blue\",\"size\":2},\"mode\":\"markers+text\",\"text\":\"High\",\"textfont\":{\"size\":8},\"textposition\":\"bottom center\",\"type\":\"scatter\",\"x\":[4.5],\"y\":[-359]},{\"hoverinfo\":\"text\",\"hovertext\":\"\",\"marker\":{\"color\":\"blue\",\"size\":2},\"mode\":\"markers+text\",\"text\":\"5 Star\",\"textfont\":{\"size\":8},\"textposition\":\"bottom center\",\"type\":\"scatter\",\"x\":[6.0],\"y\":[-360]},{\"hoverinfo\":\"text\",\"hovertext\":\"Sneakers New Balance 1906D Black\",\"marker\":{\"color\":\"blue\",\"size\":2},\"mode\":\"markers+text\",\"text\":\"Shoe\",\"textfont\":{\"size\":8},\"textposition\":\"bottom center\",\"type\":\"scatter\",\"x\":[7.5],\"y\":[-361]},{\"hoverinfo\":\"text\",\"hovertext\":\"\",\"marker\":{\"color\":\"blue\",\"size\":2},\"mode\":\"markers+text\",\"text\":\"CCS\",\"textfont\":{\"size\":8},\"textposition\":\"bottom center\",\"type\":\"scatter\",\"x\":[3.0],\"y\":[-362]},{\"hoverinfo\":\"text\",\"hovertext\":\"\",\"marker\":{\"color\":\"blue\",\"size\":2},\"mode\":\"markers+text\",\"text\":\"Medium\",\"textfont\":{\"size\":8},\"textposition\":\"bottom center\",\"type\":\"scatter\",\"x\":[4.5],\"y\":[-363]},{\"hoverinfo\":\"text\",\"hovertext\":\"\",\"marker\":{\"color\":\"blue\",\"size\":2},\"mode\":\"markers+text\",\"text\":\"5 Star\",\"textfont\":{\"size\":8},\"textposition\":\"bottom center\",\"type\":\"scatter\",\"x\":[6.0],\"y\":[-364]},{\"hoverinfo\":\"text\",\"hovertext\":\"Nike SB Chron 2 Canvas Shoes - Black/Black - 5.5\",\"marker\":{\"color\":\"blue\",\"size\":2},\"mode\":\"markers+text\",\"text\":\"Shoe\",\"textfont\":{\"size\":8},\"textposition\":\"bottom center\",\"type\":\"scatter\",\"x\":[7.5],\"y\":[-365]},{\"hoverinfo\":\"text\",\"hovertext\":\"\",\"marker\":{\"color\":\"blue\",\"size\":2},\"mode\":\"markers+text\",\"text\":\"Foot Locker\",\"textfont\":{\"size\":8},\"textposition\":\"bottom center\",\"type\":\"scatter\",\"x\":[3.0],\"y\":[-366]},{\"hoverinfo\":\"text\",\"hovertext\":\"\",\"marker\":{\"color\":\"blue\",\"size\":2},\"mode\":\"markers+text\",\"text\":\"Medium\",\"textfont\":{\"size\":8},\"textposition\":\"bottom center\",\"type\":\"scatter\",\"x\":[4.5],\"y\":[-367]},{\"hoverinfo\":\"text\",\"hovertext\":\"\",\"marker\":{\"color\":\"blue\",\"size\":2},\"mode\":\"markers+text\",\"text\":\"5 Star\",\"textfont\":{\"size\":8},\"textposition\":\"bottom center\",\"type\":\"scatter\",\"x\":[6.0],\"y\":[-368]},{\"hoverinfo\":\"text\",\"hovertext\":\"Nike (GS) Air Force 1 Le Black/Black\",\"marker\":{\"color\":\"blue\",\"size\":2},\"mode\":\"markers+text\",\"text\":\"Shoe\",\"textfont\":{\"size\":8},\"textposition\":\"bottom center\",\"type\":\"scatter\",\"x\":[7.5],\"y\":[-369]},{\"hoverinfo\":\"text\",\"hovertext\":\"\",\"marker\":{\"color\":\"blue\",\"size\":2},\"mode\":\"markers+text\",\"text\":\"Converse\",\"textfont\":{\"size\":8},\"textposition\":\"bottom center\",\"type\":\"scatter\",\"x\":[3.0],\"y\":[-370]},{\"hoverinfo\":\"text\",\"hovertext\":\"\",\"marker\":{\"color\":\"blue\",\"size\":2},\"mode\":\"markers+text\",\"text\":\"Low\",\"textfont\":{\"size\":8},\"textposition\":\"bottom center\",\"type\":\"scatter\",\"x\":[4.5],\"y\":[-371]},{\"hoverinfo\":\"text\",\"hovertext\":\"\",\"marker\":{\"color\":\"blue\",\"size\":2},\"mode\":\"markers+text\",\"text\":\"5 Star\",\"textfont\":{\"size\":8},\"textposition\":\"bottom center\",\"type\":\"scatter\",\"x\":[6.0],\"y\":[-372]},{\"hoverinfo\":\"text\",\"hovertext\":\"Converse Chuck Taylor All Star Hi Black\",\"marker\":{\"color\":\"blue\",\"size\":2},\"mode\":\"markers+text\",\"text\":\"Shoe\",\"textfont\":{\"size\":8},\"textposition\":\"bottom center\",\"type\":\"scatter\",\"x\":[7.5],\"y\":[-373]},{\"hoverinfo\":\"text\",\"hovertext\":\"\",\"marker\":{\"color\":\"blue\",\"size\":2},\"mode\":\"markers+text\",\"text\":\"Sorel USA\",\"textfont\":{\"size\":8},\"textposition\":\"bottom center\",\"type\":\"scatter\",\"x\":[3.0],\"y\":[-374]},{\"hoverinfo\":\"text\",\"hovertext\":\"\",\"marker\":{\"color\":\"blue\",\"size\":2},\"mode\":\"markers+text\",\"text\":\"High\",\"textfont\":{\"size\":8},\"textposition\":\"bottom center\",\"type\":\"scatter\",\"x\":[4.5],\"y\":[-375]},{\"hoverinfo\":\"text\",\"hovertext\":\"\",\"marker\":{\"color\":\"blue\",\"size\":2},\"mode\":\"markers+text\",\"text\":\"4 Star\",\"textfont\":{\"size\":8},\"textposition\":\"bottom center\",\"type\":\"scatter\",\"x\":[6.0],\"y\":[-376]},{\"hoverinfo\":\"text\",\"hovertext\":\"Sorel Women's Out N About III Low Sneaker Size 5.5 - Black\",\"marker\":{\"color\":\"blue\",\"size\":2},\"mode\":\"markers+text\",\"text\":\"Shoe\",\"textfont\":{\"size\":8},\"textposition\":\"bottom center\",\"type\":\"scatter\",\"x\":[7.5],\"y\":[-377]},{\"hoverinfo\":\"text\",\"hovertext\":\"\",\"marker\":{\"color\":\"blue\",\"size\":2},\"mode\":\"markers+text\",\"text\":\"Scheels\",\"textfont\":{\"size\":8},\"textposition\":\"bottom center\",\"type\":\"scatter\",\"x\":[3.0],\"y\":[-378]},{\"hoverinfo\":\"text\",\"hovertext\":\"\",\"marker\":{\"color\":\"blue\",\"size\":2},\"mode\":\"markers+text\",\"text\":\"High\",\"textfont\":{\"size\":8},\"textposition\":\"bottom center\",\"type\":\"scatter\",\"x\":[4.5],\"y\":[-379]},{\"hoverinfo\":\"text\",\"hovertext\":\"\",\"marker\":{\"color\":\"blue\",\"size\":2},\"mode\":\"markers+text\",\"text\":\"5 Star\",\"textfont\":{\"size\":8},\"textposition\":\"bottom center\",\"type\":\"scatter\",\"x\":[6.0],\"y\":[-380]},{\"hoverinfo\":\"text\",\"hovertext\":\"Blazer Mid 77 Vintage Black 6\",\"marker\":{\"color\":\"blue\",\"size\":2},\"mode\":\"markers+text\",\"text\":\"Shoe\",\"textfont\":{\"size\":8},\"textposition\":\"bottom center\",\"type\":\"scatter\",\"x\":[7.5],\"y\":[-381]},{\"hoverinfo\":\"text\",\"hovertext\":\"\",\"marker\":{\"color\":\"blue\",\"size\":2},\"mode\":\"markers+text\",\"text\":\"Flight Club\",\"textfont\":{\"size\":8},\"textposition\":\"bottom center\",\"type\":\"scatter\",\"x\":[3.0],\"y\":[-382]},{\"hoverinfo\":\"text\",\"hovertext\":\"\",\"marker\":{\"color\":\"blue\",\"size\":2},\"mode\":\"markers+text\",\"text\":\"High\",\"textfont\":{\"size\":8},\"textposition\":\"bottom center\",\"type\":\"scatter\",\"x\":[4.5],\"y\":[-383]},{\"hoverinfo\":\"text\",\"hovertext\":\"\",\"marker\":{\"color\":\"blue\",\"size\":2},\"mode\":\"markers+text\",\"text\":\"5 Star\",\"textfont\":{\"size\":8},\"textposition\":\"bottom center\",\"type\":\"scatter\",\"x\":[6.0],\"y\":[-384]},{\"hoverinfo\":\"text\",\"hovertext\":\"New Balance 2002R 'Protection Pack - Phantom' | Black | Men's Size 10\",\"marker\":{\"color\":\"blue\",\"size\":2},\"mode\":\"markers+text\",\"text\":\"Shoe\",\"textfont\":{\"size\":8},\"textposition\":\"bottom center\",\"type\":\"scatter\",\"x\":[7.5],\"y\":[-385]},{\"hoverinfo\":\"text\",\"hovertext\":\"\",\"marker\":{\"color\":\"blue\",\"size\":2},\"mode\":\"markers+text\",\"text\":\"bta-mall\",\"textfont\":{\"size\":8},\"textposition\":\"bottom center\",\"type\":\"scatter\",\"x\":[3.0],\"y\":[-386]},{\"hoverinfo\":\"text\",\"hovertext\":\"\",\"marker\":{\"color\":\"blue\",\"size\":2},\"mode\":\"markers+text\",\"text\":\"Medium\",\"textfont\":{\"size\":8},\"textposition\":\"bottom center\",\"type\":\"scatter\",\"x\":[4.5],\"y\":[-387]},{\"hoverinfo\":\"text\",\"hovertext\":\"\",\"marker\":{\"color\":\"blue\",\"size\":2},\"mode\":\"markers+text\",\"text\":\"5 Star\",\"textfont\":{\"size\":8},\"textposition\":\"bottom center\",\"type\":\"scatter\",\"x\":[6.0],\"y\":[-388]},{\"hoverinfo\":\"text\",\"hovertext\":\"Reebok Classic Harman Run Mens Sneakers 15 Black / Black, Men's\",\"marker\":{\"color\":\"blue\",\"size\":2},\"mode\":\"markers+text\",\"text\":\"Shoe\",\"textfont\":{\"size\":8},\"textposition\":\"bottom center\",\"type\":\"scatter\",\"x\":[7.5],\"y\":[-389]},{\"hoverinfo\":\"text\",\"hovertext\":\"\",\"marker\":{\"color\":\"blue\",\"size\":2},\"mode\":\"markers+text\",\"text\":\"Italic\",\"textfont\":{\"size\":8},\"textposition\":\"bottom center\",\"type\":\"scatter\",\"x\":[3.0],\"y\":[-390]},{\"hoverinfo\":\"text\",\"hovertext\":\"\",\"marker\":{\"color\":\"blue\",\"size\":2},\"mode\":\"markers+text\",\"text\":\"Medium\",\"textfont\":{\"size\":8},\"textposition\":\"bottom center\",\"type\":\"scatter\",\"x\":[4.5],\"y\":[-391]},{\"hoverinfo\":\"text\",\"hovertext\":\"\",\"marker\":{\"color\":\"blue\",\"size\":2},\"mode\":\"markers+text\",\"text\":\"5 Star\",\"textfont\":{\"size\":8},\"textposition\":\"bottom center\",\"type\":\"scatter\",\"x\":[6.0],\"y\":[-392]},{\"hoverinfo\":\"text\",\"hovertext\":\"M4 / W6 Black Women's Cadence Leather Sneakers | Italic\",\"marker\":{\"color\":\"blue\",\"size\":2},\"mode\":\"markers+text\",\"text\":\"Shoe\",\"textfont\":{\"size\":8},\"textposition\":\"bottom center\",\"type\":\"scatter\",\"x\":[7.5],\"y\":[-393]},{\"hoverinfo\":\"text\",\"hovertext\":\"\",\"marker\":{\"color\":\"blue\",\"size\":2},\"mode\":\"markers+text\",\"text\":\"Saks OFF 5TH\",\"textfont\":{\"size\":8},\"textposition\":\"bottom center\",\"type\":\"scatter\",\"x\":[3.0],\"y\":[-394]},{\"hoverinfo\":\"text\",\"hovertext\":\"\",\"marker\":{\"color\":\"blue\",\"size\":2},\"mode\":\"markers+text\",\"text\":\"Medium\",\"textfont\":{\"size\":8},\"textposition\":\"bottom center\",\"type\":\"scatter\",\"x\":[4.5],\"y\":[-395]},{\"hoverinfo\":\"text\",\"hovertext\":\"\",\"marker\":{\"color\":\"blue\",\"size\":2},\"mode\":\"markers+text\",\"text\":\"5 Star\",\"textfont\":{\"size\":8},\"textposition\":\"bottom center\",\"type\":\"scatter\",\"x\":[6.0],\"y\":[-396]},{\"hoverinfo\":\"text\",\"hovertext\":\"Lady Couture Women's New York Embellished High-Top Sneakers - Black - Size 40 (10)\",\"marker\":{\"color\":\"blue\",\"size\":2},\"mode\":\"markers+text\",\"text\":\"Shoe\",\"textfont\":{\"size\":8},\"textposition\":\"bottom center\",\"type\":\"scatter\",\"x\":[7.5],\"y\":[-397]},{\"hoverinfo\":\"text\",\"hovertext\":\"\",\"marker\":{\"color\":\"blue\",\"size\":2},\"mode\":\"markers+text\",\"text\":\"Famous Footwear\",\"textfont\":{\"size\":8},\"textposition\":\"bottom center\",\"type\":\"scatter\",\"x\":[3.0],\"y\":[-398]},{\"hoverinfo\":\"text\",\"hovertext\":\"\",\"marker\":{\"color\":\"blue\",\"size\":2},\"mode\":\"markers+text\",\"text\":\"Medium\",\"textfont\":{\"size\":8},\"textposition\":\"bottom center\",\"type\":\"scatter\",\"x\":[4.5],\"y\":[-399]},{\"hoverinfo\":\"text\",\"hovertext\":\"\",\"marker\":{\"color\":\"blue\",\"size\":2},\"mode\":\"markers+text\",\"text\":\"Unknown\",\"textfont\":{\"size\":8},\"textposition\":\"bottom center\",\"type\":\"scatter\",\"x\":[6.0],\"y\":[-400]},{\"hoverinfo\":\"text\",\"hovertext\":\"Adidas VL Court 3.0 Sneaker | Men's | Black/White | Size 8 | Sneakers\",\"marker\":{\"color\":\"blue\",\"size\":2},\"mode\":\"markers+text\",\"text\":\"Shoe\",\"textfont\":{\"size\":8},\"textposition\":\"bottom center\",\"type\":\"scatter\",\"x\":[7.5],\"y\":[-401]},{\"hoverinfo\":\"text\",\"hovertext\":\"\",\"marker\":{\"color\":\"blue\",\"size\":2},\"mode\":\"markers+text\",\"text\":\"Shoe City\",\"textfont\":{\"size\":8},\"textposition\":\"bottom center\",\"type\":\"scatter\",\"x\":[3.0],\"y\":[-402]},{\"hoverinfo\":\"text\",\"hovertext\":\"\",\"marker\":{\"color\":\"blue\",\"size\":2},\"mode\":\"markers+text\",\"text\":\"Medium\",\"textfont\":{\"size\":8},\"textposition\":\"bottom center\",\"type\":\"scatter\",\"x\":[4.5],\"y\":[-403]},{\"hoverinfo\":\"text\",\"hovertext\":\"\",\"marker\":{\"color\":\"blue\",\"size\":2},\"mode\":\"markers+text\",\"text\":\"5 Star\",\"textfont\":{\"size\":8},\"textposition\":\"bottom center\",\"type\":\"scatter\",\"x\":[6.0],\"y\":[-404]},{\"hoverinfo\":\"text\",\"hovertext\":\"Vans Ward Men Trainers Black\",\"marker\":{\"color\":\"blue\",\"size\":2},\"mode\":\"markers+text\",\"text\":\"Shoe\",\"textfont\":{\"size\":8},\"textposition\":\"bottom center\",\"type\":\"scatter\",\"x\":[7.5],\"y\":[-405]},{\"hoverinfo\":\"text\",\"hovertext\":\"\",\"marker\":{\"color\":\"blue\",\"size\":2},\"mode\":\"markers+text\",\"text\":\"Academy Sports + Outdoors\",\"textfont\":{\"size\":8},\"textposition\":\"bottom center\",\"type\":\"scatter\",\"x\":[3.0],\"y\":[-406]},{\"hoverinfo\":\"text\",\"hovertext\":\"\",\"marker\":{\"color\":\"blue\",\"size\":2},\"mode\":\"markers+text\",\"text\":\"Low\",\"textfont\":{\"size\":8},\"textposition\":\"bottom center\",\"type\":\"scatter\",\"x\":[4.5],\"y\":[-407]},{\"hoverinfo\":\"text\",\"hovertext\":\"\",\"marker\":{\"color\":\"blue\",\"size\":2},\"mode\":\"markers+text\",\"text\":\"5 Star\",\"textfont\":{\"size\":8},\"textposition\":\"bottom center\",\"type\":\"scatter\",\"x\":[6.0],\"y\":[-408]},{\"hoverinfo\":\"text\",\"hovertext\":\"Adidas Lite Racer Adapt 5.0 Black 11K - Originals Shoes\",\"marker\":{\"color\":\"blue\",\"size\":2},\"mode\":\"markers+text\",\"text\":\"Shoe\",\"textfont\":{\"size\":8},\"textposition\":\"bottom center\",\"type\":\"scatter\",\"x\":[7.5],\"y\":[-409]},{\"hoverinfo\":\"text\",\"hovertext\":\"\",\"marker\":{\"color\":\"blue\",\"size\":2},\"mode\":\"markers+text\",\"text\":\"Betsey Johnson\",\"textfont\":{\"size\":8},\"textposition\":\"bottom center\",\"type\":\"scatter\",\"x\":[3.0],\"y\":[-410]},{\"hoverinfo\":\"text\",\"hovertext\":\"\",\"marker\":{\"color\":\"blue\",\"size\":2},\"mode\":\"markers+text\",\"text\":\"Medium\",\"textfont\":{\"size\":8},\"textposition\":\"bottom center\",\"type\":\"scatter\",\"x\":[4.5],\"y\":[-411]},{\"hoverinfo\":\"text\",\"hovertext\":\"\",\"marker\":{\"color\":\"blue\",\"size\":2},\"mode\":\"markers+text\",\"text\":\"5 Star\",\"textfont\":{\"size\":8},\"textposition\":\"bottom center\",\"type\":\"scatter\",\"x\":[6.0],\"y\":[-412]},{\"hoverinfo\":\"text\",\"hovertext\":\"Betsey Johnson Women's Sidny Sneakers, Black, 5M\",\"marker\":{\"color\":\"blue\",\"size\":2},\"mode\":\"markers+text\",\"text\":\"Shoe\",\"textfont\":{\"size\":8},\"textposition\":\"bottom center\",\"type\":\"scatter\",\"x\":[7.5],\"y\":[-413]},{\"hoverinfo\":\"text\",\"hovertext\":\"\",\"marker\":{\"color\":\"blue\",\"size\":2},\"mode\":\"markers+text\",\"text\":\"Salomon.com\",\"textfont\":{\"size\":8},\"textposition\":\"bottom center\",\"type\":\"scatter\",\"x\":[3.0],\"y\":[-414]},{\"hoverinfo\":\"text\",\"hovertext\":\"\",\"marker\":{\"color\":\"blue\",\"size\":2},\"mode\":\"markers+text\",\"text\":\"High\",\"textfont\":{\"size\":8},\"textposition\":\"bottom center\",\"type\":\"scatter\",\"x\":[4.5],\"y\":[-415]},{\"hoverinfo\":\"text\",\"hovertext\":\"\",\"marker\":{\"color\":\"blue\",\"size\":2},\"mode\":\"markers+text\",\"text\":\"5 Star\",\"textfont\":{\"size\":8},\"textposition\":\"bottom center\",\"type\":\"scatter\",\"x\":[6.0],\"y\":[-416]},{\"hoverinfo\":\"text\",\"hovertext\":\"Salomon XT-6 (Black)\",\"marker\":{\"color\":\"blue\",\"size\":2},\"mode\":\"markers+text\",\"text\":\"Shoe\",\"textfont\":{\"size\":8},\"textposition\":\"bottom center\",\"type\":\"scatter\",\"x\":[7.5],\"y\":[-417]},{\"hoverinfo\":\"text\",\"hovertext\":\"\",\"marker\":{\"color\":\"blue\",\"size\":2},\"mode\":\"markers+text\",\"text\":\"Stadium Goods\",\"textfont\":{\"size\":8},\"textposition\":\"bottom center\",\"type\":\"scatter\",\"x\":[3.0],\"y\":[-418]},{\"hoverinfo\":\"text\",\"hovertext\":\"\",\"marker\":{\"color\":\"blue\",\"size\":2},\"mode\":\"markers+text\",\"text\":\"Medium\",\"textfont\":{\"size\":8},\"textposition\":\"bottom center\",\"type\":\"scatter\",\"x\":[4.5],\"y\":[-419]},{\"hoverinfo\":\"text\",\"hovertext\":\"\",\"marker\":{\"color\":\"blue\",\"size\":2},\"mode\":\"markers+text\",\"text\":\"5 Star\",\"textfont\":{\"size\":8},\"textposition\":\"bottom center\",\"type\":\"scatter\",\"x\":[6.0],\"y\":[-420]},{\"hoverinfo\":\"text\",\"hovertext\":\"Nike Legend Essential 2 Men's Training Shoes\",\"marker\":{\"color\":\"blue\",\"size\":2},\"mode\":\"markers+text\",\"text\":\"Shoe\",\"textfont\":{\"size\":8},\"textposition\":\"bottom center\",\"type\":\"scatter\",\"x\":[7.5],\"y\":[-421]},{\"hoverinfo\":\"text\",\"hovertext\":\"\",\"marker\":{\"color\":\"blue\",\"size\":2},\"mode\":\"markers+text\",\"text\":\"eBay - sneakar\",\"textfont\":{\"size\":8},\"textposition\":\"bottom center\",\"type\":\"scatter\",\"x\":[3.0],\"y\":[-422]},{\"hoverinfo\":\"text\",\"hovertext\":\"\",\"marker\":{\"color\":\"blue\",\"size\":2},\"mode\":\"markers+text\",\"text\":\"Medium\",\"textfont\":{\"size\":8},\"textposition\":\"bottom center\",\"type\":\"scatter\",\"x\":[4.5],\"y\":[-423]},{\"hoverinfo\":\"text\",\"hovertext\":\"\",\"marker\":{\"color\":\"blue\",\"size\":2},\"mode\":\"markers+text\",\"text\":\"5 Star\",\"textfont\":{\"size\":8},\"textposition\":\"bottom center\",\"type\":\"scatter\",\"x\":[6.0],\"y\":[-424]},{\"hoverinfo\":\"text\",\"hovertext\":\"Nike Air Max 90 Black White (PS)\",\"marker\":{\"color\":\"blue\",\"size\":2},\"mode\":\"markers+text\",\"text\":\"Shoe\",\"textfont\":{\"size\":8},\"textposition\":\"bottom center\",\"type\":\"scatter\",\"x\":[7.5],\"y\":[-425]},{\"hoverinfo\":\"text\",\"hovertext\":\"\",\"marker\":{\"color\":\"blue\",\"size\":2},\"mode\":\"markers+text\",\"text\":\"Shiekh\",\"textfont\":{\"size\":8},\"textposition\":\"bottom center\",\"type\":\"scatter\",\"x\":[3.0],\"y\":[-426]},{\"hoverinfo\":\"text\",\"hovertext\":\"\",\"marker\":{\"color\":\"blue\",\"size\":2},\"mode\":\"markers+text\",\"text\":\"High\",\"textfont\":{\"size\":8},\"textposition\":\"bottom center\",\"type\":\"scatter\",\"x\":[4.5],\"y\":[-427]},{\"hoverinfo\":\"text\",\"hovertext\":\"\",\"marker\":{\"color\":\"blue\",\"size\":2},\"mode\":\"markers+text\",\"text\":\"5 Star\",\"textfont\":{\"size\":8},\"textposition\":\"bottom center\",\"type\":\"scatter\",\"x\":[6.0],\"y\":[-428]},{\"hoverinfo\":\"text\",\"hovertext\":\"Nike Black Lunar Force 1 Sneakers\",\"marker\":{\"color\":\"blue\",\"size\":2},\"mode\":\"markers+text\",\"text\":\"Shoe\",\"textfont\":{\"size\":8},\"textposition\":\"bottom center\",\"type\":\"scatter\",\"x\":[7.5],\"y\":[-429]},{\"hoverinfo\":\"text\",\"hovertext\":\"\",\"marker\":{\"color\":\"blue\",\"size\":2},\"mode\":\"markers+text\",\"text\":\"Champs Sports\",\"textfont\":{\"size\":8},\"textposition\":\"bottom center\",\"type\":\"scatter\",\"x\":[3.0],\"y\":[-430]},{\"hoverinfo\":\"text\",\"hovertext\":\"\",\"marker\":{\"color\":\"blue\",\"size\":2},\"mode\":\"markers+text\",\"text\":\"Medium\",\"textfont\":{\"size\":8},\"textposition\":\"bottom center\",\"type\":\"scatter\",\"x\":[4.5],\"y\":[-431]},{\"hoverinfo\":\"text\",\"hovertext\":\"\",\"marker\":{\"color\":\"blue\",\"size\":2},\"mode\":\"markers+text\",\"text\":\"5 Star\",\"textfont\":{\"size\":8},\"textposition\":\"bottom center\",\"type\":\"scatter\",\"x\":[6.0],\"y\":[-432]},{\"hoverinfo\":\"text\",\"hovertext\":\"New Balance Black 574+ Sneakers\",\"marker\":{\"color\":\"blue\",\"size\":2},\"mode\":\"markers+text\",\"text\":\"Shoe\",\"textfont\":{\"size\":8},\"textposition\":\"bottom center\",\"type\":\"scatter\",\"x\":[7.5],\"y\":[-433]},{\"hoverinfo\":\"text\",\"hovertext\":\"\",\"marker\":{\"color\":\"blue\",\"size\":2},\"mode\":\"markers+text\",\"text\":\"Kixify\",\"textfont\":{\"size\":8},\"textposition\":\"bottom center\",\"type\":\"scatter\",\"x\":[3.0],\"y\":[-434]},{\"hoverinfo\":\"text\",\"hovertext\":\"\",\"marker\":{\"color\":\"blue\",\"size\":2},\"mode\":\"markers+text\",\"text\":\"High\",\"textfont\":{\"size\":8},\"textposition\":\"bottom center\",\"type\":\"scatter\",\"x\":[4.5],\"y\":[-435]},{\"hoverinfo\":\"text\",\"hovertext\":\"\",\"marker\":{\"color\":\"blue\",\"size\":2},\"mode\":\"markers+text\",\"text\":\"5 Star\",\"textfont\":{\"size\":8},\"textposition\":\"bottom center\",\"type\":\"scatter\",\"x\":[6.0],\"y\":[-436]},{\"hoverinfo\":\"text\",\"hovertext\":\"Reebok Men's Classic Leather Sneaker, Black/Gum, 9\",\"marker\":{\"color\":\"blue\",\"size\":2},\"mode\":\"markers+text\",\"text\":\"Shoe\",\"textfont\":{\"size\":8},\"textposition\":\"bottom center\",\"type\":\"scatter\",\"x\":[7.5],\"y\":[-437]},{\"hoverinfo\":\"text\",\"hovertext\":\"\",\"marker\":{\"color\":\"blue\",\"size\":2},\"mode\":\"markers+text\",\"text\":\"Banana Republic Factory\",\"textfont\":{\"size\":8},\"textposition\":\"bottom center\",\"type\":\"scatter\",\"x\":[3.0],\"y\":[-438]},{\"hoverinfo\":\"text\",\"hovertext\":\"\",\"marker\":{\"color\":\"blue\",\"size\":2},\"mode\":\"markers+text\",\"text\":\"Low\",\"textfont\":{\"size\":8},\"textposition\":\"bottom center\",\"type\":\"scatter\",\"x\":[4.5],\"y\":[-439]},{\"hoverinfo\":\"text\",\"hovertext\":\"\",\"marker\":{\"color\":\"blue\",\"size\":2},\"mode\":\"markers+text\",\"text\":\"5 Star\",\"textfont\":{\"size\":8},\"textposition\":\"bottom center\",\"type\":\"scatter\",\"x\":[6.0],\"y\":[-440]},{\"hoverinfo\":\"text\",\"hovertext\":\"Women's Knit Sneaker Black Regular Size 10\",\"marker\":{\"color\":\"blue\",\"size\":2},\"mode\":\"markers+text\",\"text\":\"Shoe\",\"textfont\":{\"size\":8},\"textposition\":\"bottom center\",\"type\":\"scatter\",\"x\":[7.5],\"y\":[-441]},{\"hoverinfo\":\"text\",\"hovertext\":\"\",\"marker\":{\"color\":\"blue\",\"size\":2},\"mode\":\"markers+text\",\"text\":\"H&M\",\"textfont\":{\"size\":8},\"textposition\":\"bottom center\",\"type\":\"scatter\",\"x\":[3.0],\"y\":[-442]},{\"hoverinfo\":\"text\",\"hovertext\":\"\",\"marker\":{\"color\":\"blue\",\"size\":2},\"mode\":\"markers+text\",\"text\":\"Medium\",\"textfont\":{\"size\":8},\"textposition\":\"bottom center\",\"type\":\"scatter\",\"x\":[4.5],\"y\":[-443]},{\"hoverinfo\":\"text\",\"hovertext\":\"\",\"marker\":{\"color\":\"blue\",\"size\":2},\"mode\":\"markers+text\",\"text\":\"Unknown\",\"textfont\":{\"size\":8},\"textposition\":\"bottom center\",\"type\":\"scatter\",\"x\":[6.0],\"y\":[-444]},{\"hoverinfo\":\"text\",\"hovertext\":\"Men - Black Chunky Sneakers - Size: 11.5 - H&M\",\"marker\":{\"color\":\"blue\",\"size\":2},\"mode\":\"markers+text\",\"text\":\"Shoe\",\"textfont\":{\"size\":8},\"textposition\":\"bottom center\",\"type\":\"scatter\",\"x\":[7.5],\"y\":[-445]}],                        {\"height\":1500,\"hovermode\":\"closest\",\"showlegend\":false,\"template\":{\"data\":{\"bar\":[{\"error_x\":{\"color\":\"#2a3f5f\"},\"error_y\":{\"color\":\"#2a3f5f\"},\"marker\":{\"line\":{\"color\":\"#E5ECF6\",\"width\":0.5},\"pattern\":{\"fillmode\":\"overlay\",\"size\":10,\"solidity\":0.2}},\"type\":\"bar\"}],\"barpolar\":[{\"marker\":{\"line\":{\"color\":\"#E5ECF6\",\"width\":0.5},\"pattern\":{\"fillmode\":\"overlay\",\"size\":10,\"solidity\":0.2}},\"type\":\"barpolar\"}],\"carpet\":[{\"aaxis\":{\"endlinecolor\":\"#2a3f5f\",\"gridcolor\":\"white\",\"linecolor\":\"white\",\"minorgridcolor\":\"white\",\"startlinecolor\":\"#2a3f5f\"},\"baxis\":{\"endlinecolor\":\"#2a3f5f\",\"gridcolor\":\"white\",\"linecolor\":\"white\",\"minorgridcolor\":\"white\",\"startlinecolor\":\"#2a3f5f\"},\"type\":\"carpet\"}],\"choropleth\":[{\"colorbar\":{\"outlinewidth\":0,\"ticks\":\"\"},\"type\":\"choropleth\"}],\"contour\":[{\"colorbar\":{\"outlinewidth\":0,\"ticks\":\"\"},\"colorscale\":[[0.0,\"#0d0887\"],[0.1111111111111111,\"#46039f\"],[0.2222222222222222,\"#7201a8\"],[0.3333333333333333,\"#9c179e\"],[0.4444444444444444,\"#bd3786\"],[0.5555555555555556,\"#d8576b\"],[0.6666666666666666,\"#ed7953\"],[0.7777777777777778,\"#fb9f3a\"],[0.8888888888888888,\"#fdca26\"],[1.0,\"#f0f921\"]],\"type\":\"contour\"}],\"contourcarpet\":[{\"colorbar\":{\"outlinewidth\":0,\"ticks\":\"\"},\"type\":\"contourcarpet\"}],\"heatmap\":[{\"colorbar\":{\"outlinewidth\":0,\"ticks\":\"\"},\"colorscale\":[[0.0,\"#0d0887\"],[0.1111111111111111,\"#46039f\"],[0.2222222222222222,\"#7201a8\"],[0.3333333333333333,\"#9c179e\"],[0.4444444444444444,\"#bd3786\"],[0.5555555555555556,\"#d8576b\"],[0.6666666666666666,\"#ed7953\"],[0.7777777777777778,\"#fb9f3a\"],[0.8888888888888888,\"#fdca26\"],[1.0,\"#f0f921\"]],\"type\":\"heatmap\"}],\"heatmapgl\":[{\"colorbar\":{\"outlinewidth\":0,\"ticks\":\"\"},\"colorscale\":[[0.0,\"#0d0887\"],[0.1111111111111111,\"#46039f\"],[0.2222222222222222,\"#7201a8\"],[0.3333333333333333,\"#9c179e\"],[0.4444444444444444,\"#bd3786\"],[0.5555555555555556,\"#d8576b\"],[0.6666666666666666,\"#ed7953\"],[0.7777777777777778,\"#fb9f3a\"],[0.8888888888888888,\"#fdca26\"],[1.0,\"#f0f921\"]],\"type\":\"heatmapgl\"}],\"histogram\":[{\"marker\":{\"pattern\":{\"fillmode\":\"overlay\",\"size\":10,\"solidity\":0.2}},\"type\":\"histogram\"}],\"histogram2d\":[{\"colorbar\":{\"outlinewidth\":0,\"ticks\":\"\"},\"colorscale\":[[0.0,\"#0d0887\"],[0.1111111111111111,\"#46039f\"],[0.2222222222222222,\"#7201a8\"],[0.3333333333333333,\"#9c179e\"],[0.4444444444444444,\"#bd3786\"],[0.5555555555555556,\"#d8576b\"],[0.6666666666666666,\"#ed7953\"],[0.7777777777777778,\"#fb9f3a\"],[0.8888888888888888,\"#fdca26\"],[1.0,\"#f0f921\"]],\"type\":\"histogram2d\"}],\"histogram2dcontour\":[{\"colorbar\":{\"outlinewidth\":0,\"ticks\":\"\"},\"colorscale\":[[0.0,\"#0d0887\"],[0.1111111111111111,\"#46039f\"],[0.2222222222222222,\"#7201a8\"],[0.3333333333333333,\"#9c179e\"],[0.4444444444444444,\"#bd3786\"],[0.5555555555555556,\"#d8576b\"],[0.6666666666666666,\"#ed7953\"],[0.7777777777777778,\"#fb9f3a\"],[0.8888888888888888,\"#fdca26\"],[1.0,\"#f0f921\"]],\"type\":\"histogram2dcontour\"}],\"mesh3d\":[{\"colorbar\":{\"outlinewidth\":0,\"ticks\":\"\"},\"type\":\"mesh3d\"}],\"parcoords\":[{\"line\":{\"colorbar\":{\"outlinewidth\":0,\"ticks\":\"\"}},\"type\":\"parcoords\"}],\"pie\":[{\"automargin\":true,\"type\":\"pie\"}],\"scatter\":[{\"marker\":{\"colorbar\":{\"outlinewidth\":0,\"ticks\":\"\"}},\"type\":\"scatter\"}],\"scatter3d\":[{\"line\":{\"colorbar\":{\"outlinewidth\":0,\"ticks\":\"\"}},\"marker\":{\"colorbar\":{\"outlinewidth\":0,\"ticks\":\"\"}},\"type\":\"scatter3d\"}],\"scattercarpet\":[{\"marker\":{\"colorbar\":{\"outlinewidth\":0,\"ticks\":\"\"}},\"type\":\"scattercarpet\"}],\"scattergeo\":[{\"marker\":{\"colorbar\":{\"outlinewidth\":0,\"ticks\":\"\"}},\"type\":\"scattergeo\"}],\"scattergl\":[{\"marker\":{\"colorbar\":{\"outlinewidth\":0,\"ticks\":\"\"}},\"type\":\"scattergl\"}],\"scattermapbox\":[{\"marker\":{\"colorbar\":{\"outlinewidth\":0,\"ticks\":\"\"}},\"type\":\"scattermapbox\"}],\"scatterpolar\":[{\"marker\":{\"colorbar\":{\"outlinewidth\":0,\"ticks\":\"\"}},\"type\":\"scatterpolar\"}],\"scatterpolargl\":[{\"marker\":{\"colorbar\":{\"outlinewidth\":0,\"ticks\":\"\"}},\"type\":\"scatterpolargl\"}],\"scatterternary\":[{\"marker\":{\"colorbar\":{\"outlinewidth\":0,\"ticks\":\"\"}},\"type\":\"scatterternary\"}],\"surface\":[{\"colorbar\":{\"outlinewidth\":0,\"ticks\":\"\"},\"colorscale\":[[0.0,\"#0d0887\"],[0.1111111111111111,\"#46039f\"],[0.2222222222222222,\"#7201a8\"],[0.3333333333333333,\"#9c179e\"],[0.4444444444444444,\"#bd3786\"],[0.5555555555555556,\"#d8576b\"],[0.6666666666666666,\"#ed7953\"],[0.7777777777777778,\"#fb9f3a\"],[0.8888888888888888,\"#fdca26\"],[1.0,\"#f0f921\"]],\"type\":\"surface\"}],\"table\":[{\"cells\":{\"fill\":{\"color\":\"#EBF0F8\"},\"line\":{\"color\":\"white\"}},\"header\":{\"fill\":{\"color\":\"#C8D4E3\"},\"line\":{\"color\":\"white\"}},\"type\":\"table\"}]},\"layout\":{\"annotationdefaults\":{\"arrowcolor\":\"#2a3f5f\",\"arrowhead\":0,\"arrowwidth\":1},\"autotypenumbers\":\"strict\",\"coloraxis\":{\"colorbar\":{\"outlinewidth\":0,\"ticks\":\"\"}},\"colorscale\":{\"diverging\":[[0,\"#8e0152\"],[0.1,\"#c51b7d\"],[0.2,\"#de77ae\"],[0.3,\"#f1b6da\"],[0.4,\"#fde0ef\"],[0.5,\"#f7f7f7\"],[0.6,\"#e6f5d0\"],[0.7,\"#b8e186\"],[0.8,\"#7fbc41\"],[0.9,\"#4d9221\"],[1,\"#276419\"]],\"sequential\":[[0.0,\"#0d0887\"],[0.1111111111111111,\"#46039f\"],[0.2222222222222222,\"#7201a8\"],[0.3333333333333333,\"#9c179e\"],[0.4444444444444444,\"#bd3786\"],[0.5555555555555556,\"#d8576b\"],[0.6666666666666666,\"#ed7953\"],[0.7777777777777778,\"#fb9f3a\"],[0.8888888888888888,\"#fdca26\"],[1.0,\"#f0f921\"]],\"sequentialminus\":[[0.0,\"#0d0887\"],[0.1111111111111111,\"#46039f\"],[0.2222222222222222,\"#7201a8\"],[0.3333333333333333,\"#9c179e\"],[0.4444444444444444,\"#bd3786\"],[0.5555555555555556,\"#d8576b\"],[0.6666666666666666,\"#ed7953\"],[0.7777777777777778,\"#fb9f3a\"],[0.8888888888888888,\"#fdca26\"],[1.0,\"#f0f921\"]]},\"colorway\":[\"#636efa\",\"#EF553B\",\"#00cc96\",\"#ab63fa\",\"#FFA15A\",\"#19d3f3\",\"#FF6692\",\"#B6E880\",\"#FF97FF\",\"#FECB52\"],\"font\":{\"color\":\"#2a3f5f\"},\"geo\":{\"bgcolor\":\"white\",\"lakecolor\":\"white\",\"landcolor\":\"#E5ECF6\",\"showlakes\":true,\"showland\":true,\"subunitcolor\":\"white\"},\"hoverlabel\":{\"align\":\"left\"},\"hovermode\":\"closest\",\"mapbox\":{\"style\":\"light\"},\"paper_bgcolor\":\"white\",\"plot_bgcolor\":\"#E5ECF6\",\"polar\":{\"angularaxis\":{\"gridcolor\":\"white\",\"linecolor\":\"white\",\"ticks\":\"\"},\"bgcolor\":\"#E5ECF6\",\"radialaxis\":{\"gridcolor\":\"white\",\"linecolor\":\"white\",\"ticks\":\"\"}},\"scene\":{\"xaxis\":{\"backgroundcolor\":\"#E5ECF6\",\"gridcolor\":\"white\",\"gridwidth\":2,\"linecolor\":\"white\",\"showbackground\":true,\"ticks\":\"\",\"zerolinecolor\":\"white\"},\"yaxis\":{\"backgroundcolor\":\"#E5ECF6\",\"gridcolor\":\"white\",\"gridwidth\":2,\"linecolor\":\"white\",\"showbackground\":true,\"ticks\":\"\",\"zerolinecolor\":\"white\"},\"zaxis\":{\"backgroundcolor\":\"#E5ECF6\",\"gridcolor\":\"white\",\"gridwidth\":2,\"linecolor\":\"white\",\"showbackground\":true,\"ticks\":\"\",\"zerolinecolor\":\"white\"}},\"shapedefaults\":{\"line\":{\"color\":\"#2a3f5f\"}},\"ternary\":{\"aaxis\":{\"gridcolor\":\"white\",\"linecolor\":\"white\",\"ticks\":\"\"},\"baxis\":{\"gridcolor\":\"white\",\"linecolor\":\"white\",\"ticks\":\"\"},\"bgcolor\":\"#E5ECF6\",\"caxis\":{\"gridcolor\":\"white\",\"linecolor\":\"white\",\"ticks\":\"\"}},\"title\":{\"x\":0.05},\"xaxis\":{\"automargin\":true,\"gridcolor\":\"white\",\"linecolor\":\"white\",\"ticks\":\"\",\"title\":{\"standoff\":15},\"zerolinecolor\":\"white\",\"zerolinewidth\":2},\"yaxis\":{\"automargin\":true,\"gridcolor\":\"white\",\"linecolor\":\"white\",\"ticks\":\"\",\"title\":{\"standoff\":15},\"zerolinecolor\":\"white\",\"zerolinewidth\":2}}},\"title\":{\"text\":\"Interactive Tree of Shoes\"},\"width\":1200,\"xaxis\":{\"showgrid\":false,\"showticklabels\":false,\"zeroline\":false},\"yaxis\":{\"showgrid\":false,\"showticklabels\":false,\"zeroline\":false}},                        {\"responsive\": true}                    ).then(function(){\n",
       "                            \n",
       "var gd = document.getElementById('61b22def-4f6d-456f-80f8-d9a9c3a4887f');\n",
       "var x = new MutationObserver(function (mutations, observer) {{\n",
       "        var display = window.getComputedStyle(gd).display;\n",
       "        if (!display || display === 'none') {{\n",
       "            console.log([gd, 'removed!']);\n",
       "            Plotly.purge(gd);\n",
       "            observer.disconnect();\n",
       "        }}\n",
       "}});\n",
       "\n",
       "// Listen for the removal of the full notebook cells\n",
       "var notebookContainer = gd.closest('#notebook-container');\n",
       "if (notebookContainer) {{\n",
       "    x.observe(notebookContainer, {childList: true});\n",
       "}}\n",
       "\n",
       "// Listen for the clearing of the current output cell\n",
       "var outputEl = gd.closest('.output');\n",
       "if (outputEl) {{\n",
       "    x.observe(outputEl, {childList: true});\n",
       "}}\n",
       "\n",
       "                        })                };                });            </script>        </div>"
      ]
     },
     "metadata": {},
     "output_type": "display_data"
    }
   ],
   "source": [
    "tree = build_tree(all_results)\n",
    "create_interactive_tree(tree)"
   ]
  },
  {
   "cell_type": "markdown",
   "id": "f3aaacfe",
   "metadata": {},
   "source": [
    "## Code that travel down the tree based on user input"
   ]
  },
  {
   "cell_type": "code",
   "execution_count": 61,
   "id": "8cc80be8",
   "metadata": {},
   "outputs": [
    {
     "name": "stdout",
     "output_type": "stream",
     "text": [
      "Choose a shoe type:\n",
      "1. sneaker\n",
      "Enter your choice (number): 1\n",
      "Choose a color:\n",
      "1. red\n",
      "2. black\n",
      "Enter your choice (number): 1\n",
      "Choose a brand:\n",
      "1. adidas\n",
      "2. Nike\n",
      "3. DICK'S Sporting Goods\n",
      "4. Vans\n",
      "5. Amazon.com - Seller\n",
      "6. Nordstrom Rack\n",
      "7. GOAT\n",
      "8. Zappos.com\n",
      "9. The Edit LDN\n",
      "10. farfetch.com\n",
      "11. Finish Line\n",
      "12. PUMA\n",
      "13. Walmart - ATshoes.SHOES\n",
      "14. Steve Madden\n",
      "15. ALDO Shoes\n",
      "16. ShopWSS\n",
      "17. Converse\n",
      "18. Jeffrey Campbell\n",
      "19. Kids Foot Locker\n",
      "20. Hibbett Sports\n",
      "21. Macy's\n",
      "22. Shop Premium Outlets\n",
      "23. shopAKIRA.com | AKIRA\n",
      "24. Foot Locker\n",
      "25. DSW\n",
      "26. JD Sports\n",
      "27. Champs Sports\n",
      "28. Dillard's\n",
      "29. shoebacca.com\n",
      "30. Flight Club\n",
      "31. eBay\n",
      "32. Tillys\n",
      "33. SHEIN\n",
      "34. T.U.K.\n",
      "35. StockX\n",
      "36. Soxy\n",
      "37. Rack Room Shoes\n",
      "38. Walmart\n",
      "39. Academy Sports + Outdoors\n",
      "40. Kohl's\n",
      "41. Handball-Store US\n",
      "42. Poshmark\n",
      "43. Sears - Built4Speed\n",
      "44. shop.com\n",
      "45. Rainbow Shops\n",
      "46. Coach Outlet\n",
      "Enter your choice (number): 33\n",
      "Choose a price range:\n",
      "1. Low\n",
      "Enter your choice (number): 1\n",
      "Choose a rating:\n",
      "1. Unknown\n",
      "Enter your choice (number): 1\n",
      "\n",
      "Found shoes:\n",
      "Title: Women's Casual Flat Sneakers with Thin Strap, Red Skate Shoes, EUR40 Red PU Leather\n",
      "Link: https://onelink.shein.com/5/304yrj04rgnh?skucode=I3gs4ixjwolk&url_from=adplasx2309241010307403EUR40\n",
      "\n"
     ]
    }
   ],
   "source": [
    "def user_select_options(options, prompt):\n",
    "    print(prompt)\n",
    "    for i, option in enumerate(options, 1):\n",
    "        print(f\"{i}. {option}\")\n",
    "    choice = int(input(\"Enter your choice (number): \"))\n",
    "    return options[choice - 1]\n",
    "\n",
    "def find_shoes(tree):\n",
    "    # Ask user for their choices\n",
    "    shoe_type = user_select_options(list(tree.keys()), \"Choose a shoe type:\")\n",
    "    color = user_select_options(list(tree[shoe_type].keys()), \"Choose a color:\")\n",
    "    brand = user_select_options(list(tree[shoe_type][color].keys()), \"Choose a brand:\")\n",
    "    price_range = user_select_options(list(tree[shoe_type][color][brand].keys()), \"Choose a price range:\")\n",
    "    rating = user_select_options(list(tree[shoe_type][color][brand][price_range].keys()), \"Choose a rating:\")\n",
    "\n",
    "    # Output resulting shoes and links\n",
    "    shoes = tree[shoe_type][color][brand][price_range][rating]\n",
    "    if shoes:\n",
    "        print(\"\\nFound shoes:\")\n",
    "        for shoe in shoes:\n",
    "            print(f\"Title: {shoe['title']}\\nLink: {shoe['link']}\\n\")\n",
    "    else:\n",
    "        print(\"No shoes found with these criteria.\")\n",
    "\n",
    "# Example usage\n",
    "tree = build_tree(all_results)  # Assuming all_results is your dataset\n",
    "find_shoes(tree)\n"
   ]
  },
  {
   "cell_type": "code",
   "execution_count": null,
   "id": "343177ee",
   "metadata": {},
   "outputs": [],
   "source": []
  }
 ],
 "metadata": {
  "kernelspec": {
   "display_name": "Python 3 (ipykernel)",
   "language": "python",
   "name": "python3"
  },
  "language_info": {
   "codemirror_mode": {
    "name": "ipython",
    "version": 3
   },
   "file_extension": ".py",
   "mimetype": "text/x-python",
   "name": "python",
   "nbconvert_exporter": "python",
   "pygments_lexer": "ipython3",
   "version": "3.9.12"
  }
 },
 "nbformat": 4,
 "nbformat_minor": 5
}
